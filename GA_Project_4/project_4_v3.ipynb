{
 "cells": [
  {
   "cell_type": "markdown",
   "metadata": {},
   "source": [
    "# ![](https://ga-dash.s3.amazonaws.com/production/assets/logo-9f88ae6c9c3871690e33280fcf557f33.png) Project 4: Web Scraping Job Postings\n",
    "\n",
    "## Business Case Overview\n",
    "\n",
    "You're working as a data scientist for a contracting firm that's rapidly expanding. Now that they have their most valuable employee (you!), they need to leverage data to win more contracts. Your firm offers technology and scientific solutions and wants to be competitive in the hiring market. Your principal has two main objectives:\n",
    "\n",
    "   1. Determine the industry factors that are most important in predicting the salary amounts for these data.\n",
    "   2. Determine the factors that distinguish job categories and titles from each other. For example, can required skills accurately predict job title?\n",
    "\n",
    "To limit the scope, your principal has suggested that you *focus on data-related job postings*, e.g. data scientist, data analyst, research scientist, business intelligence, and any others you might think of. You may also want to decrease the scope by *limiting your search to a single region.*\n",
    "\n",
    "Hint: Aggregators like [Indeed.com](https://www.indeed.com) regularly pool job postings from a variety of markets and industries. \n",
    "\n",
    "**Goal:** Scrape your own data from a job aggregation tool like Indeed.com in order to collect the data to best answer these two questions.\n",
    "\n",
    "---\n",
    "\n",
    "## Directions\n",
    "\n",
    "In this project you will be leveraging a variety of skills. The first will be to use the web-scraping and/or API techniques you've learned to collect data on data jobs from Indeed.com or another aggregator. Once you have collected and cleaned the data, you will use it to answer the two questions described above.\n",
    "\n",
    "### QUESTION 1: Factors that impact salary\n",
    "\n",
    "To predict salary you will be building either a classification or regression model, using features like the location, title, and summary of the job. If framing this as a regression problem, you will be estimating the listed salary amounts. You may instead choose to frame this as a classification problem, in which case you will create labels from these salaries (high vs. low salary, for example) according to thresholds (such as median salary).\n",
    "\n",
    "You have learned a variety of new skills and models that may be useful for this problem:\n",
    "- NLP\n",
    "- Unsupervised learning and dimensionality reduction techniques (PCA, clustering)\n",
    "- Ensemble methods and decision tree models\n",
    "- SVM models\n",
    "\n",
    "Whatever you decide to use, the most important thing is to justify your choices and interpret your results. *Communication of your process is key.* Note that most listings **DO NOT** come with salary information. You'll need to able to extrapolate or predict the expected salaries for these listings.\n",
    "\n",
    "### QUESTION 2: Factors that distinguish job category\n",
    "\n",
    "Using the job postings you scraped for part 1 (or potentially new job postings from a second round of scraping), identify features in the data related to job postings that can distinguish job titles from each other. There are a variety of interesting ways you can frame the target variable, for example:\n",
    "- What components of a job posting distinguish data scientists from other data jobs?\n",
    "- What features are important for distinguishing junior vs. senior positions?\n",
    "- Do the requirements for titles vary significantly with industry (e.g. healthcare vs. government)?\n",
    "\n",
    "You may end up making multiple classification models to tackle different questions. Be sure to clearly explain your hypotheses and framing, any feature engineering, and what your target variables are. The type of classification model you choose is up to you. Be sure to interpret your results and evaluate your models' performance.\n",
    "\n",
    "\n",
    "### BONUS PROBLEM\n",
    "\n",
    "Your boss would rather tell a client incorrectly that they would get a lower salary job than tell a client incorrectly that they would get a high salary job. Adjust one of your models to ease his mind, and explain what it is doing and any tradeoffs. Plot the ROC curve.\n",
    "\n",
    "---\n",
    "\n",
    "## Requirements\n",
    "\n",
    "1. Scrape and prepare your own data.\n",
    "\n",
    "2. **Create and compare at least two models for each section**. One of the two models should be a decision tree or ensemble model. The other can be a classifier or regression of your choosing (e.g. Ridge, logistic regression, KNN, SVM, etc).\n",
    "   - Section 1: Job Salary Trends\n",
    "   - Section 2: Job Category Factors\n",
    "\n",
    "3. Prepare a polished Jupyter Notebook with your analysis for a peer audience of data scientists. \n",
    "   - Make sure to clearly describe and label each section.\n",
    "   - Comment on your code so that others could, in theory, replicate your work.\n",
    "\n",
    "4. A brief writeup in an executive summary, written for a non-technical audience.\n",
    "   - Writeups should be at least 500-1000 words, defining any technical terms, explaining your approach, as well as any risks and limitations.\n",
    "\n",
    "#### BONUS\n",
    "\n",
    "5. Answer the salary discussion by using your model to explain the tradeoffs between detecting high vs low salary positions.\n",
    "\n",
    "6. Convert your executive summary into a public blog post of at least 500 words, in which you document your approach in a tutorial for other aspiring data scientists. Link to this in your notebook.\n",
    "\n",
    "---\n",
    "\n",
    "## Suggestions for Getting Started\n",
    "\n",
    "1. Collect data from [Indeed.com](www.indeed.com) (or another aggregator) on data-related jobs to use in predicting salary trends for your analysis.\n",
    "  - Select and parse data from *at least 1000 postings* for jobs, potentially from multiple location searches.\n",
    "2. Find out what factors most directly impact salaries (e.g. title, location, department, etc).\n",
    "  - Test, validate, and describe your models. What factors predict salary category? How do your models perform?\n",
    "3. Discover which features have the greatest importance when determining a low vs. high paying job.\n",
    "  - Your Boss is interested in what overall features hold the greatest significance.\n",
    "  - HR is interested in which SKILLS and KEY WORDS hold the greatest significance.   \n",
    "4. Author an executive summary that details the highlights of your analysis for a non-technical audience.\n",
    "5. If tackling the bonus question, try framing the salary problem as a classification problem detecting low vs. high salary positions.\n",
    "\n",
    "---\n",
    "\n",
    "## Useful Resources\n",
    "\n",
    "- Scraping is one of the most fun, useful and interesting skills out there. Don’t lose out by copying someone else's code!\n",
    "- [Here is some advice on how to write for a non-technical audience](http://programmers.stackexchange.com/questions/11523/explaining-technical-things-to-non-technical-people)\n",
    "- [Documentation for BeautifulSoup can be found here](http://www.crummy.com/software/BeautifulSoup/).\n",
    "\n",
    "---\n",
    "\n",
    "### Project Feedback + Evaluation\n",
    "\n",
    "For all projects, students will be evaluated on a simple 3 point scale (0, 1, or 2). Instructors will use this rubric when scoring student performance on each of the core project **requirements:** \n",
    "\n",
    "Score | Expectations\n",
    "----- | ------------\n",
    "**0** | _Does not meet expectations. Try again._\n",
    "**1** | _Meets expectations. Good job._\n",
    "**2** | _Surpasses expectations. Brilliant!_\n",
    "\n",
    "[For more information on how we grade our DSI projects, see our project grading walkthrough.](https://git.generalassemb.ly/dsi-projects/readme/blob/master/README.md)\n"
   ]
  },
  {
   "cell_type": "code",
   "execution_count": 1,
   "metadata": {},
   "outputs": [],
   "source": [
    "# Import scraping libraries\n",
    "from bs4 import BeautifulSoup\n",
    "import requests\n",
    "import urllib\n",
    "import os\n",
    "from selenium import webdriver\n",
    "from time import sleep\n",
    "import pickle"
   ]
  },
  {
   "cell_type": "code",
   "execution_count": 2,
   "metadata": {},
   "outputs": [],
   "source": [
    "# Import standard libraries\n",
    "import numpy as np\n",
    "import scipy.stats as stats\n",
    "import seaborn as sns\n",
    "import matplotlib.pyplot as plt\n",
    "import pandas as pd\n",
    "\n",
    "sns.set_style('whitegrid')\n",
    "\n",
    "%config InlineBackend.figure_format = 'retina'\n",
    "%matplotlib inline"
   ]
  },
  {
   "cell_type": "markdown",
   "metadata": {},
   "source": [
    "# QUESTION 1: Factors that impact salary\n",
    "\n",
    "To predict salary you will be building either a classification or regression model, using features like the location, title, and summary of the job. If framing this as a regression problem, you will be estimating the listed salary amounts. You may instead choose to frame this as a classification problem, in which case you will create labels from these salaries (high vs. low salary, for example) according to thresholds (such as median salary).\n",
    "\n",
    "You have learned a variety of new skills and models that may be useful for this problem:\n",
    "- NLP\n",
    "- Unsupervised learning and dimensionality reduction techniques (PCA, clustering)\n",
    "- Ensemble methods and decision tree models\n",
    "- SVM models\n",
    "\n",
    "Whatever you decide to use, the most important thing is to justify your choices and interpret your results. *Communication of your process is key.* Note that most listings **DO NOT** come with salary information. You'll need to able to extrapolate or predict the expected salaries for these listings."
   ]
  },
  {
   "cell_type": "markdown",
   "metadata": {},
   "source": [
    "## 1.1. Scraping Mycareersfuture.com"
   ]
  },
  {
   "cell_type": "markdown",
   "metadata": {},
   "source": [
    "**Building the Scraper**"
   ]
  },
  {
   "cell_type": "code",
   "execution_count": 3,
   "metadata": {},
   "outputs": [],
   "source": [
    "import random\n",
    "\n",
    "def get_links(search='', page_start=0, page_end=0):\n",
    "    # Set path from cromedriver\n",
    "    chromedriver = \"/Users/samdarmali/Desktop/GA/materials-duplicate/projects/project-4/chromedriver/chromedriver\"\n",
    "    os.environ[\"webdriver.chrome.driver\"] = chromedriver\n",
    "\n",
    "    # Create a driver called \"driver.\"\n",
    "    driver = webdriver.Chrome(executable_path=chromedriver)\n",
    "    \n",
    "    # Dictionary of links to keep\n",
    "    links = []\n",
    "    \n",
    "    # Ask user for first url and number of pages\n",
    "    url_frag = search.replace(' ','%20')\n",
    "    \n",
    "    count = 250\n",
    "    \n",
    "    for page in range(int(page_start), int(page_end)):\n",
    "        # Use url\n",
    "        url = 'https://www.mycareersfuture.sg/search?search={}&sortBy=new_posting_date&page={}'.format(url_frag, page)\n",
    "        print('Getting links from {} ...'.format(url))\n",
    "        \n",
    "        # Get page and wait 3 to 6 seconds\n",
    "        driver.get(url)\n",
    "        sleep(random.randint(3,6))\n",
    "\n",
    "        # Get the html and convert to beautiful soup\n",
    "        html = driver.page_source\n",
    "        soup = BeautifulSoup(html, 'lxml')\n",
    "        \n",
    "        for i in soup.find_all('a', {'class':'bg-white'}):\n",
    "            \n",
    "            # Get link for each post, if job link then scrape it, if not then continue\n",
    "            post_link = i.get('href')\n",
    "            \n",
    "            # Complete url\n",
    "            if post_link.startswith('/job/'):\n",
    "                post_link = 'https://www.mycareersfuture.sg' + post_link\n",
    "                links.append(post_link)\n",
    "            \n",
    "            # Save to new txt file every 250 links\n",
    "            if len(links) % 250 == 0:\n",
    "                with open('mycareersfuture_links{}.txt'.format(count), 'wb') as fp:\n",
    "                    pickle.dump(links, fp)\n",
    "                print('First {} links stored in temporary txt file ...'.format(count))\n",
    "                count += 250\n",
    "        \n",
    "        print('----\\nLinks from page {} received\\n-----'.format(page))\n",
    "    \n",
    "    # Close driver\n",
    "    driver.close()\n",
    "    \n",
    "    return links"
   ]
  },
  {
   "cell_type": "code",
   "execution_count": 4,
   "metadata": {},
   "outputs": [],
   "source": [
    "def mycareersfuture_scraper():\n",
    "    # Set path from cromedriver\n",
    "    chromedriver = \"/Users/samdarmali/Desktop/GA/materials-duplicate/projects/project-4/chromedriver/chromedriver\"\n",
    "    os.environ[\"webdriver.chrome.driver\"] = chromedriver\n",
    "\n",
    "    # Create a driver called \"driver.\"\n",
    "    driver = webdriver.Chrome(executable_path=chromedriver)\n",
    "    \n",
    "    # Dictionary of information to keep\n",
    "    details = {'title': [],\n",
    "               'company': [],\n",
    "               'description': [],\n",
    "               'company_overview': [],\n",
    "               'location': [],\n",
    "               'role': [],\n",
    "               'hours': [],\n",
    "               'industry': [],\n",
    "               'applications': [],\n",
    "               'posted': [],\n",
    "               'closing': [],\n",
    "               'salary_type': [],\n",
    "               'salary': []}\n",
    "    \n",
    "    # Ask user for first url and number of pages\n",
    "    search = input('Search: ')\n",
    "    url_frag = search.replace(' ','%20')\n",
    "    page_start = input('Page Start: ')\n",
    "    page_end = input('Page End: ')\n",
    "    \n",
    "    # Get the links for search and pages parameters\n",
    "    links = get_links(search=search, page_start=page_start, page_end=page_end)\n",
    "    \n",
    "    # Counter for csv file name\n",
    "    count = 250\n",
    "    \n",
    "    for link in links:\n",
    "        print('Scraping {} ...'.format(link))\n",
    "        \n",
    "        # Go to post page\n",
    "        driver.get(link)\n",
    "        sleep(random.randint(3,6))\n",
    "        post_html = driver.page_source\n",
    "        post_soup = BeautifulSoup(post_html, 'lxml')\n",
    "\n",
    "        # Get title\n",
    "        if not post_soup.find_all('h1', {'id':'job_title'}):\n",
    "            details['title'].append(None)\n",
    "        for title in post_soup.find_all('h1', {'id':'job_title'}):\n",
    "            details['title'].append(title.text)\n",
    "\n",
    "        # Get company\n",
    "        if not post_soup.find_all('p',  {'name':'company'}):\n",
    "            details['company'].append(None)\n",
    "        for company in post_soup.find_all('p', {'name':'company'}):\n",
    "            details['company'].append(company.text)\n",
    "\n",
    "        # Get description\n",
    "        if not post_soup.find_all('div', {'class':'jobDescription'}):\n",
    "            details['description'].append(None)\n",
    "        for desc in post_soup.find_all('div', {'class':'jobDescription'}):\n",
    "            details['description'].append(desc.text)\n",
    "\n",
    "        # Get company overview\n",
    "        xpath = '//*[@id=\"job_details\"]/div[2]/div[1]/div/div/section/section/div[2]/div/div[1]'\n",
    "        try:\n",
    "            details['company_overview'].append(driver.find_element_by_xpath(xpath).text)   \n",
    "        except:\n",
    "            details['company_overview'].append(None)\n",
    "        \n",
    "        # Get location\n",
    "        if not post_soup.find_all('p', {'id':'address'}):\n",
    "            details['location'].append(None)\n",
    "        for loc in post_soup.find_all('p', {'id':'address'}):\n",
    "            details['location'].append(loc.text)\n",
    "\n",
    "        # Get role\n",
    "        if not post_soup.find_all('p', {'id':'seniority'}):\n",
    "            details['role'].append(None)\n",
    "        for role in post_soup.find_all('p', {'id':'seniority'}):\n",
    "            details['role'].append(role.text)\n",
    "\n",
    "        # Get hours\n",
    "        if not post_soup.find_all('p', {'id':'employment_type'}):\n",
    "            details['hours'].append(None)\n",
    "        for hours in post_soup.find_all('p', {'id':'employment_type'}):\n",
    "            details['hours'].append(hours.text)\n",
    "\n",
    "        # Get industry\n",
    "        if not post_soup.find_all('p', {'id':'job-categories'}):\n",
    "            details['industry'].append(None)\n",
    "        for ind in post_soup.find_all('p', {'id':'job-categories'}):\n",
    "            details['industry'].append(ind.text)\n",
    "\n",
    "        # Get applications\n",
    "        if not post_soup.find_all('span', {'id':'num_of_applications'}):\n",
    "            details['applications'].append(None)\n",
    "        for apps in post_soup.find_all('span', {'id':'num_of_applications'}):\n",
    "            details['applications'].append(apps.text)\n",
    "\n",
    "        # Get posted\n",
    "        if not post_soup.find_all('span', {'id':'last_posted_date'}):\n",
    "            details['posted'].append(None)\n",
    "        for posted in post_soup.find_all('span', {'id':'last_posted_date'}):\n",
    "            details['posted'].append(posted.text)\n",
    "\n",
    "        # Get closing\n",
    "        if not post_soup.find_all('span', {'id':'expiry_date'}):\n",
    "            details['closing'].append(None)\n",
    "        for closing in post_soup.find_all('span', {'id':'expiry_date'}):\n",
    "            details['closing'].append(closing.text)\n",
    "            \n",
    "        # Get salary type\n",
    "        if not post_soup.find_all('span', {'class':'salary_type'}):\n",
    "            details['salary_type'].append(None)\n",
    "        for sal in post_soup.find_all('span', {'class':'salary_type'}):\n",
    "            details['salary_type'].append(sal.text.replace('to','-'))\n",
    "\n",
    "        # Get salary\n",
    "        if not post_soup.find_all('span', {'class':'salary_range'}):\n",
    "            details['salary'].append(None)\n",
    "        for sal in post_soup.find_all('span', {'class':'salary_range'}):\n",
    "            details['salary'].append(sal.text.replace('to','-'))\n",
    "\n",
    "        print('---')\n",
    "        \n",
    "        # Safeguard, save every 250 scraped job postings into a temporary df\n",
    "        if len(details['title']) % 250 == 0:\n",
    "            temp_df = pd.DataFrame(details)\n",
    "            temp_df.to_csv('temp_df{}.csv'.format(count))\n",
    "            print('First {} postings stored in temporary dataframe ...'.format(count))\n",
    "            count += 250\n",
    "\n",
    "    # Close driver\n",
    "    driver.close()\n",
    "    \n",
    "    try:\n",
    "        details_df = pd.DataFrame(details)\n",
    "        print('Dataframe created!')\n",
    "    except:\n",
    "        print('')\n",
    "        print('error: arrays must all be same length')\n",
    "        print('length title:', len(details['title']))\n",
    "        print('length company:', len(details['company']))\n",
    "        print('length description:', len(details['description']))\n",
    "        print('length company_overview:', len(details['company_overview']))\n",
    "        print('length location:', len(details['location']))\n",
    "        print('length role:', len(details['role']))\n",
    "        print('length hours:', len(details['hours']))\n",
    "        print('length industry:', len(details['industry']))\n",
    "        print('length applications:', len(details['applications']))\n",
    "        print('length posted:', len(details['posted']))\n",
    "        print('length closing:', len(details['closing']))\n",
    "        print('length salary_type:', len(details['salary_type']))\n",
    "        print('length salary:', len(details['salary']))\n",
    "\n",
    "    return details_df, links\n"
   ]
  },
  {
   "cell_type": "markdown",
   "metadata": {},
   "source": [
    "## 1.2. Loading and Cleaning the Data"
   ]
  },
  {
   "cell_type": "code",
   "execution_count": 5,
   "metadata": {},
   "outputs": [],
   "source": [
    "# Load data from several sources\n",
    "pg_0_40 = pd.read_csv('driver_1/data_0-40.csv')\n",
    "pg_40_80 = pd.read_csv('driver_2/data_40-80.csv')\n",
    "pg_80_120 = pd.read_csv('driver_3/data_80-120.csv')\n",
    "pg_120_160 = pd.read_csv('driver_4/data_120-160.csv')\n",
    "pg_160_200 = pd.read_csv('driver_5/data_160-200.csv')\n"
   ]
  },
  {
   "cell_type": "code",
   "execution_count": 6,
   "metadata": {},
   "outputs": [
    {
     "name": "stdout",
     "output_type": "stream",
     "text": [
      "(700, 14)\n",
      "(720, 14)\n",
      "(620, 14)\n",
      "(640, 14)\n",
      "(660, 14)\n",
      "3340\n"
     ]
    }
   ],
   "source": [
    "print(pg_0_40.shape)\n",
    "print(pg_40_80.shape)\n",
    "print(pg_80_120.shape)\n",
    "print(pg_120_160.shape)\n",
    "print(pg_160_200.shape)\n",
    "print(pg_0_40.shape[0] + pg_40_80.shape[0] + pg_80_120.shape[0] + pg_120_160.shape[0] + pg_160_200.shape[0])"
   ]
  },
  {
   "cell_type": "code",
   "execution_count": 7,
   "metadata": {},
   "outputs": [],
   "source": [
    "# Merge all dataframes together\n",
    "pg_0_80 = pd.merge(pg_0_40, pg_40_80, 'outer')\n",
    "pg_0_120 = pd.merge(pg_0_80, pg_80_120, 'outer')\n",
    "pg_0_160 = pd.merge(pg_0_120, pg_120_160, 'outer')\n",
    "pg_0_200 = pd.merge(pg_0_160, pg_160_200, 'outer')"
   ]
  },
  {
   "cell_type": "code",
   "execution_count": 8,
   "metadata": {},
   "outputs": [
    {
     "name": "stdout",
     "output_type": "stream",
     "text": [
      "(3336, 13)\n",
      "<class 'pandas.core.frame.DataFrame'>\n",
      "Int64Index: 3336 entries, 0 to 3335\n",
      "Data columns (total 13 columns):\n",
      "title               3319 non-null object\n",
      "company             3319 non-null object\n",
      "description         3319 non-null object\n",
      "company_overview    2922 non-null object\n",
      "location            2533 non-null object\n",
      "role                3267 non-null object\n",
      "hours               3319 non-null object\n",
      "industry            3319 non-null object\n",
      "applications        3319 non-null object\n",
      "posted              3319 non-null object\n",
      "closing             3319 non-null object\n",
      "salary_type         2974 non-null object\n",
      "salary              3319 non-null object\n",
      "dtypes: object(13)\n",
      "memory usage: 364.9+ KB\n"
     ]
    }
   ],
   "source": [
    "pg_0_200.drop_duplicates(inplace=True)\n",
    "pg_0_200.drop(columns='Unnamed: 0', inplace=True)\n",
    "print(pg_0_200.shape)\n",
    "pg_0_200.info()"
   ]
  },
  {
   "cell_type": "code",
   "execution_count": 9,
   "metadata": {},
   "outputs": [],
   "source": [
    "# Get rid of the 1 rows that are just filled with null values\n",
    "pg_0_200 = pg_0_200[pg_0_200['title'].isna()==False].copy()\n",
    "\n",
    "# Clean applications\n",
    "pg_0_200['applications'] = pg_0_200['applications'].apply(lambda x: float(x.strip('applications')))\n",
    "\n",
    "# Clean posted dates and closing dates\n",
    "pg_0_200['posted'] = pg_0_200['posted'].apply(lambda x: x.strip('Posted '))\n",
    "pg_0_200['closing'] = pg_0_200['closing'].apply(lambda x: x.strip('Closing on '))\n",
    "\n",
    "# Clean salaries\n",
    "pg_0_200.drop(pg_0_200[pg_0_200['salary']=='Salary undisclosed'].index, inplace=True)\n",
    "pg_0_200['salary'] = pg_0_200['salary'].apply(lambda x: x.replace('$','').replace(',',''))\n",
    "pg_0_200['salary_low'] = pg_0_200['salary'].apply(lambda x: float(x.split('-')[0]))\n",
    "pg_0_200['salary_high'] = pg_0_200['salary'].apply(lambda x: float(x.split('-')[1]))\n",
    "pg_0_200['salary_mean'] = (pg_0_200['salary_low'] + pg_0_200['salary_high'])/2\n",
    "\n",
    "# Make title column into string to see if it is a data related job or not\n",
    "pg_0_200['title'] = pg_0_200['title'].astype('str')\n",
    "pg_0_200['is_data_title'] = pg_0_200['title'].apply(lambda x: 1 if 'data' in x.lower().split(' ') else 0)\n",
    "\n",
    "# Make description column into string to see if it is a data related job or not\n",
    "pg_0_200['description'] = pg_0_200['description'].astype('str')\n",
    "pg_0_200['is_data_desc'] = pg_0_200['description'].apply(lambda x: 1 if 'data' in x.lower().split(' ') else 0)\n",
    "\n",
    "# Fill missing locations with 'None'\n",
    "pg_0_200['location'].fillna('None', inplace=True)\n",
    "\n",
    "# Fill missing roles with 'None'\n",
    "pg_0_200['role'].fillna('None', inplace=True)\n"
   ]
  },
  {
   "cell_type": "code",
   "execution_count": 10,
   "metadata": {},
   "outputs": [],
   "source": [
    "from sklearn.feature_extraction.text import CountVectorizer\n",
    "\n",
    "def data_words(x):\n",
    "    '''\n",
    "    Function which counts the number of times the word 'data' appears in a description\n",
    "    '''\n",
    "    cvec = CountVectorizer(stop_words='english')\n",
    "    cvec.fit([x])\n",
    "\n",
    "    df = pd.DataFrame(cvec.transform([x]).todense(), columns=cvec.get_feature_names())\n",
    "    \n",
    "    try:\n",
    "        data_words = df.sum()['data']\n",
    "    except:\n",
    "        data_words = 0\n",
    "    \n",
    "    return data_words\n"
   ]
  },
  {
   "cell_type": "code",
   "execution_count": 11,
   "metadata": {},
   "outputs": [],
   "source": [
    "# Get count of 'data' in description\n",
    "pg_0_200['description'] = pg_0_200['description'].astype('str')\n",
    "pg_0_200['data_in_desc'] = pg_0_200['description'].apply(data_words)\n",
    "\n",
    "# Get count of 'data' in company_overview\n",
    "pg_0_200['company_overview'] = pg_0_200['company_overview'].astype('str')\n",
    "pg_0_200['data_in_ovrw'] = pg_0_200['company_overview'].apply(data_words)"
   ]
  },
  {
   "cell_type": "code",
   "execution_count": 12,
   "metadata": {},
   "outputs": [
    {
     "data": {
      "text/plain": [
       "(1536, 20)"
      ]
     },
     "execution_count": 12,
     "metadata": {},
     "output_type": "execute_result"
    }
   ],
   "source": [
    "# Job descriptions with 'data' mentioned at least 2 times\n",
    "pg_0_200[pg_0_200['data_in_desc']>=2].shape"
   ]
  },
  {
   "cell_type": "code",
   "execution_count": 13,
   "metadata": {},
   "outputs": [
    {
     "data": {
      "text/plain": [
       "array(['Monthly', 'Annually'], dtype=object)"
      ]
     },
     "execution_count": 13,
     "metadata": {},
     "output_type": "execute_result"
    }
   ],
   "source": [
    "# Lets turn everything into monthly salaries\n",
    "pg_0_200['salary_type'].unique()"
   ]
  },
  {
   "cell_type": "code",
   "execution_count": 14,
   "metadata": {},
   "outputs": [],
   "source": [
    "# Make monthly salaries\n",
    "pg_0_200.loc[pg_0_200['salary_type']=='Annually', 'salary_mean'] = pg_0_200.loc[pg_0_200['salary_type']=='Annually', 'salary_mean'].apply(lambda x: x/12)\n",
    "pg_0_200.loc[pg_0_200['salary_type']=='Annually', 'salary_low'] = pg_0_200.loc[pg_0_200['salary_type']=='Annually', 'salary_low'].apply(lambda x: x/12)\n",
    "pg_0_200.loc[pg_0_200['salary_type']=='Annually', 'salary_high'] = pg_0_200.loc[pg_0_200['salary_type']=='Annually', 'salary_high'].apply(lambda x: x/12)\n",
    "\n",
    "# Drop the salary_type column\n",
    "pg_0_200.drop(columns='salary_type', inplace=True)"
   ]
  },
  {
   "cell_type": "code",
   "execution_count": 15,
   "metadata": {},
   "outputs": [
    {
     "data": {
      "text/plain": [
       "count      2974.000000\n",
       "mean       6498.386741\n",
       "std        7282.235976\n",
       "min           8.000000\n",
       "25%        3500.000000\n",
       "50%        5750.000000\n",
       "75%        7500.000000\n",
       "max      180000.000000\n",
       "Name: salary_mean, dtype: float64"
      ]
     },
     "execution_count": 15,
     "metadata": {},
     "output_type": "execute_result"
    }
   ],
   "source": [
    "pg_0_200['salary_mean'].describe()"
   ]
  },
  {
   "cell_type": "code",
   "execution_count": 16,
   "metadata": {},
   "outputs": [],
   "source": [
    "# pg_0_200['role'].unique()"
   ]
  },
  {
   "cell_type": "code",
   "execution_count": 17,
   "metadata": {},
   "outputs": [],
   "source": [
    "# Let's keep the rows only where the word 'data' appears twice in the job description\n",
    "mcf_clean = pg_0_200[pg_0_200['data_in_desc']>=2].copy()\n",
    "mcf_clean.reset_index(drop=True, inplace=True)\n",
    "\n",
    "# Save in csv just so we have the cleaned data\n",
    "mcf_clean.to_csv('mcf_clean.csv')"
   ]
  },
  {
   "cell_type": "markdown",
   "metadata": {},
   "source": [
    "## 1.3. EDA"
   ]
  },
  {
   "cell_type": "code",
   "execution_count": 18,
   "metadata": {},
   "outputs": [
    {
     "data": {
      "text/plain": [
       "(1536, 19)"
      ]
     },
     "execution_count": 18,
     "metadata": {},
     "output_type": "execute_result"
    }
   ],
   "source": [
    "import pandas as pd\n",
    "mcf_clean = pd.read_csv('mcf_clean.csv')\n",
    "mcf_clean.drop(columns='Unnamed: 0', inplace=True)\n",
    "mcf_clean.shape"
   ]
  },
  {
   "cell_type": "code",
   "execution_count": 19,
   "metadata": {},
   "outputs": [
    {
     "data": {
      "text/plain": [
       "\"Roles & ResponsibilitiesWhy Work for Us We Power the Nation.  Make the most of your talents and develop products that can create impact on a national scale. We are an in-house software team, assembled to move with speed and deliver with quality. \\xa0 We Build Reliable Solutions. For Customers, Company and Country.  You will be part of the Digital Technology Team and together, you will innovate, create, and deploy digital products that will empower more than 3,800 employees within SP Group and improve the quality of life for the 1.5 million commercial, industrial and residential customers that SP Group serves. We build solutions that enable sustainable high quality lifestyles and help consumers save energy and cost, as well as supporting national goals for a sustainable livable city. Now, imagine the impact you can create. \\xa0 SP Digital Technology aims to use cutting edge technologies to help SP Group to revolutionize future utility/energy industry by providing better services and more efficient energy solutions to our customers. Data charter consists of data engineering, business intelligence, data science/machine learning teams. We oversee and drive all data and AI initiatives for SP group. It includes the following  Build next generation data infrastructure to collect/process/analyze different data from consumers, assets, energy Discover the business problems/opportunities and design data-driven solutions to improve operation/business/customer experience Uncover the actionable insights for multiple stakeholders to drive business growth  \\xa0 The mission of data team is to drive SP to become data-driven company and create data-driven products. As a data team member, you will be responsible for designing, developing and deploying data-driven solutions to create business value. We are looking for a Data Scientist who will help us discover patterns hidden in large amounts of data and make decisions from different sources. Your primary focus will be in applying data wrangling and machine learning techniques to build high quality anomaly detection, prediction and recommendation systems integrated with our products. You will work closely with customers and data engineers to understand the business requirements, in-house infrastructure and help build solutions for different business users. \\xa0 What You'll Do  Understand business logics from domain experts and come up with reasonable targets for data projects Data fetching from different sources such as database, big data lake running on hadoop/hive Enhancing data by building autonomous pipelines from different sources Data wrangling by preprocessing, cleansing, and feature engineering Applying state-of-art machine learning techniques such as RNN, CNN for predictions and anomaly detections Build agile data products in a team of data engineers, scientists and business users Doing ad-hoc analysis and presenting results in clear manner Guide junior team members on their projects Help find opportunities from different business partners RequirementsWhat You'll Need We are looking for Passion and Proficiency  Data-oriented personality and software engineering practices Excellent understanding of machine learning models, their pros and cons Experience with common data science toolkits such as Python/R Experience with data visualization tools such as D3.js, matplotlib and etc Proficiency in using query languages such as SQL, Hive Good understanding of statistics, such as distributions, A/B testing, model overfitting/underfitting Experience with one of deep learning libraries such as Tensorflow, Keras, Pytorch, CNTK, MXNet etc Master of Computer Science/Engineering, Applied Mathematics or other engineering related area \""
      ]
     },
     "execution_count": 19,
     "metadata": {},
     "output_type": "execute_result"
    }
   ],
   "source": [
    "mcf_clean['description'][0]"
   ]
  },
  {
   "cell_type": "code",
   "execution_count": 20,
   "metadata": {},
   "outputs": [
    {
     "data": {
      "image/png": "[encoded data removed]",
      "text/plain": [
       "<Figure size 504x360 with 1 Axes>"
      ]
     },
     "metadata": {
      "image/png": {
       "height": 317,
       "width": 435
      }
     },
     "output_type": "display_data"
    },
    {
     "data": {
      "image/png": "[encoded data removed]",
      "text/plain": [
       "<Figure size 504x360 with 1 Axes>"
      ]
     },
     "metadata": {
      "image/png": {
       "height": 317,
       "width": 435
      }
     },
     "output_type": "display_data"
    },
    {
     "data": {
      "image/png": "[encoded data removed]",
      "text/plain": [
       "<Figure size 504x360 with 1 Axes>"
      ]
     },
     "metadata": {
      "image/png": {
       "height": 317,
       "width": 435
      }
     },
     "output_type": "display_data"
    }
   ],
   "source": [
    "# Lets see the histograms for the salary numbers\n",
    "num_cols = ['salary_low','salary_high','salary_mean']\n",
    "\n",
    "for col in num_cols:\n",
    "    plt.figure(figsize=(7,5))\n",
    "    mcf_clean[col].hist()\n",
    "    plt.title(col)"
   ]
  },
  {
   "cell_type": "code",
   "execution_count": 21,
   "metadata": {},
   "outputs": [
    {
     "data": {
      "image/png": "[encoded data removed]",
      "text/plain": [
       "<Figure size 504x360 with 1 Axes>"
      ]
     },
     "metadata": {
      "image/png": {
       "height": 317,
       "width": 447
      }
     },
     "output_type": "display_data"
    },
    {
     "data": {
      "image/png": "[encoded data removed]",
      "text/plain": [
       "<Figure size 504x360 with 1 Axes>"
      ]
     },
     "metadata": {
      "image/png": {
       "height": 317,
       "width": 447
      }
     },
     "output_type": "display_data"
    },
    {
     "data": {
      "image/png": "[encoded data removed]",
      "text/plain": [
       "<Figure size 504x360 with 1 Axes>"
      ]
     },
     "metadata": {
      "image/png": {
       "height": 317,
       "width": 447
      }
     },
     "output_type": "display_data"
    }
   ],
   "source": [
    "num_cols = ['salary_low','salary_high','salary_mean']\n",
    "\n",
    "for col in num_cols:\n",
    "    plt.figure(figsize=(7,5))\n",
    "    mcf_clean[[col]].boxplot()\n",
    "    plt.title(col)"
   ]
  },
  {
   "cell_type": "markdown",
   "metadata": {},
   "source": [
    "**Making this a classification problem** \n",
    "\n",
    "We have the mean prices for each position. We can take the median as the threshold for determining whether the job has a high or low salary. \n"
   ]
  },
  {
   "cell_type": "code",
   "execution_count": 22,
   "metadata": {},
   "outputs": [
    {
     "data": {
      "text/plain": [
       "count      1536.000000\n",
       "mean       7334.052951\n",
       "std        9360.355949\n",
       "min           8.000000\n",
       "25%        4287.500000\n",
       "50%        6000.000000\n",
       "75%        8250.000000\n",
       "max      180000.000000\n",
       "Name: salary_mean, dtype: float64"
      ]
     },
     "execution_count": 22,
     "metadata": {},
     "output_type": "execute_result"
    }
   ],
   "source": [
    "# We will make the median salary the threshold\n",
    "median = mcf_clean['salary_mean'].median()\n",
    "\n",
    "mcf_clean['salary_mean'].describe()"
   ]
  },
  {
   "cell_type": "code",
   "execution_count": 23,
   "metadata": {},
   "outputs": [
    {
     "name": "stdout",
     "output_type": "stream",
     "text": [
      "high paying:  (859, 19)\n",
      "low paying:  (677, 19)\n"
     ]
    }
   ],
   "source": [
    "# Lets compare the jobs with low and high salary \n",
    "high_shape = mcf_clean[mcf_clean['salary_mean']>=median].shape\n",
    "low_shape = mcf_clean[mcf_clean['salary_mean']<median].shape\n",
    "\n",
    "print('high paying: ', high_shape)\n",
    "print('low paying: ', low_shape)"
   ]
  },
  {
   "cell_type": "code",
   "execution_count": 24,
   "metadata": {},
   "outputs": [
    {
     "data": {
      "text/plain": [
       "0    1\n",
       "1    1\n",
       "2    1\n",
       "3    1\n",
       "4    1\n",
       "Name: is_high_sal, dtype: int64"
      ]
     },
     "execution_count": 24,
     "metadata": {},
     "output_type": "execute_result"
    }
   ],
   "source": [
    "mcf_clean['is_high_sal'] = mcf_clean['salary_mean'].apply(lambda x: 1 if x >= median else 0)\n",
    "\n",
    "mcf_clean['is_high_sal'].head()\n"
   ]
  },
  {
   "cell_type": "code",
   "execution_count": 25,
   "metadata": {
    "scrolled": true
   },
   "outputs": [
    {
     "data": {
      "text/plain": [
       "0    Roles & ResponsibilitiesWhy Work for Us We Pow...\n",
       "1    Roles & ResponsibilitiesWhy Work for Us We Pow...\n",
       "2    Roles & ResponsibilitiesWhat does a Data Direc...\n",
       "3    Roles & ResponsibilitiesTransferTo operates a ...\n",
       "4    Roles & ResponsibilitiesExperience in financia...\n",
       "Name: description, dtype: object"
      ]
     },
     "execution_count": 25,
     "metadata": {},
     "output_type": "execute_result"
    }
   ],
   "source": [
    "# Lets make a bag of words model out of this column\n",
    "mcf_clean['description'].head()"
   ]
  },
  {
   "cell_type": "markdown",
   "metadata": {},
   "source": [
    "**Count Vectorize to make bag of words**"
   ]
  },
  {
   "cell_type": "code",
   "execution_count": 26,
   "metadata": {},
   "outputs": [],
   "source": [
    "from sklearn.feature_extraction.text import ENGLISH_STOP_WORDS\n",
    "\n",
    "# Define stopwords\n",
    "stopwords = list(ENGLISH_STOP_WORDS)\n"
   ]
  },
  {
   "cell_type": "code",
   "execution_count": 27,
   "metadata": {},
   "outputs": [
    {
     "data": {
      "text/plain": [
       "CountVectorizer(analyzer='word', binary=False, decode_error='strict',\n",
       "        dtype=<class 'numpy.int64'>, encoding='utf-8', input='content',\n",
       "        lowercase=True, max_df=0.9, max_features=None, min_df=0.1,\n",
       "        ngram_range=(1, 1), preprocessor=None,\n",
       "        stop_words=['never', 'ltd', 'hers', 'am', 'ever', 'formerly', 'ie', 'is', 'between', 'becoming', 'a', 'below', 'moreover', 'sincere', 'interest', 'from', 'thick', 'less', 'anyway', 'those', 'anyone', 'could', 'during', 'no', 'seem', 'namely', 'eg', 'as', 'nine', 'after', 'forty', 'own', 'part', 'it'...', 'former', 'fifty', 'any', 'show', 'upon', 'wherever', 'me', 'due', 'without', 'next', 'anything'],\n",
       "        strip_accents=None, token_pattern='(?u)\\\\b\\\\w\\\\w+\\\\b',\n",
       "        tokenizer=None, vocabulary=None)"
      ]
     },
     "execution_count": 27,
     "metadata": {},
     "output_type": "execute_result"
    }
   ],
   "source": [
    "# We want to apply count vectorizer on the descriptions column\n",
    "cvec = CountVectorizer(stop_words=stopwords, max_df=0.9, min_df=0.1)\n",
    "cvec.fit(mcf_clean['description'])"
   ]
  },
  {
   "cell_type": "code",
   "execution_count": 28,
   "metadata": {},
   "outputs": [],
   "source": [
    "# Define X\n",
    "X = pd.DataFrame(cvec.transform(mcf_clean['description']).todense(), columns=cvec.get_feature_names())"
   ]
  },
  {
   "cell_type": "code",
   "execution_count": 29,
   "metadata": {},
   "outputs": [
    {
     "data": {
      "text/plain": [
       "(1536, 320)"
      ]
     },
     "execution_count": 29,
     "metadata": {},
     "output_type": "execute_result"
    }
   ],
   "source": [
    "# There are 1533 descriptions and 13678 possible words in those files\n",
    "X.shape"
   ]
  },
  {
   "cell_type": "code",
   "execution_count": 30,
   "metadata": {},
   "outputs": [
    {
     "data": {
      "text/html": [
       "<div>\n",
       "<style scoped>\n",
       "    .dataframe tbody tr th:only-of-type {\n",
       "        vertical-align: middle;\n",
       "    }\n",
       "\n",
       "    .dataframe tbody tr th {\n",
       "        vertical-align: top;\n",
       "    }\n",
       "\n",
       "    .dataframe thead th {\n",
       "        text-align: right;\n",
       "    }\n",
       "</style>\n",
       "<table border=\"1\" class=\"dataframe\">\n",
       "  <thead>\n",
       "    <tr style=\"text-align: right;\">\n",
       "      <th></th>\n",
       "      <th>perform</th>\n",
       "      <th>performance</th>\n",
       "      <th>plan</th>\n",
       "      <th>planning</th>\n",
       "      <th>plans</th>\n",
       "      <th>platform</th>\n",
       "      <th>platforms</th>\n",
       "      <th>player</th>\n",
       "      <th>plus</th>\n",
       "      <th>policies</th>\n",
       "    </tr>\n",
       "  </thead>\n",
       "  <tbody>\n",
       "    <tr>\n",
       "      <th>0</th>\n",
       "      <td>0</td>\n",
       "      <td>0</td>\n",
       "      <td>0</td>\n",
       "      <td>0</td>\n",
       "      <td>0</td>\n",
       "      <td>0</td>\n",
       "      <td>0</td>\n",
       "      <td>0</td>\n",
       "      <td>0</td>\n",
       "      <td>0</td>\n",
       "    </tr>\n",
       "    <tr>\n",
       "      <th>1</th>\n",
       "      <td>0</td>\n",
       "      <td>0</td>\n",
       "      <td>0</td>\n",
       "      <td>0</td>\n",
       "      <td>0</td>\n",
       "      <td>0</td>\n",
       "      <td>0</td>\n",
       "      <td>0</td>\n",
       "      <td>0</td>\n",
       "      <td>0</td>\n",
       "    </tr>\n",
       "    <tr>\n",
       "      <th>2</th>\n",
       "      <td>0</td>\n",
       "      <td>0</td>\n",
       "      <td>0</td>\n",
       "      <td>0</td>\n",
       "      <td>2</td>\n",
       "      <td>0</td>\n",
       "      <td>1</td>\n",
       "      <td>1</td>\n",
       "      <td>0</td>\n",
       "      <td>0</td>\n",
       "    </tr>\n",
       "    <tr>\n",
       "      <th>3</th>\n",
       "      <td>0</td>\n",
       "      <td>1</td>\n",
       "      <td>0</td>\n",
       "      <td>0</td>\n",
       "      <td>0</td>\n",
       "      <td>5</td>\n",
       "      <td>0</td>\n",
       "      <td>0</td>\n",
       "      <td>1</td>\n",
       "      <td>0</td>\n",
       "    </tr>\n",
       "    <tr>\n",
       "      <th>4</th>\n",
       "      <td>0</td>\n",
       "      <td>0</td>\n",
       "      <td>0</td>\n",
       "      <td>0</td>\n",
       "      <td>0</td>\n",
       "      <td>0</td>\n",
       "      <td>0</td>\n",
       "      <td>1</td>\n",
       "      <td>0</td>\n",
       "      <td>0</td>\n",
       "    </tr>\n",
       "  </tbody>\n",
       "</table>\n",
       "</div>"
      ],
      "text/plain": [
       "   perform  performance  plan  planning  plans  platform  platforms  player  \\\n",
       "0        0            0     0         0      0         0          0       0   \n",
       "1        0            0     0         0      0         0          0       0   \n",
       "2        0            0     0         0      2         0          1       1   \n",
       "3        0            1     0         0      0         5          0       0   \n",
       "4        0            0     0         0      0         0          0       1   \n",
       "\n",
       "   plus  policies  \n",
       "0     0         0  \n",
       "1     0         0  \n",
       "2     0         0  \n",
       "3     1         0  \n",
       "4     0         0  "
      ]
     },
     "execution_count": 30,
     "metadata": {},
     "output_type": "execute_result"
    }
   ],
   "source": [
    "# Each column is a word and the value is the number of times that the word appears in the file\n",
    "X.iloc[:5, 200:210]"
   ]
  },
  {
   "cell_type": "code",
   "execution_count": 31,
   "metadata": {},
   "outputs": [
    {
     "data": {
      "text/plain": [
       "experience      4865\n",
       "business        3419\n",
       "management      2725\n",
       "team            2700\n",
       "work            2653\n",
       "skills          2462\n",
       "requirements    1795\n",
       "knowledge       1723\n",
       "support         1723\n",
       "development     1685\n",
       "dtype: int64"
      ]
     },
     "execution_count": 31,
     "metadata": {},
     "output_type": "execute_result"
    }
   ],
   "source": [
    "# Sum of each column, so the most common words amongst all files, top 10.\n",
    "X.sum().sort_values(ascending=False).head(10)"
   ]
  },
  {
   "cell_type": "code",
   "execution_count": 32,
   "metadata": {},
   "outputs": [
    {
     "data": {
      "image/png": "[encoded data removed]",
      "text/plain": [
       "<Figure size 576x360 with 1 Axes>"
      ]
     },
     "metadata": {
      "image/png": {
       "height": 434,
       "width": 532
      }
     },
     "output_type": "display_data"
    }
   ],
   "source": [
    "# Plot words in high paying jobs\n",
    "high_pay = X[mcf_clean['is_high_sal']==1].sum(axis=0).sort_values(ascending=False).head(10)\n",
    "\n",
    "high_pay.plot(kind='bar', figsize=(8,5))\n",
    "plt.title('Most Common Words For High Paying Jobs', pad=20, fontsize=15)\n",
    "plt.xlabel('Words', labelpad=20, fontsize=15)\n",
    "plt.ylabel('Frequency', labelpad=20, fontsize=15)\n",
    "plt.xticks(fontsize=13)\n",
    "plt.yticks(fontsize=13)\n",
    "plt.show()"
   ]
  },
  {
   "cell_type": "code",
   "execution_count": 33,
   "metadata": {},
   "outputs": [
    {
     "data": {
      "image/png": "[encoded data removed]",
      "text/plain": [
       "<Figure size 576x360 with 1 Axes>"
      ]
     },
     "metadata": {
      "image/png": {
       "height": 434,
       "width": 532
      }
     },
     "output_type": "display_data"
    }
   ],
   "source": [
    "# Plot words in low paying jobs\n",
    "low_pay = X[mcf_clean['is_high_sal']==0].sum(axis=0).sort_values(ascending=False).head(10)\n",
    "\n",
    "low_pay.plot(kind='bar', figsize=(8,5))\n",
    "plt.title('Most Common Words For Low Paying Jobs', pad=20, fontsize=15)\n",
    "plt.xlabel('Words', labelpad=20, fontsize=15)\n",
    "plt.ylabel('Frequency', labelpad=20, fontsize=15)\n",
    "plt.xticks(fontsize=13)\n",
    "plt.yticks(fontsize=13)\n",
    "plt.show()"
   ]
  },
  {
   "cell_type": "markdown",
   "metadata": {},
   "source": [
    "## 1.3. Preprocessing (Regression)"
   ]
  },
  {
   "cell_type": "code",
   "execution_count": 34,
   "metadata": {},
   "outputs": [
    {
     "data": {
      "text/html": [
       "<div>\n",
       "<style scoped>\n",
       "    .dataframe tbody tr th:only-of-type {\n",
       "        vertical-align: middle;\n",
       "    }\n",
       "\n",
       "    .dataframe tbody tr th {\n",
       "        vertical-align: top;\n",
       "    }\n",
       "\n",
       "    .dataframe thead th {\n",
       "        text-align: right;\n",
       "    }\n",
       "</style>\n",
       "<table border=\"1\" class=\"dataframe\">\n",
       "  <thead>\n",
       "    <tr style=\"text-align: right;\">\n",
       "      <th></th>\n",
       "      <th>title</th>\n",
       "      <th>company</th>\n",
       "      <th>description</th>\n",
       "      <th>company_overview</th>\n",
       "      <th>location</th>\n",
       "      <th>role</th>\n",
       "      <th>hours</th>\n",
       "      <th>industry</th>\n",
       "      <th>applications</th>\n",
       "      <th>posted</th>\n",
       "      <th>closing</th>\n",
       "      <th>salary</th>\n",
       "      <th>salary_low</th>\n",
       "      <th>salary_high</th>\n",
       "      <th>salary_mean</th>\n",
       "      <th>is_data_title</th>\n",
       "      <th>is_data_desc</th>\n",
       "      <th>data_in_desc</th>\n",
       "      <th>data_in_ovrw</th>\n",
       "      <th>is_high_sal</th>\n",
       "    </tr>\n",
       "  </thead>\n",
       "  <tbody>\n",
       "    <tr>\n",
       "      <th>0</th>\n",
       "      <td>Data Scientist</td>\n",
       "      <td>SINGAPORE POWER LIMITED</td>\n",
       "      <td>Roles &amp; ResponsibilitiesWhy Work for Us We Pow...</td>\n",
       "      <td>SINGAPORE POWER LIMITED\\nA leading energy util...</td>\n",
       "      <td>SP GROUP BUILDING, 2 KALLANG SECTOR 349277</td>\n",
       "      <td>Professional</td>\n",
       "      <td>Full Time</td>\n",
       "      <td>Information Technology</td>\n",
       "      <td>4.0</td>\n",
       "      <td>28 Jan 2019</td>\n",
       "      <td>27 Feb 2019</td>\n",
       "      <td>4000-8000</td>\n",
       "      <td>4000.0</td>\n",
       "      <td>8000.0</td>\n",
       "      <td>6000.0</td>\n",
       "      <td>1</td>\n",
       "      <td>1</td>\n",
       "      <td>26</td>\n",
       "      <td>0</td>\n",
       "      <td>1</td>\n",
       "    </tr>\n",
       "    <tr>\n",
       "      <th>1</th>\n",
       "      <td>Senior Data Scientist</td>\n",
       "      <td>SINGAPORE POWER LIMITED</td>\n",
       "      <td>Roles &amp; ResponsibilitiesWhy Work for Us We Pow...</td>\n",
       "      <td>SINGAPORE POWER LIMITED\\nA leading energy util...</td>\n",
       "      <td>SP GROUP BUILDING, 2 KALLANG SECTOR 349277</td>\n",
       "      <td>Middle Management</td>\n",
       "      <td>Full Time</td>\n",
       "      <td>Information Technology</td>\n",
       "      <td>0.0</td>\n",
       "      <td>28 Jan 2019</td>\n",
       "      <td>27 Feb 2019</td>\n",
       "      <td>8000-14000</td>\n",
       "      <td>8000.0</td>\n",
       "      <td>14000.0</td>\n",
       "      <td>11000.0</td>\n",
       "      <td>1</td>\n",
       "      <td>1</td>\n",
       "      <td>26</td>\n",
       "      <td>0</td>\n",
       "      <td>1</td>\n",
       "    </tr>\n",
       "  </tbody>\n",
       "</table>\n",
       "</div>"
      ],
      "text/plain": [
       "                   title                  company  \\\n",
       "0         Data Scientist  SINGAPORE POWER LIMITED   \n",
       "1  Senior Data Scientist  SINGAPORE POWER LIMITED   \n",
       "\n",
       "                                         description  \\\n",
       "0  Roles & ResponsibilitiesWhy Work for Us We Pow...   \n",
       "1  Roles & ResponsibilitiesWhy Work for Us We Pow...   \n",
       "\n",
       "                                    company_overview  \\\n",
       "0  SINGAPORE POWER LIMITED\\nA leading energy util...   \n",
       "1  SINGAPORE POWER LIMITED\\nA leading energy util...   \n",
       "\n",
       "                                     location               role      hours  \\\n",
       "0  SP GROUP BUILDING, 2 KALLANG SECTOR 349277       Professional  Full Time   \n",
       "1  SP GROUP BUILDING, 2 KALLANG SECTOR 349277  Middle Management  Full Time   \n",
       "\n",
       "                 industry  applications       posted      closing      salary  \\\n",
       "0  Information Technology           4.0  28 Jan 2019  27 Feb 2019   4000-8000   \n",
       "1  Information Technology           0.0  28 Jan 2019  27 Feb 2019  8000-14000   \n",
       "\n",
       "   salary_low  salary_high  salary_mean  is_data_title  is_data_desc  \\\n",
       "0      4000.0       8000.0       6000.0              1             1   \n",
       "1      8000.0      14000.0      11000.0              1             1   \n",
       "\n",
       "   data_in_desc  data_in_ovrw  is_high_sal  \n",
       "0            26             0            1  \n",
       "1            26             0            1  "
      ]
     },
     "execution_count": 34,
     "metadata": {},
     "output_type": "execute_result"
    }
   ],
   "source": [
    "mcf_clean.head(2)"
   ]
  },
  {
   "cell_type": "code",
   "execution_count": 35,
   "metadata": {},
   "outputs": [],
   "source": [
    "mcf = mcf_clean[['title',\n",
    "                 'company',\n",
    "                 'role',\n",
    "                 'hours',\n",
    "                 'industry',\n",
    "                 'applications',\n",
    "                 'salary_low',\n",
    "                 'salary_high',\n",
    "                 'salary_mean',\n",
    "                 'is_data_title',\n",
    "                 'is_data_desc',\n",
    "                 'data_in_desc',\n",
    "                 'data_in_ovrw']].copy()\n",
    "\n",
    "for col in ['is_data_title','is_data_desc','data_in_desc','data_in_ovrw']:\n",
    "    mcf[col] = mcf[col].astype('float64')\n"
   ]
  },
  {
   "cell_type": "code",
   "execution_count": 36,
   "metadata": {},
   "outputs": [
    {
     "name": "stdout",
     "output_type": "stream",
     "text": [
      "<class 'pandas.core.frame.DataFrame'>\n",
      "RangeIndex: 1536 entries, 0 to 1535\n",
      "Data columns (total 13 columns):\n",
      "title            1536 non-null object\n",
      "company          1536 non-null object\n",
      "role             1536 non-null object\n",
      "hours            1536 non-null object\n",
      "industry         1536 non-null object\n",
      "applications     1536 non-null float64\n",
      "salary_low       1536 non-null float64\n",
      "salary_high      1536 non-null float64\n",
      "salary_mean      1536 non-null float64\n",
      "is_data_title    1536 non-null float64\n",
      "is_data_desc     1536 non-null float64\n",
      "data_in_desc     1536 non-null float64\n",
      "data_in_ovrw     1536 non-null float64\n",
      "dtypes: float64(8), object(5)\n",
      "memory usage: 156.1+ KB\n"
     ]
    }
   ],
   "source": [
    "mcf.info()"
   ]
  },
  {
   "cell_type": "code",
   "execution_count": 37,
   "metadata": {},
   "outputs": [
    {
     "data": {
      "text/html": [
       "<div>\n",
       "<style scoped>\n",
       "    .dataframe tbody tr th:only-of-type {\n",
       "        vertical-align: middle;\n",
       "    }\n",
       "\n",
       "    .dataframe tbody tr th {\n",
       "        vertical-align: top;\n",
       "    }\n",
       "\n",
       "    .dataframe thead th {\n",
       "        text-align: right;\n",
       "    }\n",
       "</style>\n",
       "<table border=\"1\" class=\"dataframe\">\n",
       "  <thead>\n",
       "    <tr style=\"text-align: right;\">\n",
       "      <th></th>\n",
       "      <th>applications</th>\n",
       "      <th>salary_low</th>\n",
       "      <th>salary_high</th>\n",
       "      <th>salary_mean</th>\n",
       "      <th>is_data_title</th>\n",
       "      <th>is_data_desc</th>\n",
       "      <th>data_in_desc</th>\n",
       "      <th>data_in_ovrw</th>\n",
       "      <th>title_(IHPC) - Scientist , Industrial IOT Innovation</th>\n",
       "      <th>title_(Senior) Clinical Research Coordinator_Psychological Medicine_MB (Contract)</th>\n",
       "      <th>...</th>\n",
       "      <th>industry_Real Estate / Property Management</th>\n",
       "      <th>industry_Real Estate / Property Management, Sales / Retail</th>\n",
       "      <th>industry_Risk Management</th>\n",
       "      <th>industry_Risk Management, Banking and Finance, Legal</th>\n",
       "      <th>industry_Sales / Retail</th>\n",
       "      <th>industry_Sciences / Laboratory / R&amp;D</th>\n",
       "      <th>industry_Security and Investigation</th>\n",
       "      <th>industry_Social Services</th>\n",
       "      <th>industry_Telecommunications</th>\n",
       "      <th>industry_Travel / Tourism</th>\n",
       "    </tr>\n",
       "  </thead>\n",
       "  <tbody>\n",
       "    <tr>\n",
       "      <th>0</th>\n",
       "      <td>4.0</td>\n",
       "      <td>4000.0</td>\n",
       "      <td>8000.0</td>\n",
       "      <td>6000.0</td>\n",
       "      <td>1.0</td>\n",
       "      <td>1.0</td>\n",
       "      <td>26.0</td>\n",
       "      <td>0.0</td>\n",
       "      <td>0</td>\n",
       "      <td>0</td>\n",
       "      <td>...</td>\n",
       "      <td>0</td>\n",
       "      <td>0</td>\n",
       "      <td>0</td>\n",
       "      <td>0</td>\n",
       "      <td>0</td>\n",
       "      <td>0</td>\n",
       "      <td>0</td>\n",
       "      <td>0</td>\n",
       "      <td>0</td>\n",
       "      <td>0</td>\n",
       "    </tr>\n",
       "    <tr>\n",
       "      <th>1</th>\n",
       "      <td>0.0</td>\n",
       "      <td>8000.0</td>\n",
       "      <td>14000.0</td>\n",
       "      <td>11000.0</td>\n",
       "      <td>1.0</td>\n",
       "      <td>1.0</td>\n",
       "      <td>26.0</td>\n",
       "      <td>0.0</td>\n",
       "      <td>0</td>\n",
       "      <td>0</td>\n",
       "      <td>...</td>\n",
       "      <td>0</td>\n",
       "      <td>0</td>\n",
       "      <td>0</td>\n",
       "      <td>0</td>\n",
       "      <td>0</td>\n",
       "      <td>0</td>\n",
       "      <td>0</td>\n",
       "      <td>0</td>\n",
       "      <td>0</td>\n",
       "      <td>0</td>\n",
       "    </tr>\n",
       "    <tr>\n",
       "      <th>2</th>\n",
       "      <td>0.0</td>\n",
       "      <td>8000.0</td>\n",
       "      <td>15000.0</td>\n",
       "      <td>11500.0</td>\n",
       "      <td>1.0</td>\n",
       "      <td>1.0</td>\n",
       "      <td>21.0</td>\n",
       "      <td>0.0</td>\n",
       "      <td>0</td>\n",
       "      <td>0</td>\n",
       "      <td>...</td>\n",
       "      <td>0</td>\n",
       "      <td>0</td>\n",
       "      <td>0</td>\n",
       "      <td>0</td>\n",
       "      <td>0</td>\n",
       "      <td>0</td>\n",
       "      <td>0</td>\n",
       "      <td>0</td>\n",
       "      <td>0</td>\n",
       "      <td>0</td>\n",
       "    </tr>\n",
       "    <tr>\n",
       "      <th>3</th>\n",
       "      <td>1.0</td>\n",
       "      <td>8000.0</td>\n",
       "      <td>11000.0</td>\n",
       "      <td>9500.0</td>\n",
       "      <td>1.0</td>\n",
       "      <td>1.0</td>\n",
       "      <td>24.0</td>\n",
       "      <td>0.0</td>\n",
       "      <td>0</td>\n",
       "      <td>0</td>\n",
       "      <td>...</td>\n",
       "      <td>0</td>\n",
       "      <td>0</td>\n",
       "      <td>0</td>\n",
       "      <td>0</td>\n",
       "      <td>0</td>\n",
       "      <td>0</td>\n",
       "      <td>0</td>\n",
       "      <td>0</td>\n",
       "      <td>0</td>\n",
       "      <td>0</td>\n",
       "    </tr>\n",
       "    <tr>\n",
       "      <th>4</th>\n",
       "      <td>0.0</td>\n",
       "      <td>6000.0</td>\n",
       "      <td>6500.0</td>\n",
       "      <td>6250.0</td>\n",
       "      <td>1.0</td>\n",
       "      <td>1.0</td>\n",
       "      <td>26.0</td>\n",
       "      <td>0.0</td>\n",
       "      <td>0</td>\n",
       "      <td>0</td>\n",
       "      <td>...</td>\n",
       "      <td>0</td>\n",
       "      <td>0</td>\n",
       "      <td>0</td>\n",
       "      <td>0</td>\n",
       "      <td>0</td>\n",
       "      <td>0</td>\n",
       "      <td>0</td>\n",
       "      <td>0</td>\n",
       "      <td>0</td>\n",
       "      <td>0</td>\n",
       "    </tr>\n",
       "  </tbody>\n",
       "</table>\n",
       "<p>5 rows × 2089 columns</p>\n",
       "</div>"
      ],
      "text/plain": [
       "   applications  salary_low  salary_high  salary_mean  is_data_title  \\\n",
       "0           4.0      4000.0       8000.0       6000.0            1.0   \n",
       "1           0.0      8000.0      14000.0      11000.0            1.0   \n",
       "2           0.0      8000.0      15000.0      11500.0            1.0   \n",
       "3           1.0      8000.0      11000.0       9500.0            1.0   \n",
       "4           0.0      6000.0       6500.0       6250.0            1.0   \n",
       "\n",
       "   is_data_desc  data_in_desc  data_in_ovrw  \\\n",
       "0           1.0          26.0           0.0   \n",
       "1           1.0          26.0           0.0   \n",
       "2           1.0          21.0           0.0   \n",
       "3           1.0          24.0           0.0   \n",
       "4           1.0          26.0           0.0   \n",
       "\n",
       "   title_(IHPC) - Scientist , Industrial IOT Innovation  \\\n",
       "0                                                  0      \n",
       "1                                                  0      \n",
       "2                                                  0      \n",
       "3                                                  0      \n",
       "4                                                  0      \n",
       "\n",
       "   title_(Senior) Clinical Research Coordinator_Psychological Medicine_MB (Contract)  \\\n",
       "0                                                  0                                   \n",
       "1                                                  0                                   \n",
       "2                                                  0                                   \n",
       "3                                                  0                                   \n",
       "4                                                  0                                   \n",
       "\n",
       "   ...  industry_Real Estate / Property Management  \\\n",
       "0  ...                                           0   \n",
       "1  ...                                           0   \n",
       "2  ...                                           0   \n",
       "3  ...                                           0   \n",
       "4  ...                                           0   \n",
       "\n",
       "   industry_Real Estate / Property Management, Sales / Retail   \\\n",
       "0                                                  0             \n",
       "1                                                  0             \n",
       "2                                                  0             \n",
       "3                                                  0             \n",
       "4                                                  0             \n",
       "\n",
       "   industry_Risk Management  \\\n",
       "0                         0   \n",
       "1                         0   \n",
       "2                         0   \n",
       "3                         0   \n",
       "4                         0   \n",
       "\n",
       "   industry_Risk Management, Banking and Finance, Legal  \\\n",
       "0                                                  0      \n",
       "1                                                  0      \n",
       "2                                                  0      \n",
       "3                                                  0      \n",
       "4                                                  0      \n",
       "\n",
       "   industry_Sales / Retail   industry_Sciences / Laboratory / R&D  \\\n",
       "0                         0                                     0   \n",
       "1                         0                                     0   \n",
       "2                         0                                     0   \n",
       "3                         0                                     0   \n",
       "4                         0                                     0   \n",
       "\n",
       "   industry_Security and Investigation  industry_Social Services  \\\n",
       "0                                    0                         0   \n",
       "1                                    0                         0   \n",
       "2                                    0                         0   \n",
       "3                                    0                         0   \n",
       "4                                    0                         0   \n",
       "\n",
       "   industry_Telecommunications  industry_Travel / Tourism  \n",
       "0                            0                          0  \n",
       "1                            0                          0  \n",
       "2                            0                          0  \n",
       "3                            0                          0  \n",
       "4                            0                          0  \n",
       "\n",
       "[5 rows x 2089 columns]"
      ]
     },
     "execution_count": 37,
     "metadata": {},
     "output_type": "execute_result"
    }
   ],
   "source": [
    "mcf_dummies = pd.get_dummies(mcf, drop_first=True)\n",
    "mcf_dummies.head()"
   ]
  },
  {
   "cell_type": "code",
   "execution_count": 38,
   "metadata": {},
   "outputs": [],
   "source": [
    "# First, lets predict salary_mean\n",
    "\n",
    "# Define X and y\n",
    "drop_cols = ['salary_high','salary_low','salary_mean']\n",
    "\n",
    "X = mcf_dummies[[col for col in mcf_dummies if col not in drop_cols]]\n",
    "y = mcf_dummies['salary_mean']\n"
   ]
  },
  {
   "cell_type": "code",
   "execution_count": 39,
   "metadata": {},
   "outputs": [],
   "source": [
    "from sklearn.model_selection import train_test_split, cross_val_score\n",
    "from sklearn import metrics\n",
    "from sklearn.preprocessing import StandardScaler\n",
    "\n",
    "# Split train and test\n",
    "X_train, X_test, y_train, y_test = train_test_split(X, y, test_size=0.3, random_state=1)\n",
    "\n",
    "# Scale\n",
    "ss = StandardScaler()\n",
    "Xs_train = ss.fit_transform(X_train)\n",
    "Xs_test = ss.transform(X_test)\n"
   ]
  },
  {
   "cell_type": "markdown",
   "metadata": {},
   "source": [
    "## 1.5. Regression"
   ]
  },
  {
   "cell_type": "code",
   "execution_count": 40,
   "metadata": {},
   "outputs": [],
   "source": [
    "from sklearn.model_selection import train_test_split, cross_val_score, GridSearchCV\n",
    "from sklearn.preprocessing import StandardScaler, PolynomialFeatures\n",
    "from sklearn.linear_model import LinearRegression#, Ridge, RidgeCV, Lasso, LassoCV, ElasticNet, ElasticNetCV\n",
    "from sklearn.ensemble import RandomForestRegressor\n",
    "from sklearn import metrics"
   ]
  },
  {
   "cell_type": "markdown",
   "metadata": {},
   "source": [
    "**Quick Linear Regression Model**"
   ]
  },
  {
   "cell_type": "code",
   "execution_count": 41,
   "metadata": {},
   "outputs": [],
   "source": [
    "# Define a quick simply linear regression model\n",
    "lr = LinearRegression()\n",
    "\n",
    "# Cross validation score\n",
    "cv_scores = cross_val_score(lr, Xs_train, y_train, cv=10)\n",
    "cv_r2_mean = np.mean(cv_scores)\n",
    "cv_r2_std = np.std(cv_scores)\n",
    "\n",
    "# Fit model and score on test\n",
    "lr.fit(Xs_train, y_train)\n",
    "r2_train = lr.score(Xs_train, y_train)\n",
    "r2_test = lr.score(Xs_test, y_test)\n",
    "\n",
    "# Root mean squared error\n",
    "y_train_pred = lr.predict(Xs_train)\n",
    "y_test_pred = lr.predict(Xs_test)\n",
    "rmse_train = np.sqrt(metrics.mean_squared_error(y_train, y_train_pred))\n",
    "rmse_test = np.sqrt(metrics.mean_squared_error(y_test, y_test_pred))\n"
   ]
  },
  {
   "cell_type": "code",
   "execution_count": 42,
   "metadata": {},
   "outputs": [
    {
     "name": "stdout",
     "output_type": "stream",
     "text": [
      "LinearRegression(copy_X=True, fit_intercept=True, n_jobs=1, normalize=False)\n",
      "cv_scores:  [-5.98000495e+28 -3.85742144e+27 -4.88732944e+25 -4.95223176e+28\n",
      " -6.60568591e+26 -4.67395755e+28 -1.89017329e+26 -1.86055713e+27\n",
      " -2.88526278e+28 -8.21898808e+27]\n",
      "cv_r2_mean:  -1.9974999625678803e+28\n",
      "cv_r2_std:  2.267582283696284e+28\n",
      "r2_train:  0.876417984076496\n",
      "r2_test:  -8.071827827865199e+26\n",
      "rmse_train:  3135.931880557934\n",
      "rmse_test:  2.927070292942296e+17\n"
     ]
    }
   ],
   "source": [
    "# Print results\n",
    "print(lr)\n",
    "print('cv_scores: ', cv_scores)\n",
    "print('cv_r2_mean: ', cv_r2_mean)\n",
    "print('cv_r2_std: ', cv_r2_std)\n",
    "print('r2_train: ', r2_train)\n",
    "print('r2_test: ', r2_test)\n",
    "print('rmse_train: ', rmse_train)\n",
    "print('rmse_test: ', rmse_test)"
   ]
  },
  {
   "cell_type": "code",
   "execution_count": 43,
   "metadata": {
    "scrolled": true
   },
   "outputs": [
    {
     "data": {
      "text/html": [
       "<div>\n",
       "<style scoped>\n",
       "    .dataframe tbody tr th:only-of-type {\n",
       "        vertical-align: middle;\n",
       "    }\n",
       "\n",
       "    .dataframe tbody tr th {\n",
       "        vertical-align: top;\n",
       "    }\n",
       "\n",
       "    .dataframe thead th {\n",
       "        text-align: right;\n",
       "    }\n",
       "</style>\n",
       "<table border=\"1\" class=\"dataframe\">\n",
       "  <thead>\n",
       "    <tr style=\"text-align: right;\">\n",
       "      <th></th>\n",
       "      <th>variable</th>\n",
       "      <th>coef</th>\n",
       "      <th>abs_coef</th>\n",
       "    </tr>\n",
       "  </thead>\n",
       "  <tbody>\n",
       "    <tr>\n",
       "      <th>159</th>\n",
       "      <td>title_Blockchain Researcher</td>\n",
       "      <td>2.144079e+17</td>\n",
       "      <td>2.144079e+17</td>\n",
       "    </tr>\n",
       "    <tr>\n",
       "      <th>139</th>\n",
       "      <td>title_Azure Big Data Developer</td>\n",
       "      <td>2.046929e+17</td>\n",
       "      <td>2.046929e+17</td>\n",
       "    </tr>\n",
       "    <tr>\n",
       "      <th>265</th>\n",
       "      <td>title_Data Centre Engineer</td>\n",
       "      <td>1.957943e+17</td>\n",
       "      <td>1.957943e+17</td>\n",
       "    </tr>\n",
       "    <tr>\n",
       "      <th>71</th>\n",
       "      <td>title_Analyst, EDS &amp; S</td>\n",
       "      <td>-1.699130e+17</td>\n",
       "      <td>1.699130e+17</td>\n",
       "    </tr>\n",
       "    <tr>\n",
       "      <th>194</th>\n",
       "      <td>title_Chief Information Officer  /  Chief Tech...</td>\n",
       "      <td>-1.357079e+17</td>\n",
       "      <td>1.357079e+17</td>\n",
       "    </tr>\n",
       "    <tr>\n",
       "      <th>109</th>\n",
       "      <td>title_Assistant Marketing Manager - Kipling</td>\n",
       "      <td>-1.354030e+17</td>\n",
       "      <td>1.354030e+17</td>\n",
       "    </tr>\n",
       "    <tr>\n",
       "      <th>520</th>\n",
       "      <td>title_Lead Consultant (Cloud and Infra Securit...</td>\n",
       "      <td>1.255164e+17</td>\n",
       "      <td>1.255164e+17</td>\n",
       "    </tr>\n",
       "    <tr>\n",
       "      <th>172</th>\n",
       "      <td>title_Business Intelligence Analyst Developer</td>\n",
       "      <td>-1.238563e+17</td>\n",
       "      <td>1.238563e+17</td>\n",
       "    </tr>\n",
       "    <tr>\n",
       "      <th>92</th>\n",
       "      <td>title_Assistant IT Manager</td>\n",
       "      <td>1.222166e+17</td>\n",
       "      <td>1.222166e+17</td>\n",
       "    </tr>\n",
       "    <tr>\n",
       "      <th>1887</th>\n",
       "      <td>role_Senior Management, Manager, Professional</td>\n",
       "      <td>1.213670e+17</td>\n",
       "      <td>1.213670e+17</td>\n",
       "    </tr>\n",
       "    <tr>\n",
       "      <th>127</th>\n",
       "      <td>title_Associate TMT</td>\n",
       "      <td>-1.131484e+17</td>\n",
       "      <td>1.131484e+17</td>\n",
       "    </tr>\n",
       "    <tr>\n",
       "      <th>68</th>\n",
       "      <td>title_Analyst Development Programs – Corporate</td>\n",
       "      <td>1.115529e+17</td>\n",
       "      <td>1.115529e+17</td>\n",
       "    </tr>\n",
       "    <tr>\n",
       "      <th>1421</th>\n",
       "      <td>company_GLOBALFOUNDRIES SINGAPORE PTE. LTD.</td>\n",
       "      <td>-1.042504e+17</td>\n",
       "      <td>1.042504e+17</td>\n",
       "    </tr>\n",
       "    <tr>\n",
       "      <th>1185</th>\n",
       "      <td>company_ACETECH MANPOWER CONSULTANCY PTE LTD</td>\n",
       "      <td>-9.828087e+16</td>\n",
       "      <td>9.828087e+16</td>\n",
       "    </tr>\n",
       "    <tr>\n",
       "      <th>85</th>\n",
       "      <td>title_Asset Management Analyst</td>\n",
       "      <td>9.761272e+16</td>\n",
       "      <td>9.761272e+16</td>\n",
       "    </tr>\n",
       "    <tr>\n",
       "      <th>1852</th>\n",
       "      <td>role_Fresh/entry level, Executive, Non-executive</td>\n",
       "      <td>-9.360631e+16</td>\n",
       "      <td>9.360631e+16</td>\n",
       "    </tr>\n",
       "    <tr>\n",
       "      <th>1930</th>\n",
       "      <td>industry_Admin / Secretarial</td>\n",
       "      <td>9.352867e+16</td>\n",
       "      <td>9.352867e+16</td>\n",
       "    </tr>\n",
       "    <tr>\n",
       "      <th>1349</th>\n",
       "      <td>company_D2X EXPERTISE PTE. LTD.</td>\n",
       "      <td>8.862483e+16</td>\n",
       "      <td>8.862483e+16</td>\n",
       "    </tr>\n",
       "    <tr>\n",
       "      <th>1534</th>\n",
       "      <td>company_LINKLATERS SINGAPORE PTE. LTD.</td>\n",
       "      <td>8.723149e+16</td>\n",
       "      <td>8.723149e+16</td>\n",
       "    </tr>\n",
       "    <tr>\n",
       "      <th>266</th>\n",
       "      <td>title_Data CentreOperations in Singapore (90638)</td>\n",
       "      <td>-8.453174e+16</td>\n",
       "      <td>8.453174e+16</td>\n",
       "    </tr>\n",
       "    <tr>\n",
       "      <th>155</th>\n",
       "      <td>title_Big Data Solutions Architect</td>\n",
       "      <td>8.394936e+16</td>\n",
       "      <td>8.394936e+16</td>\n",
       "    </tr>\n",
       "    <tr>\n",
       "      <th>1639</th>\n",
       "      <td>company_PRUDENTIAL ASSURANCE COMPANY SINGAPORE...</td>\n",
       "      <td>8.023143e+16</td>\n",
       "      <td>8.023143e+16</td>\n",
       "    </tr>\n",
       "    <tr>\n",
       "      <th>430</th>\n",
       "      <td>title_Head of Business Development</td>\n",
       "      <td>-7.911518e+16</td>\n",
       "      <td>7.911518e+16</td>\n",
       "    </tr>\n",
       "    <tr>\n",
       "      <th>50</th>\n",
       "      <td>title_Actuarial Specialist - EEV Reporting</td>\n",
       "      <td>-7.813845e+16</td>\n",
       "      <td>7.813845e+16</td>\n",
       "    </tr>\n",
       "    <tr>\n",
       "      <th>1384</th>\n",
       "      <td>company_EMPORIO ANALYTICS PTE. LTD.</td>\n",
       "      <td>7.688078e+16</td>\n",
       "      <td>7.688078e+16</td>\n",
       "    </tr>\n",
       "    <tr>\n",
       "      <th>435</th>\n",
       "      <td>title_Head of Customer Insights and Analytics</td>\n",
       "      <td>7.585379e+16</td>\n",
       "      <td>7.585379e+16</td>\n",
       "    </tr>\n",
       "    <tr>\n",
       "      <th>558</th>\n",
       "      <td>title_Manager</td>\n",
       "      <td>-7.224592e+16</td>\n",
       "      <td>7.224592e+16</td>\n",
       "    </tr>\n",
       "    <tr>\n",
       "      <th>19</th>\n",
       "      <td>title_AVP  /  Senior Associate, Data Analyst, ...</td>\n",
       "      <td>7.173023e+16</td>\n",
       "      <td>7.173023e+16</td>\n",
       "    </tr>\n",
       "    <tr>\n",
       "      <th>428</th>\n",
       "      <td>title_Head Algorithm Development</td>\n",
       "      <td>-7.152734e+16</td>\n",
       "      <td>7.152734e+16</td>\n",
       "    </tr>\n",
       "    <tr>\n",
       "      <th>196</th>\n",
       "      <td>title_Chief Operationg Officer</td>\n",
       "      <td>6.801545e+16</td>\n",
       "      <td>6.801545e+16</td>\n",
       "    </tr>\n",
       "    <tr>\n",
       "      <th>...</th>\n",
       "      <td>...</td>\n",
       "      <td>...</td>\n",
       "      <td>...</td>\n",
       "    </tr>\n",
       "    <tr>\n",
       "      <th>1732</th>\n",
       "      <td>company_SPAZIO CONCEPTS PTE. LTD.</td>\n",
       "      <td>0.000000e+00</td>\n",
       "      <td>0.000000e+00</td>\n",
       "    </tr>\n",
       "    <tr>\n",
       "      <th>1977</th>\n",
       "      <td>industry_Consulting , Customer Service, Logist...</td>\n",
       "      <td>0.000000e+00</td>\n",
       "      <td>0.000000e+00</td>\n",
       "    </tr>\n",
       "    <tr>\n",
       "      <th>1730</th>\n",
       "      <td>company_SOPRA STERIA ASIA PTE. LTD.</td>\n",
       "      <td>0.000000e+00</td>\n",
       "      <td>0.000000e+00</td>\n",
       "    </tr>\n",
       "    <tr>\n",
       "      <th>1509</th>\n",
       "      <td>company_KBC ADVANCED TECHNOLOGY PTE LTD</td>\n",
       "      <td>0.000000e+00</td>\n",
       "      <td>0.000000e+00</td>\n",
       "    </tr>\n",
       "    <tr>\n",
       "      <th>1508</th>\n",
       "      <td>company_KANTAR SINGAPORE PTE. LTD.</td>\n",
       "      <td>0.000000e+00</td>\n",
       "      <td>0.000000e+00</td>\n",
       "    </tr>\n",
       "    <tr>\n",
       "      <th>1759</th>\n",
       "      <td>company_TAN CHONG &amp; SONS MOTOR COMPANY (SINGAP...</td>\n",
       "      <td>0.000000e+00</td>\n",
       "      <td>0.000000e+00</td>\n",
       "    </tr>\n",
       "    <tr>\n",
       "      <th>1499</th>\n",
       "      <td>company_JOHN CRANE SINGAPORE PTE LTD</td>\n",
       "      <td>0.000000e+00</td>\n",
       "      <td>0.000000e+00</td>\n",
       "    </tr>\n",
       "    <tr>\n",
       "      <th>1183</th>\n",
       "      <td>company_ACCION LABS PTE. LTD.</td>\n",
       "      <td>0.000000e+00</td>\n",
       "      <td>0.000000e+00</td>\n",
       "    </tr>\n",
       "    <tr>\n",
       "      <th>1779</th>\n",
       "      <td>company_THAKRAL BROTHERS (PRIVATE) LIMITED</td>\n",
       "      <td>0.000000e+00</td>\n",
       "      <td>0.000000e+00</td>\n",
       "    </tr>\n",
       "    <tr>\n",
       "      <th>1436</th>\n",
       "      <td>company_HCL INSYS PTE. LTD.</td>\n",
       "      <td>0.000000e+00</td>\n",
       "      <td>0.000000e+00</td>\n",
       "    </tr>\n",
       "    <tr>\n",
       "      <th>1116</th>\n",
       "      <td>title_Temenos Tester</td>\n",
       "      <td>0.000000e+00</td>\n",
       "      <td>0.000000e+00</td>\n",
       "    </tr>\n",
       "    <tr>\n",
       "      <th>1115</th>\n",
       "      <td>title_Temenos TAP Consultant</td>\n",
       "      <td>0.000000e+00</td>\n",
       "      <td>0.000000e+00</td>\n",
       "    </tr>\n",
       "    <tr>\n",
       "      <th>1194</th>\n",
       "      <td>company_ADL REHAB PTE. LTD.</td>\n",
       "      <td>0.000000e+00</td>\n",
       "      <td>0.000000e+00</td>\n",
       "    </tr>\n",
       "    <tr>\n",
       "      <th>1195</th>\n",
       "      <td>company_AET TANKERS PTE. LTD.</td>\n",
       "      <td>0.000000e+00</td>\n",
       "      <td>0.000000e+00</td>\n",
       "    </tr>\n",
       "    <tr>\n",
       "      <th>1196</th>\n",
       "      <td>company_AGAPE CHILD CARE(CCK) PTE. LTD.</td>\n",
       "      <td>0.000000e+00</td>\n",
       "      <td>0.000000e+00</td>\n",
       "    </tr>\n",
       "    <tr>\n",
       "      <th>1937</th>\n",
       "      <td>industry_Admin / Secretarial, Education and Tr...</td>\n",
       "      <td>0.000000e+00</td>\n",
       "      <td>0.000000e+00</td>\n",
       "    </tr>\n",
       "    <tr>\n",
       "      <th>1772</th>\n",
       "      <td>company_TECTUS DREAMLAB PTE. LTD.</td>\n",
       "      <td>0.000000e+00</td>\n",
       "      <td>0.000000e+00</td>\n",
       "    </tr>\n",
       "    <tr>\n",
       "      <th>1500</th>\n",
       "      <td>company_JOHN HOLLAND PTY LTD</td>\n",
       "      <td>0.000000e+00</td>\n",
       "      <td>0.000000e+00</td>\n",
       "    </tr>\n",
       "    <tr>\n",
       "      <th>1761</th>\n",
       "      <td>company_TATA CONSULTANCY SERVICES ASIA PACIFIC...</td>\n",
       "      <td>0.000000e+00</td>\n",
       "      <td>0.000000e+00</td>\n",
       "    </tr>\n",
       "    <tr>\n",
       "      <th>1768</th>\n",
       "      <td>company_TECHMASTERS MATRIX PTE. LTD.</td>\n",
       "      <td>0.000000e+00</td>\n",
       "      <td>0.000000e+00</td>\n",
       "    </tr>\n",
       "    <tr>\n",
       "      <th>1767</th>\n",
       "      <td>company_TECHCOMBI PTE. LTD.</td>\n",
       "      <td>0.000000e+00</td>\n",
       "      <td>0.000000e+00</td>\n",
       "    </tr>\n",
       "    <tr>\n",
       "      <th>1943</th>\n",
       "      <td>industry_Advertising / Media , Consulting , Ma...</td>\n",
       "      <td>0.000000e+00</td>\n",
       "      <td>0.000000e+00</td>\n",
       "    </tr>\n",
       "    <tr>\n",
       "      <th>1505</th>\n",
       "      <td>company_JTRON (SAP) PTE. LTD.</td>\n",
       "      <td>0.000000e+00</td>\n",
       "      <td>0.000000e+00</td>\n",
       "    </tr>\n",
       "    <tr>\n",
       "      <th>1945</th>\n",
       "      <td>industry_Advertising / Media , Design</td>\n",
       "      <td>0.000000e+00</td>\n",
       "      <td>0.000000e+00</td>\n",
       "    </tr>\n",
       "    <tr>\n",
       "      <th>1425</th>\n",
       "      <td>company_GO TRANSPORT PTE. LTD.</td>\n",
       "      <td>0.000000e+00</td>\n",
       "      <td>0.000000e+00</td>\n",
       "    </tr>\n",
       "    <tr>\n",
       "      <th>1763</th>\n",
       "      <td>company_TEAMBUILD ENGINEERING &amp; CONSTRUCTION P...</td>\n",
       "      <td>0.000000e+00</td>\n",
       "      <td>0.000000e+00</td>\n",
       "    </tr>\n",
       "    <tr>\n",
       "      <th>1206</th>\n",
       "      <td>company_ALLIANZ GLOBAL CORPORATE &amp; SPECIALTY S...</td>\n",
       "      <td>0.000000e+00</td>\n",
       "      <td>0.000000e+00</td>\n",
       "    </tr>\n",
       "    <tr>\n",
       "      <th>1949</th>\n",
       "      <td>industry_Advertising / Media , Insurance</td>\n",
       "      <td>0.000000e+00</td>\n",
       "      <td>0.000000e+00</td>\n",
       "    </tr>\n",
       "    <tr>\n",
       "      <th>1112</th>\n",
       "      <td>title_Technology Development Senior Engineer  ...</td>\n",
       "      <td>0.000000e+00</td>\n",
       "      <td>0.000000e+00</td>\n",
       "    </tr>\n",
       "    <tr>\n",
       "      <th>1472</th>\n",
       "      <td>company_INFOCEPTS PTE. LTD.</td>\n",
       "      <td>0.000000e+00</td>\n",
       "      <td>0.000000e+00</td>\n",
       "    </tr>\n",
       "  </tbody>\n",
       "</table>\n",
       "<p>2086 rows × 3 columns</p>\n",
       "</div>"
      ],
      "text/plain": [
       "                                               variable          coef  \\\n",
       "159                         title_Blockchain Researcher  2.144079e+17   \n",
       "139                      title_Azure Big Data Developer  2.046929e+17   \n",
       "265                          title_Data Centre Engineer  1.957943e+17   \n",
       "71                               title_Analyst, EDS & S -1.699130e+17   \n",
       "194   title_Chief Information Officer  /  Chief Tech... -1.357079e+17   \n",
       "109         title_Assistant Marketing Manager - Kipling -1.354030e+17   \n",
       "520   title_Lead Consultant (Cloud and Infra Securit...  1.255164e+17   \n",
       "172       title_Business Intelligence Analyst Developer -1.238563e+17   \n",
       "92                           title_Assistant IT Manager  1.222166e+17   \n",
       "1887      role_Senior Management, Manager, Professional  1.213670e+17   \n",
       "127                                 title_Associate TMT -1.131484e+17   \n",
       "68       title_Analyst Development Programs – Corporate  1.115529e+17   \n",
       "1421        company_GLOBALFOUNDRIES SINGAPORE PTE. LTD. -1.042504e+17   \n",
       "1185       company_ACETECH MANPOWER CONSULTANCY PTE LTD -9.828087e+16   \n",
       "85                       title_Asset Management Analyst  9.761272e+16   \n",
       "1852   role_Fresh/entry level, Executive, Non-executive -9.360631e+16   \n",
       "1930                       industry_Admin / Secretarial  9.352867e+16   \n",
       "1349                    company_D2X EXPERTISE PTE. LTD.  8.862483e+16   \n",
       "1534             company_LINKLATERS SINGAPORE PTE. LTD.  8.723149e+16   \n",
       "266    title_Data CentreOperations in Singapore (90638) -8.453174e+16   \n",
       "155                  title_Big Data Solutions Architect  8.394936e+16   \n",
       "1639  company_PRUDENTIAL ASSURANCE COMPANY SINGAPORE...  8.023143e+16   \n",
       "430                  title_Head of Business Development -7.911518e+16   \n",
       "50           title_Actuarial Specialist - EEV Reporting -7.813845e+16   \n",
       "1384                company_EMPORIO ANALYTICS PTE. LTD.  7.688078e+16   \n",
       "435       title_Head of Customer Insights and Analytics  7.585379e+16   \n",
       "558                                       title_Manager -7.224592e+16   \n",
       "19    title_AVP  /  Senior Associate, Data Analyst, ...  7.173023e+16   \n",
       "428                    title_Head Algorithm Development -7.152734e+16   \n",
       "196                      title_Chief Operationg Officer  6.801545e+16   \n",
       "...                                                 ...           ...   \n",
       "1732                  company_SPAZIO CONCEPTS PTE. LTD.  0.000000e+00   \n",
       "1977  industry_Consulting , Customer Service, Logist...  0.000000e+00   \n",
       "1730                company_SOPRA STERIA ASIA PTE. LTD.  0.000000e+00   \n",
       "1509            company_KBC ADVANCED TECHNOLOGY PTE LTD  0.000000e+00   \n",
       "1508                 company_KANTAR SINGAPORE PTE. LTD.  0.000000e+00   \n",
       "1759  company_TAN CHONG & SONS MOTOR COMPANY (SINGAP...  0.000000e+00   \n",
       "1499               company_JOHN CRANE SINGAPORE PTE LTD  0.000000e+00   \n",
       "1183                      company_ACCION LABS PTE. LTD.  0.000000e+00   \n",
       "1779         company_THAKRAL BROTHERS (PRIVATE) LIMITED  0.000000e+00   \n",
       "1436                        company_HCL INSYS PTE. LTD.  0.000000e+00   \n",
       "1116                               title_Temenos Tester  0.000000e+00   \n",
       "1115                       title_Temenos TAP Consultant  0.000000e+00   \n",
       "1194                        company_ADL REHAB PTE. LTD.  0.000000e+00   \n",
       "1195                      company_AET TANKERS PTE. LTD.  0.000000e+00   \n",
       "1196            company_AGAPE CHILD CARE(CCK) PTE. LTD.  0.000000e+00   \n",
       "1937  industry_Admin / Secretarial, Education and Tr...  0.000000e+00   \n",
       "1772                  company_TECTUS DREAMLAB PTE. LTD.  0.000000e+00   \n",
       "1500                       company_JOHN HOLLAND PTY LTD  0.000000e+00   \n",
       "1761  company_TATA CONSULTANCY SERVICES ASIA PACIFIC...  0.000000e+00   \n",
       "1768               company_TECHMASTERS MATRIX PTE. LTD.  0.000000e+00   \n",
       "1767                        company_TECHCOMBI PTE. LTD.  0.000000e+00   \n",
       "1943  industry_Advertising / Media , Consulting , Ma...  0.000000e+00   \n",
       "1505                      company_JTRON (SAP) PTE. LTD.  0.000000e+00   \n",
       "1945              industry_Advertising / Media , Design  0.000000e+00   \n",
       "1425                     company_GO TRANSPORT PTE. LTD.  0.000000e+00   \n",
       "1763  company_TEAMBUILD ENGINEERING & CONSTRUCTION P...  0.000000e+00   \n",
       "1206  company_ALLIANZ GLOBAL CORPORATE & SPECIALTY S...  0.000000e+00   \n",
       "1949           industry_Advertising / Media , Insurance  0.000000e+00   \n",
       "1112  title_Technology Development Senior Engineer  ...  0.000000e+00   \n",
       "1472                        company_INFOCEPTS PTE. LTD.  0.000000e+00   \n",
       "\n",
       "          abs_coef  \n",
       "159   2.144079e+17  \n",
       "139   2.046929e+17  \n",
       "265   1.957943e+17  \n",
       "71    1.699130e+17  \n",
       "194   1.357079e+17  \n",
       "109   1.354030e+17  \n",
       "520   1.255164e+17  \n",
       "172   1.238563e+17  \n",
       "92    1.222166e+17  \n",
       "1887  1.213670e+17  \n",
       "127   1.131484e+17  \n",
       "68    1.115529e+17  \n",
       "1421  1.042504e+17  \n",
       "1185  9.828087e+16  \n",
       "85    9.761272e+16  \n",
       "1852  9.360631e+16  \n",
       "1930  9.352867e+16  \n",
       "1349  8.862483e+16  \n",
       "1534  8.723149e+16  \n",
       "266   8.453174e+16  \n",
       "155   8.394936e+16  \n",
       "1639  8.023143e+16  \n",
       "430   7.911518e+16  \n",
       "50    7.813845e+16  \n",
       "1384  7.688078e+16  \n",
       "435   7.585379e+16  \n",
       "558   7.224592e+16  \n",
       "19    7.173023e+16  \n",
       "428   7.152734e+16  \n",
       "196   6.801545e+16  \n",
       "...            ...  \n",
       "1732  0.000000e+00  \n",
       "1977  0.000000e+00  \n",
       "1730  0.000000e+00  \n",
       "1509  0.000000e+00  \n",
       "1508  0.000000e+00  \n",
       "1759  0.000000e+00  \n",
       "1499  0.000000e+00  \n",
       "1183  0.000000e+00  \n",
       "1779  0.000000e+00  \n",
       "1436  0.000000e+00  \n",
       "1116  0.000000e+00  \n",
       "1115  0.000000e+00  \n",
       "1194  0.000000e+00  \n",
       "1195  0.000000e+00  \n",
       "1196  0.000000e+00  \n",
       "1937  0.000000e+00  \n",
       "1772  0.000000e+00  \n",
       "1500  0.000000e+00  \n",
       "1761  0.000000e+00  \n",
       "1768  0.000000e+00  \n",
       "1767  0.000000e+00  \n",
       "1943  0.000000e+00  \n",
       "1505  0.000000e+00  \n",
       "1945  0.000000e+00  \n",
       "1425  0.000000e+00  \n",
       "1763  0.000000e+00  \n",
       "1206  0.000000e+00  \n",
       "1949  0.000000e+00  \n",
       "1112  0.000000e+00  \n",
       "1472  0.000000e+00  \n",
       "\n",
       "[2086 rows x 3 columns]"
      ]
     },
     "execution_count": 43,
     "metadata": {},
     "output_type": "execute_result"
    }
   ],
   "source": [
    "coef_dict = {'variable':X.columns, 'coef':lr.coef_}\n",
    "    \n",
    "# convert to df\n",
    "coef_df = pd.DataFrame(coef_dict)\n",
    "\n",
    "# make coefficients absolute values and sort in descending order\n",
    "coef_df['abs_coef'] = abs(coef_df['coef'])\n",
    "coef_df.sort_values(by='abs_coef', ascending=False, inplace=True)\n",
    "coef_df"
   ]
  },
  {
   "cell_type": "markdown",
   "metadata": {},
   "source": [
    "**Quick Random Forest Model**"
   ]
  },
  {
   "cell_type": "code",
   "execution_count": 44,
   "metadata": {},
   "outputs": [],
   "source": [
    "# Define a quick model\n",
    "rfr = RandomForestRegressor(n_estimators=50)\n",
    "\n",
    "# Cross validation score\n",
    "cv_scores = cross_val_score(rfr, Xs_train, y_train, cv=10)\n",
    "cv_r2_mean = np.mean(cv_scores)\n",
    "cv_r2_std = np.std(cv_scores)\n",
    "\n",
    "# Fit model and score on test\n",
    "rfr.fit(Xs_train, y_train)\n",
    "r2_train = rfr.score(Xs_train, y_train)\n",
    "r2_test = rfr.score(Xs_test, y_test)\n",
    "\n",
    "# Root mean squared error\n",
    "y_pred = rfr.predict(Xs_test)\n",
    "rmse = np.sqrt(metrics.mean_squared_error(y_test, y_pred))\n"
   ]
  },
  {
   "cell_type": "code",
   "execution_count": 45,
   "metadata": {},
   "outputs": [
    {
     "name": "stdout",
     "output_type": "stream",
     "text": [
      "RandomForestRegressor(bootstrap=True, criterion='mse', max_depth=None,\n",
      "           max_features='auto', max_leaf_nodes=None,\n",
      "           min_impurity_decrease=0.0, min_impurity_split=None,\n",
      "           min_samples_leaf=1, min_samples_split=2,\n",
      "           min_weight_fraction_leaf=0.0, n_estimators=50, n_jobs=1,\n",
      "           oob_score=False, random_state=None, verbose=0, warm_start=False)\n",
      "cv_scores:  [ 0.12065154  0.33943592  0.86175351 -0.35517497  0.72242633  0.20446467\n",
      "  0.10854069  0.49679639 -0.02717155  0.3740227 ]\n",
      "cv_r2_mean:  0.28457452311583714\n",
      "cv_r2_std:  0.3393582088074049\n",
      "r2_train:  0.9709365844791932\n",
      "r2_test:  0.6360244600034907\n",
      "rsme:  6215.603558403301\n"
     ]
    }
   ],
   "source": [
    "# Print results\n",
    "print(rfr)\n",
    "print('cv_scores: ', cv_scores)\n",
    "print('cv_r2_mean: ', cv_r2_mean)\n",
    "print('cv_r2_std: ', cv_r2_std)\n",
    "print('r2_train: ', r2_train)\n",
    "print('r2_test: ', r2_test)\n",
    "print('rsme: ', rmse)\n"
   ]
  },
  {
   "cell_type": "markdown",
   "metadata": {},
   "source": [
    "**Gridsearch the best Random Forest Regressor**"
   ]
  },
  {
   "cell_type": "code",
   "execution_count": 46,
   "metadata": {},
   "outputs": [],
   "source": [
    "# rfr_params = {\n",
    "#     'bootstrap': [True],\n",
    "#     'max_depth': [80, 90, 100],\n",
    "#     'max_features': [50, 100, 150],\n",
    "#     'min_samples_split': [8, 10, 12],\n",
    "#     'n_estimators': [100, 200, 300]\n",
    "# }\n",
    "\n",
    "# # Fit grid searcher to find best model\n",
    "# rfr_gridsearcher = GridSearchCV(RandomForestRegressor(), param_grid=rfr_params, cv=5, verbose=1, iid=True)\n",
    "# rfr_gridsearcher.fit(Xs_train, y_train)\n"
   ]
  },
  {
   "cell_type": "code",
   "execution_count": 47,
   "metadata": {},
   "outputs": [],
   "source": [
    "# # Save model in pickle\n",
    "\n",
    "# grd_rfr_name = 'rfr_grid.sav'\n",
    "# pickle.dump(rfr_gridsearcher, open(grd_rfr_name, 'wb'))\n"
   ]
  },
  {
   "cell_type": "code",
   "execution_count": 48,
   "metadata": {},
   "outputs": [
    {
     "name": "stdout",
     "output_type": "stream",
     "text": [
      "best estimator: RandomForestRegressor(bootstrap=True, criterion='mse', max_depth=80,\n",
      "           max_features=100, max_leaf_nodes=None,\n",
      "           min_impurity_decrease=0.0, min_impurity_split=None,\n",
      "           min_samples_leaf=1, min_samples_split=10,\n",
      "           min_weight_fraction_leaf=0.0, n_estimators=100, n_jobs=1,\n",
      "           oob_score=False, random_state=None, verbose=0, warm_start=False)\n",
      "mean cv r^2: 0.524875203409568\n",
      "r^2 test: 0.6113846341156695\n"
     ]
    }
   ],
   "source": [
    "# Load gridsearcher back\n",
    "best_grd_rfr = pickle.load(open('rfr_grid.sav', 'rb'))\n",
    "best_rfr = best_grd_rfr.best_estimator_\n",
    "result = best_rfr.score(Xs_test, y_test)\n",
    "\n",
    "print('best estimator:', best_rfr)\n",
    "print('mean cv r^2:', best_grd_rfr.best_score_)\n",
    "print('r^2 test:', result)"
   ]
  },
  {
   "cell_type": "markdown",
   "metadata": {},
   "source": [
    "## 1.6. Classification - Bag-of-words Model (Description)"
   ]
  },
  {
   "cell_type": "markdown",
   "metadata": {},
   "source": [
    "**Count Vectorize to make bag of words**"
   ]
  },
  {
   "cell_type": "code",
   "execution_count": 49,
   "metadata": {},
   "outputs": [
    {
     "data": {
      "text/plain": [
       "CountVectorizer(analyzer='word', binary=False, decode_error='strict',\n",
       "        dtype=<class 'numpy.int64'>, encoding='utf-8', input='content',\n",
       "        lowercase=True, max_df=0.9, max_features=None, min_df=0.1,\n",
       "        ngram_range=(1, 1), preprocessor=None,\n",
       "        stop_words=['never', 'ltd', 'hers', 'am', 'ever', 'formerly', 'ie', 'is', 'between', 'becoming', 'a', 'below', 'moreover', 'sincere', 'interest', 'from', 'thick', 'less', 'anyway', 'those', 'anyone', 'could', 'during', 'no', 'seem', 'namely', 'eg', 'as', 'nine', 'after', 'forty', 'own', 'part', 'it'...', 'former', 'fifty', 'any', 'show', 'upon', 'wherever', 'me', 'due', 'without', 'next', 'anything'],\n",
       "        strip_accents=None, token_pattern='(?u)\\\\b\\\\w\\\\w+\\\\b',\n",
       "        tokenizer=None, vocabulary=None)"
      ]
     },
     "execution_count": 49,
     "metadata": {},
     "output_type": "execute_result"
    }
   ],
   "source": [
    "# We want to apply count vectorizer on the descriptions column\n",
    "cvec = CountVectorizer(stop_words=stopwords, max_df=0.9, min_df=0.1)\n",
    "cvec.fit(mcf_clean['description'])\n"
   ]
  },
  {
   "cell_type": "code",
   "execution_count": 50,
   "metadata": {},
   "outputs": [],
   "source": [
    "# Define X and y\n",
    "X = pd.DataFrame(cvec.transform(mcf_clean['description']).todense(), columns=cvec.get_feature_names())\n",
    "y = mcf_clean['is_high_sal']\n"
   ]
  },
  {
   "cell_type": "code",
   "execution_count": 51,
   "metadata": {},
   "outputs": [
    {
     "name": "stdout",
     "output_type": "stream",
     "text": [
      "x shape: (1536, 320)\n",
      "y shape: (1536, 320)\n"
     ]
    }
   ],
   "source": [
    "# There are 1533 descriptions and 13678 possible words in those files\n",
    "print('x shape:', X.shape)\n",
    "print('y shape:', X.shape)"
   ]
  },
  {
   "cell_type": "code",
   "execution_count": 52,
   "metadata": {},
   "outputs": [
    {
     "data": {
      "text/html": [
       "<div>\n",
       "<style scoped>\n",
       "    .dataframe tbody tr th:only-of-type {\n",
       "        vertical-align: middle;\n",
       "    }\n",
       "\n",
       "    .dataframe tbody tr th {\n",
       "        vertical-align: top;\n",
       "    }\n",
       "\n",
       "    .dataframe thead th {\n",
       "        text-align: right;\n",
       "    }\n",
       "</style>\n",
       "<table border=\"1\" class=\"dataframe\">\n",
       "  <thead>\n",
       "    <tr style=\"text-align: right;\">\n",
       "      <th></th>\n",
       "      <th>perform</th>\n",
       "      <th>performance</th>\n",
       "      <th>plan</th>\n",
       "      <th>planning</th>\n",
       "      <th>plans</th>\n",
       "      <th>platform</th>\n",
       "      <th>platforms</th>\n",
       "      <th>player</th>\n",
       "      <th>plus</th>\n",
       "      <th>policies</th>\n",
       "    </tr>\n",
       "  </thead>\n",
       "  <tbody>\n",
       "    <tr>\n",
       "      <th>0</th>\n",
       "      <td>0</td>\n",
       "      <td>0</td>\n",
       "      <td>0</td>\n",
       "      <td>0</td>\n",
       "      <td>0</td>\n",
       "      <td>0</td>\n",
       "      <td>0</td>\n",
       "      <td>0</td>\n",
       "      <td>0</td>\n",
       "      <td>0</td>\n",
       "    </tr>\n",
       "    <tr>\n",
       "      <th>1</th>\n",
       "      <td>0</td>\n",
       "      <td>0</td>\n",
       "      <td>0</td>\n",
       "      <td>0</td>\n",
       "      <td>0</td>\n",
       "      <td>0</td>\n",
       "      <td>0</td>\n",
       "      <td>0</td>\n",
       "      <td>0</td>\n",
       "      <td>0</td>\n",
       "    </tr>\n",
       "    <tr>\n",
       "      <th>2</th>\n",
       "      <td>0</td>\n",
       "      <td>0</td>\n",
       "      <td>0</td>\n",
       "      <td>0</td>\n",
       "      <td>2</td>\n",
       "      <td>0</td>\n",
       "      <td>1</td>\n",
       "      <td>1</td>\n",
       "      <td>0</td>\n",
       "      <td>0</td>\n",
       "    </tr>\n",
       "    <tr>\n",
       "      <th>3</th>\n",
       "      <td>0</td>\n",
       "      <td>1</td>\n",
       "      <td>0</td>\n",
       "      <td>0</td>\n",
       "      <td>0</td>\n",
       "      <td>5</td>\n",
       "      <td>0</td>\n",
       "      <td>0</td>\n",
       "      <td>1</td>\n",
       "      <td>0</td>\n",
       "    </tr>\n",
       "    <tr>\n",
       "      <th>4</th>\n",
       "      <td>0</td>\n",
       "      <td>0</td>\n",
       "      <td>0</td>\n",
       "      <td>0</td>\n",
       "      <td>0</td>\n",
       "      <td>0</td>\n",
       "      <td>0</td>\n",
       "      <td>1</td>\n",
       "      <td>0</td>\n",
       "      <td>0</td>\n",
       "    </tr>\n",
       "  </tbody>\n",
       "</table>\n",
       "</div>"
      ],
      "text/plain": [
       "   perform  performance  plan  planning  plans  platform  platforms  player  \\\n",
       "0        0            0     0         0      0         0          0       0   \n",
       "1        0            0     0         0      0         0          0       0   \n",
       "2        0            0     0         0      2         0          1       1   \n",
       "3        0            1     0         0      0         5          0       0   \n",
       "4        0            0     0         0      0         0          0       1   \n",
       "\n",
       "   plus  policies  \n",
       "0     0         0  \n",
       "1     0         0  \n",
       "2     0         0  \n",
       "3     1         0  \n",
       "4     0         0  "
      ]
     },
     "execution_count": 52,
     "metadata": {},
     "output_type": "execute_result"
    }
   ],
   "source": [
    "# Each column is a word and the value is the number of times that the word appears in the file\n",
    "X.iloc[:5, 200:210]"
   ]
  },
  {
   "cell_type": "code",
   "execution_count": 53,
   "metadata": {},
   "outputs": [
    {
     "data": {
      "text/plain": [
       "experience      4865\n",
       "business        3419\n",
       "management      2725\n",
       "team            2700\n",
       "work            2653\n",
       "skills          2462\n",
       "requirements    1795\n",
       "knowledge       1723\n",
       "support         1723\n",
       "development     1685\n",
       "strong          1542\n",
       "working         1522\n",
       "project         1500\n",
       "ability         1479\n",
       "design          1419\n",
       "technical       1325\n",
       "years           1323\n",
       "analysis        1296\n",
       "develop         1244\n",
       "systems         1150\n",
       "dtype: int64"
      ]
     },
     "execution_count": 53,
     "metadata": {},
     "output_type": "execute_result"
    }
   ],
   "source": [
    "# Sum of each column, so the most common words amongst all files, top 20.\n",
    "X.sum().sort_values(ascending=False).head(20)"
   ]
  },
  {
   "cell_type": "code",
   "execution_count": 54,
   "metadata": {
    "scrolled": true
   },
   "outputs": [
    {
     "name": "stdout",
     "output_type": "stream",
     "text": [
      "Most Common Words For High Paying Jobs\n",
      "\n",
      "experience      3405\n",
      "business        2474\n",
      "management      1808\n",
      "team            1787\n",
      "work            1563\n",
      "skills          1539\n",
      "development     1227\n",
      "knowledge       1132\n",
      "requirements    1088\n",
      "strong          1054\n",
      "dtype: int64\n"
     ]
    }
   ],
   "source": [
    "print('Most Common Words For High Paying Jobs\\n')\n",
    "print(X[y==1].sum(axis=0).sort_values(ascending=False).head(10))"
   ]
  },
  {
   "cell_type": "code",
   "execution_count": 55,
   "metadata": {},
   "outputs": [
    {
     "name": "stdout",
     "output_type": "stream",
     "text": [
      "Most Common Words For Low Paying Jobs\n",
      "\n",
      "experience      1460\n",
      "work            1090\n",
      "business         945\n",
      "skills           923\n",
      "management       917\n",
      "team             913\n",
      "support          782\n",
      "requirements     707\n",
      "knowledge        591\n",
      "working          561\n",
      "dtype: int64\n"
     ]
    }
   ],
   "source": [
    "print('Most Common Words For Low Paying Jobs\\n')\n",
    "print(X[y==0].sum(axis=0).sort_values(ascending=False).head(10))"
   ]
  },
  {
   "cell_type": "code",
   "execution_count": 56,
   "metadata": {},
   "outputs": [],
   "source": [
    "# Split train and test\n",
    "X_train, X_test, y_train, y_test = train_test_split(X, y, test_size=0.3, random_state=1)\n"
   ]
  },
  {
   "cell_type": "code",
   "execution_count": 57,
   "metadata": {
    "scrolled": true
   },
   "outputs": [
    {
     "data": {
      "text/plain": [
       "241     0\n",
       "495     1\n",
       "857     0\n",
       "1250    0\n",
       "1204    1\n",
       "205     1\n",
       "841     1\n",
       "1004    1\n",
       "572     0\n",
       "940     0\n",
       "275     0\n",
       "1325    1\n",
       "1335    1\n",
       "986     0\n",
       "1084    1\n",
       "692     1\n",
       "979     0\n",
       "547     1\n",
       "62      0\n",
       "1370    0\n",
       "1233    0\n",
       "315     1\n",
       "1165    1\n",
       "1238    0\n",
       "1342    0\n",
       "1310    0\n",
       "815     0\n",
       "1439    1\n",
       "1172    0\n",
       "632     1\n",
       "       ..\n",
       "1502    1\n",
       "753     0\n",
       "1001    0\n",
       "1239    1\n",
       "580     1\n",
       "562     1\n",
       "398     1\n",
       "668     0\n",
       "1514    1\n",
       "252     0\n",
       "907     1\n",
       "468     0\n",
       "914     1\n",
       "357     1\n",
       "1278    1\n",
       "1300    0\n",
       "1202    1\n",
       "1305    0\n",
       "1414    1\n",
       "508     1\n",
       "749     1\n",
       "129     1\n",
       "144     0\n",
       "960     1\n",
       "847     1\n",
       "715     1\n",
       "905     0\n",
       "1096    0\n",
       "235     0\n",
       "1061    1\n",
       "Name: is_high_sal, Length: 1075, dtype: int64"
      ]
     },
     "execution_count": 57,
     "metadata": {},
     "output_type": "execute_result"
    }
   ],
   "source": [
    "y_train"
   ]
  },
  {
   "cell_type": "markdown",
   "metadata": {},
   "source": [
    "**Quick Logistic Regression**"
   ]
  },
  {
   "cell_type": "code",
   "execution_count": 58,
   "metadata": {},
   "outputs": [
    {
     "data": {
      "text/plain": [
       "0.6832971800433839"
      ]
     },
     "execution_count": 58,
     "metadata": {},
     "output_type": "execute_result"
    }
   ],
   "source": [
    "from sklearn.linear_model import LogisticRegression\n",
    "\n",
    "# Logistic regression model\n",
    "lr = LogisticRegression(solver='liblinear')\n",
    "# Fit model\n",
    "lr.fit(X_train, y_train)\n",
    "# Score model\n",
    "lr.score(X_test, y_test)"
   ]
  },
  {
   "cell_type": "code",
   "execution_count": 59,
   "metadata": {},
   "outputs": [
    {
     "name": "stdout",
     "output_type": "stream",
     "text": [
      "AUC:  0.7418427565200837\n"
     ]
    }
   ],
   "source": [
    "from sklearn.metrics import confusion_matrix, roc_curve, auc\n",
    "\n",
    "# Get the predicted probability vector and explicitly name the columns.\n",
    "lr_Y_pp = pd.DataFrame(lr.predict_proba(X_test), columns=['low_salary_pp', 'high_salary_pp'])\n",
    "\n",
    "# For class 1, find the area under the curve.\n",
    "fpr_1, tpr_1, _ = roc_curve(y_test, lr_Y_pp['high_salary_pp'])\n",
    "lr_roc_auc = auc(fpr_1, tpr_1)\n",
    "\n",
    "print('AUC: ', lr_roc_auc)"
   ]
  },
  {
   "cell_type": "markdown",
   "metadata": {},
   "source": [
    "**A Quick Random Forest Classifier**"
   ]
  },
  {
   "cell_type": "code",
   "execution_count": 60,
   "metadata": {},
   "outputs": [],
   "source": [
    "from sklearn.ensemble import RandomForestClassifier\n",
    "\n",
    "# Define a quick model\n",
    "rfc = RandomForestClassifier(n_estimators=50)\n",
    "\n",
    "# Cross validation score\n",
    "cv_scores = cross_val_score(rfc, X_train, y_train, cv=10)\n",
    "cv_acc_mean = np.mean(cv_scores)\n",
    "cv_acc_std = np.std(cv_scores)\n",
    "\n",
    "# Fit model and score on test\n",
    "rfc.fit(X_train, y_train)\n",
    "acc_train = rfc.score(X_train, y_train)\n",
    "acc_test = rfc.score(X_test, y_test)\n"
   ]
  },
  {
   "cell_type": "code",
   "execution_count": 61,
   "metadata": {},
   "outputs": [
    {
     "name": "stdout",
     "output_type": "stream",
     "text": [
      "RandomForestClassifier(bootstrap=True, class_weight=None, criterion='gini',\n",
      "            max_depth=None, max_features='auto', max_leaf_nodes=None,\n",
      "            min_impurity_decrease=0.0, min_impurity_split=None,\n",
      "            min_samples_leaf=1, min_samples_split=2,\n",
      "            min_weight_fraction_leaf=0.0, n_estimators=50, n_jobs=1,\n",
      "            oob_score=False, random_state=None, verbose=0,\n",
      "            warm_start=False)\n",
      "cv_scores:  [0.75229358 0.76851852 0.81481481 0.77777778 0.8411215  0.74766355\n",
      " 0.77570093 0.72897196 0.72897196 0.71962617]\n",
      "cv_acc_mean:  0.7655460763859118\n",
      "cv_acc_std:  0.03698649292097547\n",
      "acc_train:  0.9944186046511628\n",
      "acc_test:  0.754880694143167\n"
     ]
    }
   ],
   "source": [
    "# Print results\n",
    "print(rfc)\n",
    "print('cv_scores: ', cv_scores)\n",
    "print('cv_acc_mean: ', cv_acc_mean)\n",
    "print('cv_acc_std: ', cv_acc_std)\n",
    "print('acc_train: ', acc_train)\n",
    "print('acc_test: ', acc_test)\n"
   ]
  },
  {
   "cell_type": "markdown",
   "metadata": {},
   "source": [
    "**Random Forest Classifier with Gridsearch**"
   ]
  },
  {
   "cell_type": "code",
   "execution_count": 62,
   "metadata": {},
   "outputs": [],
   "source": [
    "# rfc_params = {\n",
    "#     'bootstrap': [True],\n",
    "#     'max_depth': [50, 60, 70],\n",
    "#     'max_features': [140, 150, 160],\n",
    "#     'min_samples_split': [6, 8, 10],\n",
    "#     'n_estimators': [80, 100, 120]\n",
    "# }\n",
    "\n",
    "# # Fit grid searcher to find best model\n",
    "# rfc_gridsearcher = GridSearchCV(RandomForestClassifier(), param_grid=rfc_params, cv=5, verbose=1, iid=True)\n",
    "# rfc_gridsearcher.fit(X_train, y_train)\n"
   ]
  },
  {
   "cell_type": "code",
   "execution_count": 63,
   "metadata": {},
   "outputs": [],
   "source": [
    "# # Save gridsearcher in pickle\n",
    "# pickle.dump(rfc_gridsearcher, open('rfc_grid_1.sav', 'wb'))\n"
   ]
  },
  {
   "cell_type": "code",
   "execution_count": 64,
   "metadata": {},
   "outputs": [],
   "source": [
    "# Load model back\n",
    "rfc_grid_1 = pickle.load(open('rfc_grid_1.sav', 'rb'))\n"
   ]
  },
  {
   "cell_type": "code",
   "execution_count": 65,
   "metadata": {},
   "outputs": [
    {
     "name": "stdout",
     "output_type": "stream",
     "text": [
      "best estimator:  RandomForestClassifier(bootstrap=True, class_weight=None, criterion='gini',\n",
      "            max_depth=50, max_features=140, max_leaf_nodes=None,\n",
      "            min_impurity_decrease=0.0, min_impurity_split=None,\n",
      "            min_samples_leaf=1, min_samples_split=10,\n",
      "            min_weight_fraction_leaf=0.0, n_estimators=120, n_jobs=1,\n",
      "            oob_score=False, random_state=None, verbose=0,\n",
      "            warm_start=False)\n",
      "best cv accuracy:  0.7804651162790698\n",
      "accuracy on train:  0.9813953488372092\n",
      "accuracy on test:  0.7418655097613883\n"
     ]
    }
   ],
   "source": [
    "# Define best random forest classifier\n",
    "rfc_1 = rfc_grid_1.best_estimator_\n",
    "\n",
    "# Fit model and score on test\n",
    "rfc_1.fit(X_train, y_train)\n",
    "acc_train = rfc_1.score(X_train, y_train)\n",
    "acc_test = rfc_1.score(X_test, y_test)\n",
    "\n",
    "print('best estimator: ', rfc_1)\n",
    "print('best cv accuracy: ', rfc_grid_1.best_score_)\n",
    "\n",
    "print('accuracy on train: ', acc_train)\n",
    "print('accuracy on test: ', acc_test)\n"
   ]
  },
  {
   "cell_type": "code",
   "execution_count": 66,
   "metadata": {},
   "outputs": [
    {
     "data": {
      "text/html": [
       "<div>\n",
       "<style scoped>\n",
       "    .dataframe tbody tr th:only-of-type {\n",
       "        vertical-align: middle;\n",
       "    }\n",
       "\n",
       "    .dataframe tbody tr th {\n",
       "        vertical-align: top;\n",
       "    }\n",
       "\n",
       "    .dataframe thead th {\n",
       "        text-align: right;\n",
       "    }\n",
       "</style>\n",
       "<table border=\"1\" class=\"dataframe\">\n",
       "  <thead>\n",
       "    <tr style=\"text-align: right;\">\n",
       "      <th></th>\n",
       "      <th>predicted_low_salary</th>\n",
       "      <th>predicted_high_salary</th>\n",
       "    </tr>\n",
       "  </thead>\n",
       "  <tbody>\n",
       "    <tr>\n",
       "      <th>low_salary</th>\n",
       "      <td>128</td>\n",
       "      <td>78</td>\n",
       "    </tr>\n",
       "    <tr>\n",
       "      <th>high_salary</th>\n",
       "      <td>41</td>\n",
       "      <td>214</td>\n",
       "    </tr>\n",
       "  </tbody>\n",
       "</table>\n",
       "</div>"
      ],
      "text/plain": [
       "             predicted_low_salary  predicted_high_salary\n",
       "low_salary                    128                     78\n",
       "high_salary                    41                    214"
      ]
     },
     "execution_count": 66,
     "metadata": {},
     "output_type": "execute_result"
    }
   ],
   "source": [
    "# Make predictions for confusion matrix\n",
    "y_pred = rfc_1.predict(X_test)\n",
    "\n",
    "conf_mat = pd.DataFrame(np.array(confusion_matrix(y_test, y_pred)),\n",
    "                                index=['low_salary', 'high_salary'],\n",
    "                                columns=['predicted_low_salary','predicted_high_salary'])\n",
    "conf_mat"
   ]
  },
  {
   "cell_type": "code",
   "execution_count": 67,
   "metadata": {},
   "outputs": [
    {
     "name": "stdout",
     "output_type": "stream",
     "text": [
      "AUC:  0.7981819912430991\n"
     ]
    }
   ],
   "source": [
    "# Get the predicted probability vector and explicitly name the columns.\n",
    "rfc_Y_pp = pd.DataFrame(rfc_1.predict_proba(X_test), columns=['low_salary_pp', 'high_salary_pp'])\n",
    "\n",
    "# For class 1, find the area under the curve.\n",
    "fpr_2, tpr_2, _ = roc_curve(y_test, rfc_Y_pp['high_salary_pp'])\n",
    "rfc_roc_auc = auc(fpr_2, tpr_2)\n",
    "\n",
    "print('AUC: ', rfc_roc_auc)"
   ]
  },
  {
   "cell_type": "code",
   "execution_count": 68,
   "metadata": {},
   "outputs": [
    {
     "data": {
      "image/png": "[encoded data removed]",
      "text/plain": [
       "<Figure size 720x720 with 1 Axes>"
      ]
     },
     "metadata": {
      "image/png": {
       "height": 605,
       "width": 663
      }
     },
     "output_type": "display_data"
    }
   ],
   "source": [
    "# Look at the feature importances\n",
    "rfc_fi = pd.DataFrame({\n",
    "        'feature':X_train.columns,\n",
    "        'importance':rfc_1.feature_importances_\n",
    "    })\n",
    "\n",
    "rfc_fi.sort_values('importance', ascending=True, inplace=True)\n",
    "rfc_fi = rfc_fi.tail(20)\n",
    "\n",
    "rfc_fi.plot(kind='barh', figsize=(10,10))\n",
    "plt.title('Feature Importances', pad=20, fontsize=15)\n",
    "plt.yticks(range((len(rfc_fi))), rfc_fi['feature'], fontsize=13)\n",
    "plt.show()"
   ]
  },
  {
   "cell_type": "markdown",
   "metadata": {},
   "source": [
    "**Quick XGBoost**"
   ]
  },
  {
   "cell_type": "code",
   "execution_count": 69,
   "metadata": {},
   "outputs": [],
   "source": [
    "import xgboost as xgb"
   ]
  },
  {
   "cell_type": "code",
   "execution_count": 70,
   "metadata": {
    "scrolled": true
   },
   "outputs": [
    {
     "name": "stderr",
     "output_type": "stream",
     "text": [
      "/anaconda3/lib/python3.6/site-packages/sklearn/preprocessing/label.py:151: DeprecationWarning: The truth value of an empty array is ambiguous. Returning False, but in future this will result in an error. Use `array.size > 0` to check that an array is not empty.\n",
      "  if diff:\n",
      "/anaconda3/lib/python3.6/site-packages/sklearn/preprocessing/label.py:151: DeprecationWarning: The truth value of an empty array is ambiguous. Returning False, but in future this will result in an error. Use `array.size > 0` to check that an array is not empty.\n",
      "  if diff:\n",
      "/anaconda3/lib/python3.6/site-packages/sklearn/preprocessing/label.py:151: DeprecationWarning: The truth value of an empty array is ambiguous. Returning False, but in future this will result in an error. Use `array.size > 0` to check that an array is not empty.\n",
      "  if diff:\n",
      "/anaconda3/lib/python3.6/site-packages/sklearn/preprocessing/label.py:151: DeprecationWarning: The truth value of an empty array is ambiguous. Returning False, but in future this will result in an error. Use `array.size > 0` to check that an array is not empty.\n",
      "  if diff:\n",
      "/anaconda3/lib/python3.6/site-packages/sklearn/preprocessing/label.py:151: DeprecationWarning: The truth value of an empty array is ambiguous. Returning False, but in future this will result in an error. Use `array.size > 0` to check that an array is not empty.\n",
      "  if diff:\n",
      "/anaconda3/lib/python3.6/site-packages/sklearn/preprocessing/label.py:151: DeprecationWarning: The truth value of an empty array is ambiguous. Returning False, but in future this will result in an error. Use `array.size > 0` to check that an array is not empty.\n",
      "  if diff:\n",
      "/anaconda3/lib/python3.6/site-packages/sklearn/preprocessing/label.py:151: DeprecationWarning: The truth value of an empty array is ambiguous. Returning False, but in future this will result in an error. Use `array.size > 0` to check that an array is not empty.\n",
      "  if diff:\n",
      "/anaconda3/lib/python3.6/site-packages/sklearn/preprocessing/label.py:151: DeprecationWarning: The truth value of an empty array is ambiguous. Returning False, but in future this will result in an error. Use `array.size > 0` to check that an array is not empty.\n",
      "  if diff:\n",
      "/anaconda3/lib/python3.6/site-packages/sklearn/preprocessing/label.py:151: DeprecationWarning: The truth value of an empty array is ambiguous. Returning False, but in future this will result in an error. Use `array.size > 0` to check that an array is not empty.\n",
      "  if diff:\n",
      "/anaconda3/lib/python3.6/site-packages/sklearn/preprocessing/label.py:151: DeprecationWarning: The truth value of an empty array is ambiguous. Returning False, but in future this will result in an error. Use `array.size > 0` to check that an array is not empty.\n",
      "  if diff:\n"
     ]
    },
    {
     "name": "stdout",
     "output_type": "stream",
     "text": [
      "XGBClassifier(base_score=0.5, booster='gbtree', colsample_bylevel=1,\n",
      "       colsample_bytree=1, gamma=0, learning_rate=0.1, max_delta_step=0,\n",
      "       max_depth=3, min_child_weight=1, missing=None, n_estimators=100,\n",
      "       n_jobs=1, nthread=None, objective='binary:logistic', random_state=0,\n",
      "       reg_alpha=0, reg_lambda=1, scale_pos_weight=1, seed=None,\n",
      "       silent=True, subsample=1)\n",
      "cv_scores:  [0.7706422  0.75       0.73148148 0.72222222 0.8411215  0.81308411\n",
      " 0.76635514 0.74766355 0.79439252 0.71028037]\n",
      "cv_acc_mean:  0.7647243101800247\n",
      "cv_acc_std:  0.03934032843373962\n",
      "acc_train:  0.9209302325581395\n",
      "acc_test:  0.7310195227765727\n"
     ]
    },
    {
     "name": "stderr",
     "output_type": "stream",
     "text": [
      "/anaconda3/lib/python3.6/site-packages/sklearn/preprocessing/label.py:151: DeprecationWarning: The truth value of an empty array is ambiguous. Returning False, but in future this will result in an error. Use `array.size > 0` to check that an array is not empty.\n",
      "  if diff:\n",
      "/anaconda3/lib/python3.6/site-packages/sklearn/preprocessing/label.py:151: DeprecationWarning: The truth value of an empty array is ambiguous. Returning False, but in future this will result in an error. Use `array.size > 0` to check that an array is not empty.\n",
      "  if diff:\n"
     ]
    }
   ],
   "source": [
    "# Define a quick model\n",
    "xgb_classifier = xgb.XGBClassifier()\n",
    "\n",
    "# Cross validation score\n",
    "cv_scores = cross_val_score(xgb_classifier, X_train, y_train, cv=10)\n",
    "cv_acc_mean = np.mean(cv_scores)\n",
    "cv_acc_std = np.std(cv_scores)\n",
    "\n",
    "# Fit model and score on test\n",
    "xgb_classifier.fit(X_train, y_train)\n",
    "acc_train = xgb_classifier.score(X_train, y_train)\n",
    "acc_test = xgb_classifier.score(X_test, y_test)\n",
    "\n",
    "# Print results\n",
    "print(xgb_classifier)\n",
    "print('cv_scores: ', cv_scores)\n",
    "print('cv_acc_mean: ', cv_acc_mean)\n",
    "print('cv_acc_std: ', cv_acc_std)\n",
    "print('acc_train: ', acc_train)\n",
    "print('acc_test: ', acc_test)\n"
   ]
  },
  {
   "cell_type": "code",
   "execution_count": 71,
   "metadata": {
    "scrolled": false
   },
   "outputs": [
    {
     "data": {
      "image/png": "[encoded data removed]",
      "text/plain": [
       "<Figure size 720x720 with 1 Axes>"
      ]
     },
     "metadata": {
      "image/png": {
       "height": 605,
       "width": 663
      }
     },
     "output_type": "display_data"
    }
   ],
   "source": [
    "# Look at the feature importances\n",
    "xgb_fi = pd.DataFrame({\n",
    "        'feature':X_train.columns,\n",
    "        'importance':xgb_classifier.feature_importances_\n",
    "    })\n",
    "\n",
    "xgb_fi.sort_values('importance', ascending=True, inplace=True)\n",
    "xgb_fi = xgb_fi.tail(20)\n",
    "\n",
    "xgb_fi.plot(kind='barh', figsize=(10,10))\n",
    "plt.title('Feature Importances', pad=20, fontsize=15)\n",
    "plt.yticks(range((len(rfc_fi))), rfc_fi['feature'], fontsize=13)\n",
    "plt.show()"
   ]
  },
  {
   "cell_type": "code",
   "execution_count": 72,
   "metadata": {},
   "outputs": [
    {
     "name": "stdout",
     "output_type": "stream",
     "text": [
      "AUC:  0.7904054825813821\n"
     ]
    }
   ],
   "source": [
    "# Get the predicted probability vector and explicitly name the columns.\n",
    "xgb_Y_pp = pd.DataFrame(xgb_classifier.predict_proba(X_test), columns=['low_salary_pp', 'high_salary_pp'])\n",
    "\n",
    "# For class 1, find the area under the curve.\n",
    "fpr_3, tpr_3, _ = roc_curve(y_test, xgb_Y_pp['high_salary_pp'])\n",
    "xgb_roc_auc = auc(fpr_3, tpr_3)\n",
    "\n",
    "print('AUC: ', xgb_roc_auc)"
   ]
  },
  {
   "cell_type": "markdown",
   "metadata": {},
   "source": [
    "## 1.7. Conclusion\n",
    "\n",
    "Random forest classifier with the job description is the best estimator for whether a job is high paying or low paying. Looking at feature importances, 'experience' is the strongest word that is indicative of a high paying job."
   ]
  },
  {
   "cell_type": "code",
   "execution_count": 73,
   "metadata": {},
   "outputs": [
    {
     "data": {
      "image/png": "[encoded data removed]",
      "text/plain": [
       "<Figure size 720x720 with 1 Axes>"
      ]
     },
     "metadata": {
      "image/png": {
       "height": 613,
       "width": 620
      }
     },
     "output_type": "display_data"
    }
   ],
   "source": [
    "# Plot of a ROC curve for class 1 - high salary\n",
    "plt.figure(figsize=(10,10))\n",
    "plt.plot(fpr_1, tpr_1, label='Logistic (AUC = {})'.format(round(lr_roc_auc, 2)), linewidth=4)\n",
    "plt.plot(fpr_2, tpr_2, label='Random Forest (AUC = {})'.format(round(rfc_roc_auc, 2)), linewidth=4)\n",
    "plt.plot(fpr_3, tpr_3, label='XGBoost (AUC = {})'.format(round(xgb_roc_auc, 2)), linewidth=4)\n",
    "\n",
    "plt.plot([0, 1], [0, 1], 'k--', linewidth=4)\n",
    "plt.xlim([-0.05, 1.0])\n",
    "plt.ylim([-0.05, 1.05])\n",
    "plt.xlabel('False Positive Rate', fontsize=18)\n",
    "plt.ylabel('True Positive Rate', fontsize=18)\n",
    "plt.title('High Salary Job', fontsize=18)\n",
    "plt.legend(loc=\"lower right\")\n",
    "plt.show()"
   ]
  },
  {
   "cell_type": "code",
   "execution_count": 74,
   "metadata": {},
   "outputs": [
    {
     "ename": "NameError",
     "evalue": "name 'interrupt' is not defined",
     "output_type": "error",
     "traceback": [
      "\u001b[0;31m---------------------------------------------------------------------------\u001b[0m",
      "\u001b[0;31mNameError\u001b[0m                                 Traceback (most recent call last)",
      "\u001b[0;32m<ipython-input-74-c2586d38278c>\u001b[0m in \u001b[0;36m<module>\u001b[0;34m()\u001b[0m\n\u001b[0;32m----> 1\u001b[0;31m \u001b[0minterrupt\u001b[0m\u001b[0;34m\u001b[0m\u001b[0;34m\u001b[0m\u001b[0m\n\u001b[0m",
      "\u001b[0;31mNameError\u001b[0m: name 'interrupt' is not defined"
     ]
    }
   ],
   "source": [
    "interrupt"
   ]
  },
  {
   "cell_type": "markdown",
   "metadata": {},
   "source": [
    "**ANN (Not Working - kernel always dies)**\n",
    "\n",
    "Tried using a quick neural net but kernel kept dying. Have a feeling that it has something to do with the input shape but could not figure it out in time. Any advice would be greatly appreciated."
   ]
  },
  {
   "cell_type": "code",
   "execution_count": 75,
   "metadata": {},
   "outputs": [
    {
     "name": "stderr",
     "output_type": "stream",
     "text": [
      "/anaconda3/lib/python3.6/site-packages/h5py/__init__.py:36: FutureWarning: Conversion of the second argument of issubdtype from `float` to `np.floating` is deprecated. In future, it will be treated as `np.float64 == np.dtype(float).type`.\n",
      "  from ._conv import register_converters as _register_converters\n",
      "Using TensorFlow backend.\n"
     ]
    }
   ],
   "source": [
    "import tensorflow as tf\n",
    "import keras\n",
    "from tensorflow.keras.models import Sequential\n",
    "from tensorflow.keras.layers import Dense, Activation\n"
   ]
  },
  {
   "cell_type": "code",
   "execution_count": 76,
   "metadata": {
    "scrolled": true
   },
   "outputs": [
    {
     "name": "stdout",
     "output_type": "stream",
     "text": [
      "(1075, 320)\n",
      "(1075,)\n"
     ]
    }
   ],
   "source": [
    "print(X_train.shape)\n",
    "print(y_train.shape)\n"
   ]
  },
  {
   "cell_type": "code",
   "execution_count": null,
   "metadata": {},
   "outputs": [],
   "source": [
    "# # Normalize data\n",
    "# X_train_ann = tf.keras.utils.normalize(X_train, axis=1)  # scales data between 0 and 1\n",
    "# X_test_ann = tf.keras.utils.normalize(X_test, axis=1)  # scales data between 0 and 1\n"
   ]
  },
  {
   "cell_type": "code",
   "execution_count": null,
   "metadata": {
    "scrolled": true
   },
   "outputs": [],
   "source": [
    "# X_train_ann_2 = X_train_ann.values.reshape(1075,-1,1)\n",
    "# # y_train_ann_2 = y_train.values.reshape(-1,1)\n",
    "# X_test_ann_2 = X_test_ann.values.reshape(461,-1,1)\n",
    "# # y_test_ann_2 = y_test.values.reshape(-1,1)\n",
    "\n",
    "# print(X_train_ann_2.shape)\n",
    "# # print(y_train_ann_2.shape)\n",
    "# print(X_test_ann_2.shape)\n",
    "# # print(y_test_ann_2.shape)\n"
   ]
  },
  {
   "cell_type": "code",
   "execution_count": null,
   "metadata": {},
   "outputs": [],
   "source": [
    "# X_train_ann.shape\n"
   ]
  },
  {
   "cell_type": "code",
   "execution_count": null,
   "metadata": {},
   "outputs": [],
   "source": [
    "# # Build model\n",
    "# ann = Sequential()\n",
    "\n",
    "# # Layer 1 - Dense layer with 50 nuerons, relu activation\n",
    "# ann.add(Dense(units = 50, input_dim=320, kernel_initializer = 'uniform', activation='relu'))\n",
    "\n",
    "# # Layer 2 - Dense layer with 50 nuerons, relu activation\n",
    "# ann.add(Dense(units = 50, kernel_initializer = 'uniform', activation='relu'))\n",
    "\n",
    "# # Output layer with activation function\n",
    "# ann.add(Dense(units=1, kernel_initializer = 'uniform', activation='sigmoid'))\n",
    "\n",
    "# # Compile model\n",
    "# ann.compile(loss='binary_crossentropy',   # Loss function is binary crossentropy because output is cat or dog\n",
    "#               optimizer='adam',           # Adam is an optimizer that is in place of stocastic gradient decent, complicated. But, it is still a way to optimize the loss function, i.e. reduce it\n",
    "#               metrics=['accuracy'])       # Accuracy to be optimized\n"
   ]
  },
  {
   "cell_type": "code",
   "execution_count": null,
   "metadata": {
    "scrolled": true
   },
   "outputs": [],
   "source": [
    "# # Fit model\n",
    "# ann.fit(X_train, y_train, epochs=3, batch_size=30, verbose=1)\n"
   ]
  },
  {
   "cell_type": "code",
   "execution_count": null,
   "metadata": {},
   "outputs": [],
   "source": [
    "# # Score on test\n",
    "# val_loss, val_acc = model.evaluate(X_test_ann_2, y_test_ann_2)\n",
    "# print(val_loss)\n",
    "# print(val_acc)\n"
   ]
  },
  {
   "cell_type": "markdown",
   "metadata": {},
   "source": [
    "# QUESTION 2: Factors that distinguish job category\n",
    "\n",
    "Using the job postings you scraped for part 1 (or potentially new job postings from a second round of scraping), identify features in the data related to job postings that can distinguish job titles from each other. There are a variety of interesting ways you can frame the target variable, for example:\n",
    "- What components of a job posting distinguish data scientists from other data jobs?\n",
    "- What features are important for distinguishing junior vs. senior positions?\n",
    "- Do the requirements for titles vary significantly with industry (e.g. healthcare vs. government)?\n",
    "\n",
    "You may end up making multiple classification models to tackle different questions. Be sure to clearly explain your hypotheses and framing, any feature engineering, and what your target variables are. The type of classification model you choose is up to you. Be sure to interpret your results and evaluate your models' performance.\n",
    "\n",
    "\n",
    "### BONUS PROBLEM\n",
    "\n",
    "Your boss would rather tell a client incorrectly that they would get a lower salary job than tell a client incorrectly that they would get a high salary job. Adjust one of your models to ease his mind, and explain what it is doing and any tradeoffs. Plot the ROC curve."
   ]
  },
  {
   "cell_type": "markdown",
   "metadata": {},
   "source": [
    "## 2.1. Topic Modeling with Job Descriptions"
   ]
  },
  {
   "cell_type": "code",
   "execution_count": null,
   "metadata": {},
   "outputs": [],
   "source": [
    "mcf_clean['description'].sample(3)\n"
   ]
  },
  {
   "cell_type": "code",
   "execution_count": null,
   "metadata": {},
   "outputs": [],
   "source": [
    "# Fit a count vectorizer on the descriptions columns\n",
    "cvec = CountVectorizer(stop_words=stopwords)\n",
    "X = cvec.fit_transform(mcf_clean['description'])"
   ]
  },
  {
   "cell_type": "markdown",
   "metadata": {},
   "source": [
    "**LDA using scikit-learn's decomposition submodule**"
   ]
  },
  {
   "cell_type": "code",
   "execution_count": null,
   "metadata": {},
   "outputs": [],
   "source": [
    "# Try first using scikit-learn's decomposition submodule\n",
    "from sklearn.decomposition import LatentDirichletAllocation\n",
    "\n",
    "lda = LatentDirichletAllocation(n_components=5, random_state=3)\n",
    "lda.fit(X)"
   ]
  },
  {
   "cell_type": "code",
   "execution_count": null,
   "metadata": {
    "scrolled": true
   },
   "outputs": [],
   "source": [
    "word_frequencies = pd.DataFrame({i:lda.components_[i] for i in range(len(lda.components_))}, \n",
    "                                index=cvec.get_feature_names())\n",
    "word_frequencies"
   ]
  },
  {
   "cell_type": "code",
   "execution_count": null,
   "metadata": {
    "scrolled": true
   },
   "outputs": [],
   "source": [
    "# Top words for topic 0\n",
    "word_frequencies[0].sort_values(ascending=False).head(10)\n",
    "\n",
    "# Topic 0: management "
   ]
  },
  {
   "cell_type": "code",
   "execution_count": null,
   "metadata": {},
   "outputs": [],
   "source": [
    "# Top words for topic 1\n",
    "word_frequencies[1].sort_values(ascending=False).head(10)\n",
    "\n",
    "# Topic 1: networks"
   ]
  },
  {
   "cell_type": "code",
   "execution_count": null,
   "metadata": {},
   "outputs": [],
   "source": [
    "# Top words for topic 2\n",
    "word_frequencies[2].sort_values(ascending=False).head(10)\n",
    "\n",
    "# Topic 2: business/marketing"
   ]
  },
  {
   "cell_type": "code",
   "execution_count": null,
   "metadata": {},
   "outputs": [],
   "source": [
    "# Top words for topic 3\n",
    "word_frequencies[3].sort_values(ascending=False).head(10)\n",
    "\n",
    "# Topic 3: analyst"
   ]
  },
  {
   "cell_type": "code",
   "execution_count": null,
   "metadata": {},
   "outputs": [],
   "source": [
    "# Top words for topic 4\n",
    "word_frequencies[4].sort_values(ascending=False).head(10)\n",
    "\n",
    "# Topic 4: research"
   ]
  },
  {
   "cell_type": "code",
   "execution_count": null,
   "metadata": {},
   "outputs": [],
   "source": [
    "plt.figure(figsize=(12,12))\n",
    "sns.heatmap(lda.transform(X)[:10], annot=True)\n",
    "plt.yticks(range(0,10), mcf_clean['title'][:10], rotation=0, fontsize=13)\n",
    "# plt.xticks(range(3), ['Technical','Business/Marketing','Financial/Accounting'], rotation=45, fontsize=13)\n",
    "plt.show()"
   ]
  },
  {
   "cell_type": "markdown",
   "metadata": {},
   "source": [
    "**LDA using GENSIM**"
   ]
  },
  {
   "cell_type": "code",
   "execution_count": null,
   "metadata": {},
   "outputs": [],
   "source": [
    "from gensim import corpora, models, matutils"
   ]
  },
  {
   "cell_type": "code",
   "execution_count": null,
   "metadata": {},
   "outputs": [],
   "source": [
    "# Create the vocab dictionary for GENSIM\n",
    "vocab = {x: i for i, x in cvec.vocabulary_.items()}\n",
    "vocab"
   ]
  },
  {
   "cell_type": "code",
   "execution_count": null,
   "metadata": {},
   "outputs": [],
   "source": [
    "# Set up lda model\n",
    "lda = models.LdaModel(\n",
    "    matutils.Sparse2Corpus(X, documents_columns=False),\n",
    "    num_topics  =  5,\n",
    "    passes      =  20,\n",
    "    id2word     =  vocab\n",
    ")"
   ]
  },
  {
   "cell_type": "code",
   "execution_count": null,
   "metadata": {},
   "outputs": [],
   "source": [
    "# Look at the topics - in this case we have only picked 3 topics\n",
    "for topic in lda.print_topics(num_topics=5, num_words=10):\n",
    "    print(topic)\n",
    "    print('')"
   ]
  },
  {
   "cell_type": "markdown",
   "metadata": {},
   "source": [
    "## 2.2. Topic Modelling with Job Roles"
   ]
  },
  {
   "cell_type": "code",
   "execution_count": null,
   "metadata": {
    "scrolled": true
   },
   "outputs": [],
   "source": [
    "mcf_clean['role'].value_counts()"
   ]
  },
  {
   "cell_type": "code",
   "execution_count": null,
   "metadata": {},
   "outputs": [],
   "source": [
    "# Fit a count vectorizer on the descriptions columns\n",
    "cvec = CountVectorizer(stop_words=stopwords)\n",
    "X = cvec.fit_transform(mcf_clean['role'])"
   ]
  },
  {
   "cell_type": "markdown",
   "metadata": {},
   "source": [
    "**LDA using scikit-learn's decomposition submodule**"
   ]
  },
  {
   "cell_type": "code",
   "execution_count": null,
   "metadata": {},
   "outputs": [],
   "source": [
    "# Try first using scikit-learn's decomposition submodule\n",
    "lda = LatentDirichletAllocation(n_components=3, random_state=1)\n",
    "lda.fit(X)"
   ]
  },
  {
   "cell_type": "code",
   "execution_count": null,
   "metadata": {},
   "outputs": [],
   "source": [
    "word_frequencies = pd.DataFrame({i:lda.components_[i] for i in range(len(lda.components_))}, \n",
    "                                index=cvec.get_feature_names())\n",
    "word_frequencies"
   ]
  },
  {
   "cell_type": "code",
   "execution_count": null,
   "metadata": {
    "scrolled": true
   },
   "outputs": [],
   "source": [
    "# Top words for topic 0\n",
    "word_frequencies[0].sort_values(ascending=False).head(10)\n",
    "\n",
    "# Topic 0 can be technical data roles"
   ]
  },
  {
   "cell_type": "code",
   "execution_count": null,
   "metadata": {},
   "outputs": [],
   "source": [
    "# Top words for topic 1\n",
    "word_frequencies[1].sort_values(ascending=False).head(10)\n",
    "\n",
    "# Topic 1 can be more business and marketing related roles"
   ]
  },
  {
   "cell_type": "code",
   "execution_count": null,
   "metadata": {},
   "outputs": [],
   "source": [
    "# Top words for topic 2\n",
    "word_frequencies[2].sort_values(ascending=False).head(10)\n",
    "\n",
    "# Topic 2 can be more finance/accounting roles"
   ]
  },
  {
   "cell_type": "code",
   "execution_count": null,
   "metadata": {},
   "outputs": [],
   "source": [
    "# # Top words for topic 3\n",
    "# word_frequencies[3].sort_values(ascending=False).head(10)\n",
    "\n",
    "# # Topic 3 can be more XXXX roles"
   ]
  },
  {
   "cell_type": "code",
   "execution_count": null,
   "metadata": {},
   "outputs": [],
   "source": [
    "# # Top words for topic 4\n",
    "# word_frequencies[4].sort_values(ascending=False).head(10)\n",
    "\n",
    "# # Topic 4 can be more XXXX roles"
   ]
  },
  {
   "cell_type": "code",
   "execution_count": null,
   "metadata": {},
   "outputs": [],
   "source": [
    "plt.figure(figsize=(12,12))\n",
    "sns.heatmap(lda.transform(X)[:10], annot=True)\n",
    "plt.yticks(range(0,10), mcf_clean['role'][:10], rotation=0, fontsize=13)\n",
    "# plt.xticks(range(3), ['Technical','Business/Marketing','Financial/Accounting'], rotation=45, fontsize=13)\n",
    "plt.show()"
   ]
  },
  {
   "cell_type": "markdown",
   "metadata": {},
   "source": [
    "**LDA using GENSIM**"
   ]
  },
  {
   "cell_type": "code",
   "execution_count": null,
   "metadata": {},
   "outputs": [],
   "source": [
    "# Create the vocab dictionary for GENSIM\n",
    "vocab = {x: i for i, x in cvec.vocabulary_.items()}\n",
    "vocab"
   ]
  },
  {
   "cell_type": "code",
   "execution_count": null,
   "metadata": {},
   "outputs": [],
   "source": [
    "# Set up lda model\n",
    "lda = models.LdaModel(\n",
    "    matutils.Sparse2Corpus(X, documents_columns=False),\n",
    "    num_topics  =  3,\n",
    "    passes      =  20,\n",
    "    id2word     =  vocab\n",
    ")"
   ]
  },
  {
   "cell_type": "code",
   "execution_count": null,
   "metadata": {},
   "outputs": [],
   "source": [
    "# Look at the topics - in this case we have only picked 3 topics\n",
    "for topic in lda.print_topics(num_topics=5, num_words=10):\n",
    "    print(topic)\n",
    "    print('')"
   ]
  },
  {
   "cell_type": "markdown",
   "metadata": {},
   "source": [
    "## 2.3. Modeling"
   ]
  },
  {
   "cell_type": "markdown",
   "metadata": {},
   "source": [
    "**Seniority as a Target**"
   ]
  },
  {
   "cell_type": "code",
   "execution_count": null,
   "metadata": {
    "scrolled": true
   },
   "outputs": [],
   "source": [
    "mcf_clean['role'] = mcf_clean['role'].apply(lambda x: x.replace(',',''))\n",
    "mcf_clean['role'].value_counts()"
   ]
  },
  {
   "cell_type": "code",
   "execution_count": null,
   "metadata": {},
   "outputs": [],
   "source": [
    "# Make classes for seniority\n",
    "s_list = []\n",
    "for seniority in mcf_clean['role']:  \n",
    "    \n",
    "    # 2 class for management positions\n",
    "    if 'senior management' in seniority.lower(): \n",
    "        s_list += [2]\n",
    "    elif 'middle management' in seniority.lower(): \n",
    "        s_list += [2]\n",
    "    elif 'manager' in seniority.lower(): \n",
    "        s_list += [2]\n",
    "    \n",
    "    # 1 class for mid level positions\n",
    "    elif 'senior executive' in seniority.lower(): \n",
    "        s_list += [1]\n",
    "    elif 'executive' in seniority.lower(): \n",
    "        s_list += [1]\n",
    "    elif 'none' in seniority.lower(): \n",
    "        s_list += [1]\n",
    "    \n",
    "    # 0 class for entry level positions\n",
    "    elif 'professional' in seniority.lower(): \n",
    "        s_list += [0]    \n",
    "    elif 'fresh/entry level' in seniority.lower(): \n",
    "        s_list += [0]\n",
    "    elif 'non-executive' in seniority.lower(): \n",
    "        s_list += [0]\n",
    "\n",
    "# Make new column\n",
    "mcf_clean['seniority'] = s_list"
   ]
  },
  {
   "cell_type": "code",
   "execution_count": null,
   "metadata": {},
   "outputs": [],
   "source": [
    "mcf_clean['seniority'].value_counts()"
   ]
  },
  {
   "cell_type": "markdown",
   "metadata": {},
   "source": [
    "**Defining New Target**"
   ]
  },
  {
   "cell_type": "code",
   "execution_count": null,
   "metadata": {},
   "outputs": [],
   "source": [
    "# We want to apply count vectorizer on the descriptions column\n",
    "cvec = CountVectorizer(stop_words=stopwords, max_df=0.9, min_df=0.1)\n",
    "cvec.fit(mcf_clean['description'])"
   ]
  },
  {
   "cell_type": "code",
   "execution_count": null,
   "metadata": {},
   "outputs": [],
   "source": [
    "# Define X and y\n",
    "X = pd.DataFrame(cvec.transform(mcf_clean['description']).todense(), columns=cvec.get_feature_names())\n",
    "y_2 = mcf_clean['seniority']"
   ]
  },
  {
   "cell_type": "code",
   "execution_count": null,
   "metadata": {},
   "outputs": [],
   "source": [
    "# Split train and test\n",
    "X_train, X_test, y_train, y_test = train_test_split(X, y_2, test_size=0.3, random_state=1, stratify=y_2)"
   ]
  },
  {
   "cell_type": "code",
   "execution_count": null,
   "metadata": {},
   "outputs": [],
   "source": [
    "print('Most Common Words Management Jobs - Class 3\\n')\n",
    "print(X[y_2==2].sum(axis=0).sort_values(ascending=False).head(10))"
   ]
  },
  {
   "cell_type": "code",
   "execution_count": null,
   "metadata": {},
   "outputs": [],
   "source": [
    "print('Most Common Words Executive Jobs - Class 2\\n')\n",
    "print(X[y_2==1].sum(axis=0).sort_values(ascending=False).head(10))"
   ]
  },
  {
   "cell_type": "code",
   "execution_count": null,
   "metadata": {},
   "outputs": [],
   "source": [
    "print('Most Common Words Entry Level Jobs - Class 1\\n')\n",
    "print(X[y_2==0].sum(axis=0).sort_values(ascending=False).head(10))"
   ]
  },
  {
   "cell_type": "markdown",
   "metadata": {},
   "source": [
    "**Quick Logistic Regression**"
   ]
  },
  {
   "cell_type": "code",
   "execution_count": null,
   "metadata": {},
   "outputs": [],
   "source": [
    "# Logistic regression model\n",
    "lr = LogisticRegression(solver='liblinear')\n",
    "# Fit model\n",
    "lr.fit(X_train, y_train)\n",
    "# Score model\n",
    "lr.score(X_test, y_test)"
   ]
  },
  {
   "cell_type": "code",
   "execution_count": null,
   "metadata": {},
   "outputs": [],
   "source": [
    "# Make predictions for confusion matrix\n",
    "y_pred = lr.predict(X_test)\n",
    "\n",
    "conf_mat = pd.DataFrame(np.array(confusion_matrix(y_test, y_pred)),\n",
    "                                index=['entry','executive','management'],\n",
    "                                columns=['pred_entry','pred_executive','pred_management'])\n",
    "conf_mat"
   ]
  },
  {
   "cell_type": "markdown",
   "metadata": {},
   "source": [
    "**A Quick Random Forest Classifier**"
   ]
  },
  {
   "cell_type": "code",
   "execution_count": null,
   "metadata": {},
   "outputs": [],
   "source": [
    "# Define a quick model\n",
    "rfc = RandomForestClassifier(n_estimators=50)\n",
    "\n",
    "# Cross validation score\n",
    "cv_scores = cross_val_score(rfc, X_train, y_train, cv=10)\n",
    "cv_acc_mean = np.mean(cv_scores)\n",
    "cv_acc_std = np.std(cv_scores)\n",
    "\n",
    "# Fit model and score on test\n",
    "rfc.fit(X_train, y_train)\n",
    "acc_train = rfc.score(X_train, y_train)\n",
    "acc_test = rfc.score(X_test, y_test)"
   ]
  },
  {
   "cell_type": "code",
   "execution_count": null,
   "metadata": {},
   "outputs": [],
   "source": [
    "# Print results\n",
    "print(rfc)\n",
    "print('cv_scores: ', cv_scores)\n",
    "print('cv_acc_mean: ', cv_acc_mean)\n",
    "print('cv_acc_std: ', cv_acc_std)\n",
    "print('acc_train: ', acc_train)\n",
    "print('acc_test: ', acc_test)"
   ]
  },
  {
   "cell_type": "code",
   "execution_count": null,
   "metadata": {},
   "outputs": [],
   "source": [
    "# Make predictions for confusion matrix\n",
    "y_pred = rfc.predict(X_test)\n",
    "\n",
    "conf_mat = pd.DataFrame(np.array(confusion_matrix(y_test, y_pred)),\n",
    "                                index=['entry','executive','management'],\n",
    "                                columns=['pred_entry','pred_executive','pred_management'])\n",
    "conf_mat"
   ]
  },
  {
   "cell_type": "markdown",
   "metadata": {},
   "source": [
    "**Random Forest Classifier with Gridsearch**"
   ]
  },
  {
   "cell_type": "code",
   "execution_count": null,
   "metadata": {},
   "outputs": [],
   "source": [
    "# rfc_params = {\n",
    "#     'bootstrap': [True],\n",
    "#     'max_depth': [50, 60, 70, 80],\n",
    "#     'max_features': [140, 150, 160, 170],\n",
    "#     'min_samples_split': [8, 10, 12],\n",
    "#     'n_estimators': [80, 100, 120]\n",
    "# }\n",
    "\n",
    "# # Fit grid searcher to find best model\n",
    "# rfc_gridsearcher_2 = GridSearchCV(RandomForestClassifier(), param_grid=rfc_params, cv=5, verbose=1, iid=True)\n",
    "# rfc_gridsearcher_2.fit(X_train, y_train)"
   ]
  },
  {
   "cell_type": "code",
   "execution_count": null,
   "metadata": {},
   "outputs": [],
   "source": [
    "# # Save gridsearcher in pickle\n",
    "# pickle.dump(rfc_gridsearcher_2, open('rfc_grid_2.sav', 'wb'))"
   ]
  },
  {
   "cell_type": "code",
   "execution_count": null,
   "metadata": {},
   "outputs": [],
   "source": [
    "# Load model back\n",
    "rfc_grid_2 = pickle.load(open('rfc_grid_2.sav', 'rb'))"
   ]
  },
  {
   "cell_type": "code",
   "execution_count": null,
   "metadata": {},
   "outputs": [],
   "source": [
    "# Define best random forest classifier\n",
    "rfc_2 = rfc_grid_2.best_estimator_\n",
    "\n",
    "# Fit model and score on test\n",
    "rfc_2.fit(X_train, y_train)\n",
    "acc_train = rfc_2.score(X_train, y_train)\n",
    "acc_test = rfc_2.score(X_test, y_test)\n",
    "\n",
    "print('best estimator: ', rfc_2)\n",
    "print('best cv accuracy: ', rfc_grid_2.best_score_)\n",
    "\n",
    "print('accuracy on train: ', acc_train)\n",
    "print('accuracy on test: ', acc_test)"
   ]
  },
  {
   "cell_type": "code",
   "execution_count": null,
   "metadata": {},
   "outputs": [],
   "source": [
    "# Make predictions for confusion matrix\n",
    "y_pred = rfc_2.predict(X_test)\n",
    "\n",
    "conf_mat = pd.DataFrame(np.array(confusion_matrix(y_test, y_pred)),\n",
    "                                index=['entry','executive','management'],\n",
    "                                columns=['pred_entry','pred_executive','pred_management'])\n",
    "conf_mat"
   ]
  },
  {
   "cell_type": "code",
   "execution_count": null,
   "metadata": {},
   "outputs": [],
   "source": [
    "# Look at the feature importances\n",
    "rfc_fi = pd.DataFrame({\n",
    "        'feature':X_train.columns,\n",
    "        'importance':rfc_2.feature_importances_\n",
    "    })\n",
    "\n",
    "rfc_fi.sort_values('importance', ascending=True, inplace=True)\n",
    "rfc_fi = rfc_fi.tail(20)\n",
    "\n",
    "rfc_fi.plot(kind='barh', figsize=(10,10))\n",
    "plt.title('Feature Importances', pad=20, fontsize=15)\n",
    "plt.yticks(range((len(rfc_fi))), rfc_fi['feature'], fontsize=13)\n",
    "plt.show()"
   ]
  },
  {
   "cell_type": "markdown",
   "metadata": {},
   "source": [
    "## 2.4. Conclusion\n",
    "\n",
    "Random forest is our best predictor. "
   ]
  },
  {
   "cell_type": "code",
   "execution_count": null,
   "metadata": {},
   "outputs": [],
   "source": []
  },
  {
   "cell_type": "code",
   "execution_count": null,
   "metadata": {},
   "outputs": [],
   "source": []
  },
  {
   "cell_type": "code",
   "execution_count": null,
   "metadata": {},
   "outputs": [],
   "source": []
  },
  {
   "cell_type": "code",
   "execution_count": null,
   "metadata": {},
   "outputs": [],
   "source": []
  }
 ],
 "metadata": {
  "kernelspec": {
   "display_name": "Python 3",
   "language": "python",
   "name": "python3"
  },
  "language_info": {
   "codemirror_mode": {
    "name": "ipython",
    "version": 3
   },
   "file_extension": ".py",
   "mimetype": "text/x-python",
   "name": "python",
   "nbconvert_exporter": "python",
   "pygments_lexer": "ipython3",
   "version": "3.6.8"
  }
 },
 "nbformat": 4,
 "nbformat_minor": 2
}
