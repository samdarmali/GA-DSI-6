{
 "cells": [
  {
   "cell_type": "markdown",
   "metadata": {},
   "source": [
    "# Surprise (Matrix Factorization)"
   ]
  },
  {
   "cell_type": "code",
   "execution_count": 1,
   "metadata": {},
   "outputs": [],
   "source": [
    "# Import standard libraries\n",
    "import numpy as np\n",
    "import math\n",
    "import scipy.stats as stats\n",
    "import seaborn as sns\n",
    "import matplotlib.pyplot as plt\n",
    "import pandas as pd\n",
    "import sqlite3\n",
    "from collections import Counter\n",
    "import time\n",
    "from collections import defaultdict\n",
    "\n",
    "# Import packages from Surprise\n",
    "from surprise import SVDpp, SVD\n",
    "from surprise import Dataset\n",
    "from surprise import accuracy\n",
    "from surprise.model_selection import train_test_split\n",
    "from surprise import Reader\n",
    "from surprise.model_selection import GridSearchCV\n",
    "from surprise.model_selection import cross_validate\n",
    "\n",
    "# Import sklearn packages\n",
    "from sklearn.metrics import confusion_matrix, pairwise_distances, mean_squared_error\n",
    "from sklearn import metrics\n",
    "\n",
    "sns.set_style('whitegrid')\n",
    "\n",
    "%config InlineBackend.figure_format = 'retina'\n",
    "%matplotlib inline\n"
   ]
  },
  {
   "cell_type": "markdown",
   "metadata": {},
   "source": [
    "### Functions"
   ]
  },
  {
   "cell_type": "code",
   "execution_count": 2,
   "metadata": {},
   "outputs": [],
   "source": [
    "def train_test_convert(train_df, test_df):\n",
    "    '''\n",
    "    Function that converts train and test dataframes into\n",
    "    train and test objects that Surpise can read.\n",
    "    \n",
    "    Arguments:\n",
    "    - train_df  :  train dataframe (\"customer_id\", \"product_title\", \"star_rating\") \n",
    "    - test_df   :  test dataframe (\"customer_id\", \"product_title\", \"star_rating\")\n",
    "    \n",
    "    Returns:\n",
    "    - trainset  :  train_df as trainset object\n",
    "    - testset   :  test_df as list of tuples\n",
    "    '''\n",
    "    # Convert train\n",
    "    # A reader is still needed but only the rating_scale param is requiered.\n",
    "    reader = Reader(rating_scale=(1, 5))\n",
    "    # The columns must correspond to user id, item id and ratings (in that order).\n",
    "    data = Dataset.load_from_df(train_df[['customer_id', 'product_title', 'star_rating']], reader)\n",
    "    trainset = data.build_full_trainset()\n",
    "    \n",
    "    # Convert test\n",
    "    test_df['star_rating'] = test_df['star_rating'].astype('float64')\n",
    "    testset = [tuple(x) for x in test_df.values]\n",
    "    \n",
    "    return trainset, testset, data\n",
    "    "
   ]
  },
  {
   "cell_type": "code",
   "execution_count": 3,
   "metadata": {},
   "outputs": [],
   "source": [
    "def get_n_recommendations(predictions, n=10):\n",
    "    '''\n",
    "    Return the top-n recommendations for each user from a set of predictions.\n",
    "\n",
    "    Arguments:\n",
    "    - predictions  :  list of prediction objects, returned by the algorithm (algo).\n",
    "    - n            :  Number of recommendations to output for each user.\n",
    "\n",
    "    Returns:\n",
    "    - top_n        :  A dictionary where keys are user ids and values are lists of tuples of size n.\n",
    "    '''\n",
    "    \n",
    "    # First map the predictions to each user.\n",
    "    top_n = defaultdict(list)\n",
    "    for uid, iid, true_r, est, _ in predictions:\n",
    "        top_n[uid].append((iid, est))\n",
    "\n",
    "    # Then sort the predictions for each user and retrieve the k highest ones.\n",
    "    for uid, user_ratings in top_n.items():\n",
    "        user_ratings.sort(key=lambda x: x[1], reverse=True)\n",
    "        top_n[uid] = user_ratings[:n]\n",
    "\n",
    "    return top_n\n"
   ]
  },
  {
   "cell_type": "code",
   "execution_count": 4,
   "metadata": {
    "scrolled": false
   },
   "outputs": [],
   "source": [
    "def print_customer_prof(customer, train_df, test_df, top_n):\n",
    "    '''\n",
    "    Function which looks at an example of a user's ratings and recommendations made\n",
    "    \n",
    "    Arguments:\n",
    "    - customer  :  customer id\n",
    "    - train_df  :  train dataframe\n",
    "    - test_df   :  test dataframe\n",
    "    - top_n     :  dictionary of predictions \n",
    "    \n",
    "    Prints:\n",
    "    - customer's pre-2014 ratings\n",
    "    - customer's post-2014 ratings\n",
    "    - recommendations\n",
    "    '''\n",
    "\n",
    "    print('Pre-2014 selections (customer id - {}):'.format(customer))\n",
    "    print(train_df[train_df['customer_id']==customer][['product_title','star_rating']])\n",
    "    \n",
    "    print('\\nPost-2014 selections (customer id - {}):'.format(customer))\n",
    "    print(test_df[test_df['customer_id']==customer][['product_title','star_rating']])\n",
    "    \n",
    "    print('\\nRecommendations:')\n",
    "    for i in top_n[customer]:\n",
    "        print(i[0])"
   ]
  },
  {
   "cell_type": "code",
   "execution_count": 5,
   "metadata": {},
   "outputs": [],
   "source": [
    "def evaluate_recall(top_n_recs, testset, threshold=4.0):\n",
    "    '''\n",
    "    Function which calculates the average recall score of the test set.\n",
    "    Recall here is defined as the number of recommendations the user actually liked in the test set.\n",
    "    \n",
    "    Arguments:\n",
    "    - top_n_recs  :  dictionary of top N predictions for all users\n",
    "    - testset     :  test_df as list of tuples \n",
    "    - threshold   :  what is considered a like by a customer\n",
    "    \n",
    "    Returns:\n",
    "    - ave_recall  :  average recall score across all test users\n",
    "    '''\n",
    "    \n",
    "    # Convert testset into dictionary with user as key and items they rated as values\n",
    "    test_dict = defaultdict(list)\n",
    "    for uid, iid, r in testset:\n",
    "        test_dict[uid].append((iid, r))\n",
    "    \n",
    "    hit_list = []\n",
    "    for user, ratings in test_dict.items():\n",
    "\n",
    "        actual_liked = [i for i, r in ratings if r >= threshold]\n",
    "        preds = [i[0] for i in top_n[user]]\n",
    "\n",
    "        hits = (set(actual_liked) & set(preds))\n",
    "\n",
    "        hit_rate = len(hits)/len(preds)\n",
    "        hit_list.append(hit_rate)\n",
    "    \n",
    "    ave_recall = np.mean(hit_list)\n",
    "    \n",
    "    return ave_recall"
   ]
  },
  {
   "cell_type": "code",
   "execution_count": 6,
   "metadata": {},
   "outputs": [],
   "source": [
    "def evaluate_map(top_n_recs, testset, threshold=4.0):\n",
    "    '''\n",
    "    Function which calculates the mean average precision (MAP) for each user and returns the mean of these values\n",
    "    \n",
    "    Arguments:\n",
    "    - top_n_recs  :  dictionary of top N predictions for all users\n",
    "    - testset     :  test_df as list of tuples \n",
    "    - threshold   :  what is considered a like by a customer\n",
    "    \n",
    "    Returns:\n",
    "    - mean_map  :  mean MAP across all users\n",
    "    '''\n",
    "    \n",
    "    # Convert testset into dictionary with user as key and items they rated as values\n",
    "    test_dict = defaultdict(list)\n",
    "    for uid, iid, r in testset:\n",
    "        test_dict[uid].append((iid, r))\n",
    "    \n",
    "    aps = []\n",
    "    for user, ratings in test_dict.items():\n",
    "\n",
    "        actual_liked = [i for i, r in ratings if r >= threshold]\n",
    "        recommendations = [i[0] for i in top_n_recs[user]]\n",
    "        \n",
    "        precisions = []\n",
    "        recalls = []\n",
    "        for i, rec in enumerate(recommendations):\n",
    "            \n",
    "            hits = (set(actual_liked) & set(recommendations[:i+1]))\n",
    "            prec = len(hits)/(i+1)\n",
    "            \n",
    "            if len(hits) >= 1:\n",
    "                change_recall = 1/len(actual_liked)\n",
    "            else:\n",
    "                change_recall = 0\n",
    "            \n",
    "            precisions.append(prec)\n",
    "            recalls.append(change_recall)\n",
    "\n",
    "        ap = np.sum([prec * chg_rec for prec, chg_rec in zip(precisions, recalls)])\n",
    "        aps.append(ap)\n",
    "    \n",
    "    mean_map = np.mean(aps)\n",
    "    \n",
    "    return mean_map"
   ]
  },
  {
   "cell_type": "code",
   "execution_count": 7,
   "metadata": {},
   "outputs": [],
   "source": [
    "def new_recommendations(new_products, orig_data, algo):\n",
    "    '''\n",
    "    Function that takes in a list of new products and returns recommendations.\n",
    "    \n",
    "    Arguments:\n",
    "    - new_products   :  list of products chosen by new user\n",
    "    - orig_data      :  original dataframe of users, items and ratings\n",
    "    \n",
    "    Returns:\n",
    "    - recs_df        :  dataframe of recommendations\n",
    "    '''\n",
    "    # Append new customer to data\n",
    "    new_data = pd.DataFrame({'customer_id':[1]*len(new_products), \n",
    "                             'product_title':new_products, \n",
    "                             'star_rating':[5]*len(new_products)})\n",
    "    full_data = pd.concat([new_data, orig_data]).reset_index(drop=True)\n",
    "    \n",
    "    # A reader is still needed but only the rating_scale param is requiered.\n",
    "    reader = Reader(rating_scale=(1, 5))\n",
    "\n",
    "    # The columns must correspond to user id, item id and ratings (in that order)\n",
    "    data = Dataset.load_from_df(full_data[['customer_id', 'product_title', 'star_rating']], reader)\n",
    "    \n",
    "    # Convert to surprise.trainset.Trainset object\n",
    "    trainset = data.build_full_trainset()\n",
    "    \n",
    "    # Train model\n",
    "    algo.fit(trainset)\n",
    "    \n",
    "    # Recommendations dictionary to convert into datframe\n",
    "    recommendations = {'items': [], 'rating': []}\n",
    "    \n",
    "    for item in orig_data['product_title'].unique():\n",
    "        rating = algo.predict(1, item, verbose=False)[3]\n",
    "        recommendations['items'].append(item)\n",
    "        recommendations['rating'].append(rating)\n",
    "    \n",
    "    recs_df = pd.DataFrame(recommendations).sort_values(by='rating', ascending=False)\n",
    "    \n",
    "    return recs_df"
   ]
  },
  {
   "cell_type": "markdown",
   "metadata": {},
   "source": [
    "### Load in Data"
   ]
  },
  {
   "cell_type": "code",
   "execution_count": 8,
   "metadata": {},
   "outputs": [
    {
     "name": "stdout",
     "output_type": "stream",
     "text": [
      "(33514, 3)\n"
     ]
    },
    {
     "data": {
      "text/html": [
       "<div>\n",
       "<style scoped>\n",
       "    .dataframe tbody tr th:only-of-type {\n",
       "        vertical-align: middle;\n",
       "    }\n",
       "\n",
       "    .dataframe tbody tr th {\n",
       "        vertical-align: top;\n",
       "    }\n",
       "\n",
       "    .dataframe thead th {\n",
       "        text-align: right;\n",
       "    }\n",
       "</style>\n",
       "<table border=\"1\" class=\"dataframe\">\n",
       "  <thead>\n",
       "    <tr style=\"text-align: right;\">\n",
       "      <th></th>\n",
       "      <th>customer_id</th>\n",
       "      <th>product_title</th>\n",
       "      <th>star_rating</th>\n",
       "    </tr>\n",
       "  </thead>\n",
       "  <tbody>\n",
       "    <tr>\n",
       "      <th>0</th>\n",
       "      <td>52125818</td>\n",
       "      <td>Battlefield 4</td>\n",
       "      <td>2</td>\n",
       "    </tr>\n",
       "    <tr>\n",
       "      <th>1</th>\n",
       "      <td>11725302</td>\n",
       "      <td>Battlefield 4</td>\n",
       "      <td>4</td>\n",
       "    </tr>\n",
       "    <tr>\n",
       "      <th>2</th>\n",
       "      <td>17479613</td>\n",
       "      <td>Battlefield 4</td>\n",
       "      <td>4</td>\n",
       "    </tr>\n",
       "    <tr>\n",
       "      <th>3</th>\n",
       "      <td>14460182</td>\n",
       "      <td>Battlefield 4</td>\n",
       "      <td>4</td>\n",
       "    </tr>\n",
       "    <tr>\n",
       "      <th>4</th>\n",
       "      <td>38739728</td>\n",
       "      <td>Battlefield 4</td>\n",
       "      <td>3</td>\n",
       "    </tr>\n",
       "  </tbody>\n",
       "</table>\n",
       "</div>"
      ],
      "text/plain": [
       "   customer_id  product_title  star_rating\n",
       "0     52125818  Battlefield 4            2\n",
       "1     11725302  Battlefield 4            4\n",
       "2     17479613  Battlefield 4            4\n",
       "3     14460182  Battlefield 4            4\n",
       "4     38739728  Battlefield 4            3"
      ]
     },
     "execution_count": 8,
     "metadata": {},
     "output_type": "execute_result"
    }
   ],
   "source": [
    "# Read in Data\n",
    "sqlite_db = 'datasets/amzn_vg_clean.db'\n",
    "conn = sqlite3.connect(sqlite_db) \n",
    "\n",
    "query = '''\n",
    "SELECT \"customer_id\", \"product_title\", \"star_rating\"\n",
    "FROM full_dataset\n",
    "'''\n",
    "\n",
    "whole = pd.read_sql(query, con=conn)\n",
    "print(whole.shape)\n",
    "whole.head()"
   ]
  },
  {
   "cell_type": "code",
   "execution_count": 9,
   "metadata": {},
   "outputs": [
    {
     "name": "stdout",
     "output_type": "stream",
     "text": [
      "13289\n",
      "224\n"
     ]
    }
   ],
   "source": [
    "# See number of unique users and products\n",
    "print(len(whole['customer_id'].unique()))\n",
    "print(len(whole['product_title'].unique()))"
   ]
  },
  {
   "cell_type": "code",
   "execution_count": 10,
   "metadata": {},
   "outputs": [
    {
     "name": "stdout",
     "output_type": "stream",
     "text": [
      "(28830, 3)\n",
      "(4684, 3)\n"
     ]
    }
   ],
   "source": [
    "# Read in train and test sets\n",
    "sqlite_db = 'datasets/amzn_vg_clean.db'\n",
    "conn = sqlite3.connect(sqlite_db) \n",
    "\n",
    "train_query = '''\n",
    "SELECT \"customer_id\", \"product_title\", \"star_rating\"\n",
    "FROM trainset\n",
    "'''\n",
    "test_query = '''\n",
    "SELECT \"customer_id\", \"product_title\", \"star_rating\"\n",
    "FROM testset\n",
    "'''\n",
    "\n",
    "train_df = pd.read_sql(train_query, con=conn)\n",
    "test_df = pd.read_sql(test_query, con=conn)\n",
    "print(train_df.shape)\n",
    "print(test_df.shape)\n"
   ]
  },
  {
   "cell_type": "code",
   "execution_count": 11,
   "metadata": {},
   "outputs": [],
   "source": [
    "# Split train and test\n",
    "trainset, testset, data = train_test_convert(train_df, test_df)"
   ]
  },
  {
   "cell_type": "markdown",
   "metadata": {},
   "source": [
    "## 1. SVD \n",
    "\n",
    "The famous *SVD* algorithm, as popularized by `Simon Funk <http://sifter.org/~simon/journal/20061211.html>` during the Netflix Prize. When baselines are not used, this is equivalent to Probabilistic Matrix Factorization.\n",
    "\n",
    "$${\\large \\hat{r}_{ui} = \\mu + b_u + b_i + q_i^Tp_u }$$\n",
    "\n",
    "If user $u$ is unknown, then the bias $b_u$ and the factors $p_u$ are assumed to be zero. The same applies for item $i$ with $b_i$ and $q_i$.\n",
    "\n",
    "<br>\n",
    "\n",
    "To estimate all the unknown, we minimize the following regularized squared error:\n",
    "\n",
    "$$\\sum_{r_{ui} \\in R_{train}} \\left(r_{ui} - \\hat{r}_{ui} \\right)^2 + \\lambda\\left(b_i^2 + b_u^2 + ||q_i||^2 + ||p_u||^2\\right)$$\n",
    "\n",
    "<br>\n",
    "\n",
    "The minimization is performed by a very straightforward stochastic gradient descent:\n",
    "<br>\n",
    "<br>\n",
    "$$b_u \\leftarrow b_u + \\gamma (e_{ui} - \\lambda b_u)$$\n",
    "$$b_i \\leftarrow b_i + \\gamma (e_{ui} - \\lambda b_i)$$\n",
    "$$p_u \\leftarrow p_u + \\gamma (e_{ui} \\cdot q_i - \\lambda p_u)$$\n",
    "$$q_i \\leftarrow q_i + \\gamma (e_{ui} \\cdot p_u - \\lambda q_i)$$\n"
   ]
  },
  {
   "cell_type": "markdown",
   "metadata": {},
   "source": [
    "### 1.1. Train Model"
   ]
  },
  {
   "cell_type": "code",
   "execution_count": 12,
   "metadata": {},
   "outputs": [],
   "source": [
    "# # Find best params optiomizing for rmse\n",
    "# param_grid = {'n_factors': [90, 100, 110], \n",
    "#               'n_epochs': [90, 100, 110], \n",
    "#               'lr_all': [0.001, 0.003, 0.005, 0.008],\n",
    "#               'reg_all': [0.1, 0.15, 0.2]}\n",
    "\n",
    "# gs = GridSearchCV(SVD, param_grid, measures=['rmse'], cv=3)\n",
    "# gs.fit(data)\n",
    "\n",
    "# algo = gs.best_estimator['rmse']\n",
    "# print(gs.best_score['rmse'])\n",
    "# print(gs.best_params['rmse'])\n"
   ]
  },
  {
   "cell_type": "code",
   "execution_count": 13,
   "metadata": {},
   "outputs": [],
   "source": [
    "# # Cross-validate on data\n",
    "# cross_validate(algo, data, measures=['RMSE'], cv=3, verbose=True)"
   ]
  },
  {
   "cell_type": "code",
   "execution_count": 14,
   "metadata": {},
   "outputs": [
    {
     "data": {
      "text/plain": [
       "<surprise.prediction_algorithms.matrix_factorization.SVD at 0x1a0ee24748>"
      ]
     },
     "execution_count": 14,
     "metadata": {},
     "output_type": "execute_result"
    }
   ],
   "source": [
    "# gs = {'n_factors': 110, 'n_epochs': 100, 'lr_all': 0.005, 'reg_all': 0.15}\n",
    "algo = SVD(n_factors=110, n_epochs=100, lr_all=0.005, reg_all=0.15)\n",
    "algo.fit(trainset)"
   ]
  },
  {
   "cell_type": "markdown",
   "metadata": {},
   "source": [
    "### 1.2. Evaluate Model (RMSE)"
   ]
  },
  {
   "cell_type": "code",
   "execution_count": 15,
   "metadata": {},
   "outputs": [
    {
     "name": "stdout",
     "output_type": "stream",
     "text": [
      "SVD : Test Set\n",
      "RMSE: 1.0951\n"
     ]
    },
    {
     "data": {
      "text/plain": [
       "1.0951031495525159"
      ]
     },
     "execution_count": 15,
     "metadata": {},
     "output_type": "execute_result"
    }
   ],
   "source": [
    "test_pred = algo.test(testset)\n",
    "print(\"SVD : Test Set\")\n",
    "accuracy.rmse(test_pred, verbose=True)\n"
   ]
  },
  {
   "cell_type": "markdown",
   "metadata": {},
   "source": [
    "### 1.3. Evaluate Model (Recall)"
   ]
  },
  {
   "cell_type": "markdown",
   "metadata": {},
   "source": [
    "**Get Recommendations for Example User**"
   ]
  },
  {
   "cell_type": "code",
   "execution_count": 16,
   "metadata": {},
   "outputs": [],
   "source": [
    "# Than predict ratings for all pairs (u, i) that are NOT in the training set.\n",
    "train_pred_set = trainset.build_anti_testset()\n",
    "train_preds = algo.test(train_pred_set)\n",
    "\n",
    "# Make predictions\n",
    "top_n = get_n_recommendations(train_preds, n=15)\n"
   ]
  },
  {
   "cell_type": "code",
   "execution_count": 17,
   "metadata": {},
   "outputs": [
    {
     "name": "stdout",
     "output_type": "stream",
     "text": [
      "Pre-2014 selections (customer id - 13516428):\n",
      "                              product_title  star_rating\n",
      "7815   Red Dead Redemption Game of the Year            5\n",
      "9838                              Fable III            3\n",
      "12867                          Halo 3: ODST            4\n",
      "16011            Need for Speed Most Wanted            1\n",
      "25538                         Battlefield 3            5\n",
      "\n",
      "Post-2014 selections (customer id - 13516428):\n",
      "                                      product_title  star_rating\n",
      "341                                     Tomb Raider          5.0\n",
      "452            Red Dead Redemption Game of the Year          5.0\n",
      "1908                          Batman Arkham Origins          3.0\n",
      "2008                               Assassin's Creed          4.0\n",
      "2185                             Grand Theft Auto V          5.0\n",
      "3075                 Call of Duty 4: Modern Warfare          5.0\n",
      "3187      Call of Duty: Modern Warfare 3 - Xbox 360          5.0\n",
      "4160                 Call of Duty: Modern Warfare 2          5.0\n",
      "4183                             Assassins Creed II          5.0\n",
      "4242                  Kingdoms of Amalur: Reckoning          5.0\n",
      "4261                                   Dragon Age 2          5.0\n",
      "4356  The Elder Scrolls V: Skyrim Legendary Edition          2.0\n",
      "\n",
      "Recommendations:\n",
      "Resident Evil\n",
      "Dance Central 3\n",
      "Metal Gear Solid: The Legacy Collection\n",
      "Grand Theft Auto: San Andreas\n",
      "The Last of Us\n",
      "The Sims 2\n",
      "Portal 2\n",
      "GameCube (Jet Black)\n",
      "Perfect Dark\n",
      "Super Mario 64\n",
      "Mario Kart DS\n",
      "Ni no Kuni: Wrath of the White Witch\n",
      "BioShock\n",
      "The Elder Scrolls Anthology\n",
      "Mortal Kombat\n"
     ]
    }
   ],
   "source": [
    "print_customer_prof(13516428, train_df, test_df, top_n)"
   ]
  },
  {
   "cell_type": "code",
   "execution_count": 18,
   "metadata": {
    "scrolled": true
   },
   "outputs": [
    {
     "name": "stdout",
     "output_type": "stream",
     "text": [
      "Precision (SVD):\n"
     ]
    },
    {
     "data": {
      "text/plain": [
       "0.008323669630202294"
      ]
     },
     "execution_count": 18,
     "metadata": {},
     "output_type": "execute_result"
    }
   ],
   "source": [
    "print('Precision (SVD):')\n",
    "evaluate_recall(top_n, testset, threshold=4.0)"
   ]
  },
  {
   "cell_type": "code",
   "execution_count": 19,
   "metadata": {},
   "outputs": [
    {
     "name": "stdout",
     "output_type": "stream",
     "text": [
      "MAP (SVD):\n"
     ]
    },
    {
     "data": {
      "text/plain": [
       "0.0858075264929215"
      ]
     },
     "execution_count": 19,
     "metadata": {},
     "output_type": "execute_result"
    }
   ],
   "source": [
    "print('MAP (SVD):')\n",
    "evaluate_map(top_n, testset, threshold=4.0)"
   ]
  },
  {
   "cell_type": "markdown",
   "metadata": {},
   "source": [
    "### 1.4. Make Recommendations for New Customer"
   ]
  },
  {
   "cell_type": "code",
   "execution_count": 20,
   "metadata": {
    "scrolled": false
   },
   "outputs": [
    {
     "data": {
      "text/html": [
       "<div>\n",
       "<style scoped>\n",
       "    .dataframe tbody tr th:only-of-type {\n",
       "        vertical-align: middle;\n",
       "    }\n",
       "\n",
       "    .dataframe tbody tr th {\n",
       "        vertical-align: top;\n",
       "    }\n",
       "\n",
       "    .dataframe thead th {\n",
       "        text-align: right;\n",
       "    }\n",
       "</style>\n",
       "<table border=\"1\" class=\"dataframe\">\n",
       "  <thead>\n",
       "    <tr style=\"text-align: right;\">\n",
       "      <th></th>\n",
       "      <th>items</th>\n",
       "      <th>rating</th>\n",
       "    </tr>\n",
       "  </thead>\n",
       "  <tbody>\n",
       "    <tr>\n",
       "      <th>223</th>\n",
       "      <td>Diablo 2</td>\n",
       "      <td>5.0</td>\n",
       "    </tr>\n",
       "    <tr>\n",
       "      <th>77</th>\n",
       "      <td>The Legend of Zelda: A Link Between Worlds 3D ...</td>\n",
       "      <td>5.0</td>\n",
       "    </tr>\n",
       "    <tr>\n",
       "      <th>92</th>\n",
       "      <td>The Elder Scrolls V: Skyrim Legendary Edition</td>\n",
       "      <td>5.0</td>\n",
       "    </tr>\n",
       "    <tr>\n",
       "      <th>91</th>\n",
       "      <td>Minecraft - Xbox 360</td>\n",
       "      <td>5.0</td>\n",
       "    </tr>\n",
       "    <tr>\n",
       "      <th>169</th>\n",
       "      <td>Pokemon X</td>\n",
       "      <td>5.0</td>\n",
       "    </tr>\n",
       "    <tr>\n",
       "      <th>170</th>\n",
       "      <td>StarCraft Battle Chest</td>\n",
       "      <td>5.0</td>\n",
       "    </tr>\n",
       "    <tr>\n",
       "      <th>173</th>\n",
       "      <td>BioShock</td>\n",
       "      <td>5.0</td>\n",
       "    </tr>\n",
       "    <tr>\n",
       "      <th>86</th>\n",
       "      <td>GoldenEye 007</td>\n",
       "      <td>5.0</td>\n",
       "    </tr>\n",
       "    <tr>\n",
       "      <th>174</th>\n",
       "      <td>Dance Central 3</td>\n",
       "      <td>5.0</td>\n",
       "    </tr>\n",
       "    <tr>\n",
       "      <th>84</th>\n",
       "      <td>Rocksmith 2014</td>\n",
       "      <td>5.0</td>\n",
       "    </tr>\n",
       "    <tr>\n",
       "      <th>176</th>\n",
       "      <td>The Sims 2</td>\n",
       "      <td>5.0</td>\n",
       "    </tr>\n",
       "    <tr>\n",
       "      <th>82</th>\n",
       "      <td>Animal Crossing: New Leaf</td>\n",
       "      <td>5.0</td>\n",
       "    </tr>\n",
       "    <tr>\n",
       "      <th>81</th>\n",
       "      <td>Mario Kart 7</td>\n",
       "      <td>5.0</td>\n",
       "    </tr>\n",
       "    <tr>\n",
       "      <th>79</th>\n",
       "      <td>Just Dance 3</td>\n",
       "      <td>5.0</td>\n",
       "    </tr>\n",
       "    <tr>\n",
       "      <th>76</th>\n",
       "      <td>The Legend of Zelda: Ocarina of Time 3D</td>\n",
       "      <td>5.0</td>\n",
       "    </tr>\n",
       "  </tbody>\n",
       "</table>\n",
       "</div>"
      ],
      "text/plain": [
       "                                                 items  rating\n",
       "223                                           Diablo 2     5.0\n",
       "77   The Legend of Zelda: A Link Between Worlds 3D ...     5.0\n",
       "92       The Elder Scrolls V: Skyrim Legendary Edition     5.0\n",
       "91                                Minecraft - Xbox 360     5.0\n",
       "169                                          Pokemon X     5.0\n",
       "170                             StarCraft Battle Chest     5.0\n",
       "173                                           BioShock     5.0\n",
       "86                                       GoldenEye 007     5.0\n",
       "174                                    Dance Central 3     5.0\n",
       "84                                      Rocksmith 2014     5.0\n",
       "176                                         The Sims 2     5.0\n",
       "82                           Animal Crossing: New Leaf     5.0\n",
       "81                                        Mario Kart 7     5.0\n",
       "79                                        Just Dance 3     5.0\n",
       "76             The Legend of Zelda: Ocarina of Time 3D     5.0"
      ]
     },
     "execution_count": 20,
     "metadata": {},
     "output_type": "execute_result"
    }
   ],
   "source": [
    "new_products = ['Call of Duty: Ghosts', \n",
    "                'Call of Duty: Modern Warfare 2', \n",
    "                'Battlefield 3']\n",
    "\n",
    "recs = new_recommendations(new_products, whole, algo)\n",
    "recs.head(15)"
   ]
  },
  {
   "cell_type": "markdown",
   "metadata": {},
   "source": [
    "<br>\n",
    "## 2. SVDpp\n",
    "\n",
    "The *SVD++* algorithm, an extension of SVD taking into account implicit ratings.\n",
    "\n",
    "$${\\large \\hat{r}_{ui} = \\mu + b_u + b_i + q_i^T\\left(p_u + |I_u|^{-\\frac{1}{2}} \\sum_{j \\in I_u}y_j\\right) }$$\n",
    "\n",
    "Where the $y_j$ terms are a new set of item factors that capture implicit ratings. Here, an implicit rating describes the fact that a user $u$ rated an item $j$, regardless of the rating value. If user $u$ is unknown, then the bias $b_u$ and the factors $p_u$ are assumed to be zero. The same applies for item $i$ with $b_i$, $q_i$ and $y_i$.\n",
    "\n"
   ]
  },
  {
   "cell_type": "markdown",
   "metadata": {},
   "source": [
    "### 2.1. Train Model"
   ]
  },
  {
   "cell_type": "code",
   "execution_count": 21,
   "metadata": {
    "scrolled": true
   },
   "outputs": [],
   "source": [
    "# # Find best params optiomizing for rmse\n",
    "# param_grid = {'n_factors': [20, 30, 40, 50], \n",
    "#               'n_epochs': [20, 40, 60], \n",
    "#               'lr_all': [0.003, 0.005, 0.008],\n",
    "#               'reg_all': [0.1, 0.15, 0.2]}\n",
    "\n",
    "# gs = GridSearchCV(SVDpp, param_grid, measures=['rmse'], cv=3)\n",
    "# gs.fit(data)\n",
    "\n",
    "# algo2 = gs.best_estimator['rmse']\n",
    "# print(gs.best_score['rmse'])\n",
    "# print(gs.best_params['rmse'])\n"
   ]
  },
  {
   "cell_type": "code",
   "execution_count": 22,
   "metadata": {},
   "outputs": [],
   "source": [
    "# # Cross-validate on data\n",
    "# cross_validate(algo2, data, measures=['RMSE'], cv=3, verbose=True)"
   ]
  },
  {
   "cell_type": "code",
   "execution_count": 23,
   "metadata": {},
   "outputs": [
    {
     "data": {
      "text/plain": [
       "<surprise.prediction_algorithms.matrix_factorization.SVDpp at 0x1a7887acf8>"
      ]
     },
     "execution_count": 23,
     "metadata": {},
     "output_type": "execute_result"
    }
   ],
   "source": [
    "# gs = {'n_factors': 50, 'n_epochs': 60, 'lr_all': 0.005, 'reg_all': 0.15}\n",
    "\n",
    "algo2 = SVDpp(n_factors=50, n_epochs=60, lr_all=0.005, reg_all=0.15)\n",
    "algo2.fit(trainset)"
   ]
  },
  {
   "cell_type": "markdown",
   "metadata": {},
   "source": [
    "### 2.2. Evaluate Model (RMSE)"
   ]
  },
  {
   "cell_type": "code",
   "execution_count": 24,
   "metadata": {},
   "outputs": [
    {
     "name": "stdout",
     "output_type": "stream",
     "text": [
      "SVDpp : Test Set\n",
      "RMSE: 1.0933\n"
     ]
    },
    {
     "data": {
      "text/plain": [
       "1.0932548999355585"
      ]
     },
     "execution_count": 24,
     "metadata": {},
     "output_type": "execute_result"
    }
   ],
   "source": [
    "test_pred = algo2.test(testset)\n",
    "print(\"SVDpp : Test Set\")\n",
    "accuracy.rmse(test_pred, verbose=True)\n"
   ]
  },
  {
   "cell_type": "markdown",
   "metadata": {},
   "source": [
    "### 2.3. Evaluate Model (Recall)"
   ]
  },
  {
   "cell_type": "markdown",
   "metadata": {},
   "source": [
    "**Get Recommendations for Example User**"
   ]
  },
  {
   "cell_type": "code",
   "execution_count": 25,
   "metadata": {},
   "outputs": [],
   "source": [
    "# Than predict ratings for all pairs (u, i) that are NOT in the training set.\n",
    "train_pred_set = trainset.build_anti_testset()\n",
    "train_preds = algo2.test(train_pred_set)\n",
    "\n",
    "# Make predictions\n",
    "top_n = get_n_recommendations(train_preds, n=15)\n"
   ]
  },
  {
   "cell_type": "code",
   "execution_count": 26,
   "metadata": {},
   "outputs": [
    {
     "name": "stdout",
     "output_type": "stream",
     "text": [
      "Pre-2014 selections (customer id - 13516428):\n",
      "                              product_title  star_rating\n",
      "7815   Red Dead Redemption Game of the Year            5\n",
      "9838                              Fable III            3\n",
      "12867                          Halo 3: ODST            4\n",
      "16011            Need for Speed Most Wanted            1\n",
      "25538                         Battlefield 3            5\n",
      "\n",
      "Post-2014 selections (customer id - 13516428):\n",
      "                                      product_title  star_rating\n",
      "341                                     Tomb Raider          5.0\n",
      "452            Red Dead Redemption Game of the Year          5.0\n",
      "1908                          Batman Arkham Origins          3.0\n",
      "2008                               Assassin's Creed          4.0\n",
      "2185                             Grand Theft Auto V          5.0\n",
      "3075                 Call of Duty 4: Modern Warfare          5.0\n",
      "3187      Call of Duty: Modern Warfare 3 - Xbox 360          5.0\n",
      "4160                 Call of Duty: Modern Warfare 2          5.0\n",
      "4183                             Assassins Creed II          5.0\n",
      "4242                  Kingdoms of Amalur: Reckoning          5.0\n",
      "4261                                   Dragon Age 2          5.0\n",
      "4356  The Elder Scrolls V: Skyrim Legendary Edition          2.0\n",
      "\n",
      "Recommendations:\n",
      "Resident Evil\n",
      "The Last of Us\n",
      "Uncharted 2: Among Thieves - Playstation 3\n",
      "Portal 2\n",
      "Grand Theft Auto: San Andreas\n",
      "GameCube (Jet Black)\n",
      "The Elder Scrolls Anthology\n",
      "Mario Kart DS\n",
      "Dance Central 3\n",
      "The Sims 2\n",
      "Pokemon X\n",
      "Super Mario Galaxy\n",
      "LEGO Lord of the Rings\n",
      "Mario Kart: Double Dash\n",
      "Metal Gear Solid: The Legacy Collection\n"
     ]
    }
   ],
   "source": [
    "print_customer_prof(13516428, train_df, test_df, top_n)"
   ]
  },
  {
   "cell_type": "code",
   "execution_count": 27,
   "metadata": {
    "scrolled": false
   },
   "outputs": [
    {
     "name": "stdout",
     "output_type": "stream",
     "text": [
      "Precision (SVDpp):\n"
     ]
    },
    {
     "data": {
      "text/plain": [
       "0.008504058755315036"
      ]
     },
     "execution_count": 27,
     "metadata": {},
     "output_type": "execute_result"
    }
   ],
   "source": [
    "print('Precision (SVDpp):')\n",
    "evaluate_recall(top_n, testset, threshold=4.0)"
   ]
  },
  {
   "cell_type": "code",
   "execution_count": 28,
   "metadata": {},
   "outputs": [
    {
     "name": "stdout",
     "output_type": "stream",
     "text": [
      "MAP (SVDpp):\n"
     ]
    },
    {
     "data": {
      "text/plain": [
       "0.08152959991737428"
      ]
     },
     "execution_count": 28,
     "metadata": {},
     "output_type": "execute_result"
    }
   ],
   "source": [
    "print('MAP (SVDpp):')\n",
    "evaluate_map(top_n, testset, threshold=4.0)"
   ]
  },
  {
   "cell_type": "markdown",
   "metadata": {},
   "source": [
    "### 2.4. Make Recommendations for New Customer"
   ]
  },
  {
   "cell_type": "code",
   "execution_count": 29,
   "metadata": {
    "scrolled": false
   },
   "outputs": [
    {
     "data": {
      "text/html": [
       "<div>\n",
       "<style scoped>\n",
       "    .dataframe tbody tr th:only-of-type {\n",
       "        vertical-align: middle;\n",
       "    }\n",
       "\n",
       "    .dataframe tbody tr th {\n",
       "        vertical-align: top;\n",
       "    }\n",
       "\n",
       "    .dataframe thead th {\n",
       "        text-align: right;\n",
       "    }\n",
       "</style>\n",
       "<table border=\"1\" class=\"dataframe\">\n",
       "  <thead>\n",
       "    <tr style=\"text-align: right;\">\n",
       "      <th></th>\n",
       "      <th>items</th>\n",
       "      <th>rating</th>\n",
       "    </tr>\n",
       "  </thead>\n",
       "  <tbody>\n",
       "    <tr>\n",
       "      <th>223</th>\n",
       "      <td>Diablo 2</td>\n",
       "      <td>5.0</td>\n",
       "    </tr>\n",
       "    <tr>\n",
       "      <th>66</th>\n",
       "      <td>Fire Emblem: Awakening</td>\n",
       "      <td>5.0</td>\n",
       "    </tr>\n",
       "    <tr>\n",
       "      <th>76</th>\n",
       "      <td>The Legend of Zelda: Ocarina of Time 3D</td>\n",
       "      <td>5.0</td>\n",
       "    </tr>\n",
       "    <tr>\n",
       "      <th>157</th>\n",
       "      <td>Batman: Arkham Asylum</td>\n",
       "      <td>5.0</td>\n",
       "    </tr>\n",
       "    <tr>\n",
       "      <th>74</th>\n",
       "      <td>Super Mario Sunshine</td>\n",
       "      <td>5.0</td>\n",
       "    </tr>\n",
       "    <tr>\n",
       "      <th>73</th>\n",
       "      <td>Chrono Cross - PlayStation</td>\n",
       "      <td>5.0</td>\n",
       "    </tr>\n",
       "    <tr>\n",
       "      <th>159</th>\n",
       "      <td>Resident Evil 4</td>\n",
       "      <td>5.0</td>\n",
       "    </tr>\n",
       "    <tr>\n",
       "      <th>160</th>\n",
       "      <td>The Elder Scrolls Anthology</td>\n",
       "      <td>5.0</td>\n",
       "    </tr>\n",
       "    <tr>\n",
       "      <th>70</th>\n",
       "      <td>Luigi's Mansion - Gamecube</td>\n",
       "      <td>5.0</td>\n",
       "    </tr>\n",
       "    <tr>\n",
       "      <th>161</th>\n",
       "      <td>God of War - PlayStation 2</td>\n",
       "      <td>5.0</td>\n",
       "    </tr>\n",
       "    <tr>\n",
       "      <th>68</th>\n",
       "      <td>The Legend of Zelda: Twilight Princess (Ninten...</td>\n",
       "      <td>5.0</td>\n",
       "    </tr>\n",
       "    <tr>\n",
       "      <th>167</th>\n",
       "      <td>Gran Turismo 3 A-spec</td>\n",
       "      <td>5.0</td>\n",
       "    </tr>\n",
       "    <tr>\n",
       "      <th>65</th>\n",
       "      <td>Metal Gear Solid 2: Sons of Liberty</td>\n",
       "      <td>5.0</td>\n",
       "    </tr>\n",
       "    <tr>\n",
       "      <th>174</th>\n",
       "      <td>Dance Central 3</td>\n",
       "      <td>5.0</td>\n",
       "    </tr>\n",
       "    <tr>\n",
       "      <th>168</th>\n",
       "      <td>Portal 2</td>\n",
       "      <td>5.0</td>\n",
       "    </tr>\n",
       "  </tbody>\n",
       "</table>\n",
       "</div>"
      ],
      "text/plain": [
       "                                                 items  rating\n",
       "223                                           Diablo 2     5.0\n",
       "66                              Fire Emblem: Awakening     5.0\n",
       "76             The Legend of Zelda: Ocarina of Time 3D     5.0\n",
       "157                              Batman: Arkham Asylum     5.0\n",
       "74                                Super Mario Sunshine     5.0\n",
       "73                          Chrono Cross - PlayStation     5.0\n",
       "159                                    Resident Evil 4     5.0\n",
       "160                        The Elder Scrolls Anthology     5.0\n",
       "70                          Luigi's Mansion - Gamecube     5.0\n",
       "161                         God of War - PlayStation 2     5.0\n",
       "68   The Legend of Zelda: Twilight Princess (Ninten...     5.0\n",
       "167                              Gran Turismo 3 A-spec     5.0\n",
       "65                 Metal Gear Solid 2: Sons of Liberty     5.0\n",
       "174                                    Dance Central 3     5.0\n",
       "168                                           Portal 2     5.0"
      ]
     },
     "execution_count": 29,
     "metadata": {},
     "output_type": "execute_result"
    }
   ],
   "source": [
    "new_products = ['Call of Duty: Ghosts', \n",
    "                'Call of Duty: Modern Warfare 2', \n",
    "                'Battlefield 3']\n",
    "\n",
    "recs = new_recommendations(new_products, whole, algo2)\n",
    "recs.head(15)"
   ]
  },
  {
   "cell_type": "code",
   "execution_count": null,
   "metadata": {},
   "outputs": [],
   "source": []
  },
  {
   "cell_type": "code",
   "execution_count": null,
   "metadata": {},
   "outputs": [],
   "source": []
  },
  {
   "cell_type": "code",
   "execution_count": null,
   "metadata": {},
   "outputs": [],
   "source": []
  },
  {
   "cell_type": "code",
   "execution_count": null,
   "metadata": {},
   "outputs": [],
   "source": []
  },
  {
   "cell_type": "code",
   "execution_count": null,
   "metadata": {},
   "outputs": [],
   "source": []
  },
  {
   "cell_type": "code",
   "execution_count": null,
   "metadata": {},
   "outputs": [],
   "source": []
  },
  {
   "cell_type": "code",
   "execution_count": null,
   "metadata": {},
   "outputs": [],
   "source": []
  },
  {
   "cell_type": "code",
   "execution_count": null,
   "metadata": {},
   "outputs": [],
   "source": []
  },
  {
   "cell_type": "code",
   "execution_count": null,
   "metadata": {},
   "outputs": [],
   "source": []
  },
  {
   "cell_type": "code",
   "execution_count": null,
   "metadata": {},
   "outputs": [],
   "source": []
  }
 ],
 "metadata": {
  "kernelspec": {
   "display_name": "Python 3",
   "language": "python",
   "name": "python3"
  },
  "language_info": {
   "codemirror_mode": {
    "name": "ipython",
    "version": 3
   },
   "file_extension": ".py",
   "mimetype": "text/x-python",
   "name": "python",
   "nbconvert_exporter": "python",
   "pygments_lexer": "ipython3",
   "version": "3.6.8"
  }
 },
 "nbformat": 4,
 "nbformat_minor": 2
}
