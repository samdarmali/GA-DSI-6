{
 "cells": [
  {
   "cell_type": "markdown",
   "metadata": {},
   "source": [
    "# Collaborative Filtering with Surprise\n",
    "\n",
    "This notebook uses the Surprise library for user-user and item-item collaborative filtering."
   ]
  },
  {
   "cell_type": "code",
   "execution_count": 1,
   "metadata": {},
   "outputs": [],
   "source": [
    "# Import standard libraries\n",
    "import numpy as np\n",
    "import math\n",
    "import scipy.stats as stats\n",
    "import seaborn as sns\n",
    "import matplotlib.pyplot as plt\n",
    "import pandas as pd\n",
    "import sqlite3\n",
    "from collections import Counter\n",
    "from time import sleep\n",
    "from collections import defaultdict\n",
    "\n",
    "# Import packages from Surprise\n",
    "from surprise import KNNBasic, KNNWithMeans, KNNBaseline, KNNWithZScore\n",
    "from surprise import Dataset\n",
    "from surprise import accuracy\n",
    "from surprise.model_selection import train_test_split\n",
    "from surprise import Reader\n",
    "from surprise.model_selection import GridSearchCV\n",
    "from surprise.model_selection import cross_validate\n",
    "\n",
    "# # Import sklearn packages\n",
    "# from sklearn.metrics import confusion_matrix, pairwise_distances, mean_squared_error\n",
    "# from sklearn import metrics\n",
    "\n",
    "sns.set_style('whitegrid')\n",
    "\n",
    "%config InlineBackend.figure_format = 'retina'\n",
    "%matplotlib inline\n"
   ]
  },
  {
   "cell_type": "markdown",
   "metadata": {},
   "source": [
    "### Functions"
   ]
  },
  {
   "cell_type": "code",
   "execution_count": 2,
   "metadata": {},
   "outputs": [],
   "source": [
    "def train_test_convert(train_df, test_df):\n",
    "    '''\n",
    "    Function that converts train and test dataframes into\n",
    "    train and test objects that Surpise can read.\n",
    "    \n",
    "    Arguments:\n",
    "    - train_df  :  train dataframe (\"customer_id\", \"product_title\", \"star_rating\") \n",
    "    - test_df   :  test dataframe (\"customer_id\", \"product_title\", \"star_rating\")\n",
    "    \n",
    "    Returns:\n",
    "    - trainset  :  train_df as trainset object\n",
    "    - testset   :  test_df as list of tuples\n",
    "    '''\n",
    "    # Convert train\n",
    "    # A reader is still needed but only the rating_scale param is requiered.\n",
    "    reader = Reader(rating_scale=(1, 5))\n",
    "    # The columns must correspond to user id, item id and ratings (in that order).\n",
    "    data = Dataset.load_from_df(train_df[['customer_id', 'product_title', 'star_rating']], reader)\n",
    "    trainset = data.build_full_trainset()\n",
    "    \n",
    "    # Convert test\n",
    "    test_df['star_rating'] = test_df['star_rating'].astype('float64')\n",
    "    testset = [tuple(x) for x in test_df.values]\n",
    "    \n",
    "    return trainset, testset\n",
    "    "
   ]
  },
  {
   "cell_type": "code",
   "execution_count": 3,
   "metadata": {},
   "outputs": [],
   "source": [
    "def plot_rmse(k_range, trainset, testset, algorithm='KNNWithMeans', sim_options={}):\n",
    "    '''\n",
    "    Function which takes in a range of K nearest neighbors values.\n",
    "    Calculates the RMSE on train and test for each K and plots this.\n",
    "    \n",
    "    Arguments:\n",
    "    - k_range    :  range of k-nearest-neighbors to try\n",
    "    - trainset   :  trainset as trainset object\n",
    "    - testset    :  testset as list of tuples\n",
    "    - algorithm  :  type of algorithm\n",
    "    \n",
    "    Returns:\n",
    "    - scores_df  :  dataframe of rmse at each k\n",
    "    '''\n",
    "    \n",
    "    scores_dict = {'k': [], 'test_rmse': []}\n",
    "    \n",
    "    for k in k_range:\n",
    "        if algorithm == 'KNNBasic':\n",
    "            algo = KNNBasic(k=k, sim_options=sim_options, verbose=False)\n",
    "        elif algorithm == 'KNNWithMeans':\n",
    "            algo = KNNWithMeans(k=k, sim_options=sim_options, verbose=False)\n",
    "        elif algorithm == 'KNNBaseline':\n",
    "            algo = KNNBaseline(k=k, sim_options=sim_options, verbose=False)\n",
    "        elif algorithm == 'KNNWithZScore':\n",
    "            algo = KNNWithZScore(k=k, sim_options=sim_options, verbose=False)\n",
    "            \n",
    "        algo.fit(trainset)\n",
    "\n",
    "        test_pred = algo.test(testset)\n",
    "        test_rmse = accuracy.rmse(test_pred, verbose=False)\n",
    "        \n",
    "        scores_dict['k'].append(k)\n",
    "        scores_dict['test_rmse'].append(test_rmse)\n",
    "    \n",
    "    scores_df = pd.DataFrame(scores_dict)\n",
    "    \n",
    "    plt.figure(figsize=(10,7));\n",
    "    plt.plot(scores_df['k'], scores_df['test_rmse']);\n",
    "    plt.title('RMSE for Different Values of K', fontsize=15);\n",
    "    plt.xlabel('K');\n",
    "    plt.ylabel('RMSE');\n",
    "    \n",
    "    return scores_df\n",
    "        "
   ]
  },
  {
   "cell_type": "code",
   "execution_count": 4,
   "metadata": {},
   "outputs": [],
   "source": [
    "def get_n_recommendations(predictions, n=15):\n",
    "    '''\n",
    "    Return the top-n recommendations for each user from a set of predictions.\n",
    "\n",
    "    Arguments:\n",
    "    - predictions  :  list of prediction objects, returned by the algorithm (algo).\n",
    "    - n            :  Number of recommendations to output for each user.\n",
    "\n",
    "    Returns:\n",
    "    - top_n        :  A dictionary where keys are user ids and values are lists of tuples of size n.\n",
    "    '''\n",
    "    \n",
    "    # First map the predictions to each user.\n",
    "    top_n = defaultdict(list)\n",
    "    for uid, iid, true_r, est, _ in predictions:\n",
    "        top_n[uid].append((iid, est))\n",
    "\n",
    "    # Then sort the predictions for each user and retrieve the k highest ones.\n",
    "    for uid, user_ratings in top_n.items():\n",
    "        user_ratings.sort(key=lambda x: x[1], reverse=True)\n",
    "        top_n[uid] = user_ratings[:n]\n",
    "\n",
    "    return top_n\n"
   ]
  },
  {
   "cell_type": "code",
   "execution_count": 5,
   "metadata": {
    "scrolled": false
   },
   "outputs": [],
   "source": [
    "def print_customer_prof(train_df, test_df, top_n, customer=13516428):\n",
    "    '''\n",
    "    Function which looks at an example of a user's ratings and recommendations made\n",
    "    \n",
    "    Arguments:\n",
    "    - customer  :  customer id\n",
    "    - train_df  :  train dataframe\n",
    "    - test_df   :  test dataframe\n",
    "    - top_n     :  dictionary of predictions \n",
    "    \n",
    "    Prints:\n",
    "    - customer's pre-2014 ratings\n",
    "    - customer's post-2014 ratings\n",
    "    - recommendations\n",
    "    '''\n",
    "\n",
    "    print('Pre-2014 selections (customer id - {}):'.format(customer))\n",
    "    print(train_df[train_df['customer_id']==customer][['product_title','star_rating']])\n",
    "    \n",
    "    print('\\nPost-2014 selections (customer id - {}):'.format(customer))\n",
    "    print(test_df[test_df['customer_id']==customer][['product_title','star_rating']])\n",
    "    \n",
    "    print('\\nRecommendations:')\n",
    "    for i in top_n[customer]:\n",
    "        print(i[0])"
   ]
  },
  {
   "cell_type": "markdown",
   "metadata": {},
   "source": [
    "### Evaluation Functions\n",
    "\n",
    "**Precision:** A score of how many recommendations were relevant to a user.\n",
    "\n",
    "$${\\large \\qquad Precision = \\frac{\\textrm{# of our recommendations that are relevant}}{\\textrm{# of items we recommended}} }$$\n",
    "\n",
    "<br>\n",
    "\n",
    "**Average Precision:** The average of a recommender system's precision scores up to a certain cutt-off number of recommendations for a particular user.\n",
    "\n",
    "$$\\textrm{AP@N} = \\frac{1}{m}\\sum_{k=1}^N \\textrm{($P(k)$ if $k^{th}$ item was relevant)} = \\frac{1}{m}\\sum_{k=1}^N P(k)\\cdot rel(k)$$\n",
    "\n",
    "<br>\n",
    "\n",
    "**Mean Average Precision (MAP):** The mean of all the average precision scores across all users.\n",
    "\n",
    "$$\\textrm{MAP@N} = \\frac{1}{|U|}\\sum_{u=1}^|U|(\\textrm{AP@N})_u = \\frac{1}{|U|} \\sum_{u=1}^|U| \\frac{1}{m}\\sum_{k=1}^N P_u(k)\\cdot rel_u(k)$$\n",
    "\n",
    "<br>"
   ]
  },
  {
   "cell_type": "code",
   "execution_count": 6,
   "metadata": {},
   "outputs": [],
   "source": [
    "def evaluate_precision(top_n_recs, testset, threshold=4.0):\n",
    "    '''\n",
    "    Function which calculates the average recall score of the test set.\n",
    "    Recall here is defined as the number of recommendations the user actually liked in the test set.\n",
    "    \n",
    "    Arguments:\n",
    "    - top_n_recs  :  dictionary of top N predictions for all users\n",
    "    - testset     :  test_df as list of tuples \n",
    "    - threshold   :  what is considered a like by a customer\n",
    "    \n",
    "    Returns:\n",
    "    - ave_recall  :  average recall score across all test users\n",
    "    '''\n",
    "    \n",
    "    # Convert testset into dictionary with user as key and items they rated as values\n",
    "    test_dict = defaultdict(list)\n",
    "    for uid, iid, r in testset:\n",
    "        test_dict[uid].append((iid, r))\n",
    "    \n",
    "    hit_list = []\n",
    "    for user, ratings in test_dict.items():\n",
    "\n",
    "        actual_liked = [i for i, r in ratings if r >= threshold]\n",
    "        preds = [i[0] for i in top_n_recs[user]]\n",
    "\n",
    "        hits = (set(actual_liked) & set(preds))\n",
    "\n",
    "        hit_rate = len(hits)/len(preds)\n",
    "        hit_list.append(hit_rate)\n",
    "    \n",
    "    ave_recall = np.mean(hit_list)\n",
    "    \n",
    "    return ave_recall"
   ]
  },
  {
   "cell_type": "code",
   "execution_count": 7,
   "metadata": {},
   "outputs": [],
   "source": [
    "def evaluate_map(top_n_recs, testset, threshold=4.0):\n",
    "    '''\n",
    "    Function which calculates the mean average precision (MAP) for each user and returns the mean of these values\n",
    "    \n",
    "    Arguments:\n",
    "    - top_n_recs  :  dictionary of top N predictions for all users\n",
    "    - testset     :  test_df as list of tuples \n",
    "    - threshold   :  what is considered a like by a customer\n",
    "    \n",
    "    Returns:\n",
    "    - mean_map  :  mean MAP across all users\n",
    "    '''\n",
    "    \n",
    "    # Convert testset into dictionary with user as key and items they rated as values\n",
    "    test_dict = defaultdict(list)\n",
    "    for uid, iid, r in testset:\n",
    "        test_dict[uid].append((iid, r))\n",
    "    \n",
    "    aps = []\n",
    "    for user, ratings in test_dict.items():\n",
    "\n",
    "        actual_liked = [i for i, r in ratings if r >= threshold]\n",
    "        recommendations = [i[0] for i in top_n_recs[user]]\n",
    "        \n",
    "        precisions = []\n",
    "        recalls = []\n",
    "        for i, rec in enumerate(recommendations):\n",
    "            \n",
    "            hits = (set(actual_liked) & set(recommendations[:i+1]))\n",
    "            prec = len(hits)/(i+1)\n",
    "            \n",
    "            if len(hits) >= 1:\n",
    "                change_recall = 1/len(actual_liked)\n",
    "            else:\n",
    "                change_recall = 0\n",
    "            \n",
    "            precisions.append(prec)\n",
    "            recalls.append(change_recall)\n",
    "\n",
    "        ap = np.sum([prec * chg_rec for prec, chg_rec in zip(precisions, recalls)])\n",
    "        aps.append(ap)\n",
    "    \n",
    "    mean_map = np.mean(aps)\n",
    "    \n",
    "    return mean_map"
   ]
  },
  {
   "cell_type": "code",
   "execution_count": 8,
   "metadata": {},
   "outputs": [],
   "source": [
    "def new_recommendations(new_products, orig_data, algo):\n",
    "    '''\n",
    "    Function that takes in a list of new products and returns recommendations.\n",
    "    \n",
    "    Arguments:\n",
    "    - new_products   :  list of products chosen by new user\n",
    "    - orig_data      :  original dataframe of users, items and ratings\n",
    "    \n",
    "    Returns:\n",
    "    - recs_df        :  dataframe of recommendations\n",
    "    '''\n",
    "    # Append new customer to data\n",
    "    new_data = pd.DataFrame({'customer_id':[1]*len(new_products), \n",
    "                             'product_title':new_products, \n",
    "                             'star_rating':[5]*len(new_products)})\n",
    "    full_data = pd.concat([new_data, orig_data]).reset_index(drop=True)\n",
    "    \n",
    "    # A reader is still needed but only the rating_scale param is requiered.\n",
    "    reader = Reader(rating_scale=(1, 5))\n",
    "\n",
    "    # The columns must correspond to user id, item id and ratings (in that order)\n",
    "    data = Dataset.load_from_df(full_data[['customer_id', 'product_title', 'star_rating']], reader)\n",
    "    \n",
    "    # Convert to surprise.trainset.Trainset object\n",
    "    trainset = data.build_full_trainset()\n",
    "    \n",
    "    # Train model\n",
    "    algo.fit(trainset)\n",
    "    \n",
    "    # Recommendations dictionary to convert into datframe\n",
    "    recommendations = {'items': [], 'rating': []}\n",
    "    \n",
    "    for item in orig_data['product_title'].unique():\n",
    "        rating = algo.predict(1, item, verbose=False)[3]\n",
    "        recommendations['items'].append(item)\n",
    "        recommendations['rating'].append(rating)\n",
    "    \n",
    "    recs_df = pd.DataFrame(recommendations).sort_values(by='rating', ascending=False)\n",
    "    \n",
    "    return recs_df"
   ]
  },
  {
   "cell_type": "code",
   "execution_count": 9,
   "metadata": {},
   "outputs": [],
   "source": [
    "def scores_df(scores):\n",
    "    '''\n",
    "    Function which takes in a list of models and returns a dataframe of the models and their scores.\n",
    "    \n",
    "    Arguments:\n",
    "    - scores   :  list of models and their scores\n",
    "    \n",
    "    Returns:\n",
    "    - df       :  dataframe of models and their scores\n",
    "    '''\n",
    "    scores_dict = {'Model': [],\n",
    "                  'RMSE': [],\n",
    "                  'Unranked Precision': [],\n",
    "                  'MAP': []}\n",
    "    \n",
    "    for score in scores:\n",
    "        # Update dictionary with model and results\n",
    "        scores_dict['Model'].append(score['Model'])\n",
    "        scores_dict['RMSE'].append(score['RMSE'])\n",
    "        scores_dict['Unranked Precision'].append(score['Unranked Precision'])\n",
    "        scores_dict['MAP'].append(score['MAP'])\n",
    "    \n",
    "    df = pd.DataFrame(scores_dict)\n",
    "            \n",
    "    return df"
   ]
  },
  {
   "cell_type": "markdown",
   "metadata": {},
   "source": [
    "### Load in Data"
   ]
  },
  {
   "cell_type": "code",
   "execution_count": 10,
   "metadata": {},
   "outputs": [
    {
     "name": "stdout",
     "output_type": "stream",
     "text": [
      "(33514, 3)\n"
     ]
    },
    {
     "data": {
      "text/html": [
       "<div>\n",
       "<style scoped>\n",
       "    .dataframe tbody tr th:only-of-type {\n",
       "        vertical-align: middle;\n",
       "    }\n",
       "\n",
       "    .dataframe tbody tr th {\n",
       "        vertical-align: top;\n",
       "    }\n",
       "\n",
       "    .dataframe thead th {\n",
       "        text-align: right;\n",
       "    }\n",
       "</style>\n",
       "<table border=\"1\" class=\"dataframe\">\n",
       "  <thead>\n",
       "    <tr style=\"text-align: right;\">\n",
       "      <th></th>\n",
       "      <th>customer_id</th>\n",
       "      <th>product_title</th>\n",
       "      <th>star_rating</th>\n",
       "    </tr>\n",
       "  </thead>\n",
       "  <tbody>\n",
       "    <tr>\n",
       "      <th>0</th>\n",
       "      <td>52125818</td>\n",
       "      <td>Battlefield 4</td>\n",
       "      <td>2</td>\n",
       "    </tr>\n",
       "    <tr>\n",
       "      <th>1</th>\n",
       "      <td>11725302</td>\n",
       "      <td>Battlefield 4</td>\n",
       "      <td>4</td>\n",
       "    </tr>\n",
       "    <tr>\n",
       "      <th>2</th>\n",
       "      <td>17479613</td>\n",
       "      <td>Battlefield 4</td>\n",
       "      <td>4</td>\n",
       "    </tr>\n",
       "    <tr>\n",
       "      <th>3</th>\n",
       "      <td>14460182</td>\n",
       "      <td>Battlefield 4</td>\n",
       "      <td>4</td>\n",
       "    </tr>\n",
       "    <tr>\n",
       "      <th>4</th>\n",
       "      <td>38739728</td>\n",
       "      <td>Battlefield 4</td>\n",
       "      <td>3</td>\n",
       "    </tr>\n",
       "  </tbody>\n",
       "</table>\n",
       "</div>"
      ],
      "text/plain": [
       "   customer_id  product_title  star_rating\n",
       "0     52125818  Battlefield 4            2\n",
       "1     11725302  Battlefield 4            4\n",
       "2     17479613  Battlefield 4            4\n",
       "3     14460182  Battlefield 4            4\n",
       "4     38739728  Battlefield 4            3"
      ]
     },
     "execution_count": 10,
     "metadata": {},
     "output_type": "execute_result"
    }
   ],
   "source": [
    "# Read in Data\n",
    "sqlite_db = 'datasets/amzn_vg_clean.db'\n",
    "conn = sqlite3.connect(sqlite_db) \n",
    "\n",
    "query = '''\n",
    "SELECT \"customer_id\", \"product_title\", \"star_rating\"\n",
    "FROM full_dataset\n",
    "'''\n",
    "\n",
    "whole = pd.read_sql(query, con=conn)\n",
    "print(whole.shape)\n",
    "whole.head()"
   ]
  },
  {
   "cell_type": "code",
   "execution_count": 11,
   "metadata": {},
   "outputs": [
    {
     "name": "stdout",
     "output_type": "stream",
     "text": [
      "13289\n",
      "224\n"
     ]
    }
   ],
   "source": [
    "# See number of unique users and products\n",
    "print(len(whole['customer_id'].unique()))\n",
    "print(len(whole['product_title'].unique()))"
   ]
  },
  {
   "cell_type": "code",
   "execution_count": 12,
   "metadata": {},
   "outputs": [
    {
     "name": "stdout",
     "output_type": "stream",
     "text": [
      "(28830, 3)\n",
      "(4684, 3)\n"
     ]
    }
   ],
   "source": [
    "# Read in train and test sets\n",
    "sqlite_db = 'datasets/amzn_vg_clean.db'\n",
    "conn = sqlite3.connect(sqlite_db) \n",
    "\n",
    "train_query = '''\n",
    "SELECT \"customer_id\", \"product_title\", \"star_rating\"\n",
    "FROM trainset\n",
    "'''\n",
    "test_query = '''\n",
    "SELECT \"customer_id\", \"product_title\", \"star_rating\"\n",
    "FROM testset\n",
    "'''\n",
    "\n",
    "train_df = pd.read_sql(train_query, con=conn)\n",
    "test_df = pd.read_sql(test_query, con=conn)\n",
    "print(train_df.shape)\n",
    "print(test_df.shape)\n"
   ]
  },
  {
   "cell_type": "code",
   "execution_count": 13,
   "metadata": {},
   "outputs": [],
   "source": [
    "# Split train and test\n",
    "trainset, testset = train_test_convert(train_df, test_df)"
   ]
  },
  {
   "cell_type": "code",
   "execution_count": 14,
   "metadata": {},
   "outputs": [
    {
     "data": {
      "text/plain": [
       "14004441    21\n",
       "24594001    19\n",
       "43843364    16\n",
       "23781456    15\n",
       "44156652    15\n",
       "15121583    14\n",
       "13463243    13\n",
       "14222166    13\n",
       "16039971    12\n",
       "34397416    12\n",
       "40955995    12\n",
       "13516428    12\n",
       "26133416    11\n",
       "48566736    11\n",
       "42381970    11\n",
       "43226173    11\n",
       "46823467    11\n",
       "37221496    10\n",
       "10345078    10\n",
       "52281467    10\n",
       "Name: customer_id, dtype: int64"
      ]
     },
     "execution_count": 14,
     "metadata": {},
     "output_type": "execute_result"
    }
   ],
   "source": [
    "test_df['customer_id'].value_counts().head(20)"
   ]
  },
  {
   "cell_type": "markdown",
   "metadata": {},
   "source": [
    "<br>\n",
    "## 1.A. User-User Collaborative Filtering (KNNBasic - Cosine)\n",
    "\n",
    "A basic collaborative filtering algorithm.\n",
    "\n",
    "$${\\normalsize \\hat{r}_{ui} = \\frac{\\sum\\limits_{v \\in N^k_i(u)} \\text{sim}(u, v) \\cdot r_{vi}}{\\sum\\limits_{v \\in N^k_i(u)} \\text{sim}(u, v)} }$$\n",
    "\n",
    "Where:\n",
    "<br>\n",
    "$\\hat{r}_{ui}$ - Prediction for user $u$ and item $i$.<br>\n",
    "${v \\in N^k_i(u)}$ - $v$ users in $k$ neighborhood most similar to user $u$ for item $i$.<br>\n",
    "$\\text{sim}(u, v)$ - Similarity between user $u$ and $v$.<br>\n",
    "$r_{vi}$ - Rating for user $v$ and item $i$.<br>"
   ]
  },
  {
   "cell_type": "markdown",
   "metadata": {},
   "source": [
    "### 1.A.1. Train Model"
   ]
  },
  {
   "cell_type": "code",
   "execution_count": 15,
   "metadata": {
    "scrolled": false
   },
   "outputs": [
    {
     "name": "stdout",
     "output_type": "stream",
     "text": [
      "Computing the cosine similarity matrix...\n",
      "Done computing similarity matrix.\n"
     ]
    },
    {
     "data": {
      "text/plain": [
       "<surprise.prediction_algorithms.knns.KNNBasic at 0x1a12c45208>"
      ]
     },
     "execution_count": 15,
     "metadata": {},
     "output_type": "execute_result"
    }
   ],
   "source": [
    "# Use user_based true/false to switch between user-based or item-based collaborative filtering\n",
    "# Here we will use user based collaborative filtering, so True.\n",
    "\n",
    "algo = KNNBasic(k=50, sim_options={'name': 'cosine', 'user_based': True})\n",
    "algo.fit(trainset)\n"
   ]
  },
  {
   "cell_type": "markdown",
   "metadata": {},
   "source": [
    "### 1.A.2. Evaluate Model (RMSE)"
   ]
  },
  {
   "cell_type": "code",
   "execution_count": 16,
   "metadata": {},
   "outputs": [
    {
     "name": "stdout",
     "output_type": "stream",
     "text": [
      "User-based (KNNBasic - Cosine) Model : Test Set\n",
      "RMSE: 1.3081\n"
     ]
    }
   ],
   "source": [
    "# Evaluate test set\n",
    "print(\"User-based (KNNBasic - Cosine) Model : Test Set\")\n",
    "test_pred = algo.test(testset)\n",
    "rmse = accuracy.rmse(test_pred, verbose=True)"
   ]
  },
  {
   "cell_type": "markdown",
   "metadata": {},
   "source": [
    "**Search Best K based on RMSE**"
   ]
  },
  {
   "cell_type": "code",
   "execution_count": 17,
   "metadata": {},
   "outputs": [
    {
     "data": {
      "image/png": "[encoded data removed]",
      "text/plain": [
       "<Figure size 720x504 with 1 Axes>"
      ]
     },
     "metadata": {
      "image/png": {
       "height": 441,
       "width": 614
      }
     },
     "output_type": "display_data"
    }
   ],
   "source": [
    "scores = plot_rmse(range(1,100), \n",
    "                   trainset, \n",
    "                   testset, \n",
    "                   algorithm='KNNBasic', \n",
    "                   sim_options={'name': 'cosine', 'user_based': True})"
   ]
  },
  {
   "cell_type": "code",
   "execution_count": 18,
   "metadata": {
    "scrolled": true
   },
   "outputs": [
    {
     "data": {
      "text/html": [
       "<div>\n",
       "<style scoped>\n",
       "    .dataframe tbody tr th:only-of-type {\n",
       "        vertical-align: middle;\n",
       "    }\n",
       "\n",
       "    .dataframe tbody tr th {\n",
       "        vertical-align: top;\n",
       "    }\n",
       "\n",
       "    .dataframe thead th {\n",
       "        text-align: right;\n",
       "    }\n",
       "</style>\n",
       "<table border=\"1\" class=\"dataframe\">\n",
       "  <thead>\n",
       "    <tr style=\"text-align: right;\">\n",
       "      <th></th>\n",
       "      <th>k</th>\n",
       "      <th>test_rmse</th>\n",
       "    </tr>\n",
       "  </thead>\n",
       "  <tbody>\n",
       "    <tr>\n",
       "      <th>33</th>\n",
       "      <td>34</td>\n",
       "      <td>1.307990</td>\n",
       "    </tr>\n",
       "    <tr>\n",
       "      <th>32</th>\n",
       "      <td>33</td>\n",
       "      <td>1.308053</td>\n",
       "    </tr>\n",
       "    <tr>\n",
       "      <th>31</th>\n",
       "      <td>32</td>\n",
       "      <td>1.308054</td>\n",
       "    </tr>\n",
       "    <tr>\n",
       "      <th>48</th>\n",
       "      <td>49</td>\n",
       "      <td>1.308075</td>\n",
       "    </tr>\n",
       "    <tr>\n",
       "      <th>47</th>\n",
       "      <td>48</td>\n",
       "      <td>1.308083</td>\n",
       "    </tr>\n",
       "  </tbody>\n",
       "</table>\n",
       "</div>"
      ],
      "text/plain": [
       "     k  test_rmse\n",
       "33  34   1.307990\n",
       "32  33   1.308053\n",
       "31  32   1.308054\n",
       "48  49   1.308075\n",
       "47  48   1.308083"
      ]
     },
     "execution_count": 18,
     "metadata": {},
     "output_type": "execute_result"
    }
   ],
   "source": [
    "# Sort rmse scores and pick value of k that has lowest rmse on the test set\n",
    "scores.sort_values(by='test_rmse', ascending=True, inplace=True)\n",
    "scores.head(5)"
   ]
  },
  {
   "cell_type": "code",
   "execution_count": 19,
   "metadata": {},
   "outputs": [
    {
     "name": "stdout",
     "output_type": "stream",
     "text": [
      "Computing the cosine similarity matrix...\n",
      "Done computing similarity matrix.\n"
     ]
    },
    {
     "data": {
      "text/plain": [
       "<surprise.prediction_algorithms.knns.KNNBasic at 0x1a13b487b8>"
      ]
     },
     "execution_count": 19,
     "metadata": {},
     "output_type": "execute_result"
    }
   ],
   "source": [
    "# Refit model with best k\n",
    "best_k = scores[:1]['k'].values[0]\n",
    "\n",
    "algo = KNNBasic(k=best_k, sim_options={'name': 'cosine', 'user_based': True})\n",
    "algo.fit(trainset)"
   ]
  },
  {
   "cell_type": "markdown",
   "metadata": {},
   "source": [
    "### 1.A.3. Evaluate Model"
   ]
  },
  {
   "cell_type": "markdown",
   "metadata": {},
   "source": [
    "**Get Recommendations for Example User**"
   ]
  },
  {
   "cell_type": "code",
   "execution_count": 20,
   "metadata": {},
   "outputs": [],
   "source": [
    "# Than predict ratings for all pairs (u, i) that are NOT in the training set.\n",
    "train_pred_set = trainset.build_anti_testset()\n",
    "train_preds = algo.test(train_pred_set)\n",
    "\n",
    "# Make predictions\n",
    "top_n = get_n_recommendations(train_preds)\n"
   ]
  },
  {
   "cell_type": "code",
   "execution_count": 21,
   "metadata": {},
   "outputs": [
    {
     "name": "stdout",
     "output_type": "stream",
     "text": [
      "Pre-2014 selections (customer id - 13516428):\n",
      "                              product_title  star_rating\n",
      "7815   Red Dead Redemption Game of the Year            5\n",
      "9838                              Fable III            3\n",
      "12867                          Halo 3: ODST            4\n",
      "16011            Need for Speed Most Wanted            1\n",
      "25538                         Battlefield 3            5\n",
      "\n",
      "Post-2014 selections (customer id - 13516428):\n",
      "                                      product_title  star_rating\n",
      "341                                     Tomb Raider          5.0\n",
      "452            Red Dead Redemption Game of the Year          5.0\n",
      "1908                          Batman Arkham Origins          3.0\n",
      "2008                               Assassin's Creed          4.0\n",
      "2185                             Grand Theft Auto V          5.0\n",
      "3075                 Call of Duty 4: Modern Warfare          5.0\n",
      "3187      Call of Duty: Modern Warfare 3 - Xbox 360          5.0\n",
      "4160                 Call of Duty: Modern Warfare 2          5.0\n",
      "4183                             Assassins Creed II          5.0\n",
      "4242                  Kingdoms of Amalur: Reckoning          5.0\n",
      "4261                                   Dragon Age 2          5.0\n",
      "4356  The Elder Scrolls V: Skyrim Legendary Edition          2.0\n",
      "\n",
      "Recommendations:\n",
      "Pokemon Y\n",
      "The Legend of Zelda: Twilight Princess\n",
      "Kingdom Hearts 3D Dream Drop Distance\n",
      "Kingdom Hearts HD 1.5 Remix\n",
      "Super Mario Galaxy\n",
      "The Legend of Zelda: The Wind Waker\n",
      "Super Mario Sunshine\n",
      "Just Dance 3\n",
      "Half-Life 2 - PC\n",
      "GoldenEye 007\n",
      "Kingdom Hearts\n",
      "Kingdom Hearts II - PlayStation 2\n",
      "Super Mario Galaxy 2\n",
      "Lego Star Wars: The Complete Saga\n",
      "Super Smash Bros Melee\n"
     ]
    }
   ],
   "source": [
    "print_customer_prof(train_df, test_df, top_n)"
   ]
  },
  {
   "cell_type": "code",
   "execution_count": 22,
   "metadata": {
    "scrolled": true
   },
   "outputs": [
    {
     "name": "stdout",
     "output_type": "stream",
     "text": [
      "Precision (UU - KNNBasic - Cosine): 0.0058239917536399965\n"
     ]
    }
   ],
   "source": [
    "prec = evaluate_precision(top_n, testset, threshold=4.0)\n",
    "print('Precision (UU - KNNBasic - Cosine):', prec)\n"
   ]
  },
  {
   "cell_type": "code",
   "execution_count": 23,
   "metadata": {
    "scrolled": true
   },
   "outputs": [
    {
     "name": "stdout",
     "output_type": "stream",
     "text": [
      "MAP (UU - KNNBasic - Cosine): 0.05349709073540108\n"
     ]
    }
   ],
   "source": [
    "mean_ap = evaluate_map(top_n, testset, threshold=4.0)\n",
    "print('MAP (UU - KNNBasic - Cosine):', mean_ap)\n"
   ]
  },
  {
   "cell_type": "code",
   "execution_count": 24,
   "metadata": {},
   "outputs": [],
   "source": [
    "algo_1A = {'Model': 'UU - KNNBasic - Cosine',\n",
    "           'RMSE': rmse,\n",
    "           'Unranked Precision': prec,\n",
    "           'MAP': mean_ap}"
   ]
  },
  {
   "cell_type": "markdown",
   "metadata": {},
   "source": [
    "**Search Best K based on Recall**"
   ]
  },
  {
   "cell_type": "code",
   "execution_count": 25,
   "metadata": {},
   "outputs": [],
   "source": [
    "# # HAHAHA\n",
    "# plot_recall(range(10,61,10), \n",
    "#             trainset, \n",
    "#             testset,\n",
    "#             algorithm='KNNBasic',\n",
    "#             sim_options={'name': 'cosine', 'user_based': True})"
   ]
  },
  {
   "cell_type": "markdown",
   "metadata": {},
   "source": [
    "### 1.A.4. Make Recommendations for New Customer"
   ]
  },
  {
   "cell_type": "code",
   "execution_count": 26,
   "metadata": {
    "scrolled": false
   },
   "outputs": [
    {
     "name": "stdout",
     "output_type": "stream",
     "text": [
      "Computing the cosine similarity matrix...\n",
      "Done computing similarity matrix.\n"
     ]
    },
    {
     "data": {
      "text/html": [
       "<div>\n",
       "<style scoped>\n",
       "    .dataframe tbody tr th:only-of-type {\n",
       "        vertical-align: middle;\n",
       "    }\n",
       "\n",
       "    .dataframe tbody tr th {\n",
       "        vertical-align: top;\n",
       "    }\n",
       "\n",
       "    .dataframe thead th {\n",
       "        text-align: right;\n",
       "    }\n",
       "</style>\n",
       "<table border=\"1\" class=\"dataframe\">\n",
       "  <thead>\n",
       "    <tr style=\"text-align: right;\">\n",
       "      <th></th>\n",
       "      <th>items</th>\n",
       "      <th>rating</th>\n",
       "    </tr>\n",
       "  </thead>\n",
       "  <tbody>\n",
       "    <tr>\n",
       "      <th>38</th>\n",
       "      <td>Kingdom Hearts 3D Dream Drop Distance</td>\n",
       "      <td>5.0</td>\n",
       "    </tr>\n",
       "    <tr>\n",
       "      <th>142</th>\n",
       "      <td>Mario Kart DS</td>\n",
       "      <td>5.0</td>\n",
       "    </tr>\n",
       "    <tr>\n",
       "      <th>170</th>\n",
       "      <td>StarCraft Battle Chest</td>\n",
       "      <td>5.0</td>\n",
       "    </tr>\n",
       "    <tr>\n",
       "      <th>175</th>\n",
       "      <td>The Sims 3</td>\n",
       "      <td>5.0</td>\n",
       "    </tr>\n",
       "    <tr>\n",
       "      <th>205</th>\n",
       "      <td>Grand Theft Auto: San Andreas</td>\n",
       "      <td>5.0</td>\n",
       "    </tr>\n",
       "    <tr>\n",
       "      <th>146</th>\n",
       "      <td>Super Mario 64</td>\n",
       "      <td>5.0</td>\n",
       "    </tr>\n",
       "    <tr>\n",
       "      <th>176</th>\n",
       "      <td>The Sims 2</td>\n",
       "      <td>5.0</td>\n",
       "    </tr>\n",
       "    <tr>\n",
       "      <th>178</th>\n",
       "      <td>The Hip Hop Dance Experience</td>\n",
       "      <td>5.0</td>\n",
       "    </tr>\n",
       "    <tr>\n",
       "      <th>123</th>\n",
       "      <td>Dance Central 2 - Xbox 360</td>\n",
       "      <td>5.0</td>\n",
       "    </tr>\n",
       "    <tr>\n",
       "      <th>97</th>\n",
       "      <td>Medal of Honor: Allied Assault - PC</td>\n",
       "      <td>5.0</td>\n",
       "    </tr>\n",
       "  </tbody>\n",
       "</table>\n",
       "</div>"
      ],
      "text/plain": [
       "                                     items  rating\n",
       "38   Kingdom Hearts 3D Dream Drop Distance     5.0\n",
       "142                          Mario Kart DS     5.0\n",
       "170                 StarCraft Battle Chest     5.0\n",
       "175                             The Sims 3     5.0\n",
       "205          Grand Theft Auto: San Andreas     5.0\n",
       "146                         Super Mario 64     5.0\n",
       "176                             The Sims 2     5.0\n",
       "178           The Hip Hop Dance Experience     5.0\n",
       "123             Dance Central 2 - Xbox 360     5.0\n",
       "97     Medal of Honor: Allied Assault - PC     5.0"
      ]
     },
     "execution_count": 26,
     "metadata": {},
     "output_type": "execute_result"
    }
   ],
   "source": [
    "new_products = ['Call of Duty: Ghosts', \n",
    "                'Call of Duty: Modern Warfare 2', \n",
    "                'Battlefield 3']\n",
    "\n",
    "recs = new_recommendations(new_products, whole, algo)\n",
    "recs.head(10)"
   ]
  },
  {
   "cell_type": "markdown",
   "metadata": {},
   "source": [
    "<br>\n",
    "\n",
    "## 1.B. User-User Collaborative Filtering (KNNBasic - Pearson)\n",
    "\n",
    "A basic collaborative filtering algorithm.\n",
    "\n",
    "$${\\normalsize \\hat{r}_{ui} = \\frac{\\sum\\limits_{v \\in N^k_i(u)} \\text{sim}(u, v) \\cdot r_{vi}}{\\sum\\limits_{v \\in N^k_i(u)} \\text{sim}(u, v)} }$$\n",
    "\n",
    "Where:\n",
    "<br>\n",
    "$\\hat{r}_{ui}$ - Prediction for user $u$ and item $i$.<br>\n",
    "${v \\in N^k_i(u)}$ - $v$ users in $k$ neighborhood most similar to user $u$ for item $i$.<br>\n",
    "$\\text{sim}(u, v)$ - Similarity between user $u$ and $v$.<br>\n",
    "$r_{vi}$ - Rating for user $v$ and item $i$.<br>"
   ]
  },
  {
   "cell_type": "markdown",
   "metadata": {},
   "source": [
    "### 1.B.1. Train Model"
   ]
  },
  {
   "cell_type": "code",
   "execution_count": 27,
   "metadata": {
    "scrolled": false
   },
   "outputs": [
    {
     "name": "stdout",
     "output_type": "stream",
     "text": [
      "Computing the pearson similarity matrix...\n",
      "Done computing similarity matrix.\n"
     ]
    },
    {
     "data": {
      "text/plain": [
       "<surprise.prediction_algorithms.knns.KNNBasic at 0x1a142d89e8>"
      ]
     },
     "execution_count": 27,
     "metadata": {},
     "output_type": "execute_result"
    }
   ],
   "source": [
    "# Use user_based true/false to switch between user-based or item-based collaborative filtering\n",
    "# Here we will use user based collaborative filtering, so True.\n",
    "\n",
    "algo = KNNBasic(k=50, sim_options={'name': 'pearson', 'user_based': True})\n",
    "algo.fit(trainset)\n"
   ]
  },
  {
   "cell_type": "markdown",
   "metadata": {},
   "source": [
    "### 1.B.2. Evaluate Model (RMSE)"
   ]
  },
  {
   "cell_type": "code",
   "execution_count": 28,
   "metadata": {},
   "outputs": [
    {
     "name": "stdout",
     "output_type": "stream",
     "text": [
      "User-based (KNNBasic - Pearson) Model : Test Set\n",
      "RMSE: 1.2424\n"
     ]
    }
   ],
   "source": [
    "# Evaluate test set\n",
    "print(\"User-based (KNNBasic - Pearson) Model : Test Set\")\n",
    "test_pred = algo.test(testset)\n",
    "rmse = accuracy.rmse(test_pred, verbose=True)"
   ]
  },
  {
   "cell_type": "markdown",
   "metadata": {},
   "source": [
    "**Search Best K based on RMSE**"
   ]
  },
  {
   "cell_type": "code",
   "execution_count": 29,
   "metadata": {
    "scrolled": false
   },
   "outputs": [
    {
     "data": {
      "image/png": "[encoded data removed]",
      "text/plain": [
       "<Figure size 720x504 with 1 Axes>"
      ]
     },
     "metadata": {
      "image/png": {
       "height": 441,
       "width": 619
      }
     },
     "output_type": "display_data"
    }
   ],
   "source": [
    "scores = plot_rmse(range(1,100), \n",
    "                   trainset, \n",
    "                   testset, \n",
    "                   algorithm='KNNBasic', \n",
    "                   sim_options={'name': 'pearson', 'user_based': True})"
   ]
  },
  {
   "cell_type": "code",
   "execution_count": 30,
   "metadata": {
    "scrolled": true
   },
   "outputs": [
    {
     "data": {
      "text/html": [
       "<div>\n",
       "<style scoped>\n",
       "    .dataframe tbody tr th:only-of-type {\n",
       "        vertical-align: middle;\n",
       "    }\n",
       "\n",
       "    .dataframe tbody tr th {\n",
       "        vertical-align: top;\n",
       "    }\n",
       "\n",
       "    .dataframe thead th {\n",
       "        text-align: right;\n",
       "    }\n",
       "</style>\n",
       "<table border=\"1\" class=\"dataframe\">\n",
       "  <thead>\n",
       "    <tr style=\"text-align: right;\">\n",
       "      <th></th>\n",
       "      <th>k</th>\n",
       "      <th>test_rmse</th>\n",
       "    </tr>\n",
       "  </thead>\n",
       "  <tbody>\n",
       "    <tr>\n",
       "      <th>15</th>\n",
       "      <td>16</td>\n",
       "      <td>1.242308</td>\n",
       "    </tr>\n",
       "    <tr>\n",
       "      <th>13</th>\n",
       "      <td>14</td>\n",
       "      <td>1.242313</td>\n",
       "    </tr>\n",
       "    <tr>\n",
       "      <th>11</th>\n",
       "      <td>12</td>\n",
       "      <td>1.242318</td>\n",
       "    </tr>\n",
       "    <tr>\n",
       "      <th>12</th>\n",
       "      <td>13</td>\n",
       "      <td>1.242329</td>\n",
       "    </tr>\n",
       "    <tr>\n",
       "      <th>30</th>\n",
       "      <td>31</td>\n",
       "      <td>1.242343</td>\n",
       "    </tr>\n",
       "  </tbody>\n",
       "</table>\n",
       "</div>"
      ],
      "text/plain": [
       "     k  test_rmse\n",
       "15  16   1.242308\n",
       "13  14   1.242313\n",
       "11  12   1.242318\n",
       "12  13   1.242329\n",
       "30  31   1.242343"
      ]
     },
     "execution_count": 30,
     "metadata": {},
     "output_type": "execute_result"
    }
   ],
   "source": [
    "# Sort rmse scores and pick value of k that has lowest rmse on the test set\n",
    "scores.sort_values(by='test_rmse', ascending=True, inplace=True)\n",
    "scores.head(5)"
   ]
  },
  {
   "cell_type": "code",
   "execution_count": 31,
   "metadata": {},
   "outputs": [
    {
     "name": "stdout",
     "output_type": "stream",
     "text": [
      "Computing the pearson similarity matrix...\n",
      "Done computing similarity matrix.\n"
     ]
    },
    {
     "data": {
      "text/plain": [
       "<surprise.prediction_algorithms.knns.KNNBasic at 0x1a132f9f28>"
      ]
     },
     "execution_count": 31,
     "metadata": {},
     "output_type": "execute_result"
    }
   ],
   "source": [
    "# Refit model with best k\n",
    "best_k = scores[:1]['k'].values[0]\n",
    "\n",
    "algo = KNNBasic(k=best_k, sim_options={'name': 'pearson', 'user_based': True})\n",
    "algo.fit(trainset)"
   ]
  },
  {
   "cell_type": "markdown",
   "metadata": {},
   "source": [
    "### 1.B.3. Evaluate Model (Recall)"
   ]
  },
  {
   "cell_type": "markdown",
   "metadata": {},
   "source": [
    "**Get Recommendations for Example User**"
   ]
  },
  {
   "cell_type": "code",
   "execution_count": 32,
   "metadata": {},
   "outputs": [],
   "source": [
    "# Than predict ratings for all pairs (u, i) that are NOT in the training set.\n",
    "train_pred_set = trainset.build_anti_testset()\n",
    "train_preds = algo.test(train_pred_set)\n",
    "\n",
    "# Make predictions\n",
    "top_n = get_n_recommendations(train_preds)\n"
   ]
  },
  {
   "cell_type": "code",
   "execution_count": 33,
   "metadata": {},
   "outputs": [
    {
     "name": "stdout",
     "output_type": "stream",
     "text": [
      "Pre-2014 selections (customer id - 13516428):\n",
      "                              product_title  star_rating\n",
      "7815   Red Dead Redemption Game of the Year            5\n",
      "9838                              Fable III            3\n",
      "12867                          Halo 3: ODST            4\n",
      "16011            Need for Speed Most Wanted            1\n",
      "25538                         Battlefield 3            5\n",
      "\n",
      "Post-2014 selections (customer id - 13516428):\n",
      "                                      product_title  star_rating\n",
      "341                                     Tomb Raider          5.0\n",
      "452            Red Dead Redemption Game of the Year          5.0\n",
      "1908                          Batman Arkham Origins          3.0\n",
      "2008                               Assassin's Creed          4.0\n",
      "2185                             Grand Theft Auto V          5.0\n",
      "3075                 Call of Duty 4: Modern Warfare          5.0\n",
      "3187      Call of Duty: Modern Warfare 3 - Xbox 360          5.0\n",
      "4160                 Call of Duty: Modern Warfare 2          5.0\n",
      "4183                             Assassins Creed II          5.0\n",
      "4242                  Kingdoms of Amalur: Reckoning          5.0\n",
      "4261                                   Dragon Age 2          5.0\n",
      "4356  The Elder Scrolls V: Skyrim Legendary Edition          2.0\n",
      "\n",
      "Recommendations:\n",
      "Far Cry 3\n",
      "Halo 3\n",
      "Halo Reach\n",
      "The Last of Us\n",
      "Tomb Raider\n",
      "God of War: Ascension\n",
      "Halo 4\n",
      "BioShock Infinite\n",
      "Grand Theft Auto V\n",
      "Dishonored\n",
      "LEGO: Marvel\n",
      "Assassin's Creed: Brotherhood\n",
      "Borderlands 2\n",
      "Assassins Creed II\n",
      "Call of Duty: Black Ops - Xbox 360\n"
     ]
    }
   ],
   "source": [
    "print_customer_prof(train_df, test_df, top_n)"
   ]
  },
  {
   "cell_type": "code",
   "execution_count": 34,
   "metadata": {},
   "outputs": [
    {
     "name": "stdout",
     "output_type": "stream",
     "text": [
      "Precision (UU - KNNBasic - Pearson): 0.014456899884035562\n"
     ]
    }
   ],
   "source": [
    "prec = evaluate_precision(top_n, testset, threshold=4.0)\n",
    "print('Precision (UU - KNNBasic - Pearson):', prec)\n"
   ]
  },
  {
   "cell_type": "code",
   "execution_count": 35,
   "metadata": {},
   "outputs": [
    {
     "name": "stdout",
     "output_type": "stream",
     "text": [
      "MAP (UU - KNNBasic - Pearson): 0.15406084591634137\n"
     ]
    }
   ],
   "source": [
    "mean_ap = evaluate_map(top_n, testset, threshold=4.0)\n",
    "print('MAP (UU - KNNBasic - Pearson):', mean_ap)\n"
   ]
  },
  {
   "cell_type": "code",
   "execution_count": 36,
   "metadata": {},
   "outputs": [],
   "source": [
    "algo_1B = {'Model': 'UU - KNNBasic - Pearson',\n",
    "           'RMSE': rmse,\n",
    "           'Unranked Precision': prec,\n",
    "           'MAP': mean_ap}"
   ]
  },
  {
   "cell_type": "markdown",
   "metadata": {},
   "source": [
    "**Search Best K based on Recall**"
   ]
  },
  {
   "cell_type": "code",
   "execution_count": 37,
   "metadata": {},
   "outputs": [],
   "source": [
    "# # HAHAHA\n",
    "# plot_recall(range(10,61,10), \n",
    "#             trainset, \n",
    "#             testset,\n",
    "#             algorithm='KNNBasic',\n",
    "#             sim_options={'name': 'pearson', 'user_based': True})"
   ]
  },
  {
   "cell_type": "markdown",
   "metadata": {},
   "source": [
    "### 1.B.4. Make Recommendations for New Customer"
   ]
  },
  {
   "cell_type": "code",
   "execution_count": 38,
   "metadata": {
    "scrolled": false
   },
   "outputs": [
    {
     "name": "stdout",
     "output_type": "stream",
     "text": [
      "Computing the pearson similarity matrix...\n",
      "Done computing similarity matrix.\n"
     ]
    },
    {
     "data": {
      "text/html": [
       "<div>\n",
       "<style scoped>\n",
       "    .dataframe tbody tr th:only-of-type {\n",
       "        vertical-align: middle;\n",
       "    }\n",
       "\n",
       "    .dataframe tbody tr th {\n",
       "        vertical-align: top;\n",
       "    }\n",
       "\n",
       "    .dataframe thead th {\n",
       "        text-align: right;\n",
       "    }\n",
       "</style>\n",
       "<table border=\"1\" class=\"dataframe\">\n",
       "  <thead>\n",
       "    <tr style=\"text-align: right;\">\n",
       "      <th></th>\n",
       "      <th>items</th>\n",
       "      <th>rating</th>\n",
       "    </tr>\n",
       "  </thead>\n",
       "  <tbody>\n",
       "    <tr>\n",
       "      <th>27</th>\n",
       "      <td>Call of Duty: Ghosts</td>\n",
       "      <td>5.000000</td>\n",
       "    </tr>\n",
       "    <tr>\n",
       "      <th>4</th>\n",
       "      <td>Battlefield 3</td>\n",
       "      <td>5.000000</td>\n",
       "    </tr>\n",
       "    <tr>\n",
       "      <th>5</th>\n",
       "      <td>Call of Duty: Modern Warfare 2</td>\n",
       "      <td>5.000000</td>\n",
       "    </tr>\n",
       "    <tr>\n",
       "      <th>0</th>\n",
       "      <td>Battlefield 4</td>\n",
       "      <td>4.145896</td>\n",
       "    </tr>\n",
       "    <tr>\n",
       "      <th>155</th>\n",
       "      <td>Call of Duty: Modern Warfare 3 - Playstation 3</td>\n",
       "      <td>4.145896</td>\n",
       "    </tr>\n",
       "    <tr>\n",
       "      <th>144</th>\n",
       "      <td>Super Smash Bros. Brawl</td>\n",
       "      <td>4.145896</td>\n",
       "    </tr>\n",
       "    <tr>\n",
       "      <th>145</th>\n",
       "      <td>Super Mario Galaxy (Nintendo Selects)</td>\n",
       "      <td>4.145896</td>\n",
       "    </tr>\n",
       "    <tr>\n",
       "      <th>146</th>\n",
       "      <td>Super Mario 64</td>\n",
       "      <td>4.145896</td>\n",
       "    </tr>\n",
       "    <tr>\n",
       "      <th>147</th>\n",
       "      <td>Uncharted 2: Among Thieves - Playstation 3</td>\n",
       "      <td>4.145896</td>\n",
       "    </tr>\n",
       "    <tr>\n",
       "      <th>148</th>\n",
       "      <td>NBA 2K13</td>\n",
       "      <td>4.145896</td>\n",
       "    </tr>\n",
       "  </tbody>\n",
       "</table>\n",
       "</div>"
      ],
      "text/plain": [
       "                                              items    rating\n",
       "27                             Call of Duty: Ghosts  5.000000\n",
       "4                                     Battlefield 3  5.000000\n",
       "5                    Call of Duty: Modern Warfare 2  5.000000\n",
       "0                                     Battlefield 4  4.145896\n",
       "155  Call of Duty: Modern Warfare 3 - Playstation 3  4.145896\n",
       "144                         Super Smash Bros. Brawl  4.145896\n",
       "145           Super Mario Galaxy (Nintendo Selects)  4.145896\n",
       "146                                  Super Mario 64  4.145896\n",
       "147      Uncharted 2: Among Thieves - Playstation 3  4.145896\n",
       "148                                        NBA 2K13  4.145896"
      ]
     },
     "execution_count": 38,
     "metadata": {},
     "output_type": "execute_result"
    }
   ],
   "source": [
    "new_products = ['Call of Duty: Ghosts', \n",
    "                'Call of Duty: Modern Warfare 2', \n",
    "                'Battlefield 3']\n",
    "\n",
    "recs = new_recommendations(new_products, whole, algo)\n",
    "recs.head(10)"
   ]
  },
  {
   "cell_type": "markdown",
   "metadata": {},
   "source": [
    "<br>\n",
    "## 2.A. Item-Item Collaborative Filtering (KNNBasic - Cosine)\n",
    "\n",
    "A basic collaborative filtering algorithm.\n",
    "\n",
    "$${\\normalsize \\hat{r}_{ui} = \\frac{\\sum\\limits_{j \\in N^k_u(i)} \\text{sim}(i, j) \\cdot r_{uj}}{\\sum\\limits_{j \\in N^k_u(i)} \\text{sim}(i, j)} }$$\n",
    "\n",
    "Where:\n",
    "<br>\n",
    "$\\hat{r}_{ui}$ - Prediction for user $u$ and item $i$.<br>\n",
    "${j \\in N^k_u(i)}$ - $j$ items in $k$ neighborhood most similar to item $i$ for user $u$.<br>\n",
    "$\\text{sim}(i, j)$ - Similarity between item $i$ and $j$.<br>\n",
    "$r_{uj}$ - Rating for item $j$ and user $u$.<br>"
   ]
  },
  {
   "cell_type": "markdown",
   "metadata": {},
   "source": [
    "### 2.A.1. Train Model"
   ]
  },
  {
   "cell_type": "code",
   "execution_count": 39,
   "metadata": {
    "scrolled": false
   },
   "outputs": [
    {
     "name": "stdout",
     "output_type": "stream",
     "text": [
      "Computing the cosine similarity matrix...\n",
      "Done computing similarity matrix.\n"
     ]
    },
    {
     "data": {
      "text/plain": [
       "<surprise.prediction_algorithms.knns.KNNBasic at 0x1a13b3c470>"
      ]
     },
     "execution_count": 39,
     "metadata": {},
     "output_type": "execute_result"
    }
   ],
   "source": [
    "# Use user_based true/false to switch between user-based or item-based collaborative filtering\n",
    "# Here we will use user based collaborative filtering, so True.\n",
    "\n",
    "algo = KNNBasic(k=50, sim_options={'name': 'cosine', 'user_based': False})\n",
    "algo.fit(trainset)\n"
   ]
  },
  {
   "cell_type": "markdown",
   "metadata": {},
   "source": [
    "### 2.A.2. Evaluate Model (RMSE)"
   ]
  },
  {
   "cell_type": "code",
   "execution_count": 40,
   "metadata": {},
   "outputs": [
    {
     "name": "stdout",
     "output_type": "stream",
     "text": [
      "Item-based (KNNBasic - Cosine) Model : Test Set\n",
      "RMSE: 1.3004\n"
     ]
    }
   ],
   "source": [
    "# Evaluate test set\n",
    "print(\"Item-based (KNNBasic - Cosine) Model : Test Set\")\n",
    "test_pred = algo.test(testset)\n",
    "rmse = accuracy.rmse(test_pred, verbose=True)"
   ]
  },
  {
   "cell_type": "markdown",
   "metadata": {},
   "source": [
    "**Search Best K based on RMSE**"
   ]
  },
  {
   "cell_type": "code",
   "execution_count": 41,
   "metadata": {},
   "outputs": [
    {
     "data": {
      "image/png": "[encoded data removed]",
      "text/plain": [
       "<Figure size 720x504 with 1 Axes>"
      ]
     },
     "metadata": {
      "image/png": {
       "height": 441,
       "width": 614
      }
     },
     "output_type": "display_data"
    }
   ],
   "source": [
    "scores = plot_rmse(range(1,100), \n",
    "                   trainset, \n",
    "                   testset, \n",
    "                   algorithm='KNNBasic', \n",
    "                   sim_options={'name': 'cosine', 'user_based': False})"
   ]
  },
  {
   "cell_type": "code",
   "execution_count": 42,
   "metadata": {
    "scrolled": true
   },
   "outputs": [
    {
     "data": {
      "text/html": [
       "<div>\n",
       "<style scoped>\n",
       "    .dataframe tbody tr th:only-of-type {\n",
       "        vertical-align: middle;\n",
       "    }\n",
       "\n",
       "    .dataframe tbody tr th {\n",
       "        vertical-align: top;\n",
       "    }\n",
       "\n",
       "    .dataframe thead th {\n",
       "        text-align: right;\n",
       "    }\n",
       "</style>\n",
       "<table border=\"1\" class=\"dataframe\">\n",
       "  <thead>\n",
       "    <tr style=\"text-align: right;\">\n",
       "      <th></th>\n",
       "      <th>k</th>\n",
       "      <th>test_rmse</th>\n",
       "    </tr>\n",
       "  </thead>\n",
       "  <tbody>\n",
       "    <tr>\n",
       "      <th>27</th>\n",
       "      <td>28</td>\n",
       "      <td>1.300379</td>\n",
       "    </tr>\n",
       "    <tr>\n",
       "      <th>25</th>\n",
       "      <td>26</td>\n",
       "      <td>1.300381</td>\n",
       "    </tr>\n",
       "    <tr>\n",
       "      <th>23</th>\n",
       "      <td>24</td>\n",
       "      <td>1.300384</td>\n",
       "    </tr>\n",
       "    <tr>\n",
       "      <th>22</th>\n",
       "      <td>23</td>\n",
       "      <td>1.300386</td>\n",
       "    </tr>\n",
       "    <tr>\n",
       "      <th>19</th>\n",
       "      <td>20</td>\n",
       "      <td>1.300394</td>\n",
       "    </tr>\n",
       "  </tbody>\n",
       "</table>\n",
       "</div>"
      ],
      "text/plain": [
       "     k  test_rmse\n",
       "27  28   1.300379\n",
       "25  26   1.300381\n",
       "23  24   1.300384\n",
       "22  23   1.300386\n",
       "19  20   1.300394"
      ]
     },
     "execution_count": 42,
     "metadata": {},
     "output_type": "execute_result"
    }
   ],
   "source": [
    "# Sort rmse scores and pick value of k that has lowest rmse on the test set\n",
    "scores.sort_values(by='test_rmse', ascending=True, inplace=True)\n",
    "scores.head(5)"
   ]
  },
  {
   "cell_type": "code",
   "execution_count": 43,
   "metadata": {},
   "outputs": [
    {
     "name": "stdout",
     "output_type": "stream",
     "text": [
      "Computing the cosine similarity matrix...\n",
      "Done computing similarity matrix.\n"
     ]
    },
    {
     "data": {
      "text/plain": [
       "<surprise.prediction_algorithms.knns.KNNBasic at 0x1a68788518>"
      ]
     },
     "execution_count": 43,
     "metadata": {},
     "output_type": "execute_result"
    }
   ],
   "source": [
    "# Refit model with best k\n",
    "best_k = scores[:1]['k'].values[0]\n",
    "\n",
    "algo = KNNBasic(k=best_k, sim_options={'name': 'cosine', 'user_based': False})\n",
    "algo.fit(trainset)"
   ]
  },
  {
   "cell_type": "markdown",
   "metadata": {},
   "source": [
    "### 2.A.3. Evaluate Model (Recall)"
   ]
  },
  {
   "cell_type": "markdown",
   "metadata": {},
   "source": [
    "**Get Recommendations for Example User**"
   ]
  },
  {
   "cell_type": "code",
   "execution_count": 44,
   "metadata": {},
   "outputs": [],
   "source": [
    "# Than predict ratings for all pairs (u, i) that are NOT in the training set.\n",
    "train_pred_set = trainset.build_anti_testset()\n",
    "train_preds = algo.test(train_pred_set)\n",
    "\n",
    "# Make predictions\n",
    "top_n = get_n_recommendations(train_preds)\n"
   ]
  },
  {
   "cell_type": "code",
   "execution_count": 45,
   "metadata": {},
   "outputs": [
    {
     "name": "stdout",
     "output_type": "stream",
     "text": [
      "Pre-2014 selections (customer id - 13516428):\n",
      "                              product_title  star_rating\n",
      "7815   Red Dead Redemption Game of the Year            5\n",
      "9838                              Fable III            3\n",
      "12867                          Halo 3: ODST            4\n",
      "16011            Need for Speed Most Wanted            1\n",
      "25538                         Battlefield 3            5\n",
      "\n",
      "Post-2014 selections (customer id - 13516428):\n",
      "                                      product_title  star_rating\n",
      "341                                     Tomb Raider          5.0\n",
      "452            Red Dead Redemption Game of the Year          5.0\n",
      "1908                          Batman Arkham Origins          3.0\n",
      "2008                               Assassin's Creed          4.0\n",
      "2185                             Grand Theft Auto V          5.0\n",
      "3075                 Call of Duty 4: Modern Warfare          5.0\n",
      "3187      Call of Duty: Modern Warfare 3 - Xbox 360          5.0\n",
      "4160                 Call of Duty: Modern Warfare 2          5.0\n",
      "4183                             Assassins Creed II          5.0\n",
      "4242                  Kingdoms of Amalur: Reckoning          5.0\n",
      "4261                                   Dragon Age 2          5.0\n",
      "4356  The Elder Scrolls V: Skyrim Legendary Edition          2.0\n",
      "\n",
      "Recommendations:\n",
      "Luigi's Mansion: Dark Moon\n",
      "Kingdom Hearts HD 1.5 Remix\n",
      "Luigi's Mansion - Gamecube\n",
      "GoldenEye 007\n",
      "Minecraft - Xbox 360\n",
      "Kingdom Hearts\n",
      "Ryse: Son of Rome\n",
      "PS3 Journey Collection\n",
      "Super Smash Bros Melee\n",
      "God of War - PlayStation 2\n",
      "NCAA Football 13\n",
      "Gran Turismo 3 A-spec\n",
      "Pokemon X\n",
      "Madden NFL 25 Anniversary Edition with NFL Sunday Ticket -Xbox 360\n",
      "Grand Theft Auto: Vice City\n"
     ]
    }
   ],
   "source": [
    "print_customer_prof(train_df, test_df, top_n)"
   ]
  },
  {
   "cell_type": "code",
   "execution_count": 46,
   "metadata": {},
   "outputs": [
    {
     "name": "stdout",
     "output_type": "stream",
     "text": [
      "Precision (II - KNNBasic - Cosine): 0.00930292488081433\n"
     ]
    }
   ],
   "source": [
    "prec = evaluate_precision(top_n, testset, threshold=4.0)\n",
    "print('Precision (II - KNNBasic - Cosine):', prec)\n"
   ]
  },
  {
   "cell_type": "code",
   "execution_count": 47,
   "metadata": {},
   "outputs": [
    {
     "name": "stdout",
     "output_type": "stream",
     "text": [
      "MAP (II - KNNBasic - Cosine): 0.0967699810249907\n"
     ]
    }
   ],
   "source": [
    "mean_ap = evaluate_map(top_n, testset, threshold=4.0)\n",
    "print('MAP (II - KNNBasic - Cosine):', mean_ap)\n"
   ]
  },
  {
   "cell_type": "code",
   "execution_count": 48,
   "metadata": {},
   "outputs": [],
   "source": [
    "algo_2A = {'Model': 'II - KNNBasic - Cosine',\n",
    "           'RMSE': rmse,\n",
    "           'Unranked Precision': prec,\n",
    "           'MAP': mean_ap}"
   ]
  },
  {
   "cell_type": "markdown",
   "metadata": {},
   "source": [
    "**Search Best K based on Recall**"
   ]
  },
  {
   "cell_type": "code",
   "execution_count": 49,
   "metadata": {},
   "outputs": [],
   "source": [
    "# # HAHAHA\n",
    "# plot_recall(range(10,61,10), \n",
    "#             trainset, \n",
    "#             testset,\n",
    "#             algorithm='KNNBasic',\n",
    "#             sim_options={'name': 'cosine', 'user_based': False})"
   ]
  },
  {
   "cell_type": "markdown",
   "metadata": {},
   "source": [
    "### 2.A.4. Make Recommendations for New Customer"
   ]
  },
  {
   "cell_type": "code",
   "execution_count": 50,
   "metadata": {
    "scrolled": false
   },
   "outputs": [
    {
     "name": "stdout",
     "output_type": "stream",
     "text": [
      "Computing the cosine similarity matrix...\n",
      "Done computing similarity matrix.\n"
     ]
    },
    {
     "data": {
      "text/html": [
       "<div>\n",
       "<style scoped>\n",
       "    .dataframe tbody tr th:only-of-type {\n",
       "        vertical-align: middle;\n",
       "    }\n",
       "\n",
       "    .dataframe tbody tr th {\n",
       "        vertical-align: top;\n",
       "    }\n",
       "\n",
       "    .dataframe thead th {\n",
       "        text-align: right;\n",
       "    }\n",
       "</style>\n",
       "<table border=\"1\" class=\"dataframe\">\n",
       "  <thead>\n",
       "    <tr style=\"text-align: right;\">\n",
       "      <th></th>\n",
       "      <th>items</th>\n",
       "      <th>rating</th>\n",
       "    </tr>\n",
       "  </thead>\n",
       "  <tbody>\n",
       "    <tr>\n",
       "      <th>0</th>\n",
       "      <td>Battlefield 4</td>\n",
       "      <td>5.0</td>\n",
       "    </tr>\n",
       "    <tr>\n",
       "      <th>126</th>\n",
       "      <td>Uncharted: Drake's Fortune - Playstation 3</td>\n",
       "      <td>5.0</td>\n",
       "    </tr>\n",
       "    <tr>\n",
       "      <th>128</th>\n",
       "      <td>Lego Star Wars: The Complete Saga</td>\n",
       "      <td>5.0</td>\n",
       "    </tr>\n",
       "    <tr>\n",
       "      <th>130</th>\n",
       "      <td>Diablo III - PC/Mac</td>\n",
       "      <td>5.0</td>\n",
       "    </tr>\n",
       "    <tr>\n",
       "      <th>132</th>\n",
       "      <td>Mass Effect 2</td>\n",
       "      <td>5.0</td>\n",
       "    </tr>\n",
       "    <tr>\n",
       "      <th>133</th>\n",
       "      <td>PlayStation All-Stars Battle Royale</td>\n",
       "      <td>5.0</td>\n",
       "    </tr>\n",
       "    <tr>\n",
       "      <th>134</th>\n",
       "      <td>NBA 2K14</td>\n",
       "      <td>5.0</td>\n",
       "    </tr>\n",
       "    <tr>\n",
       "      <th>135</th>\n",
       "      <td>Rocksmith</td>\n",
       "      <td>5.0</td>\n",
       "    </tr>\n",
       "    <tr>\n",
       "      <th>137</th>\n",
       "      <td>New Super Mario Bros</td>\n",
       "      <td>5.0</td>\n",
       "    </tr>\n",
       "    <tr>\n",
       "      <th>138</th>\n",
       "      <td>Mortal Kombat vs. DC Universe</td>\n",
       "      <td>5.0</td>\n",
       "    </tr>\n",
       "  </tbody>\n",
       "</table>\n",
       "</div>"
      ],
      "text/plain": [
       "                                          items  rating\n",
       "0                                 Battlefield 4     5.0\n",
       "126  Uncharted: Drake's Fortune - Playstation 3     5.0\n",
       "128           Lego Star Wars: The Complete Saga     5.0\n",
       "130                         Diablo III - PC/Mac     5.0\n",
       "132                               Mass Effect 2     5.0\n",
       "133         PlayStation All-Stars Battle Royale     5.0\n",
       "134                                    NBA 2K14     5.0\n",
       "135                                   Rocksmith     5.0\n",
       "137                        New Super Mario Bros     5.0\n",
       "138               Mortal Kombat vs. DC Universe     5.0"
      ]
     },
     "execution_count": 50,
     "metadata": {},
     "output_type": "execute_result"
    }
   ],
   "source": [
    "new_products = ['Call of Duty: Ghosts', \n",
    "                'Call of Duty: Modern Warfare 2', \n",
    "                'Battlefield 3']\n",
    "\n",
    "recs = new_recommendations(new_products, whole, algo)\n",
    "recs.head(10)"
   ]
  },
  {
   "cell_type": "markdown",
   "metadata": {},
   "source": [
    "<br>\n",
    "## 2.B. Item-Item Collaborative Filtering (KNNBasic - Pearson)\n",
    "\n",
    "A basic collaborative filtering algorithm.\n",
    "\n",
    "$${\\normalsize \\hat{r}_{ui} = \\frac{\\sum\\limits_{j \\in N^k_u(i)} \\text{sim}(i, j) \\cdot r_{uj}}{\\sum\\limits_{j \\in N^k_u(i)} \\text{sim}(i, j)} }$$\n",
    "\n",
    "Where:\n",
    "<br>\n",
    "$\\hat{r}_{ui}$ - Prediction for user $u$ and item $i$.<br>\n",
    "${j \\in N^k_u(i)}$ - $j$ items in $k$ neighborhood most similar to item $i$ for user $u$.<br>\n",
    "$\\text{sim}(i, j)$ - Similarity between item $i$ and $j$.<br>\n",
    "$r_{uj}$ - Rating for item $j$ and user $u$.<br>"
   ]
  },
  {
   "cell_type": "markdown",
   "metadata": {},
   "source": [
    "### 2.B.1. Train Model"
   ]
  },
  {
   "cell_type": "code",
   "execution_count": 51,
   "metadata": {
    "scrolled": false
   },
   "outputs": [
    {
     "name": "stdout",
     "output_type": "stream",
     "text": [
      "Computing the pearson similarity matrix...\n",
      "Done computing similarity matrix.\n"
     ]
    },
    {
     "data": {
      "text/plain": [
       "<surprise.prediction_algorithms.knns.KNNBasic at 0x1a13a48c50>"
      ]
     },
     "execution_count": 51,
     "metadata": {},
     "output_type": "execute_result"
    }
   ],
   "source": [
    "# Use user_based true/false to switch between user-based or item-based collaborative filtering\n",
    "# Here we will use user based collaborative filtering, so True.\n",
    "\n",
    "algo = KNNBasic(k=50, sim_options={'name': 'pearson', 'user_based': False})\n",
    "algo.fit(trainset)\n"
   ]
  },
  {
   "cell_type": "markdown",
   "metadata": {},
   "source": [
    "### 2.B.2. Evaluate Model (RMSE)"
   ]
  },
  {
   "cell_type": "code",
   "execution_count": 52,
   "metadata": {},
   "outputs": [
    {
     "name": "stdout",
     "output_type": "stream",
     "text": [
      "Item-based (KNNBasic - Pearson) Model : Test Set\n",
      "RMSE: 1.2772\n"
     ]
    }
   ],
   "source": [
    "# Evaluate test set\n",
    "print(\"Item-based (KNNBasic - Pearson) Model : Test Set\")\n",
    "test_pred = algo.test(testset)\n",
    "rmse = accuracy.rmse(test_pred, verbose=True)"
   ]
  },
  {
   "cell_type": "markdown",
   "metadata": {},
   "source": [
    "**Search Best K based on RMSE**"
   ]
  },
  {
   "cell_type": "code",
   "execution_count": 53,
   "metadata": {},
   "outputs": [
    {
     "data": {
      "image/png": "[encoded data removed]",
      "text/plain": [
       "<Figure size 720x504 with 1 Axes>"
      ]
     },
     "metadata": {
      "image/png": {
       "height": 441,
       "width": 614
      }
     },
     "output_type": "display_data"
    }
   ],
   "source": [
    "scores = plot_rmse(range(1,100), \n",
    "                   trainset, \n",
    "                   testset, \n",
    "                   algorithm='KNNBasic', \n",
    "                   sim_options={'name': 'pearson', 'user_based': False})"
   ]
  },
  {
   "cell_type": "code",
   "execution_count": 54,
   "metadata": {
    "scrolled": true
   },
   "outputs": [
    {
     "data": {
      "text/html": [
       "<div>\n",
       "<style scoped>\n",
       "    .dataframe tbody tr th:only-of-type {\n",
       "        vertical-align: middle;\n",
       "    }\n",
       "\n",
       "    .dataframe tbody tr th {\n",
       "        vertical-align: top;\n",
       "    }\n",
       "\n",
       "    .dataframe thead th {\n",
       "        text-align: right;\n",
       "    }\n",
       "</style>\n",
       "<table border=\"1\" class=\"dataframe\">\n",
       "  <thead>\n",
       "    <tr style=\"text-align: right;\">\n",
       "      <th></th>\n",
       "      <th>k</th>\n",
       "      <th>test_rmse</th>\n",
       "    </tr>\n",
       "  </thead>\n",
       "  <tbody>\n",
       "    <tr>\n",
       "      <th>10</th>\n",
       "      <td>11</td>\n",
       "      <td>1.277203</td>\n",
       "    </tr>\n",
       "    <tr>\n",
       "      <th>11</th>\n",
       "      <td>12</td>\n",
       "      <td>1.277211</td>\n",
       "    </tr>\n",
       "    <tr>\n",
       "      <th>13</th>\n",
       "      <td>14</td>\n",
       "      <td>1.277212</td>\n",
       "    </tr>\n",
       "    <tr>\n",
       "      <th>12</th>\n",
       "      <td>13</td>\n",
       "      <td>1.277213</td>\n",
       "    </tr>\n",
       "    <tr>\n",
       "      <th>18</th>\n",
       "      <td>19</td>\n",
       "      <td>1.277219</td>\n",
       "    </tr>\n",
       "  </tbody>\n",
       "</table>\n",
       "</div>"
      ],
      "text/plain": [
       "     k  test_rmse\n",
       "10  11   1.277203\n",
       "11  12   1.277211\n",
       "13  14   1.277212\n",
       "12  13   1.277213\n",
       "18  19   1.277219"
      ]
     },
     "execution_count": 54,
     "metadata": {},
     "output_type": "execute_result"
    }
   ],
   "source": [
    "# Sort rmse scores and pick value of k that has lowest rmse on the test set\n",
    "scores.sort_values(by='test_rmse', ascending=True, inplace=True)\n",
    "scores.head(5)"
   ]
  },
  {
   "cell_type": "code",
   "execution_count": 55,
   "metadata": {},
   "outputs": [
    {
     "name": "stdout",
     "output_type": "stream",
     "text": [
      "Computing the pearson similarity matrix...\n",
      "Done computing similarity matrix.\n"
     ]
    },
    {
     "data": {
      "text/plain": [
       "<surprise.prediction_algorithms.knns.KNNBasic at 0x1a13b5cd30>"
      ]
     },
     "execution_count": 55,
     "metadata": {},
     "output_type": "execute_result"
    }
   ],
   "source": [
    "# Refit model with best k\n",
    "best_k = scores[:1]['k'].values[0]\n",
    "\n",
    "algo = KNNBasic(k=best_k, sim_options={'name': 'pearson', 'user_based': False})\n",
    "algo.fit(trainset)"
   ]
  },
  {
   "cell_type": "markdown",
   "metadata": {},
   "source": [
    "### 2.B.3. Evaluate Model (Recall)"
   ]
  },
  {
   "cell_type": "markdown",
   "metadata": {},
   "source": [
    "**Get Recommendations for Example User**"
   ]
  },
  {
   "cell_type": "code",
   "execution_count": 56,
   "metadata": {},
   "outputs": [],
   "source": [
    "# Than predict ratings for all pairs (u, i) that are NOT in the training set.\n",
    "train_pred_set = trainset.build_anti_testset()\n",
    "train_preds = algo.test(train_pred_set)\n",
    "\n",
    "# Make predictions\n",
    "top_n = get_n_recommendations(train_preds)\n"
   ]
  },
  {
   "cell_type": "code",
   "execution_count": 57,
   "metadata": {},
   "outputs": [
    {
     "name": "stdout",
     "output_type": "stream",
     "text": [
      "Pre-2014 selections (customer id - 13516428):\n",
      "                              product_title  star_rating\n",
      "7815   Red Dead Redemption Game of the Year            5\n",
      "9838                              Fable III            3\n",
      "12867                          Halo 3: ODST            4\n",
      "16011            Need for Speed Most Wanted            1\n",
      "25538                         Battlefield 3            5\n",
      "\n",
      "Post-2014 selections (customer id - 13516428):\n",
      "                                      product_title  star_rating\n",
      "341                                     Tomb Raider          5.0\n",
      "452            Red Dead Redemption Game of the Year          5.0\n",
      "1908                          Batman Arkham Origins          3.0\n",
      "2008                               Assassin's Creed          4.0\n",
      "2185                             Grand Theft Auto V          5.0\n",
      "3075                 Call of Duty 4: Modern Warfare          5.0\n",
      "3187      Call of Duty: Modern Warfare 3 - Xbox 360          5.0\n",
      "4160                 Call of Duty: Modern Warfare 2          5.0\n",
      "4183                             Assassins Creed II          5.0\n",
      "4242                  Kingdoms of Amalur: Reckoning          5.0\n",
      "4261                                   Dragon Age 2          5.0\n",
      "4356  The Elder Scrolls V: Skyrim Legendary Edition          2.0\n",
      "\n",
      "Recommendations:\n",
      "Luigi's Mansion: Dark Moon\n",
      "Forza Motorsport 4\n",
      "LittleBigPlanet\n",
      "Assassin's Creed 4\n",
      "BEYOND: Two Souls\n",
      "Grand Theft Auto V\n",
      "LEGO: Marvel\n",
      "Fire Emblem: Awakening\n",
      "Resident Evil 5\n",
      "The Legend of Zelda: Ocarina of Time 3D\n",
      "New Super Mario Bros. 2\n",
      "Animal Crossing: New Leaf\n",
      "Mario Party 9\n",
      "Minecraft - Xbox 360\n",
      "The Elder Scrolls V: Skyrim Legendary Edition\n"
     ]
    }
   ],
   "source": [
    "print_customer_prof(train_df, test_df, top_n)"
   ]
  },
  {
   "cell_type": "code",
   "execution_count": 58,
   "metadata": {},
   "outputs": [
    {
     "name": "stdout",
     "output_type": "stream",
     "text": [
      "Precision (II - KNNBasic - Pearson): 0.014070351758793972\n"
     ]
    }
   ],
   "source": [
    "prec = evaluate_precision(top_n, testset, threshold=4.0)\n",
    "print('Precision (II - KNNBasic - Pearson):', prec)\n"
   ]
  },
  {
   "cell_type": "code",
   "execution_count": 59,
   "metadata": {},
   "outputs": [
    {
     "name": "stdout",
     "output_type": "stream",
     "text": [
      "MAP (II - KNNBasic - Pearson): 0.13487697030497936\n"
     ]
    }
   ],
   "source": [
    "mean_ap = evaluate_map(top_n, testset, threshold=4.0)\n",
    "print('MAP (II - KNNBasic - Pearson):', mean_ap)\n"
   ]
  },
  {
   "cell_type": "code",
   "execution_count": 60,
   "metadata": {},
   "outputs": [],
   "source": [
    "algo_2B = {'Model': 'II - KNNBasic - Pearson',\n",
    "           'RMSE': rmse,\n",
    "           'Unranked Precision': prec,\n",
    "           'MAP': mean_ap}"
   ]
  },
  {
   "cell_type": "markdown",
   "metadata": {},
   "source": [
    "**Search Best K based on Recall**"
   ]
  },
  {
   "cell_type": "code",
   "execution_count": 61,
   "metadata": {},
   "outputs": [],
   "source": [
    "# # HAHAHA\n",
    "# plot_recall(range(10,61,10), \n",
    "#             trainset, \n",
    "#             testset,\n",
    "#             algorithm='KNNBasic',\n",
    "#             sim_options={'name': 'pearson', 'user_based': False})"
   ]
  },
  {
   "cell_type": "markdown",
   "metadata": {},
   "source": [
    "### 2.B.4. Make Recommendations for New Customer"
   ]
  },
  {
   "cell_type": "code",
   "execution_count": 62,
   "metadata": {
    "scrolled": false
   },
   "outputs": [
    {
     "name": "stdout",
     "output_type": "stream",
     "text": [
      "Computing the pearson similarity matrix...\n",
      "Done computing similarity matrix.\n"
     ]
    },
    {
     "data": {
      "text/html": [
       "<div>\n",
       "<style scoped>\n",
       "    .dataframe tbody tr th:only-of-type {\n",
       "        vertical-align: middle;\n",
       "    }\n",
       "\n",
       "    .dataframe tbody tr th {\n",
       "        vertical-align: top;\n",
       "    }\n",
       "\n",
       "    .dataframe thead th {\n",
       "        text-align: right;\n",
       "    }\n",
       "</style>\n",
       "<table border=\"1\" class=\"dataframe\">\n",
       "  <thead>\n",
       "    <tr style=\"text-align: right;\">\n",
       "      <th></th>\n",
       "      <th>items</th>\n",
       "      <th>rating</th>\n",
       "    </tr>\n",
       "  </thead>\n",
       "  <tbody>\n",
       "    <tr>\n",
       "      <th>0</th>\n",
       "      <td>Battlefield 4</td>\n",
       "      <td>5.0</td>\n",
       "    </tr>\n",
       "    <tr>\n",
       "      <th>104</th>\n",
       "      <td>Killzone: Shadow Fall (PlayStation 4)</td>\n",
       "      <td>5.0</td>\n",
       "    </tr>\n",
       "    <tr>\n",
       "      <th>106</th>\n",
       "      <td>Call of Duty: Black Ops II - PlayStation 3</td>\n",
       "      <td>5.0</td>\n",
       "    </tr>\n",
       "    <tr>\n",
       "      <th>107</th>\n",
       "      <td>Ryse: Son of Rome</td>\n",
       "      <td>5.0</td>\n",
       "    </tr>\n",
       "    <tr>\n",
       "      <th>108</th>\n",
       "      <td>Red Dead Redemption</td>\n",
       "      <td>5.0</td>\n",
       "    </tr>\n",
       "    <tr>\n",
       "      <th>110</th>\n",
       "      <td>Assassin's Creed Ezio Trilogy Edition</td>\n",
       "      <td>5.0</td>\n",
       "    </tr>\n",
       "    <tr>\n",
       "      <th>111</th>\n",
       "      <td>Call of Duty 4: Modern Warfare</td>\n",
       "      <td>5.0</td>\n",
       "    </tr>\n",
       "    <tr>\n",
       "      <th>113</th>\n",
       "      <td>Killzone 2 - Playstation 3</td>\n",
       "      <td>5.0</td>\n",
       "    </tr>\n",
       "    <tr>\n",
       "      <th>115</th>\n",
       "      <td>Need for Speed Most Wanted</td>\n",
       "      <td>5.0</td>\n",
       "    </tr>\n",
       "    <tr>\n",
       "      <th>116</th>\n",
       "      <td>Super Mario Galaxy 2</td>\n",
       "      <td>5.0</td>\n",
       "    </tr>\n",
       "  </tbody>\n",
       "</table>\n",
       "</div>"
      ],
      "text/plain": [
       "                                          items  rating\n",
       "0                                 Battlefield 4     5.0\n",
       "104       Killzone: Shadow Fall (PlayStation 4)     5.0\n",
       "106  Call of Duty: Black Ops II - PlayStation 3     5.0\n",
       "107                           Ryse: Son of Rome     5.0\n",
       "108                         Red Dead Redemption     5.0\n",
       "110       Assassin's Creed Ezio Trilogy Edition     5.0\n",
       "111              Call of Duty 4: Modern Warfare     5.0\n",
       "113                  Killzone 2 - Playstation 3     5.0\n",
       "115                  Need for Speed Most Wanted     5.0\n",
       "116                        Super Mario Galaxy 2     5.0"
      ]
     },
     "execution_count": 62,
     "metadata": {},
     "output_type": "execute_result"
    }
   ],
   "source": [
    "new_products = ['Call of Duty: Ghosts', \n",
    "                'Call of Duty: Modern Warfare 2', \n",
    "                'Battlefield 3']\n",
    "\n",
    "recs = new_recommendations(new_products, whole, algo)\n",
    "recs.head(10)"
   ]
  },
  {
   "cell_type": "markdown",
   "metadata": {},
   "source": [
    "<br>\n",
    "## 3.A. User-User Collaborative Filtering (KNNwithMeans - Cosine)\n",
    "\n",
    "A basic collaborative filtering algorithm, taking into account the mean ratings of each user.\n",
    "\n",
    "$${\\normalsize \\hat{r}_{ui} = \\mu_u + \\frac{ \\sum\\limits_{v \\in N^k_i(u)}\\text{sim}(u, v) \\cdot (r_{vi} - \\mu_v)}{\\sum\\limits_{v \\in N^k_i(u)} \\text{sim}(u, v)} }$$\n",
    "\n",
    "Where:\n",
    "<br>\n",
    "$\\hat{r}_{ui}$ - Prediction for user $u$ and item $i$.<br>\n",
    "$\\mu_u$ - Mean rating for user $u$.<br>\n",
    "${v \\in N^k_i(u)}$ - $v$ users in $k$ neighborhood most similar to user $u$ for item $i$.<br>\n",
    "$\\text{sim}(u, v)$ - Similarity between user $u$ and $v$.<br>\n",
    "$(r_{vi} - \\mu_v)$ - Deviation of rating for user $v$ and its mean rating.<br>"
   ]
  },
  {
   "cell_type": "markdown",
   "metadata": {},
   "source": [
    "### 3.A.1. Train Model"
   ]
  },
  {
   "cell_type": "code",
   "execution_count": 63,
   "metadata": {
    "scrolled": false
   },
   "outputs": [
    {
     "name": "stdout",
     "output_type": "stream",
     "text": [
      "Computing the cosine similarity matrix...\n",
      "Done computing similarity matrix.\n"
     ]
    },
    {
     "data": {
      "text/plain": [
       "<surprise.prediction_algorithms.knns.KNNWithMeans at 0x1a13b480f0>"
      ]
     },
     "execution_count": 63,
     "metadata": {},
     "output_type": "execute_result"
    }
   ],
   "source": [
    "# Use user_based true/false to switch between user-based or item-based collaborative filtering\n",
    "# Here we will use user based collaborative filtering, so True.\n",
    "\n",
    "algo = KNNWithMeans(k=50, sim_options={'name': 'cosine', 'user_based': True})\n",
    "algo.fit(trainset)\n"
   ]
  },
  {
   "cell_type": "markdown",
   "metadata": {},
   "source": [
    "### 3.A.2. Evaluate Model (RMSE)"
   ]
  },
  {
   "cell_type": "code",
   "execution_count": 64,
   "metadata": {},
   "outputs": [
    {
     "name": "stdout",
     "output_type": "stream",
     "text": [
      "User-based (KNNwithMeans - Cosine) Model : Test Set\n",
      "RMSE: 1.2873\n"
     ]
    }
   ],
   "source": [
    "# Evaluate test set\n",
    "print(\"User-based (KNNwithMeans - Cosine) Model : Test Set\")\n",
    "test_pred = algo.test(testset)\n",
    "rmse = accuracy.rmse(test_pred, verbose=True)"
   ]
  },
  {
   "cell_type": "markdown",
   "metadata": {},
   "source": [
    "**Search Best K based on RMSE**"
   ]
  },
  {
   "cell_type": "code",
   "execution_count": 65,
   "metadata": {},
   "outputs": [
    {
     "data": {
      "image/png": "[encoded data removed]",
      "text/plain": [
       "<Figure size 720x504 with 1 Axes>"
      ]
     },
     "metadata": {
      "image/png": {
       "height": 441,
       "width": 614
      }
     },
     "output_type": "display_data"
    }
   ],
   "source": [
    "scores = plot_rmse(range(1,100), \n",
    "                   trainset, \n",
    "                   testset, \n",
    "                   algorithm='KNNWithMeans', \n",
    "                   sim_options={'name': 'cosine', 'user_based': True})"
   ]
  },
  {
   "cell_type": "code",
   "execution_count": 66,
   "metadata": {
    "scrolled": true
   },
   "outputs": [
    {
     "data": {
      "text/html": [
       "<div>\n",
       "<style scoped>\n",
       "    .dataframe tbody tr th:only-of-type {\n",
       "        vertical-align: middle;\n",
       "    }\n",
       "\n",
       "    .dataframe tbody tr th {\n",
       "        vertical-align: top;\n",
       "    }\n",
       "\n",
       "    .dataframe thead th {\n",
       "        text-align: right;\n",
       "    }\n",
       "</style>\n",
       "<table border=\"1\" class=\"dataframe\">\n",
       "  <thead>\n",
       "    <tr style=\"text-align: right;\">\n",
       "      <th></th>\n",
       "      <th>k</th>\n",
       "      <th>test_rmse</th>\n",
       "    </tr>\n",
       "  </thead>\n",
       "  <tbody>\n",
       "    <tr>\n",
       "      <th>23</th>\n",
       "      <td>24</td>\n",
       "      <td>1.286910</td>\n",
       "    </tr>\n",
       "    <tr>\n",
       "      <th>20</th>\n",
       "      <td>21</td>\n",
       "      <td>1.287056</td>\n",
       "    </tr>\n",
       "  </tbody>\n",
       "</table>\n",
       "</div>"
      ],
      "text/plain": [
       "     k  test_rmse\n",
       "23  24   1.286910\n",
       "20  21   1.287056"
      ]
     },
     "execution_count": 66,
     "metadata": {},
     "output_type": "execute_result"
    }
   ],
   "source": [
    "# Sort rmse scores and pick value of k that has lowest rmse on the test set\n",
    "scores.sort_values(by='test_rmse', ascending=True, inplace=True)\n",
    "scores.head(2)"
   ]
  },
  {
   "cell_type": "code",
   "execution_count": 67,
   "metadata": {},
   "outputs": [
    {
     "name": "stdout",
     "output_type": "stream",
     "text": [
      "Computing the cosine similarity matrix...\n",
      "Done computing similarity matrix.\n"
     ]
    },
    {
     "data": {
      "text/plain": [
       "<surprise.prediction_algorithms.knns.KNNWithMeans at 0x1a2f23ddd8>"
      ]
     },
     "execution_count": 67,
     "metadata": {},
     "output_type": "execute_result"
    }
   ],
   "source": [
    "# Refit model with best k\n",
    "best_k = scores[:1]['k'].values[0]\n",
    "\n",
    "algo = KNNWithMeans(k=best_k, sim_options={'name': 'cosine', 'user_based': True})\n",
    "algo.fit(trainset)"
   ]
  },
  {
   "cell_type": "markdown",
   "metadata": {},
   "source": [
    "### 3.A.3. Evaluate Model (Recall)"
   ]
  },
  {
   "cell_type": "markdown",
   "metadata": {},
   "source": [
    "**Get Recommendations for Example User**"
   ]
  },
  {
   "cell_type": "code",
   "execution_count": 68,
   "metadata": {},
   "outputs": [],
   "source": [
    "# Than predict ratings for all pairs (u, i) that are NOT in the training set.\n",
    "train_pred_set = trainset.build_anti_testset()\n",
    "train_preds = algo.test(train_pred_set)\n",
    "\n",
    "# Make predictions\n",
    "top_n = get_n_recommendations(train_preds)\n"
   ]
  },
  {
   "cell_type": "code",
   "execution_count": 69,
   "metadata": {},
   "outputs": [
    {
     "name": "stdout",
     "output_type": "stream",
     "text": [
      "Pre-2014 selections (customer id - 13516428):\n",
      "                              product_title  star_rating\n",
      "7815   Red Dead Redemption Game of the Year            5\n",
      "9838                              Fable III            3\n",
      "12867                          Halo 3: ODST            4\n",
      "16011            Need for Speed Most Wanted            1\n",
      "25538                         Battlefield 3            5\n",
      "\n",
      "Post-2014 selections (customer id - 13516428):\n",
      "                                      product_title  star_rating\n",
      "341                                     Tomb Raider          5.0\n",
      "452            Red Dead Redemption Game of the Year          5.0\n",
      "1908                          Batman Arkham Origins          3.0\n",
      "2008                               Assassin's Creed          4.0\n",
      "2185                             Grand Theft Auto V          5.0\n",
      "3075                 Call of Duty 4: Modern Warfare          5.0\n",
      "3187      Call of Duty: Modern Warfare 3 - Xbox 360          5.0\n",
      "4160                 Call of Duty: Modern Warfare 2          5.0\n",
      "4183                             Assassins Creed II          5.0\n",
      "4242                  Kingdoms of Amalur: Reckoning          5.0\n",
      "4261                                   Dragon Age 2          5.0\n",
      "4356  The Elder Scrolls V: Skyrim Legendary Edition          2.0\n",
      "\n",
      "Recommendations:\n",
      "Super Mario Galaxy (Nintendo Selects)\n",
      "Brain Age: Train Your Brain in Minutes a Day!\n",
      "Animal Crossing: Wild World\n",
      "GoldenEye 007\n",
      "The Legend of Zelda: A Link Between Worlds 3D Twister Parent\n",
      "Kingdom Hearts 3D Dream Drop Distance\n",
      "Call of Duty 4: Modern Warfare\n",
      "Pokemon Y\n",
      "Metal Gear Solid: The Legacy Collection\n",
      "Mario Kart: Double Dash\n",
      "Ni no Kuni: Wrath of the White Witch\n",
      "LEGO: Marvel\n",
      "Madden NFL 25 Anniversary Edition with NFL Sunday Ticket -Xbox 360\n",
      "Kingdom Hearts II - PlayStation 2\n",
      "Uncharted 2: Among Thieves - Playstation 3\n"
     ]
    }
   ],
   "source": [
    "print_customer_prof(train_df, test_df, top_n)"
   ]
  },
  {
   "cell_type": "code",
   "execution_count": 70,
   "metadata": {},
   "outputs": [
    {
     "name": "stdout",
     "output_type": "stream",
     "text": [
      "Recall (UU - KNNwithMeans - Cosine): 0.009895632006184771\n"
     ]
    }
   ],
   "source": [
    "prec = evaluate_precision(top_n, testset, threshold=4.0)\n",
    "print('Recall (UU - KNNwithMeans - Cosine):', prec)\n"
   ]
  },
  {
   "cell_type": "code",
   "execution_count": 71,
   "metadata": {},
   "outputs": [
    {
     "name": "stdout",
     "output_type": "stream",
     "text": [
      "MAP (UU - KNNwithMeans - Cosine): 0.09373810546152063\n"
     ]
    }
   ],
   "source": [
    "mean_ap = evaluate_map(top_n, testset, threshold=4.0)\n",
    "print('MAP (UU - KNNwithMeans - Cosine):', mean_ap)\n"
   ]
  },
  {
   "cell_type": "code",
   "execution_count": 72,
   "metadata": {},
   "outputs": [],
   "source": [
    "algo_3A = {'Model': 'UU - KNNwithMeans - Cosine',\n",
    "           'RMSE': rmse,\n",
    "           'Unranked Precision': prec,\n",
    "           'MAP': mean_ap}"
   ]
  },
  {
   "cell_type": "markdown",
   "metadata": {},
   "source": [
    "**Search Best K based on Recall**"
   ]
  },
  {
   "cell_type": "code",
   "execution_count": 73,
   "metadata": {},
   "outputs": [],
   "source": [
    "# # HAHAHA\n",
    "# plot_recall(range(10,61,10), \n",
    "#             trainset, \n",
    "#             testset,\n",
    "#             algorithm='KNNWithMeans',\n",
    "#             sim_options={'name': 'cosine', 'user_based': True})"
   ]
  },
  {
   "cell_type": "markdown",
   "metadata": {},
   "source": [
    "### 3.A.4. Make Recommendations for New Customer"
   ]
  },
  {
   "cell_type": "code",
   "execution_count": 74,
   "metadata": {
    "scrolled": false
   },
   "outputs": [
    {
     "name": "stdout",
     "output_type": "stream",
     "text": [
      "Computing the cosine similarity matrix...\n",
      "Done computing similarity matrix.\n"
     ]
    },
    {
     "data": {
      "text/html": [
       "<div>\n",
       "<style scoped>\n",
       "    .dataframe tbody tr th:only-of-type {\n",
       "        vertical-align: middle;\n",
       "    }\n",
       "\n",
       "    .dataframe tbody tr th {\n",
       "        vertical-align: top;\n",
       "    }\n",
       "\n",
       "    .dataframe thead th {\n",
       "        text-align: right;\n",
       "    }\n",
       "</style>\n",
       "<table border=\"1\" class=\"dataframe\">\n",
       "  <thead>\n",
       "    <tr style=\"text-align: right;\">\n",
       "      <th></th>\n",
       "      <th>items</th>\n",
       "      <th>rating</th>\n",
       "    </tr>\n",
       "  </thead>\n",
       "  <tbody>\n",
       "    <tr>\n",
       "      <th>112</th>\n",
       "      <td>Killzone 3</td>\n",
       "      <td>5.0</td>\n",
       "    </tr>\n",
       "    <tr>\n",
       "      <th>91</th>\n",
       "      <td>Minecraft - Xbox 360</td>\n",
       "      <td>5.0</td>\n",
       "    </tr>\n",
       "    <tr>\n",
       "      <th>134</th>\n",
       "      <td>NBA 2K14</td>\n",
       "      <td>5.0</td>\n",
       "    </tr>\n",
       "    <tr>\n",
       "      <th>135</th>\n",
       "      <td>Rocksmith</td>\n",
       "      <td>5.0</td>\n",
       "    </tr>\n",
       "    <tr>\n",
       "      <th>136</th>\n",
       "      <td>God of War III</td>\n",
       "      <td>5.0</td>\n",
       "    </tr>\n",
       "    <tr>\n",
       "      <th>137</th>\n",
       "      <td>New Super Mario Bros</td>\n",
       "      <td>5.0</td>\n",
       "    </tr>\n",
       "    <tr>\n",
       "      <th>139</th>\n",
       "      <td>Donkey Kong Country Returns</td>\n",
       "      <td>5.0</td>\n",
       "    </tr>\n",
       "    <tr>\n",
       "      <th>140</th>\n",
       "      <td>Super Smash Bros Melee</td>\n",
       "      <td>5.0</td>\n",
       "    </tr>\n",
       "    <tr>\n",
       "      <th>141</th>\n",
       "      <td>Michael Jackson The Experience</td>\n",
       "      <td>5.0</td>\n",
       "    </tr>\n",
       "    <tr>\n",
       "      <th>142</th>\n",
       "      <td>Mario Kart DS</td>\n",
       "      <td>5.0</td>\n",
       "    </tr>\n",
       "  </tbody>\n",
       "</table>\n",
       "</div>"
      ],
      "text/plain": [
       "                              items  rating\n",
       "112                      Killzone 3     5.0\n",
       "91             Minecraft - Xbox 360     5.0\n",
       "134                        NBA 2K14     5.0\n",
       "135                       Rocksmith     5.0\n",
       "136                  God of War III     5.0\n",
       "137            New Super Mario Bros     5.0\n",
       "139     Donkey Kong Country Returns     5.0\n",
       "140          Super Smash Bros Melee     5.0\n",
       "141  Michael Jackson The Experience     5.0\n",
       "142                   Mario Kart DS     5.0"
      ]
     },
     "execution_count": 74,
     "metadata": {},
     "output_type": "execute_result"
    }
   ],
   "source": [
    "new_products = ['Call of Duty: Ghosts', \n",
    "                'Call of Duty: Modern Warfare 2', \n",
    "                'Battlefield 3']\n",
    "\n",
    "recs = new_recommendations(new_products, whole, algo)\n",
    "recs.head(10)"
   ]
  },
  {
   "cell_type": "markdown",
   "metadata": {},
   "source": [
    "<br>\n",
    "## 3.B. User-User Collaborative Filtering (KNNwithMeans - Pearson)\n",
    "\n",
    "A basic collaborative filtering algorithm, taking into account the mean ratings of each user.\n",
    "\n",
    "$${\\normalsize \\hat{r}_{ui} = \\mu_u + \\frac{ \\sum\\limits_{v \\in N^k_i(u)}\\text{sim}(u, v) \\cdot (r_{vi} - \\mu_v)}{\\sum\\limits_{v \\in N^k_i(u)} \\text{sim}(u, v)} }$$\n",
    "\n",
    "Where:\n",
    "<br>\n",
    "$\\hat{r}_{ui}$ - Prediction for user $u$ and item $i$.<br>\n",
    "$\\mu_u$ - Mean rating for user $u$.<br>\n",
    "${v \\in N^k_i(u)}$ - $v$ users in $k$ neighborhood most similar to user $u$ for item $i$.<br>\n",
    "$\\text{sim}(u, v)$ - Pearson similarity between user $u$ and $v$.<br>\n",
    "$(r_{vi} - \\mu_v)$ - Deviation of rating for user $v$ and its mean rating.<br>"
   ]
  },
  {
   "cell_type": "markdown",
   "metadata": {},
   "source": [
    "### 3.B.1. Train Model"
   ]
  },
  {
   "cell_type": "code",
   "execution_count": 75,
   "metadata": {
    "scrolled": false
   },
   "outputs": [
    {
     "name": "stdout",
     "output_type": "stream",
     "text": [
      "Computing the pearson similarity matrix...\n",
      "Done computing similarity matrix.\n"
     ]
    },
    {
     "data": {
      "text/plain": [
       "<surprise.prediction_algorithms.knns.KNNWithMeans at 0x1a13a5e278>"
      ]
     },
     "execution_count": 75,
     "metadata": {},
     "output_type": "execute_result"
    }
   ],
   "source": [
    "# Use user_based true/false to switch between user-based or item-based collaborative filtering\n",
    "# Here we will use user based collaborative filtering, so True.\n",
    "\n",
    "algo = KNNWithMeans(k=50, sim_options={'name': 'pearson', 'user_based': True})\n",
    "algo.fit(trainset)\n"
   ]
  },
  {
   "cell_type": "markdown",
   "metadata": {},
   "source": [
    "### 3.B.2. Evaluate Model (RMSE)"
   ]
  },
  {
   "cell_type": "code",
   "execution_count": 76,
   "metadata": {},
   "outputs": [
    {
     "name": "stdout",
     "output_type": "stream",
     "text": [
      "User-based (KNNwithMeans - Pearson) Model : Test Set\n",
      "RMSE: 1.3261\n"
     ]
    }
   ],
   "source": [
    "# Evaluate test set\n",
    "print(\"User-based (KNNwithMeans - Pearson) Model : Test Set\")\n",
    "test_pred = algo.test(testset)\n",
    "rmse = accuracy.rmse(test_pred, verbose=True)"
   ]
  },
  {
   "cell_type": "markdown",
   "metadata": {},
   "source": [
    "**Search Best K based on RMSE**"
   ]
  },
  {
   "cell_type": "code",
   "execution_count": 77,
   "metadata": {},
   "outputs": [
    {
     "data": {
      "image/png": "[encoded data removed]",
      "text/plain": [
       "<Figure size 720x504 with 1 Axes>"
      ]
     },
     "metadata": {
      "image/png": {
       "height": 441,
       "width": 619
      }
     },
     "output_type": "display_data"
    }
   ],
   "source": [
    "scores = plot_rmse(range(1,100), \n",
    "                   trainset, \n",
    "                   testset, \n",
    "                   algorithm='KNNWithMeans', \n",
    "                   sim_options={'name': 'pearson', 'user_based': True})"
   ]
  },
  {
   "cell_type": "code",
   "execution_count": 78,
   "metadata": {
    "scrolled": true
   },
   "outputs": [
    {
     "data": {
      "text/html": [
       "<div>\n",
       "<style scoped>\n",
       "    .dataframe tbody tr th:only-of-type {\n",
       "        vertical-align: middle;\n",
       "    }\n",
       "\n",
       "    .dataframe tbody tr th {\n",
       "        vertical-align: top;\n",
       "    }\n",
       "\n",
       "    .dataframe thead th {\n",
       "        text-align: right;\n",
       "    }\n",
       "</style>\n",
       "<table border=\"1\" class=\"dataframe\">\n",
       "  <thead>\n",
       "    <tr style=\"text-align: right;\">\n",
       "      <th></th>\n",
       "      <th>k</th>\n",
       "      <th>test_rmse</th>\n",
       "    </tr>\n",
       "  </thead>\n",
       "  <tbody>\n",
       "    <tr>\n",
       "      <th>11</th>\n",
       "      <td>12</td>\n",
       "      <td>1.325670</td>\n",
       "    </tr>\n",
       "    <tr>\n",
       "      <th>13</th>\n",
       "      <td>14</td>\n",
       "      <td>1.325773</td>\n",
       "    </tr>\n",
       "  </tbody>\n",
       "</table>\n",
       "</div>"
      ],
      "text/plain": [
       "     k  test_rmse\n",
       "11  12   1.325670\n",
       "13  14   1.325773"
      ]
     },
     "execution_count": 78,
     "metadata": {},
     "output_type": "execute_result"
    }
   ],
   "source": [
    "# Sort rmse scores and pick value of k that has lowest rmse on the test set\n",
    "scores.sort_values(by='test_rmse', ascending=True, inplace=True)\n",
    "scores.head(2)"
   ]
  },
  {
   "cell_type": "code",
   "execution_count": 79,
   "metadata": {},
   "outputs": [
    {
     "name": "stdout",
     "output_type": "stream",
     "text": [
      "Computing the pearson similarity matrix...\n",
      "Done computing similarity matrix.\n"
     ]
    },
    {
     "data": {
      "text/plain": [
       "<surprise.prediction_algorithms.knns.KNNWithMeans at 0x1a58c6b6d8>"
      ]
     },
     "execution_count": 79,
     "metadata": {},
     "output_type": "execute_result"
    }
   ],
   "source": [
    "# Refit model with best k\n",
    "best_k = scores[:1]['k'].values[0]\n",
    "\n",
    "algo = KNNWithMeans(k=best_k, sim_options={'name': 'pearson', 'user_based': True})\n",
    "algo.fit(trainset)"
   ]
  },
  {
   "cell_type": "markdown",
   "metadata": {},
   "source": [
    "### 3.B.3. Evaluate Model (Recall)"
   ]
  },
  {
   "cell_type": "markdown",
   "metadata": {},
   "source": [
    "**Get Recommendations for Example User**"
   ]
  },
  {
   "cell_type": "code",
   "execution_count": 80,
   "metadata": {},
   "outputs": [],
   "source": [
    "# Than predict ratings for all pairs (u, i) that are NOT in the training set.\n",
    "train_pred_set = trainset.build_anti_testset()\n",
    "train_preds = algo.test(train_pred_set)\n",
    "\n",
    "# Make predictions\n",
    "top_n = get_n_recommendations(train_preds)\n"
   ]
  },
  {
   "cell_type": "code",
   "execution_count": 81,
   "metadata": {},
   "outputs": [
    {
     "name": "stdout",
     "output_type": "stream",
     "text": [
      "Pre-2014 selections (customer id - 13516428):\n",
      "                              product_title  star_rating\n",
      "7815   Red Dead Redemption Game of the Year            5\n",
      "9838                              Fable III            3\n",
      "12867                          Halo 3: ODST            4\n",
      "16011            Need for Speed Most Wanted            1\n",
      "25538                         Battlefield 3            5\n",
      "\n",
      "Post-2014 selections (customer id - 13516428):\n",
      "                                      product_title  star_rating\n",
      "341                                     Tomb Raider          5.0\n",
      "452            Red Dead Redemption Game of the Year          5.0\n",
      "1908                          Batman Arkham Origins          3.0\n",
      "2008                               Assassin's Creed          4.0\n",
      "2185                             Grand Theft Auto V          5.0\n",
      "3075                 Call of Duty 4: Modern Warfare          5.0\n",
      "3187      Call of Duty: Modern Warfare 3 - Xbox 360          5.0\n",
      "4160                 Call of Duty: Modern Warfare 2          5.0\n",
      "4183                             Assassins Creed II          5.0\n",
      "4242                  Kingdoms of Amalur: Reckoning          5.0\n",
      "4261                                   Dragon Age 2          5.0\n",
      "4356  The Elder Scrolls V: Skyrim Legendary Edition          2.0\n",
      "\n",
      "Recommendations:\n",
      "Mass Effect 2\n",
      "Assassins Creed II\n",
      "The Last of Us\n",
      "LEGO: Marvel\n",
      "Need for Speed: Hot Pursuit\n",
      "Borderlands 2\n",
      "Assassin's Creed: Brotherhood\n",
      "God of War: Ascension\n",
      "Call of Duty: Black Ops - Xbox 360\n",
      "Dishonored\n",
      "Call of Duty: Modern Warfare 2\n",
      "BioShock Infinite\n",
      "Red Dead Redemption\n",
      "Elder Scrolls V: Skyrim\n",
      "Tomb Raider\n"
     ]
    }
   ],
   "source": [
    "print_customer_prof(train_df, test_df, top_n)"
   ]
  },
  {
   "cell_type": "code",
   "execution_count": 82,
   "metadata": {},
   "outputs": [
    {
     "name": "stdout",
     "output_type": "stream",
     "text": [
      "Precision (UU - KNNwithMeans - Pearson): 0.015023837134389898\n"
     ]
    }
   ],
   "source": [
    "prec = evaluate_precision(top_n, testset, threshold=4.0)\n",
    "print('Precision (UU - KNNwithMeans - Pearson):', prec)\n"
   ]
  },
  {
   "cell_type": "code",
   "execution_count": 83,
   "metadata": {},
   "outputs": [
    {
     "name": "stdout",
     "output_type": "stream",
     "text": [
      "MAP (UU - KNNwithMeans - Pearson): 0.16031397251061497\n"
     ]
    }
   ],
   "source": [
    "mean_ap = evaluate_map(top_n, testset, threshold=4.0)\n",
    "print('MAP (UU - KNNwithMeans - Pearson):', mean_ap)\n"
   ]
  },
  {
   "cell_type": "code",
   "execution_count": 84,
   "metadata": {},
   "outputs": [],
   "source": [
    "algo_3B = {'Model': 'UU - KNNwithMeans - Pearson',\n",
    "           'RMSE': rmse,\n",
    "           'Unranked Precision': prec,\n",
    "           'MAP': mean_ap}"
   ]
  },
  {
   "cell_type": "markdown",
   "metadata": {},
   "source": [
    "**Search Best K based on Recall**"
   ]
  },
  {
   "cell_type": "code",
   "execution_count": 85,
   "metadata": {},
   "outputs": [],
   "source": [
    "# # HAHAHA\n",
    "# plot_recall(range(10,61,10), \n",
    "#             trainset, \n",
    "#             testset,\n",
    "#             algorithm='KNNWithMeans',\n",
    "#             sim_options={'name': 'pearson', 'user_based': True})"
   ]
  },
  {
   "cell_type": "markdown",
   "metadata": {},
   "source": [
    "### 3.B.4. Make Recommendations for New Customer"
   ]
  },
  {
   "cell_type": "code",
   "execution_count": 86,
   "metadata": {
    "scrolled": false
   },
   "outputs": [
    {
     "name": "stdout",
     "output_type": "stream",
     "text": [
      "Computing the pearson similarity matrix...\n",
      "Done computing similarity matrix.\n"
     ]
    },
    {
     "data": {
      "text/html": [
       "<div>\n",
       "<style scoped>\n",
       "    .dataframe tbody tr th:only-of-type {\n",
       "        vertical-align: middle;\n",
       "    }\n",
       "\n",
       "    .dataframe tbody tr th {\n",
       "        vertical-align: top;\n",
       "    }\n",
       "\n",
       "    .dataframe thead th {\n",
       "        text-align: right;\n",
       "    }\n",
       "</style>\n",
       "<table border=\"1\" class=\"dataframe\">\n",
       "  <thead>\n",
       "    <tr style=\"text-align: right;\">\n",
       "      <th></th>\n",
       "      <th>items</th>\n",
       "      <th>rating</th>\n",
       "    </tr>\n",
       "  </thead>\n",
       "  <tbody>\n",
       "    <tr>\n",
       "      <th>0</th>\n",
       "      <td>Battlefield 4</td>\n",
       "      <td>5</td>\n",
       "    </tr>\n",
       "    <tr>\n",
       "      <th>1</th>\n",
       "      <td>Far Cry 3</td>\n",
       "      <td>5</td>\n",
       "    </tr>\n",
       "    <tr>\n",
       "      <th>142</th>\n",
       "      <td>Mario Kart DS</td>\n",
       "      <td>5</td>\n",
       "    </tr>\n",
       "    <tr>\n",
       "      <th>143</th>\n",
       "      <td>Mario Kart: Double Dash</td>\n",
       "      <td>5</td>\n",
       "    </tr>\n",
       "    <tr>\n",
       "      <th>144</th>\n",
       "      <td>Super Smash Bros. Brawl</td>\n",
       "      <td>5</td>\n",
       "    </tr>\n",
       "    <tr>\n",
       "      <th>145</th>\n",
       "      <td>Super Mario Galaxy (Nintendo Selects)</td>\n",
       "      <td>5</td>\n",
       "    </tr>\n",
       "    <tr>\n",
       "      <th>146</th>\n",
       "      <td>Super Mario 64</td>\n",
       "      <td>5</td>\n",
       "    </tr>\n",
       "    <tr>\n",
       "      <th>147</th>\n",
       "      <td>Uncharted 2: Among Thieves - Playstation 3</td>\n",
       "      <td>5</td>\n",
       "    </tr>\n",
       "    <tr>\n",
       "      <th>148</th>\n",
       "      <td>NBA 2K13</td>\n",
       "      <td>5</td>\n",
       "    </tr>\n",
       "    <tr>\n",
       "      <th>149</th>\n",
       "      <td>Gran Turismo 6</td>\n",
       "      <td>5</td>\n",
       "    </tr>\n",
       "  </tbody>\n",
       "</table>\n",
       "</div>"
      ],
      "text/plain": [
       "                                          items  rating\n",
       "0                                 Battlefield 4       5\n",
       "1                                     Far Cry 3       5\n",
       "142                               Mario Kart DS       5\n",
       "143                     Mario Kart: Double Dash       5\n",
       "144                     Super Smash Bros. Brawl       5\n",
       "145       Super Mario Galaxy (Nintendo Selects)       5\n",
       "146                              Super Mario 64       5\n",
       "147  Uncharted 2: Among Thieves - Playstation 3       5\n",
       "148                                    NBA 2K13       5\n",
       "149                              Gran Turismo 6       5"
      ]
     },
     "execution_count": 86,
     "metadata": {},
     "output_type": "execute_result"
    }
   ],
   "source": [
    "new_products = ['Call of Duty: Ghosts', \n",
    "                'Call of Duty: Modern Warfare 2', \n",
    "                'Battlefield 3']\n",
    "\n",
    "recs = new_recommendations(new_products, whole, algo)\n",
    "recs.head(10)"
   ]
  },
  {
   "cell_type": "markdown",
   "metadata": {},
   "source": [
    "<br>\n",
    "## 4.A. Item-Item Collaborative Filtering (KNNwithMeans - Cosine)\n",
    "\n",
    "A basic collaborative filtering algorithm, taking into account the mean ratings of each user.\n",
    "\n",
    "$${\\normalsize \\hat{r}_{ui} = \\mu_i + \\frac{ \\sum\\limits_{j \\in N^k_u(i)}\\text{sim}(i, j) \\cdot (r_{uj} - \\mu_j)} {\\sum\\limits_{j \\in N^k_u(i)} \\text{sim}(i, j)} }$$\n",
    "\n",
    "Where:\n",
    "<br>\n",
    "$\\hat{r}_{ui}$ - Prediction for user $u$ and item $i$.<br>\n",
    "$\\mu_i$ - Mean rating for item $i$.<br>\n",
    "${j \\in N^k_u(i)}$ - $j$ items in $k$ neighborhood most similar to item $i$ for user $u$.<br>\n",
    "$\\text{sim}(i, j)$ - **Cosine** similarity between item $i$ and $j$.<br>\n",
    "$(r_{uj} - \\mu_j)$ - Deviation of rating for item $j$ and their mean rating.<br>"
   ]
  },
  {
   "cell_type": "markdown",
   "metadata": {},
   "source": [
    "### 4.A.1. Train Model"
   ]
  },
  {
   "cell_type": "code",
   "execution_count": 87,
   "metadata": {
    "scrolled": false
   },
   "outputs": [
    {
     "name": "stdout",
     "output_type": "stream",
     "text": [
      "Computing the cosine similarity matrix...\n",
      "Done computing similarity matrix.\n"
     ]
    },
    {
     "data": {
      "text/plain": [
       "<surprise.prediction_algorithms.knns.KNNWithMeans at 0x1a13383a58>"
      ]
     },
     "execution_count": 87,
     "metadata": {},
     "output_type": "execute_result"
    }
   ],
   "source": [
    "# Use user_based true/false to switch between user-based or item-based collaborative filtering\n",
    "# Here we will use user based collaborative filtering, so True.\n",
    "\n",
    "algo = KNNWithMeans(k=50, sim_options={'name': 'cosine', 'user_based': False})\n",
    "algo.fit(trainset)\n"
   ]
  },
  {
   "cell_type": "markdown",
   "metadata": {},
   "source": [
    "### 4.A.2. Evaluate Model (RMSE)"
   ]
  },
  {
   "cell_type": "code",
   "execution_count": 88,
   "metadata": {},
   "outputs": [
    {
     "name": "stdout",
     "output_type": "stream",
     "text": [
      "Item-based (KNNwithMeans - Cosine) Model : Test Set\n",
      "RMSE: 1.2220\n"
     ]
    }
   ],
   "source": [
    "# Evaluate test set\n",
    "print(\"Item-based (KNNwithMeans - Cosine) Model : Test Set\")\n",
    "test_pred = algo.test(testset)\n",
    "rmse = accuracy.rmse(test_pred, verbose=True)"
   ]
  },
  {
   "cell_type": "markdown",
   "metadata": {},
   "source": [
    "**Search Best K based on RMSE**"
   ]
  },
  {
   "cell_type": "code",
   "execution_count": 89,
   "metadata": {},
   "outputs": [
    {
     "data": {
      "image/png": "[encoded data removed]",
      "text/plain": [
       "<Figure size 720x504 with 1 Axes>"
      ]
     },
     "metadata": {
      "image/png": {
       "height": 441,
       "width": 614
      }
     },
     "output_type": "display_data"
    }
   ],
   "source": [
    "scores = plot_rmse(range(1,100), \n",
    "                   trainset, \n",
    "                   testset, \n",
    "                   algorithm='KNNWithMeans', \n",
    "                   sim_options={'name': 'cosine', 'user_based': False})"
   ]
  },
  {
   "cell_type": "code",
   "execution_count": 90,
   "metadata": {
    "scrolled": true
   },
   "outputs": [
    {
     "data": {
      "text/html": [
       "<div>\n",
       "<style scoped>\n",
       "    .dataframe tbody tr th:only-of-type {\n",
       "        vertical-align: middle;\n",
       "    }\n",
       "\n",
       "    .dataframe tbody tr th {\n",
       "        vertical-align: top;\n",
       "    }\n",
       "\n",
       "    .dataframe thead th {\n",
       "        text-align: right;\n",
       "    }\n",
       "</style>\n",
       "<table border=\"1\" class=\"dataframe\">\n",
       "  <thead>\n",
       "    <tr style=\"text-align: right;\">\n",
       "      <th></th>\n",
       "      <th>k</th>\n",
       "      <th>test_rmse</th>\n",
       "    </tr>\n",
       "  </thead>\n",
       "  <tbody>\n",
       "    <tr>\n",
       "      <th>23</th>\n",
       "      <td>24</td>\n",
       "      <td>1.221928</td>\n",
       "    </tr>\n",
       "    <tr>\n",
       "      <th>22</th>\n",
       "      <td>23</td>\n",
       "      <td>1.221955</td>\n",
       "    </tr>\n",
       "    <tr>\n",
       "      <th>24</th>\n",
       "      <td>25</td>\n",
       "      <td>1.221958</td>\n",
       "    </tr>\n",
       "    <tr>\n",
       "      <th>21</th>\n",
       "      <td>22</td>\n",
       "      <td>1.221967</td>\n",
       "    </tr>\n",
       "    <tr>\n",
       "      <th>25</th>\n",
       "      <td>26</td>\n",
       "      <td>1.221971</td>\n",
       "    </tr>\n",
       "  </tbody>\n",
       "</table>\n",
       "</div>"
      ],
      "text/plain": [
       "     k  test_rmse\n",
       "23  24   1.221928\n",
       "22  23   1.221955\n",
       "24  25   1.221958\n",
       "21  22   1.221967\n",
       "25  26   1.221971"
      ]
     },
     "execution_count": 90,
     "metadata": {},
     "output_type": "execute_result"
    }
   ],
   "source": [
    "# Sort rmse scores and pick value of k that has lowest rmse on the test set\n",
    "scores.sort_values(by='test_rmse', ascending=True, inplace=True)\n",
    "scores.head(5)"
   ]
  },
  {
   "cell_type": "code",
   "execution_count": 91,
   "metadata": {},
   "outputs": [
    {
     "name": "stdout",
     "output_type": "stream",
     "text": [
      "Computing the cosine similarity matrix...\n",
      "Done computing similarity matrix.\n"
     ]
    },
    {
     "data": {
      "text/plain": [
       "<surprise.prediction_algorithms.knns.KNNWithMeans at 0x1a142d2710>"
      ]
     },
     "execution_count": 91,
     "metadata": {},
     "output_type": "execute_result"
    }
   ],
   "source": [
    "# Refit model with best k\n",
    "best_k = scores[:1]['k'].values[0]\n",
    "\n",
    "algo = KNNWithMeans(k=best_k, sim_options={'name': 'cosine', 'user_based': False})\n",
    "algo.fit(trainset)"
   ]
  },
  {
   "cell_type": "markdown",
   "metadata": {},
   "source": [
    "### 4.A.3. Evaluate Model (Recall)"
   ]
  },
  {
   "cell_type": "markdown",
   "metadata": {},
   "source": [
    "**Get Recommendations for Example User**"
   ]
  },
  {
   "cell_type": "code",
   "execution_count": 92,
   "metadata": {},
   "outputs": [],
   "source": [
    "# Than predict ratings for all pairs (u, i) that are NOT in the training set.\n",
    "train_pred_set = trainset.build_anti_testset()\n",
    "train_preds = algo.test(train_pred_set)\n",
    "\n",
    "# Make predictions\n",
    "top_n = get_n_recommendations(train_preds)\n"
   ]
  },
  {
   "cell_type": "code",
   "execution_count": 93,
   "metadata": {},
   "outputs": [
    {
     "name": "stdout",
     "output_type": "stream",
     "text": [
      "Pre-2014 selections (customer id - 13516428):\n",
      "                              product_title  star_rating\n",
      "7815   Red Dead Redemption Game of the Year            5\n",
      "9838                              Fable III            3\n",
      "12867                          Halo 3: ODST            4\n",
      "16011            Need for Speed Most Wanted            1\n",
      "25538                         Battlefield 3            5\n",
      "\n",
      "Post-2014 selections (customer id - 13516428):\n",
      "                                      product_title  star_rating\n",
      "341                                     Tomb Raider          5.0\n",
      "452            Red Dead Redemption Game of the Year          5.0\n",
      "1908                          Batman Arkham Origins          3.0\n",
      "2008                               Assassin's Creed          4.0\n",
      "2185                             Grand Theft Auto V          5.0\n",
      "3075                 Call of Duty 4: Modern Warfare          5.0\n",
      "3187      Call of Duty: Modern Warfare 3 - Xbox 360          5.0\n",
      "4160                 Call of Duty: Modern Warfare 2          5.0\n",
      "4183                             Assassins Creed II          5.0\n",
      "4242                  Kingdoms of Amalur: Reckoning          5.0\n",
      "4261                                   Dragon Age 2          5.0\n",
      "4356  The Elder Scrolls V: Skyrim Legendary Edition          2.0\n",
      "\n",
      "Recommendations:\n",
      "Valkyria Chronicles\n",
      "Pokemon Y\n",
      "Luigi's Mansion: Dark Moon\n",
      "Kingdom Hearts HD 1.5 Remix\n",
      "Super Mario Galaxy\n",
      "The Legend of Zelda: The Wind Waker HD\n",
      "Super Mario 64 DS\n",
      "Fire Emblem: Awakening\n",
      "Luigi's Mansion - Gamecube\n",
      "The Legend of Zelda: Ocarina of Time 3D\n",
      "Just Dance 3\n",
      "GoldenEye 007\n",
      "Minecraft - Xbox 360\n",
      "Medal of Honor: Allied Assault - PC\n",
      "Ryse: Son of Rome\n"
     ]
    }
   ],
   "source": [
    "print_customer_prof(train_df, test_df, top_n)"
   ]
  },
  {
   "cell_type": "code",
   "execution_count": 94,
   "metadata": {},
   "outputs": [
    {
     "name": "stdout",
     "output_type": "stream",
     "text": [
      "Precision (II - KNNwithMeans - Cosine): 0.009380234505862648\n"
     ]
    }
   ],
   "source": [
    "prec = evaluate_precision(top_n, testset, threshold=4.0)\n",
    "print('Precision (II - KNNwithMeans - Cosine):', prec)\n"
   ]
  },
  {
   "cell_type": "code",
   "execution_count": 95,
   "metadata": {},
   "outputs": [
    {
     "name": "stdout",
     "output_type": "stream",
     "text": [
      "MAP (II - KNNwithMeans - Cosine): 0.0958603696247328\n"
     ]
    }
   ],
   "source": [
    "mean_ap = evaluate_map(top_n, testset, threshold=4.0)\n",
    "print('MAP (II - KNNwithMeans - Cosine):', mean_ap)\n"
   ]
  },
  {
   "cell_type": "code",
   "execution_count": 96,
   "metadata": {},
   "outputs": [],
   "source": [
    "algo_4A = {'Model': 'II - KNNwithMeans - Cosine',\n",
    "           'RMSE': rmse,\n",
    "           'Unranked Precision': prec,\n",
    "           'MAP': mean_ap}"
   ]
  },
  {
   "cell_type": "markdown",
   "metadata": {},
   "source": [
    "**Search Best K based on Recall**"
   ]
  },
  {
   "cell_type": "code",
   "execution_count": 97,
   "metadata": {},
   "outputs": [],
   "source": [
    "# # HAHAHA\n",
    "# plot_recall(range(10,61,10), \n",
    "#             trainset, \n",
    "#             testset,\n",
    "#             algorithm='KNNWithMeans',\n",
    "#             sim_options={'name': 'cosine', 'user_based': False})"
   ]
  },
  {
   "cell_type": "markdown",
   "metadata": {},
   "source": [
    "### 4.A.4. Make Recommendations for New Customer"
   ]
  },
  {
   "cell_type": "code",
   "execution_count": 98,
   "metadata": {
    "scrolled": false
   },
   "outputs": [
    {
     "name": "stdout",
     "output_type": "stream",
     "text": [
      "Computing the cosine similarity matrix...\n",
      "Done computing similarity matrix.\n"
     ]
    },
    {
     "data": {
      "text/html": [
       "<div>\n",
       "<style scoped>\n",
       "    .dataframe tbody tr th:only-of-type {\n",
       "        vertical-align: middle;\n",
       "    }\n",
       "\n",
       "    .dataframe tbody tr th {\n",
       "        vertical-align: top;\n",
       "    }\n",
       "\n",
       "    .dataframe thead th {\n",
       "        text-align: right;\n",
       "    }\n",
       "</style>\n",
       "<table border=\"1\" class=\"dataframe\">\n",
       "  <thead>\n",
       "    <tr style=\"text-align: right;\">\n",
       "      <th></th>\n",
       "      <th>items</th>\n",
       "      <th>rating</th>\n",
       "    </tr>\n",
       "  </thead>\n",
       "  <tbody>\n",
       "    <tr>\n",
       "      <th>112</th>\n",
       "      <td>Killzone 3</td>\n",
       "      <td>5.0</td>\n",
       "    </tr>\n",
       "    <tr>\n",
       "      <th>143</th>\n",
       "      <td>Mario Kart: Double Dash</td>\n",
       "      <td>5.0</td>\n",
       "    </tr>\n",
       "    <tr>\n",
       "      <th>132</th>\n",
       "      <td>Mass Effect 2</td>\n",
       "      <td>5.0</td>\n",
       "    </tr>\n",
       "    <tr>\n",
       "      <th>133</th>\n",
       "      <td>PlayStation All-Stars Battle Royale</td>\n",
       "      <td>5.0</td>\n",
       "    </tr>\n",
       "    <tr>\n",
       "      <th>135</th>\n",
       "      <td>Rocksmith</td>\n",
       "      <td>5.0</td>\n",
       "    </tr>\n",
       "    <tr>\n",
       "      <th>136</th>\n",
       "      <td>God of War III</td>\n",
       "      <td>5.0</td>\n",
       "    </tr>\n",
       "    <tr>\n",
       "      <th>137</th>\n",
       "      <td>New Super Mario Bros</td>\n",
       "      <td>5.0</td>\n",
       "    </tr>\n",
       "    <tr>\n",
       "      <th>138</th>\n",
       "      <td>Mortal Kombat vs. DC Universe</td>\n",
       "      <td>5.0</td>\n",
       "    </tr>\n",
       "    <tr>\n",
       "      <th>139</th>\n",
       "      <td>Donkey Kong Country Returns</td>\n",
       "      <td>5.0</td>\n",
       "    </tr>\n",
       "    <tr>\n",
       "      <th>140</th>\n",
       "      <td>Super Smash Bros Melee</td>\n",
       "      <td>5.0</td>\n",
       "    </tr>\n",
       "  </tbody>\n",
       "</table>\n",
       "</div>"
      ],
      "text/plain": [
       "                                   items  rating\n",
       "112                           Killzone 3     5.0\n",
       "143              Mario Kart: Double Dash     5.0\n",
       "132                        Mass Effect 2     5.0\n",
       "133  PlayStation All-Stars Battle Royale     5.0\n",
       "135                            Rocksmith     5.0\n",
       "136                       God of War III     5.0\n",
       "137                 New Super Mario Bros     5.0\n",
       "138        Mortal Kombat vs. DC Universe     5.0\n",
       "139          Donkey Kong Country Returns     5.0\n",
       "140               Super Smash Bros Melee     5.0"
      ]
     },
     "execution_count": 98,
     "metadata": {},
     "output_type": "execute_result"
    }
   ],
   "source": [
    "new_products = ['Call of Duty: Ghosts', \n",
    "                'Call of Duty: Modern Warfare 2', \n",
    "                'Battlefield 3']\n",
    "\n",
    "recs = new_recommendations(new_products, whole, algo)\n",
    "recs.head(10)"
   ]
  },
  {
   "cell_type": "markdown",
   "metadata": {},
   "source": [
    "<br>\n",
    "## 4.B. Item-Item Collaborative Filtering (KNNwithMeans - Pearson)\n",
    "\n",
    "A basic collaborative filtering algorithm, taking into account the mean ratings of each user.\n",
    "\n",
    "$${\\normalsize \\hat{r}_{ui} = \\mu_i + \\frac{ \\sum\\limits_{j \\in N^k_u(i)}\\text{sim}(i, j) \\cdot (r_{uj} - \\mu_j)} {\\sum\\limits_{j \\in N^k_u(i)} \\text{sim}(i, j)} }$$\n",
    "\n",
    "Where:\n",
    "<br>\n",
    "$\\hat{r}_{ui}$ - Prediction for user $u$ and item $i$.<br>\n",
    "$\\mu_i$ - Mean rating for item $i$.<br>\n",
    "${j \\in N^k_u(i)}$ - $j$ items in $k$ neighborhood most similar to item $i$ for user $u$.<br>\n",
    "$\\text{sim}(i, j)$ - **Pearson** similarity between item $i$ and $j$.<br>\n",
    "$(r_{uj} - \\mu_j)$ - Deviation of rating for item $j$ and their mean rating.<br>"
   ]
  },
  {
   "cell_type": "markdown",
   "metadata": {},
   "source": [
    "### 4.B.1. Train Model"
   ]
  },
  {
   "cell_type": "code",
   "execution_count": 99,
   "metadata": {
    "scrolled": false
   },
   "outputs": [
    {
     "name": "stdout",
     "output_type": "stream",
     "text": [
      "Computing the pearson similarity matrix...\n",
      "Done computing similarity matrix.\n"
     ]
    },
    {
     "data": {
      "text/plain": [
       "<surprise.prediction_algorithms.knns.KNNWithMeans at 0x1a142d86a0>"
      ]
     },
     "execution_count": 99,
     "metadata": {},
     "output_type": "execute_result"
    }
   ],
   "source": [
    "# Use user_based true/false to switch between user-based or item-based collaborative filtering\n",
    "# Here we will use user based collaborative filtering, so True.\n",
    "\n",
    "algo = KNNWithMeans(k=50, sim_options={'name': 'pearson', 'user_based': False})\n",
    "algo.fit(trainset)\n"
   ]
  },
  {
   "cell_type": "markdown",
   "metadata": {},
   "source": [
    "### 4.B.2. Evaluate Model (RMSE)"
   ]
  },
  {
   "cell_type": "code",
   "execution_count": 100,
   "metadata": {},
   "outputs": [
    {
     "name": "stdout",
     "output_type": "stream",
     "text": [
      "Item-based (KNNwithMeans - Pearson) Model : Test Set\n",
      "RMSE: 1.2156\n"
     ]
    },
    {
     "data": {
      "text/plain": [
       "1.215649476808118"
      ]
     },
     "execution_count": 100,
     "metadata": {},
     "output_type": "execute_result"
    }
   ],
   "source": [
    "# Evaluate test set\n",
    "print(\"Item-based (KNNwithMeans - Pearson) Model : Test Set\")\n",
    "test_pred = algo.test(testset)\n",
    "accuracy.rmse(test_pred, verbose=True)"
   ]
  },
  {
   "cell_type": "markdown",
   "metadata": {},
   "source": [
    "**Search Best K based on RMSE**"
   ]
  },
  {
   "cell_type": "code",
   "execution_count": 101,
   "metadata": {},
   "outputs": [
    {
     "data": {
      "image/png": "[encoded data removed]",
      "text/plain": [
       "<Figure size 720x504 with 1 Axes>"
      ]
     },
     "metadata": {
      "image/png": {
       "height": 441,
       "width": 619
      }
     },
     "output_type": "display_data"
    }
   ],
   "source": [
    "scores = plot_rmse(range(1,100), \n",
    "                   trainset, \n",
    "                   testset, \n",
    "                   algorithm='KNNWithMeans', \n",
    "                   sim_options={'name': 'pearson', 'user_based': False})"
   ]
  },
  {
   "cell_type": "code",
   "execution_count": 102,
   "metadata": {
    "scrolled": true
   },
   "outputs": [
    {
     "data": {
      "text/html": [
       "<div>\n",
       "<style scoped>\n",
       "    .dataframe tbody tr th:only-of-type {\n",
       "        vertical-align: middle;\n",
       "    }\n",
       "\n",
       "    .dataframe tbody tr th {\n",
       "        vertical-align: top;\n",
       "    }\n",
       "\n",
       "    .dataframe thead th {\n",
       "        text-align: right;\n",
       "    }\n",
       "</style>\n",
       "<table border=\"1\" class=\"dataframe\">\n",
       "  <thead>\n",
       "    <tr style=\"text-align: right;\">\n",
       "      <th></th>\n",
       "      <th>k</th>\n",
       "      <th>test_rmse</th>\n",
       "    </tr>\n",
       "  </thead>\n",
       "  <tbody>\n",
       "    <tr>\n",
       "      <th>20</th>\n",
       "      <td>21</td>\n",
       "      <td>1.215646</td>\n",
       "    </tr>\n",
       "    <tr>\n",
       "      <th>18</th>\n",
       "      <td>19</td>\n",
       "      <td>1.215647</td>\n",
       "    </tr>\n",
       "    <tr>\n",
       "      <th>19</th>\n",
       "      <td>20</td>\n",
       "      <td>1.215648</td>\n",
       "    </tr>\n",
       "    <tr>\n",
       "      <th>49</th>\n",
       "      <td>50</td>\n",
       "      <td>1.215649</td>\n",
       "    </tr>\n",
       "    <tr>\n",
       "      <th>72</th>\n",
       "      <td>73</td>\n",
       "      <td>1.215649</td>\n",
       "    </tr>\n",
       "  </tbody>\n",
       "</table>\n",
       "</div>"
      ],
      "text/plain": [
       "     k  test_rmse\n",
       "20  21   1.215646\n",
       "18  19   1.215647\n",
       "19  20   1.215648\n",
       "49  50   1.215649\n",
       "72  73   1.215649"
      ]
     },
     "execution_count": 102,
     "metadata": {},
     "output_type": "execute_result"
    }
   ],
   "source": [
    "# Sort rmse scores and pick value of k that has lowest rmse on the test set\n",
    "scores.sort_values(by='test_rmse', ascending=True, inplace=True)\n",
    "scores.head(2)"
   ]
  },
  {
   "cell_type": "code",
   "execution_count": 103,
   "metadata": {},
   "outputs": [
    {
     "name": "stdout",
     "output_type": "stream",
     "text": [
      "Computing the pearson similarity matrix...\n",
      "Done computing similarity matrix.\n"
     ]
    },
    {
     "data": {
      "text/plain": [
       "<surprise.prediction_algorithms.knns.KNNWithMeans at 0x1a58c6bcf8>"
      ]
     },
     "execution_count": 103,
     "metadata": {},
     "output_type": "execute_result"
    }
   ],
   "source": [
    "# Refit model with best k\n",
    "best_k = scores[:1]['k'].values[0]\n",
    "\n",
    "algo = KNNWithMeans(k=best_k, sim_options={'name': 'pearson', 'user_based': False})\n",
    "algo.fit(trainset)"
   ]
  },
  {
   "cell_type": "markdown",
   "metadata": {},
   "source": [
    "### 4.B.3. Evaluate Model (Recall)"
   ]
  },
  {
   "cell_type": "markdown",
   "metadata": {},
   "source": [
    "**Get Recommendations for Example User**"
   ]
  },
  {
   "cell_type": "code",
   "execution_count": 104,
   "metadata": {},
   "outputs": [],
   "source": [
    "# Than predict ratings for all pairs (u, i) that are NOT in the training set.\n",
    "train_pred_set = trainset.build_anti_testset()\n",
    "train_preds = algo.test(train_pred_set)\n",
    "\n",
    "# Make predictions\n",
    "top_n = get_n_recommendations(train_preds)\n"
   ]
  },
  {
   "cell_type": "code",
   "execution_count": 105,
   "metadata": {},
   "outputs": [
    {
     "name": "stdout",
     "output_type": "stream",
     "text": [
      "Pre-2014 selections (customer id - 13516428):\n",
      "                              product_title  star_rating\n",
      "7815   Red Dead Redemption Game of the Year            5\n",
      "9838                              Fable III            3\n",
      "12867                          Halo 3: ODST            4\n",
      "16011            Need for Speed Most Wanted            1\n",
      "25538                         Battlefield 3            5\n",
      "\n",
      "Post-2014 selections (customer id - 13516428):\n",
      "                                      product_title  star_rating\n",
      "341                                     Tomb Raider          5.0\n",
      "452            Red Dead Redemption Game of the Year          5.0\n",
      "1908                          Batman Arkham Origins          3.0\n",
      "2008                               Assassin's Creed          4.0\n",
      "2185                             Grand Theft Auto V          5.0\n",
      "3075                 Call of Duty 4: Modern Warfare          5.0\n",
      "3187      Call of Duty: Modern Warfare 3 - Xbox 360          5.0\n",
      "4160                 Call of Duty: Modern Warfare 2          5.0\n",
      "4183                             Assassins Creed II          5.0\n",
      "4242                  Kingdoms of Amalur: Reckoning          5.0\n",
      "4261                                   Dragon Age 2          5.0\n",
      "4356  The Elder Scrolls V: Skyrim Legendary Edition          2.0\n",
      "\n",
      "Recommendations:\n",
      "Far Cry 3\n",
      "Luigi's Mansion: Dark Moon\n",
      "Forza Motorsport 4\n",
      "Halo 4\n",
      "LittleBigPlanet\n",
      "Assassin's Creed 4\n",
      "BEYOND: Two Souls\n",
      "Grand Theft Auto V\n",
      "LEGO: Marvel\n",
      "Assassin's Creed: Brotherhood\n",
      "Borderlands 2\n",
      "Fire Emblem: Awakening\n",
      "Resident Evil 5\n",
      "The Legend of Zelda: Ocarina of Time 3D\n",
      "New Super Mario Bros. 2\n"
     ]
    }
   ],
   "source": [
    "print_customer_prof(train_df, test_df, top_n)"
   ]
  },
  {
   "cell_type": "code",
   "execution_count": 106,
   "metadata": {},
   "outputs": [
    {
     "name": "stdout",
     "output_type": "stream",
     "text": [
      "Precision (II - KNNwithMeans - Pearson): 0.012008761757505476\n"
     ]
    }
   ],
   "source": [
    "prec = evaluate_precision(top_n, testset, threshold=4.0)\n",
    "print('Precision (II - KNNwithMeans - Pearson):', prec)\n"
   ]
  },
  {
   "cell_type": "code",
   "execution_count": 107,
   "metadata": {},
   "outputs": [
    {
     "name": "stdout",
     "output_type": "stream",
     "text": [
      "MAP (II - KNNwithMeans - Pearson): 0.1317519782796336\n"
     ]
    }
   ],
   "source": [
    "mean_ap = evaluate_map(top_n, testset, threshold=4.0)\n",
    "print('MAP (II - KNNwithMeans - Pearson):', mean_ap)\n"
   ]
  },
  {
   "cell_type": "code",
   "execution_count": 108,
   "metadata": {},
   "outputs": [],
   "source": [
    "algo_4B = {'Model': 'II - KNNwithMeans - Pearson',\n",
    "           'RMSE': rmse,\n",
    "           'Unranked Precision': prec,\n",
    "           'MAP': mean_ap}"
   ]
  },
  {
   "cell_type": "markdown",
   "metadata": {},
   "source": [
    "**Search Best K based on Recall**"
   ]
  },
  {
   "cell_type": "code",
   "execution_count": 109,
   "metadata": {},
   "outputs": [],
   "source": [
    "# # HAHAHA\n",
    "# plot_recall(range(10,61,10), \n",
    "#             trainset, \n",
    "#             testset,\n",
    "#             algorithm='KNNWithMeans',\n",
    "#             sim_options={'name': 'pearson', 'user_based': False})"
   ]
  },
  {
   "cell_type": "markdown",
   "metadata": {},
   "source": [
    "### 4.B.4. Make Recommendations for New Customer"
   ]
  },
  {
   "cell_type": "code",
   "execution_count": 110,
   "metadata": {
    "scrolled": false
   },
   "outputs": [
    {
     "name": "stdout",
     "output_type": "stream",
     "text": [
      "Computing the pearson similarity matrix...\n",
      "Done computing similarity matrix.\n"
     ]
    },
    {
     "data": {
      "text/html": [
       "<div>\n",
       "<style scoped>\n",
       "    .dataframe tbody tr th:only-of-type {\n",
       "        vertical-align: middle;\n",
       "    }\n",
       "\n",
       "    .dataframe tbody tr th {\n",
       "        vertical-align: top;\n",
       "    }\n",
       "\n",
       "    .dataframe thead th {\n",
       "        text-align: right;\n",
       "    }\n",
       "</style>\n",
       "<table border=\"1\" class=\"dataframe\">\n",
       "  <thead>\n",
       "    <tr style=\"text-align: right;\">\n",
       "      <th></th>\n",
       "      <th>items</th>\n",
       "      <th>rating</th>\n",
       "    </tr>\n",
       "  </thead>\n",
       "  <tbody>\n",
       "    <tr>\n",
       "      <th>112</th>\n",
       "      <td>Killzone 3</td>\n",
       "      <td>5.0</td>\n",
       "    </tr>\n",
       "    <tr>\n",
       "      <th>64</th>\n",
       "      <td>Assassins Creed II</td>\n",
       "      <td>5.0</td>\n",
       "    </tr>\n",
       "    <tr>\n",
       "      <th>157</th>\n",
       "      <td>Batman: Arkham Asylum</td>\n",
       "      <td>5.0</td>\n",
       "    </tr>\n",
       "    <tr>\n",
       "      <th>98</th>\n",
       "      <td>Fallout 3</td>\n",
       "      <td>5.0</td>\n",
       "    </tr>\n",
       "    <tr>\n",
       "      <th>97</th>\n",
       "      <td>Medal of Honor: Allied Assault - PC</td>\n",
       "      <td>5.0</td>\n",
       "    </tr>\n",
       "    <tr>\n",
       "      <th>158</th>\n",
       "      <td>inFAMOUS - Playstation 3</td>\n",
       "      <td>5.0</td>\n",
       "    </tr>\n",
       "    <tr>\n",
       "      <th>94</th>\n",
       "      <td>Call of Duty: World at War</td>\n",
       "      <td>5.0</td>\n",
       "    </tr>\n",
       "    <tr>\n",
       "      <th>93</th>\n",
       "      <td>Halo 3: ODST</td>\n",
       "      <td>5.0</td>\n",
       "    </tr>\n",
       "    <tr>\n",
       "      <th>92</th>\n",
       "      <td>The Elder Scrolls V: Skyrim Legendary Edition</td>\n",
       "      <td>5.0</td>\n",
       "    </tr>\n",
       "    <tr>\n",
       "      <th>91</th>\n",
       "      <td>Minecraft - Xbox 360</td>\n",
       "      <td>5.0</td>\n",
       "    </tr>\n",
       "  </tbody>\n",
       "</table>\n",
       "</div>"
      ],
      "text/plain": [
       "                                             items  rating\n",
       "112                                     Killzone 3     5.0\n",
       "64                              Assassins Creed II     5.0\n",
       "157                          Batman: Arkham Asylum     5.0\n",
       "98                                       Fallout 3     5.0\n",
       "97             Medal of Honor: Allied Assault - PC     5.0\n",
       "158                       inFAMOUS - Playstation 3     5.0\n",
       "94                      Call of Duty: World at War     5.0\n",
       "93                                    Halo 3: ODST     5.0\n",
       "92   The Elder Scrolls V: Skyrim Legendary Edition     5.0\n",
       "91                            Minecraft - Xbox 360     5.0"
      ]
     },
     "execution_count": 110,
     "metadata": {},
     "output_type": "execute_result"
    }
   ],
   "source": [
    "new_products = ['Call of Duty: Ghosts', \n",
    "                'Call of Duty: Modern Warfare 2', \n",
    "                'Battlefield 3']\n",
    "\n",
    "recs = new_recommendations(new_products, whole, algo)\n",
    "recs.head(10)"
   ]
  },
  {
   "cell_type": "markdown",
   "metadata": {},
   "source": [
    "<br>\n",
    "## 5.A. User-User Collaborative Filtering (KNNBaseline - Cosine)\n",
    "\n",
    "A basic collaborative filtering algorithm taking into account a *baseline* rating.\n",
    "\n",
    "$${\\normalsize \\hat{r}_{ui} = b_{ui} + \\frac{ \\sum\\limits_{v \\in N^k_i(u)}\\text{sim}(u, v) \\cdot (r_{vi} - b_{vi})} {\\sum\\limits_{v \\in N^k_i(u)} \\text{sim}(u, v)} }$$\n",
    "\n",
    "Where:\n",
    "<br>\n",
    "$\\hat{r}_{ui}$ - Prediction for user $u$ and item $i$.<br>\n",
    "$b_{ui}$ - Baseline estimate for user $u$ and item $i$.<br>\n",
    "${v \\in N^k_u(i)}$ - $v$ users in $k$ neighborhood most similar to user $u$ for item $i$.<br>\n",
    "$\\text{sim}(u, v)$ - **Cosine** similarity between user $u$ and $v$.<br>\n",
    "$(r_{vi} - b_{vi})$ - Deviation of rating for user $u$ item $i$ and its baseline estimate.<br>"
   ]
  },
  {
   "cell_type": "markdown",
   "metadata": {},
   "source": [
    "### 5.A.1. Train Model"
   ]
  },
  {
   "cell_type": "code",
   "execution_count": 111,
   "metadata": {
    "scrolled": false
   },
   "outputs": [
    {
     "name": "stdout",
     "output_type": "stream",
     "text": [
      "Estimating biases using als...\n",
      "Computing the cosine similarity matrix...\n",
      "Done computing similarity matrix.\n"
     ]
    },
    {
     "data": {
      "text/plain": [
       "<surprise.prediction_algorithms.knns.KNNBaseline at 0x1a1333f6d8>"
      ]
     },
     "execution_count": 111,
     "metadata": {},
     "output_type": "execute_result"
    }
   ],
   "source": [
    "# Use user_based true/false to switch between user-based or item-based collaborative filtering\n",
    "# Here we will use user based collaborative filtering, so True.\n",
    "\n",
    "algo = KNNBaseline(k=50, sim_options={'name': 'cosine', 'user_based': True})\n",
    "algo.fit(trainset)\n"
   ]
  },
  {
   "cell_type": "markdown",
   "metadata": {},
   "source": [
    "### 5.A.2. Evaluate Model (RMSE)"
   ]
  },
  {
   "cell_type": "code",
   "execution_count": 112,
   "metadata": {},
   "outputs": [
    {
     "name": "stdout",
     "output_type": "stream",
     "text": [
      "User-based (KNNBaseline - Cosine) Model : Test Set\n",
      "RMSE: 1.2209\n"
     ]
    }
   ],
   "source": [
    "# Evaluate test set\n",
    "print(\"User-based (KNNBaseline - Cosine) Model : Test Set\")\n",
    "test_pred = algo.test(testset)\n",
    "rmse = accuracy.rmse(test_pred, verbose=True)"
   ]
  },
  {
   "cell_type": "markdown",
   "metadata": {},
   "source": [
    "**Search Best K based on RMSE**"
   ]
  },
  {
   "cell_type": "code",
   "execution_count": 113,
   "metadata": {},
   "outputs": [
    {
     "data": {
      "image/png": "[encoded data removed]",
      "text/plain": [
       "<Figure size 720x504 with 1 Axes>"
      ]
     },
     "metadata": {
      "image/png": {
       "height": 441,
       "width": 619
      }
     },
     "output_type": "display_data"
    }
   ],
   "source": [
    "scores = plot_rmse(range(1,100), \n",
    "                   trainset, \n",
    "                   testset, \n",
    "                   algorithm='KNNBaseline', \n",
    "                   sim_options={'name': 'cosine', 'user_based': True})"
   ]
  },
  {
   "cell_type": "code",
   "execution_count": 114,
   "metadata": {
    "scrolled": true
   },
   "outputs": [
    {
     "data": {
      "text/html": [
       "<div>\n",
       "<style scoped>\n",
       "    .dataframe tbody tr th:only-of-type {\n",
       "        vertical-align: middle;\n",
       "    }\n",
       "\n",
       "    .dataframe tbody tr th {\n",
       "        vertical-align: top;\n",
       "    }\n",
       "\n",
       "    .dataframe thead th {\n",
       "        text-align: right;\n",
       "    }\n",
       "</style>\n",
       "<table border=\"1\" class=\"dataframe\">\n",
       "  <thead>\n",
       "    <tr style=\"text-align: right;\">\n",
       "      <th></th>\n",
       "      <th>k</th>\n",
       "      <th>test_rmse</th>\n",
       "    </tr>\n",
       "  </thead>\n",
       "  <tbody>\n",
       "    <tr>\n",
       "      <th>95</th>\n",
       "      <td>96</td>\n",
       "      <td>1.220840</td>\n",
       "    </tr>\n",
       "    <tr>\n",
       "      <th>73</th>\n",
       "      <td>74</td>\n",
       "      <td>1.220857</td>\n",
       "    </tr>\n",
       "    <tr>\n",
       "      <th>96</th>\n",
       "      <td>97</td>\n",
       "      <td>1.220864</td>\n",
       "    </tr>\n",
       "    <tr>\n",
       "      <th>94</th>\n",
       "      <td>95</td>\n",
       "      <td>1.220890</td>\n",
       "    </tr>\n",
       "    <tr>\n",
       "      <th>92</th>\n",
       "      <td>93</td>\n",
       "      <td>1.220894</td>\n",
       "    </tr>\n",
       "  </tbody>\n",
       "</table>\n",
       "</div>"
      ],
      "text/plain": [
       "     k  test_rmse\n",
       "95  96   1.220840\n",
       "73  74   1.220857\n",
       "96  97   1.220864\n",
       "94  95   1.220890\n",
       "92  93   1.220894"
      ]
     },
     "execution_count": 114,
     "metadata": {},
     "output_type": "execute_result"
    }
   ],
   "source": [
    "# Sort rmse scores and pick value of k that has lowest rmse on the test set\n",
    "scores.sort_values(by='test_rmse', ascending=True, inplace=True)\n",
    "scores.head(2)"
   ]
  },
  {
   "cell_type": "code",
   "execution_count": 115,
   "metadata": {},
   "outputs": [
    {
     "name": "stdout",
     "output_type": "stream",
     "text": [
      "Estimating biases using als...\n",
      "Computing the cosine similarity matrix...\n",
      "Done computing similarity matrix.\n"
     ]
    },
    {
     "data": {
      "text/plain": [
       "<surprise.prediction_algorithms.knns.KNNBaseline at 0x1a687881d0>"
      ]
     },
     "execution_count": 115,
     "metadata": {},
     "output_type": "execute_result"
    }
   ],
   "source": [
    "# Refit model with best k\n",
    "best_k = scores[:1]['k'].values[0]\n",
    "\n",
    "algo = KNNBaseline(k=best_k, sim_options={'name': 'cosine', 'user_based': True})\n",
    "algo.fit(trainset)"
   ]
  },
  {
   "cell_type": "markdown",
   "metadata": {},
   "source": [
    "### 5.A.3. Evaluate Model (Recall)"
   ]
  },
  {
   "cell_type": "markdown",
   "metadata": {},
   "source": [
    "**Get Recommendations for Example User**"
   ]
  },
  {
   "cell_type": "code",
   "execution_count": 116,
   "metadata": {},
   "outputs": [],
   "source": [
    "# Than predict ratings for all pairs (u, i) that are NOT in the training set.\n",
    "train_pred_set = trainset.build_anti_testset()\n",
    "train_preds = algo.test(train_pred_set)\n",
    "\n",
    "# Make predictions\n",
    "top_n = get_n_recommendations(train_preds)\n"
   ]
  },
  {
   "cell_type": "code",
   "execution_count": 117,
   "metadata": {},
   "outputs": [
    {
     "name": "stdout",
     "output_type": "stream",
     "text": [
      "Pre-2014 selections (customer id - 13516428):\n",
      "                              product_title  star_rating\n",
      "7815   Red Dead Redemption Game of the Year            5\n",
      "9838                              Fable III            3\n",
      "12867                          Halo 3: ODST            4\n",
      "16011            Need for Speed Most Wanted            1\n",
      "25538                         Battlefield 3            5\n",
      "\n",
      "Post-2014 selections (customer id - 13516428):\n",
      "                                      product_title  star_rating\n",
      "341                                     Tomb Raider          5.0\n",
      "452            Red Dead Redemption Game of the Year          5.0\n",
      "1908                          Batman Arkham Origins          3.0\n",
      "2008                               Assassin's Creed          4.0\n",
      "2185                             Grand Theft Auto V          5.0\n",
      "3075                 Call of Duty 4: Modern Warfare          5.0\n",
      "3187      Call of Duty: Modern Warfare 3 - Xbox 360          5.0\n",
      "4160                 Call of Duty: Modern Warfare 2          5.0\n",
      "4183                             Assassins Creed II          5.0\n",
      "4242                  Kingdoms of Amalur: Reckoning          5.0\n",
      "4261                                   Dragon Age 2          5.0\n",
      "4356  The Elder Scrolls V: Skyrim Legendary Edition          2.0\n",
      "\n",
      "Recommendations:\n",
      "GoldenEye 007\n",
      "Mario Kart: Double Dash\n",
      "Super Mario Galaxy (Nintendo Selects)\n",
      "Metal Gear Solid: The Legacy Collection\n",
      "Brain Age: Train Your Brain in Minutes a Day!\n",
      "Animal Crossing: Wild World\n",
      "Pokemon X\n",
      "Mario Kart DS\n",
      "Just Dance 3\n",
      "Super Mario 64\n",
      "Resident Evil\n",
      "Kingdom Hearts 3D Dream Drop Distance\n",
      "Super Mario Sunshine\n",
      "StarCraft Battle Chest\n",
      "LEGO Lord of the Rings\n"
     ]
    }
   ],
   "source": [
    "print_customer_prof(train_df, test_df, top_n)"
   ]
  },
  {
   "cell_type": "code",
   "execution_count": 118,
   "metadata": {},
   "outputs": [
    {
     "name": "stdout",
     "output_type": "stream",
     "text": [
      "Precision (UU - KNNBaseline - Cosine): 0.005025125628140704\n"
     ]
    }
   ],
   "source": [
    "prec = evaluate_precision(top_n, testset, threshold=4.0)\n",
    "print('Precision (UU - KNNBaseline - Cosine):', prec)\n"
   ]
  },
  {
   "cell_type": "code",
   "execution_count": 119,
   "metadata": {},
   "outputs": [
    {
     "name": "stdout",
     "output_type": "stream",
     "text": [
      "MAP (UU - KNNBaseline - Cosine): 0.05245024621486687\n"
     ]
    }
   ],
   "source": [
    "mean_ap = evaluate_map(top_n, testset, threshold=4.0)\n",
    "print('MAP (UU - KNNBaseline - Cosine):', mean_ap)\n"
   ]
  },
  {
   "cell_type": "code",
   "execution_count": 120,
   "metadata": {},
   "outputs": [],
   "source": [
    "algo_5A = {'Model': 'UU - KNNBaseline - Cosine',\n",
    "           'RMSE': rmse,\n",
    "           'Unranked Precision': prec,\n",
    "           'MAP': mean_ap}"
   ]
  },
  {
   "cell_type": "markdown",
   "metadata": {},
   "source": [
    "**Search Best K based on Recall**"
   ]
  },
  {
   "cell_type": "code",
   "execution_count": 121,
   "metadata": {},
   "outputs": [],
   "source": [
    "# # HAHAHA\n",
    "# plot_recall(range(10,61,10), \n",
    "#             trainset, \n",
    "#             testset,\n",
    "#             algorithm='KNNBaseline',\n",
    "#             sim_options={'name': 'cosine', 'user_based': True})"
   ]
  },
  {
   "cell_type": "markdown",
   "metadata": {},
   "source": [
    "### 5.A.4. Make Recommendations for New Customer"
   ]
  },
  {
   "cell_type": "code",
   "execution_count": 122,
   "metadata": {
    "scrolled": false
   },
   "outputs": [
    {
     "name": "stdout",
     "output_type": "stream",
     "text": [
      "Estimating biases using als...\n",
      "Computing the cosine similarity matrix...\n",
      "Done computing similarity matrix.\n"
     ]
    },
    {
     "data": {
      "text/html": [
       "<div>\n",
       "<style scoped>\n",
       "    .dataframe tbody tr th:only-of-type {\n",
       "        vertical-align: middle;\n",
       "    }\n",
       "\n",
       "    .dataframe tbody tr th {\n",
       "        vertical-align: top;\n",
       "    }\n",
       "\n",
       "    .dataframe thead th {\n",
       "        text-align: right;\n",
       "    }\n",
       "</style>\n",
       "<table border=\"1\" class=\"dataframe\">\n",
       "  <thead>\n",
       "    <tr style=\"text-align: right;\">\n",
       "      <th></th>\n",
       "      <th>items</th>\n",
       "      <th>rating</th>\n",
       "    </tr>\n",
       "  </thead>\n",
       "  <tbody>\n",
       "    <tr>\n",
       "      <th>13</th>\n",
       "      <td>Pokémon Black Version 2</td>\n",
       "      <td>5.0</td>\n",
       "    </tr>\n",
       "    <tr>\n",
       "      <th>170</th>\n",
       "      <td>StarCraft Battle Chest</td>\n",
       "      <td>5.0</td>\n",
       "    </tr>\n",
       "    <tr>\n",
       "      <th>205</th>\n",
       "      <td>Grand Theft Auto: San Andreas</td>\n",
       "      <td>5.0</td>\n",
       "    </tr>\n",
       "    <tr>\n",
       "      <th>128</th>\n",
       "      <td>Lego Star Wars: The Complete Saga</td>\n",
       "      <td>5.0</td>\n",
       "    </tr>\n",
       "    <tr>\n",
       "      <th>146</th>\n",
       "      <td>Super Mario 64</td>\n",
       "      <td>5.0</td>\n",
       "    </tr>\n",
       "    <tr>\n",
       "      <th>38</th>\n",
       "      <td>Kingdom Hearts 3D Dream Drop Distance</td>\n",
       "      <td>5.0</td>\n",
       "    </tr>\n",
       "    <tr>\n",
       "      <th>20</th>\n",
       "      <td>The Legend of Zelda: Twilight Princess</td>\n",
       "      <td>5.0</td>\n",
       "    </tr>\n",
       "    <tr>\n",
       "      <th>79</th>\n",
       "      <td>Just Dance 3</td>\n",
       "      <td>5.0</td>\n",
       "    </tr>\n",
       "    <tr>\n",
       "      <th>97</th>\n",
       "      <td>Medal of Honor: Allied Assault - PC</td>\n",
       "      <td>5.0</td>\n",
       "    </tr>\n",
       "    <tr>\n",
       "      <th>143</th>\n",
       "      <td>Mario Kart: Double Dash</td>\n",
       "      <td>5.0</td>\n",
       "    </tr>\n",
       "  </tbody>\n",
       "</table>\n",
       "</div>"
      ],
      "text/plain": [
       "                                      items  rating\n",
       "13                  Pokémon Black Version 2     5.0\n",
       "170                  StarCraft Battle Chest     5.0\n",
       "205           Grand Theft Auto: San Andreas     5.0\n",
       "128       Lego Star Wars: The Complete Saga     5.0\n",
       "146                          Super Mario 64     5.0\n",
       "38    Kingdom Hearts 3D Dream Drop Distance     5.0\n",
       "20   The Legend of Zelda: Twilight Princess     5.0\n",
       "79                             Just Dance 3     5.0\n",
       "97      Medal of Honor: Allied Assault - PC     5.0\n",
       "143                 Mario Kart: Double Dash     5.0"
      ]
     },
     "execution_count": 122,
     "metadata": {},
     "output_type": "execute_result"
    }
   ],
   "source": [
    "new_products = ['Call of Duty: Ghosts', \n",
    "                'Call of Duty: Modern Warfare 2', \n",
    "                'Battlefield 3']\n",
    "\n",
    "recs = new_recommendations(new_products, whole, algo)\n",
    "recs.head(10)"
   ]
  },
  {
   "cell_type": "markdown",
   "metadata": {},
   "source": [
    "<br>\n",
    "## 5.B. User-User Collaborative Filtering (KNNBaseline - Pearson)\n",
    "\n",
    "A basic collaborative filtering algorithm taking into account a *baseline* rating.\n",
    "\n",
    "$${\\normalsize \\hat{r}_{ui} = b_{ui} + \\frac{ \\sum\\limits_{v \\in N^k_i(u)}\\text{sim}(u, v) \\cdot (r_{vi} - b_{vi})} {\\sum\\limits_{v \\in N^k_i(u)} \\text{sim}(u, v)} }$$\n",
    "\n",
    "Where:\n",
    "<br>\n",
    "$\\hat{r}_{ui}$ - Prediction for user $u$ and item $i$.<br>\n",
    "$b_{ui}$ - Baseline estimate for user $u$ and item $i$.<br>\n",
    "${v \\in N^k_u(i)}$ - $v$ users in $k$ neighborhood most similar to user $u$ for item $i$.<br>\n",
    "$\\text{sim}(u, v)$ - **Pearson** similarity between user $u$ and $v$.<br>\n",
    "$(r_{vi} - b_{vi})$ - Deviation of rating for user $u$ item $i$ and its baseline estimate.<br>"
   ]
  },
  {
   "cell_type": "markdown",
   "metadata": {},
   "source": [
    "### 5.B.1. Train Model"
   ]
  },
  {
   "cell_type": "code",
   "execution_count": 123,
   "metadata": {
    "scrolled": false
   },
   "outputs": [
    {
     "name": "stdout",
     "output_type": "stream",
     "text": [
      "Estimating biases using als...\n",
      "Computing the pearson similarity matrix...\n",
      "Done computing similarity matrix.\n"
     ]
    },
    {
     "data": {
      "text/plain": [
       "<surprise.prediction_algorithms.knns.KNNBaseline at 0x1a13b48b70>"
      ]
     },
     "execution_count": 123,
     "metadata": {},
     "output_type": "execute_result"
    }
   ],
   "source": [
    "# Use user_based true/false to switch between user-based or item-based collaborative filtering\n",
    "# Here we will use user based collaborative filtering, so True.\n",
    "\n",
    "algo = KNNBaseline(k=50, sim_options={'name': 'pearson', 'user_based': True})\n",
    "algo.fit(trainset)\n"
   ]
  },
  {
   "cell_type": "markdown",
   "metadata": {},
   "source": [
    "### 5.B.2. Evaluate Model (RMSE)"
   ]
  },
  {
   "cell_type": "code",
   "execution_count": 124,
   "metadata": {},
   "outputs": [
    {
     "name": "stdout",
     "output_type": "stream",
     "text": [
      "User-based (KNNBaseline - Pearson) Model : Test Set\n",
      "RMSE: 1.1780\n"
     ]
    }
   ],
   "source": [
    "# Evaluate test set\n",
    "print(\"User-based (KNNBaseline - Pearson) Model : Test Set\")\n",
    "test_pred = algo.test(testset)\n",
    "rmse = accuracy.rmse(test_pred, verbose=True)"
   ]
  },
  {
   "cell_type": "markdown",
   "metadata": {},
   "source": [
    "**Search Best K based on RMSE**"
   ]
  },
  {
   "cell_type": "code",
   "execution_count": 125,
   "metadata": {},
   "outputs": [
    {
     "data": {
      "image/png": "[encoded data removed]",
      "text/plain": [
       "<Figure size 720x504 with 1 Axes>"
      ]
     },
     "metadata": {
      "image/png": {
       "height": 441,
       "width": 619
      }
     },
     "output_type": "display_data"
    }
   ],
   "source": [
    "scores = plot_rmse(range(1,100), \n",
    "                   trainset, \n",
    "                   testset, \n",
    "                   algorithm='KNNBaseline', \n",
    "                   sim_options={'name': 'pearson', 'user_based': True})"
   ]
  },
  {
   "cell_type": "code",
   "execution_count": 126,
   "metadata": {
    "scrolled": true
   },
   "outputs": [
    {
     "data": {
      "text/html": [
       "<div>\n",
       "<style scoped>\n",
       "    .dataframe tbody tr th:only-of-type {\n",
       "        vertical-align: middle;\n",
       "    }\n",
       "\n",
       "    .dataframe tbody tr th {\n",
       "        vertical-align: top;\n",
       "    }\n",
       "\n",
       "    .dataframe thead th {\n",
       "        text-align: right;\n",
       "    }\n",
       "</style>\n",
       "<table border=\"1\" class=\"dataframe\">\n",
       "  <thead>\n",
       "    <tr style=\"text-align: right;\">\n",
       "      <th></th>\n",
       "      <th>k</th>\n",
       "      <th>test_rmse</th>\n",
       "    </tr>\n",
       "  </thead>\n",
       "  <tbody>\n",
       "    <tr>\n",
       "      <th>11</th>\n",
       "      <td>12</td>\n",
       "      <td>1.177830</td>\n",
       "    </tr>\n",
       "    <tr>\n",
       "      <th>13</th>\n",
       "      <td>14</td>\n",
       "      <td>1.177834</td>\n",
       "    </tr>\n",
       "    <tr>\n",
       "      <th>15</th>\n",
       "      <td>16</td>\n",
       "      <td>1.177882</td>\n",
       "    </tr>\n",
       "    <tr>\n",
       "      <th>12</th>\n",
       "      <td>13</td>\n",
       "      <td>1.177883</td>\n",
       "    </tr>\n",
       "    <tr>\n",
       "      <th>14</th>\n",
       "      <td>15</td>\n",
       "      <td>1.177905</td>\n",
       "    </tr>\n",
       "  </tbody>\n",
       "</table>\n",
       "</div>"
      ],
      "text/plain": [
       "     k  test_rmse\n",
       "11  12   1.177830\n",
       "13  14   1.177834\n",
       "15  16   1.177882\n",
       "12  13   1.177883\n",
       "14  15   1.177905"
      ]
     },
     "execution_count": 126,
     "metadata": {},
     "output_type": "execute_result"
    }
   ],
   "source": [
    "# Sort rmse scores and pick value of k that has lowest rmse on the test set\n",
    "scores.sort_values(by='test_rmse', ascending=True, inplace=True)\n",
    "scores.head(5)"
   ]
  },
  {
   "cell_type": "code",
   "execution_count": 127,
   "metadata": {},
   "outputs": [
    {
     "name": "stdout",
     "output_type": "stream",
     "text": [
      "Estimating biases using als...\n",
      "Computing the pearson similarity matrix...\n",
      "Done computing similarity matrix.\n"
     ]
    },
    {
     "data": {
      "text/plain": [
       "<surprise.prediction_algorithms.knns.KNNBaseline at 0x1a142d2dd8>"
      ]
     },
     "execution_count": 127,
     "metadata": {},
     "output_type": "execute_result"
    }
   ],
   "source": [
    "# Refit model with best k\n",
    "best_k = scores[:1]['k'].values[0]\n",
    "\n",
    "algo = KNNBaseline(k=best_k, sim_options={'name': 'pearson', 'user_based': True})\n",
    "algo.fit(trainset)"
   ]
  },
  {
   "cell_type": "markdown",
   "metadata": {},
   "source": [
    "### 5.B.3. Evaluate Model (Recall)"
   ]
  },
  {
   "cell_type": "markdown",
   "metadata": {},
   "source": [
    "**Get Recommendations for Example User**"
   ]
  },
  {
   "cell_type": "code",
   "execution_count": 128,
   "metadata": {},
   "outputs": [],
   "source": [
    "# Than predict ratings for all pairs (u, i) that are NOT in the training set.\n",
    "train_pred_set = trainset.build_anti_testset()\n",
    "train_preds = algo.test(train_pred_set)\n",
    "\n",
    "# Make predictions\n",
    "top_n = get_n_recommendations(train_preds)\n"
   ]
  },
  {
   "cell_type": "code",
   "execution_count": 129,
   "metadata": {},
   "outputs": [
    {
     "name": "stdout",
     "output_type": "stream",
     "text": [
      "Pre-2014 selections (customer id - 13516428):\n",
      "                              product_title  star_rating\n",
      "7815   Red Dead Redemption Game of the Year            5\n",
      "9838                              Fable III            3\n",
      "12867                          Halo 3: ODST            4\n",
      "16011            Need for Speed Most Wanted            1\n",
      "25538                         Battlefield 3            5\n",
      "\n",
      "Post-2014 selections (customer id - 13516428):\n",
      "                                      product_title  star_rating\n",
      "341                                     Tomb Raider          5.0\n",
      "452            Red Dead Redemption Game of the Year          5.0\n",
      "1908                          Batman Arkham Origins          3.0\n",
      "2008                               Assassin's Creed          4.0\n",
      "2185                             Grand Theft Auto V          5.0\n",
      "3075                 Call of Duty 4: Modern Warfare          5.0\n",
      "3187      Call of Duty: Modern Warfare 3 - Xbox 360          5.0\n",
      "4160                 Call of Duty: Modern Warfare 2          5.0\n",
      "4183                             Assassins Creed II          5.0\n",
      "4242                  Kingdoms of Amalur: Reckoning          5.0\n",
      "4261                                   Dragon Age 2          5.0\n",
      "4356  The Elder Scrolls V: Skyrim Legendary Edition          2.0\n",
      "\n",
      "Recommendations:\n",
      "Mass Effect 2\n",
      "Borderlands 2\n",
      "The Last of Us\n",
      "LEGO: Marvel\n",
      "Need for Speed: Hot Pursuit\n",
      "Assassins Creed II\n",
      "God of War: Ascension\n",
      "Dishonored\n",
      "Assassin's Creed: Brotherhood\n",
      "BioShock Infinite\n",
      "Red Dead Redemption\n",
      "Far Cry 3\n",
      "Call of Duty: Black Ops - Xbox 360\n",
      "Tomb Raider\n",
      "Dead Space 3\n"
     ]
    }
   ],
   "source": [
    "print_customer_prof(train_df, test_df, top_n)"
   ]
  },
  {
   "cell_type": "code",
   "execution_count": 130,
   "metadata": {},
   "outputs": [
    {
     "name": "stdout",
     "output_type": "stream",
     "text": [
      "Precision (UU - KNNBaseline - Pearson): 0.01090065713181291\n"
     ]
    }
   ],
   "source": [
    "prec = evaluate_precision(top_n, testset, threshold=4.0)\n",
    "print('Precision (UU - KNNBaseline - Pearson):', prec)\n"
   ]
  },
  {
   "cell_type": "code",
   "execution_count": 131,
   "metadata": {},
   "outputs": [
    {
     "name": "stdout",
     "output_type": "stream",
     "text": [
      "MAP (UU - KNNBaseline - Pearson): 0.07358111160616015\n"
     ]
    }
   ],
   "source": [
    "mean_ap = evaluate_map(top_n, testset, threshold=4.0)\n",
    "print('MAP (UU - KNNBaseline - Pearson):', mean_ap)\n"
   ]
  },
  {
   "cell_type": "code",
   "execution_count": 132,
   "metadata": {},
   "outputs": [],
   "source": [
    "algo_5B = {'Model': 'UU - KNNBaseline - Pearson',\n",
    "           'RMSE': rmse,\n",
    "           'Unranked Precision': prec,\n",
    "           'MAP': mean_ap}"
   ]
  },
  {
   "cell_type": "markdown",
   "metadata": {},
   "source": [
    "**Search Best K based on Recall**"
   ]
  },
  {
   "cell_type": "code",
   "execution_count": 133,
   "metadata": {},
   "outputs": [],
   "source": [
    "# # HAHAHA\n",
    "# plot_recall(range(10,61,10), \n",
    "#             trainset, \n",
    "#             testset,\n",
    "#             algorithm='KNNBaseline',\n",
    "#             sim_options={'name': 'pearson', 'user_based': True})"
   ]
  },
  {
   "cell_type": "markdown",
   "metadata": {},
   "source": [
    "### 5.B.4. Make Recommendations for New Customer"
   ]
  },
  {
   "cell_type": "code",
   "execution_count": 134,
   "metadata": {
    "scrolled": false
   },
   "outputs": [
    {
     "name": "stdout",
     "output_type": "stream",
     "text": [
      "Estimating biases using als...\n",
      "Computing the pearson similarity matrix...\n",
      "Done computing similarity matrix.\n"
     ]
    },
    {
     "data": {
      "text/html": [
       "<div>\n",
       "<style scoped>\n",
       "    .dataframe tbody tr th:only-of-type {\n",
       "        vertical-align: middle;\n",
       "    }\n",
       "\n",
       "    .dataframe tbody tr th {\n",
       "        vertical-align: top;\n",
       "    }\n",
       "\n",
       "    .dataframe thead th {\n",
       "        text-align: right;\n",
       "    }\n",
       "</style>\n",
       "<table border=\"1\" class=\"dataframe\">\n",
       "  <thead>\n",
       "    <tr style=\"text-align: right;\">\n",
       "      <th></th>\n",
       "      <th>items</th>\n",
       "      <th>rating</th>\n",
       "    </tr>\n",
       "  </thead>\n",
       "  <tbody>\n",
       "    <tr>\n",
       "      <th>27</th>\n",
       "      <td>Call of Duty: Ghosts</td>\n",
       "      <td>5.000000</td>\n",
       "    </tr>\n",
       "    <tr>\n",
       "      <th>4</th>\n",
       "      <td>Battlefield 3</td>\n",
       "      <td>5.000000</td>\n",
       "    </tr>\n",
       "    <tr>\n",
       "      <th>5</th>\n",
       "      <td>Call of Duty: Modern Warfare 2</td>\n",
       "      <td>5.000000</td>\n",
       "    </tr>\n",
       "    <tr>\n",
       "      <th>142</th>\n",
       "      <td>Mario Kart DS</td>\n",
       "      <td>4.973249</td>\n",
       "    </tr>\n",
       "    <tr>\n",
       "      <th>146</th>\n",
       "      <td>Super Mario 64</td>\n",
       "      <td>4.960219</td>\n",
       "    </tr>\n",
       "    <tr>\n",
       "      <th>174</th>\n",
       "      <td>Dance Central 3</td>\n",
       "      <td>4.946594</td>\n",
       "    </tr>\n",
       "    <tr>\n",
       "      <th>66</th>\n",
       "      <td>Fire Emblem: Awakening</td>\n",
       "      <td>4.945073</td>\n",
       "    </tr>\n",
       "    <tr>\n",
       "      <th>159</th>\n",
       "      <td>Resident Evil 4</td>\n",
       "      <td>4.894416</td>\n",
       "    </tr>\n",
       "    <tr>\n",
       "      <th>168</th>\n",
       "      <td>Portal 2</td>\n",
       "      <td>4.890015</td>\n",
       "    </tr>\n",
       "    <tr>\n",
       "      <th>26</th>\n",
       "      <td>Mortal Kombat Komplete Edition</td>\n",
       "      <td>4.888777</td>\n",
       "    </tr>\n",
       "  </tbody>\n",
       "</table>\n",
       "</div>"
      ],
      "text/plain": [
       "                              items    rating\n",
       "27             Call of Duty: Ghosts  5.000000\n",
       "4                     Battlefield 3  5.000000\n",
       "5    Call of Duty: Modern Warfare 2  5.000000\n",
       "142                   Mario Kart DS  4.973249\n",
       "146                  Super Mario 64  4.960219\n",
       "174                 Dance Central 3  4.946594\n",
       "66           Fire Emblem: Awakening  4.945073\n",
       "159                 Resident Evil 4  4.894416\n",
       "168                        Portal 2  4.890015\n",
       "26   Mortal Kombat Komplete Edition  4.888777"
      ]
     },
     "execution_count": 134,
     "metadata": {},
     "output_type": "execute_result"
    }
   ],
   "source": [
    "new_products = ['Call of Duty: Ghosts', \n",
    "                'Call of Duty: Modern Warfare 2', \n",
    "                'Battlefield 3']\n",
    "\n",
    "recs = new_recommendations(new_products, whole, algo)\n",
    "recs.head(10)"
   ]
  },
  {
   "cell_type": "markdown",
   "metadata": {},
   "source": [
    "<br>\n",
    "## 6.A. Item-Item Collaborative Filtering (KNNBaseline - Cosine)\n",
    "\n",
    "A basic collaborative filtering algorithm taking into account a *baseline* rating.\n",
    "\n",
    "$${\\normalsize \\hat{r}_{ui} = b_{ui} + \\frac{ \\sum\\limits_{j \\in N^k_u(i)}\\text{sim}(i, j) \\cdot (r_{uj} - b_{uj})} {\\sum\\limits_{j \\in N^k_u(i)} \\text{sim}(i, j)} }$$\n",
    "\n",
    "Where:\n",
    "<br>\n",
    "$\\hat{r}_{ui}$ - Prediction for user $u$ and item $i$.<br>\n",
    "$b_{ui}$ - Baseline estimate for user $u$ and item $i$.<br>\n",
    "${j \\in N^k_u(i)}$ - $j$ items in $k$ neighborhood most similar to item $i$ for user $u$.<br>\n",
    "$\\text{sim}(i, j)$ - **Cosine** similarity between items $i$ and $j$.<br>\n",
    "$(r_{uj} - b_{uj})$ - Deviation of rating for user $u$ item $j$ and its baseline estimate.<br>"
   ]
  },
  {
   "cell_type": "markdown",
   "metadata": {},
   "source": [
    "### 6.A.1. Train Model"
   ]
  },
  {
   "cell_type": "code",
   "execution_count": 135,
   "metadata": {
    "scrolled": false
   },
   "outputs": [
    {
     "name": "stdout",
     "output_type": "stream",
     "text": [
      "Estimating biases using als...\n",
      "Computing the cosine similarity matrix...\n",
      "Done computing similarity matrix.\n"
     ]
    },
    {
     "data": {
      "text/plain": [
       "<surprise.prediction_algorithms.knns.KNNBaseline at 0x1a139f0940>"
      ]
     },
     "execution_count": 135,
     "metadata": {},
     "output_type": "execute_result"
    }
   ],
   "source": [
    "# Use user_based true/false to switch between user-based or item-based collaborative filtering\n",
    "# Here we will use user based collaborative filtering, so True.\n",
    "\n",
    "algo = KNNBaseline(k=50, sim_options={'name': 'cosine', 'user_based': False})\n",
    "algo.fit(trainset)\n"
   ]
  },
  {
   "cell_type": "markdown",
   "metadata": {},
   "source": [
    "### 6.A.2. Evaluate Model (RMSE)"
   ]
  },
  {
   "cell_type": "code",
   "execution_count": 136,
   "metadata": {},
   "outputs": [
    {
     "name": "stdout",
     "output_type": "stream",
     "text": [
      "Item-based (KNNBaseline - Cosine) Model : Test Set\n",
      "RMSE: 1.2186\n"
     ]
    },
    {
     "data": {
      "text/plain": [
       "1.2186487330487807"
      ]
     },
     "execution_count": 136,
     "metadata": {},
     "output_type": "execute_result"
    }
   ],
   "source": [
    "# Evaluate test set\n",
    "print(\"Item-based (KNNBaseline - Cosine) Model : Test Set\")\n",
    "test_pred = algo.test(testset)\n",
    "accuracy.rmse(test_pred, verbose=True)"
   ]
  },
  {
   "cell_type": "markdown",
   "metadata": {},
   "source": [
    "**Search Best K based on RMSE**"
   ]
  },
  {
   "cell_type": "code",
   "execution_count": 137,
   "metadata": {},
   "outputs": [
    {
     "data": {
      "image/png": "[encoded data removed]",
      "text/plain": [
       "<Figure size 720x504 with 1 Axes>"
      ]
     },
     "metadata": {
      "image/png": {
       "height": 441,
       "width": 614
      }
     },
     "output_type": "display_data"
    }
   ],
   "source": [
    "scores = plot_rmse(range(1,100), \n",
    "                   trainset, \n",
    "                   testset, \n",
    "                   algorithm='KNNBaseline', \n",
    "                   sim_options={'name': 'cosine', 'user_based': False})"
   ]
  },
  {
   "cell_type": "code",
   "execution_count": 138,
   "metadata": {
    "scrolled": true
   },
   "outputs": [
    {
     "data": {
      "text/html": [
       "<div>\n",
       "<style scoped>\n",
       "    .dataframe tbody tr th:only-of-type {\n",
       "        vertical-align: middle;\n",
       "    }\n",
       "\n",
       "    .dataframe tbody tr th {\n",
       "        vertical-align: top;\n",
       "    }\n",
       "\n",
       "    .dataframe thead th {\n",
       "        text-align: right;\n",
       "    }\n",
       "</style>\n",
       "<table border=\"1\" class=\"dataframe\">\n",
       "  <thead>\n",
       "    <tr style=\"text-align: right;\">\n",
       "      <th></th>\n",
       "      <th>k</th>\n",
       "      <th>test_rmse</th>\n",
       "    </tr>\n",
       "  </thead>\n",
       "  <tbody>\n",
       "    <tr>\n",
       "      <th>23</th>\n",
       "      <td>24</td>\n",
       "      <td>1.218535</td>\n",
       "    </tr>\n",
       "    <tr>\n",
       "      <th>22</th>\n",
       "      <td>23</td>\n",
       "      <td>1.218561</td>\n",
       "    </tr>\n",
       "    <tr>\n",
       "      <th>24</th>\n",
       "      <td>25</td>\n",
       "      <td>1.218564</td>\n",
       "    </tr>\n",
       "    <tr>\n",
       "      <th>25</th>\n",
       "      <td>26</td>\n",
       "      <td>1.218576</td>\n",
       "    </tr>\n",
       "    <tr>\n",
       "      <th>21</th>\n",
       "      <td>22</td>\n",
       "      <td>1.218576</td>\n",
       "    </tr>\n",
       "  </tbody>\n",
       "</table>\n",
       "</div>"
      ],
      "text/plain": [
       "     k  test_rmse\n",
       "23  24   1.218535\n",
       "22  23   1.218561\n",
       "24  25   1.218564\n",
       "25  26   1.218576\n",
       "21  22   1.218576"
      ]
     },
     "execution_count": 138,
     "metadata": {},
     "output_type": "execute_result"
    }
   ],
   "source": [
    "# Sort rmse scores and pick value of k that has lowest rmse on the test set\n",
    "scores.sort_values(by='test_rmse', ascending=True, inplace=True)\n",
    "scores.head(5)"
   ]
  },
  {
   "cell_type": "code",
   "execution_count": 139,
   "metadata": {},
   "outputs": [
    {
     "name": "stdout",
     "output_type": "stream",
     "text": [
      "Estimating biases using als...\n",
      "Computing the cosine similarity matrix...\n",
      "Done computing similarity matrix.\n"
     ]
    },
    {
     "data": {
      "text/plain": [
       "<surprise.prediction_algorithms.knns.KNNBaseline at 0x1a7776a2b0>"
      ]
     },
     "execution_count": 139,
     "metadata": {},
     "output_type": "execute_result"
    }
   ],
   "source": [
    "# Refit model with best k\n",
    "best_k = scores[:1]['k'].values[0]\n",
    "\n",
    "algo = KNNBaseline(k=best_k, sim_options={'name': 'cosine', 'user_based': False})\n",
    "algo.fit(trainset)"
   ]
  },
  {
   "cell_type": "markdown",
   "metadata": {},
   "source": [
    "### 6.A.3. Evaluate Model (Recall)"
   ]
  },
  {
   "cell_type": "markdown",
   "metadata": {},
   "source": [
    "**Get Recommendations for Example User**"
   ]
  },
  {
   "cell_type": "code",
   "execution_count": 140,
   "metadata": {},
   "outputs": [],
   "source": [
    "# Than predict ratings for all pairs (u, i) that are NOT in the training set.\n",
    "train_pred_set = trainset.build_anti_testset()\n",
    "train_preds = algo.test(train_pred_set)\n",
    "\n",
    "# Make predictions\n",
    "top_n = get_n_recommendations(train_preds)\n"
   ]
  },
  {
   "cell_type": "code",
   "execution_count": 141,
   "metadata": {},
   "outputs": [
    {
     "name": "stdout",
     "output_type": "stream",
     "text": [
      "Pre-2014 selections (customer id - 13516428):\n",
      "                              product_title  star_rating\n",
      "7815   Red Dead Redemption Game of the Year            5\n",
      "9838                              Fable III            3\n",
      "12867                          Halo 3: ODST            4\n",
      "16011            Need for Speed Most Wanted            1\n",
      "25538                         Battlefield 3            5\n",
      "\n",
      "Post-2014 selections (customer id - 13516428):\n",
      "                                      product_title  star_rating\n",
      "341                                     Tomb Raider          5.0\n",
      "452            Red Dead Redemption Game of the Year          5.0\n",
      "1908                          Batman Arkham Origins          3.0\n",
      "2008                               Assassin's Creed          4.0\n",
      "2185                             Grand Theft Auto V          5.0\n",
      "3075                 Call of Duty 4: Modern Warfare          5.0\n",
      "3187      Call of Duty: Modern Warfare 3 - Xbox 360          5.0\n",
      "4160                 Call of Duty: Modern Warfare 2          5.0\n",
      "4183                             Assassins Creed II          5.0\n",
      "4242                  Kingdoms of Amalur: Reckoning          5.0\n",
      "4261                                   Dragon Age 2          5.0\n",
      "4356  The Elder Scrolls V: Skyrim Legendary Edition          2.0\n",
      "\n",
      "Recommendations:\n",
      "Pokemon Y\n",
      "Luigi's Mansion: Dark Moon\n",
      "Kingdom Hearts HD 1.5 Remix\n",
      "The Legend of Zelda: The Wind Waker HD\n",
      "Super Mario 64 DS\n",
      "Fire Emblem: Awakening\n",
      "Minecraft - Xbox 360\n",
      "Ryse: Son of Rome\n",
      "Super Mario Galaxy 2\n",
      "PS3 Journey Collection\n",
      "NBA 2K14\n",
      "Super Smash Bros Melee\n",
      "Super Mario Galaxy (Nintendo Selects)\n",
      "Metal Gear Solid: The Legacy Collection\n",
      "Resident Evil 4\n"
     ]
    }
   ],
   "source": [
    "print_customer_prof(train_df, test_df, top_n)"
   ]
  },
  {
   "cell_type": "code",
   "execution_count": 142,
   "metadata": {},
   "outputs": [
    {
     "name": "stdout",
     "output_type": "stream",
     "text": [
      "Precision (II - KNNBaseline - Cosine): 0.011209895632006184\n"
     ]
    }
   ],
   "source": [
    "prec = evaluate_precision(top_n, testset, threshold=4.0)\n",
    "print('Precision (II - KNNBaseline - Cosine):', prec)\n"
   ]
  },
  {
   "cell_type": "code",
   "execution_count": 143,
   "metadata": {},
   "outputs": [
    {
     "name": "stdout",
     "output_type": "stream",
     "text": [
      "MAP (II - KNNBaseline - Cosine): 0.1133790323561163\n"
     ]
    }
   ],
   "source": [
    "mean_ap = evaluate_map(top_n, testset, threshold=4.0)\n",
    "print('MAP (II - KNNBaseline - Cosine):', mean_ap)\n"
   ]
  },
  {
   "cell_type": "code",
   "execution_count": 144,
   "metadata": {},
   "outputs": [],
   "source": [
    "algo_6A = {'Model': 'II - KNNBaseline - Cosine',\n",
    "           'RMSE': rmse,\n",
    "           'Unranked Precision': prec,\n",
    "           'MAP': mean_ap}"
   ]
  },
  {
   "cell_type": "markdown",
   "metadata": {},
   "source": [
    "**Search Best K based on Recall**"
   ]
  },
  {
   "cell_type": "code",
   "execution_count": 145,
   "metadata": {},
   "outputs": [],
   "source": [
    "# # HAHAHA\n",
    "# plot_recall(range(10,61,10), \n",
    "#             trainset, \n",
    "#             testset,\n",
    "#             algorithm='KNNBaseline',\n",
    "#             sim_options={'name': 'cosine', 'user_based': False})"
   ]
  },
  {
   "cell_type": "markdown",
   "metadata": {},
   "source": [
    "### 6.A.4. Make Recommendations for New Customer"
   ]
  },
  {
   "cell_type": "code",
   "execution_count": 146,
   "metadata": {
    "scrolled": false
   },
   "outputs": [
    {
     "name": "stdout",
     "output_type": "stream",
     "text": [
      "Estimating biases using als...\n",
      "Computing the cosine similarity matrix...\n",
      "Done computing similarity matrix.\n"
     ]
    },
    {
     "data": {
      "text/html": [
       "<div>\n",
       "<style scoped>\n",
       "    .dataframe tbody tr th:only-of-type {\n",
       "        vertical-align: middle;\n",
       "    }\n",
       "\n",
       "    .dataframe tbody tr th {\n",
       "        vertical-align: top;\n",
       "    }\n",
       "\n",
       "    .dataframe thead th {\n",
       "        text-align: right;\n",
       "    }\n",
       "</style>\n",
       "<table border=\"1\" class=\"dataframe\">\n",
       "  <thead>\n",
       "    <tr style=\"text-align: right;\">\n",
       "      <th></th>\n",
       "      <th>items</th>\n",
       "      <th>rating</th>\n",
       "    </tr>\n",
       "  </thead>\n",
       "  <tbody>\n",
       "    <tr>\n",
       "      <th>112</th>\n",
       "      <td>Killzone 3</td>\n",
       "      <td>5.0</td>\n",
       "    </tr>\n",
       "    <tr>\n",
       "      <th>132</th>\n",
       "      <td>Mass Effect 2</td>\n",
       "      <td>5.0</td>\n",
       "    </tr>\n",
       "    <tr>\n",
       "      <th>134</th>\n",
       "      <td>NBA 2K14</td>\n",
       "      <td>5.0</td>\n",
       "    </tr>\n",
       "    <tr>\n",
       "      <th>135</th>\n",
       "      <td>Rocksmith</td>\n",
       "      <td>5.0</td>\n",
       "    </tr>\n",
       "    <tr>\n",
       "      <th>136</th>\n",
       "      <td>God of War III</td>\n",
       "      <td>5.0</td>\n",
       "    </tr>\n",
       "    <tr>\n",
       "      <th>137</th>\n",
       "      <td>New Super Mario Bros</td>\n",
       "      <td>5.0</td>\n",
       "    </tr>\n",
       "    <tr>\n",
       "      <th>138</th>\n",
       "      <td>Mortal Kombat vs. DC Universe</td>\n",
       "      <td>5.0</td>\n",
       "    </tr>\n",
       "    <tr>\n",
       "      <th>139</th>\n",
       "      <td>Donkey Kong Country Returns</td>\n",
       "      <td>5.0</td>\n",
       "    </tr>\n",
       "    <tr>\n",
       "      <th>140</th>\n",
       "      <td>Super Smash Bros Melee</td>\n",
       "      <td>5.0</td>\n",
       "    </tr>\n",
       "    <tr>\n",
       "      <th>142</th>\n",
       "      <td>Mario Kart DS</td>\n",
       "      <td>5.0</td>\n",
       "    </tr>\n",
       "  </tbody>\n",
       "</table>\n",
       "</div>"
      ],
      "text/plain": [
       "                             items  rating\n",
       "112                     Killzone 3     5.0\n",
       "132                  Mass Effect 2     5.0\n",
       "134                       NBA 2K14     5.0\n",
       "135                      Rocksmith     5.0\n",
       "136                 God of War III     5.0\n",
       "137           New Super Mario Bros     5.0\n",
       "138  Mortal Kombat vs. DC Universe     5.0\n",
       "139    Donkey Kong Country Returns     5.0\n",
       "140         Super Smash Bros Melee     5.0\n",
       "142                  Mario Kart DS     5.0"
      ]
     },
     "execution_count": 146,
     "metadata": {},
     "output_type": "execute_result"
    }
   ],
   "source": [
    "new_products = ['Call of Duty: Ghosts', \n",
    "                'Call of Duty: Modern Warfare 2', \n",
    "                'Battlefield 3']\n",
    "\n",
    "recs = new_recommendations(new_products, whole, algo)\n",
    "recs.head(10)"
   ]
  },
  {
   "cell_type": "markdown",
   "metadata": {},
   "source": [
    "<br>\n",
    "## 6.B. Item-Item Collaborative Filtering (KNNBaseline - Pearson)\n",
    "\n",
    "A basic collaborative filtering algorithm taking into account a *baseline* rating.\n",
    "\n",
    "$${\\normalsize \\hat{r}_{ui} = b_{ui} + \\frac{ \\sum\\limits_{j \\in N^k_u(i)}\\text{sim}(i, j) \\cdot (r_{uj} - b_{uj})} {\\sum\\limits_{j \\in N^k_u(i)} \\text{sim}(i, j)} }$$\n",
    "\n",
    "Where:\n",
    "<br>\n",
    "$\\hat{r}_{ui}$ - Prediction for user $u$ and item $i$.<br>\n",
    "$b_{ui}$ - Baseline estimate for user $u$ and item $i$.<br>\n",
    "${j \\in N^k_u(i)}$ - $j$ items in $k$ neighborhood most similar to item $i$ for user $u$.<br>\n",
    "$\\text{sim}(i, j)$ - **pearson** similarity between items $i$ and $j$.<br>\n",
    "$(r_{uj} - b_{uj})$ - Deviation of rating for user $u$ item $j$ and its baseline estimate.<br>"
   ]
  },
  {
   "cell_type": "markdown",
   "metadata": {},
   "source": [
    "### 6.B.1. Train Model"
   ]
  },
  {
   "cell_type": "code",
   "execution_count": 147,
   "metadata": {
    "scrolled": false
   },
   "outputs": [
    {
     "name": "stdout",
     "output_type": "stream",
     "text": [
      "Estimating biases using als...\n",
      "Computing the pearson similarity matrix...\n",
      "Done computing similarity matrix.\n"
     ]
    },
    {
     "data": {
      "text/plain": [
       "<surprise.prediction_algorithms.knns.KNNBaseline at 0x1a13040b70>"
      ]
     },
     "execution_count": 147,
     "metadata": {},
     "output_type": "execute_result"
    }
   ],
   "source": [
    "# Use user_based true/false to switch between user-based or item-based collaborative filtering\n",
    "# Here we will use user based collaborative filtering, so True.\n",
    "\n",
    "algo = KNNBaseline(k=50, sim_options={'name': 'pearson', 'user_based': False})\n",
    "algo.fit(trainset)\n"
   ]
  },
  {
   "cell_type": "markdown",
   "metadata": {},
   "source": [
    "### 6.B.2. Evaluate Model (RMSE)"
   ]
  },
  {
   "cell_type": "code",
   "execution_count": 148,
   "metadata": {},
   "outputs": [
    {
     "name": "stdout",
     "output_type": "stream",
     "text": [
      "Item-based (KNNBaseline - Pearson) Model : Test Set\n",
      "RMSE: 1.2058\n"
     ]
    }
   ],
   "source": [
    "# Evaluate test set\n",
    "print(\"Item-based (KNNBaseline - Pearson) Model : Test Set\")\n",
    "test_pred = algo.test(testset)\n",
    "rmse = accuracy.rmse(test_pred, verbose=True)"
   ]
  },
  {
   "cell_type": "markdown",
   "metadata": {},
   "source": [
    "**Search Best K based on RMSE**"
   ]
  },
  {
   "cell_type": "code",
   "execution_count": 149,
   "metadata": {},
   "outputs": [
    {
     "data": {
      "image/png": "[encoded data removed]",
      "text/plain": [
       "<Figure size 720x504 with 1 Axes>"
      ]
     },
     "metadata": {
      "image/png": {
       "height": 441,
       "width": 619
      }
     },
     "output_type": "display_data"
    }
   ],
   "source": [
    "scores = plot_rmse(range(1,100), \n",
    "                   trainset, \n",
    "                   testset, \n",
    "                   algorithm='KNNBaseline', \n",
    "                   sim_options={'name': 'pearson', 'user_based': False})"
   ]
  },
  {
   "cell_type": "code",
   "execution_count": 150,
   "metadata": {
    "scrolled": true
   },
   "outputs": [
    {
     "data": {
      "text/html": [
       "<div>\n",
       "<style scoped>\n",
       "    .dataframe tbody tr th:only-of-type {\n",
       "        vertical-align: middle;\n",
       "    }\n",
       "\n",
       "    .dataframe tbody tr th {\n",
       "        vertical-align: top;\n",
       "    }\n",
       "\n",
       "    .dataframe thead th {\n",
       "        text-align: right;\n",
       "    }\n",
       "</style>\n",
       "<table border=\"1\" class=\"dataframe\">\n",
       "  <thead>\n",
       "    <tr style=\"text-align: right;\">\n",
       "      <th></th>\n",
       "      <th>k</th>\n",
       "      <th>test_rmse</th>\n",
       "    </tr>\n",
       "  </thead>\n",
       "  <tbody>\n",
       "    <tr>\n",
       "      <th>20</th>\n",
       "      <td>21</td>\n",
       "      <td>1.205842</td>\n",
       "    </tr>\n",
       "    <tr>\n",
       "      <th>18</th>\n",
       "      <td>19</td>\n",
       "      <td>1.205843</td>\n",
       "    </tr>\n",
       "    <tr>\n",
       "      <th>19</th>\n",
       "      <td>20</td>\n",
       "      <td>1.205845</td>\n",
       "    </tr>\n",
       "    <tr>\n",
       "      <th>49</th>\n",
       "      <td>50</td>\n",
       "      <td>1.205846</td>\n",
       "    </tr>\n",
       "    <tr>\n",
       "      <th>72</th>\n",
       "      <td>73</td>\n",
       "      <td>1.205846</td>\n",
       "    </tr>\n",
       "  </tbody>\n",
       "</table>\n",
       "</div>"
      ],
      "text/plain": [
       "     k  test_rmse\n",
       "20  21   1.205842\n",
       "18  19   1.205843\n",
       "19  20   1.205845\n",
       "49  50   1.205846\n",
       "72  73   1.205846"
      ]
     },
     "execution_count": 150,
     "metadata": {},
     "output_type": "execute_result"
    }
   ],
   "source": [
    "# Sort rmse scores and pick value of k that has lowest rmse on the test set\n",
    "scores.sort_values(by='test_rmse', ascending=True, inplace=True)\n",
    "scores.head(5)"
   ]
  },
  {
   "cell_type": "code",
   "execution_count": 151,
   "metadata": {},
   "outputs": [
    {
     "name": "stdout",
     "output_type": "stream",
     "text": [
      "Estimating biases using als...\n",
      "Computing the pearson similarity matrix...\n",
      "Done computing similarity matrix.\n"
     ]
    },
    {
     "data": {
      "text/plain": [
       "<surprise.prediction_algorithms.knns.KNNBaseline at 0x1a1333f278>"
      ]
     },
     "execution_count": 151,
     "metadata": {},
     "output_type": "execute_result"
    }
   ],
   "source": [
    "# Refit model with best k\n",
    "best_k = scores[:1]['k'].values[0]\n",
    "\n",
    "algo = KNNBaseline(k=best_k, sim_options={'name': 'pearson', 'user_based': False})\n",
    "algo.fit(trainset)"
   ]
  },
  {
   "cell_type": "markdown",
   "metadata": {},
   "source": [
    "### 6.B.3. Evaluate Model (Recall)"
   ]
  },
  {
   "cell_type": "markdown",
   "metadata": {},
   "source": [
    "**Get Recommendations for Example User**"
   ]
  },
  {
   "cell_type": "code",
   "execution_count": 152,
   "metadata": {},
   "outputs": [],
   "source": [
    "# Than predict ratings for all pairs (u, i) that are NOT in the training set.\n",
    "train_pred_set = trainset.build_anti_testset()\n",
    "train_preds = algo.test(train_pred_set)\n",
    "\n",
    "# Make predictions\n",
    "top_n = get_n_recommendations(train_preds)\n"
   ]
  },
  {
   "cell_type": "code",
   "execution_count": 153,
   "metadata": {},
   "outputs": [
    {
     "name": "stdout",
     "output_type": "stream",
     "text": [
      "Pre-2014 selections (customer id - 13516428):\n",
      "                              product_title  star_rating\n",
      "7815   Red Dead Redemption Game of the Year            5\n",
      "9838                              Fable III            3\n",
      "12867                          Halo 3: ODST            4\n",
      "16011            Need for Speed Most Wanted            1\n",
      "25538                         Battlefield 3            5\n",
      "\n",
      "Post-2014 selections (customer id - 13516428):\n",
      "                                      product_title  star_rating\n",
      "341                                     Tomb Raider          5.0\n",
      "452            Red Dead Redemption Game of the Year          5.0\n",
      "1908                          Batman Arkham Origins          3.0\n",
      "2008                               Assassin's Creed          4.0\n",
      "2185                             Grand Theft Auto V          5.0\n",
      "3075                 Call of Duty 4: Modern Warfare          5.0\n",
      "3187      Call of Duty: Modern Warfare 3 - Xbox 360          5.0\n",
      "4160                 Call of Duty: Modern Warfare 2          5.0\n",
      "4183                             Assassins Creed II          5.0\n",
      "4242                  Kingdoms of Amalur: Reckoning          5.0\n",
      "4261                                   Dragon Age 2          5.0\n",
      "4356  The Elder Scrolls V: Skyrim Legendary Edition          2.0\n",
      "\n",
      "Recommendations:\n",
      "Far Cry 3\n",
      "Luigi's Mansion: Dark Moon\n",
      "Forza Motorsport 4\n",
      "Halo 4\n",
      "LittleBigPlanet\n",
      "Assassin's Creed 4\n",
      "BEYOND: Two Souls\n",
      "Grand Theft Auto V\n",
      "LEGO: Marvel\n",
      "Assassin's Creed: Brotherhood\n",
      "Borderlands 2\n",
      "Fire Emblem: Awakening\n",
      "Resident Evil 5\n",
      "The Legend of Zelda: Ocarina of Time 3D\n",
      "New Super Mario Bros. 2\n"
     ]
    }
   ],
   "source": [
    "print_customer_prof(train_df, test_df, top_n)"
   ]
  },
  {
   "cell_type": "code",
   "execution_count": 154,
   "metadata": {},
   "outputs": [
    {
     "name": "stdout",
     "output_type": "stream",
     "text": [
      "Precision (II - KNNBaseline - Pearson): 0.014714598634196623\n"
     ]
    }
   ],
   "source": [
    "prec = evaluate_precision(top_n, testset, threshold=4.0)\n",
    "print('Precision (II - KNNBaseline - Pearson):', prec)\n"
   ]
  },
  {
   "cell_type": "code",
   "execution_count": 155,
   "metadata": {},
   "outputs": [
    {
     "name": "stdout",
     "output_type": "stream",
     "text": [
      "MAP (II - KNNBaseline - Pearson): 0.16313733875450465\n"
     ]
    }
   ],
   "source": [
    "mean_ap = evaluate_map(top_n, testset, threshold=4.0)\n",
    "print('MAP (II - KNNBaseline - Pearson):', mean_ap)\n"
   ]
  },
  {
   "cell_type": "code",
   "execution_count": 156,
   "metadata": {},
   "outputs": [],
   "source": [
    "algo_6B = {'Model': 'II - KNNBaseline - Pearson',\n",
    "           'RMSE': rmse,\n",
    "           'Unranked Precision': prec,\n",
    "           'MAP': mean_ap}"
   ]
  },
  {
   "cell_type": "markdown",
   "metadata": {},
   "source": [
    "**Search Best K based on Recall**"
   ]
  },
  {
   "cell_type": "code",
   "execution_count": 157,
   "metadata": {},
   "outputs": [],
   "source": [
    "# # HAHAHA\n",
    "# plot_recall(range(10,61,10), \n",
    "#             trainset, \n",
    "#             testset,\n",
    "#             algorithm='KNNBaseline',\n",
    "#             sim_options={'name': 'cosine', 'user_based': False})"
   ]
  },
  {
   "cell_type": "markdown",
   "metadata": {},
   "source": [
    "### 6.B.4. Make Recommendations for New Customer"
   ]
  },
  {
   "cell_type": "code",
   "execution_count": 158,
   "metadata": {
    "scrolled": false
   },
   "outputs": [
    {
     "name": "stdout",
     "output_type": "stream",
     "text": [
      "Estimating biases using als...\n",
      "Computing the pearson similarity matrix...\n",
      "Done computing similarity matrix.\n"
     ]
    },
    {
     "data": {
      "text/html": [
       "<div>\n",
       "<style scoped>\n",
       "    .dataframe tbody tr th:only-of-type {\n",
       "        vertical-align: middle;\n",
       "    }\n",
       "\n",
       "    .dataframe tbody tr th {\n",
       "        vertical-align: top;\n",
       "    }\n",
       "\n",
       "    .dataframe thead th {\n",
       "        text-align: right;\n",
       "    }\n",
       "</style>\n",
       "<table border=\"1\" class=\"dataframe\">\n",
       "  <thead>\n",
       "    <tr style=\"text-align: right;\">\n",
       "      <th></th>\n",
       "      <th>items</th>\n",
       "      <th>rating</th>\n",
       "    </tr>\n",
       "  </thead>\n",
       "  <tbody>\n",
       "    <tr>\n",
       "      <th>112</th>\n",
       "      <td>Killzone 3</td>\n",
       "      <td>5.0</td>\n",
       "    </tr>\n",
       "    <tr>\n",
       "      <th>81</th>\n",
       "      <td>Mario Kart 7</td>\n",
       "      <td>5.0</td>\n",
       "    </tr>\n",
       "    <tr>\n",
       "      <th>98</th>\n",
       "      <td>Fallout 3</td>\n",
       "      <td>5.0</td>\n",
       "    </tr>\n",
       "    <tr>\n",
       "      <th>157</th>\n",
       "      <td>Batman: Arkham Asylum</td>\n",
       "      <td>5.0</td>\n",
       "    </tr>\n",
       "    <tr>\n",
       "      <th>158</th>\n",
       "      <td>inFAMOUS - Playstation 3</td>\n",
       "      <td>5.0</td>\n",
       "    </tr>\n",
       "    <tr>\n",
       "      <th>94</th>\n",
       "      <td>Call of Duty: World at War</td>\n",
       "      <td>5.0</td>\n",
       "    </tr>\n",
       "    <tr>\n",
       "      <th>93</th>\n",
       "      <td>Halo 3: ODST</td>\n",
       "      <td>5.0</td>\n",
       "    </tr>\n",
       "    <tr>\n",
       "      <th>92</th>\n",
       "      <td>The Elder Scrolls V: Skyrim Legendary Edition</td>\n",
       "      <td>5.0</td>\n",
       "    </tr>\n",
       "    <tr>\n",
       "      <th>91</th>\n",
       "      <td>Minecraft - Xbox 360</td>\n",
       "      <td>5.0</td>\n",
       "    </tr>\n",
       "    <tr>\n",
       "      <th>88</th>\n",
       "      <td>Madden NFL 25</td>\n",
       "      <td>5.0</td>\n",
       "    </tr>\n",
       "  </tbody>\n",
       "</table>\n",
       "</div>"
      ],
      "text/plain": [
       "                                             items  rating\n",
       "112                                     Killzone 3     5.0\n",
       "81                                    Mario Kart 7     5.0\n",
       "98                                       Fallout 3     5.0\n",
       "157                          Batman: Arkham Asylum     5.0\n",
       "158                       inFAMOUS - Playstation 3     5.0\n",
       "94                      Call of Duty: World at War     5.0\n",
       "93                                    Halo 3: ODST     5.0\n",
       "92   The Elder Scrolls V: Skyrim Legendary Edition     5.0\n",
       "91                            Minecraft - Xbox 360     5.0\n",
       "88                                   Madden NFL 25     5.0"
      ]
     },
     "execution_count": 158,
     "metadata": {},
     "output_type": "execute_result"
    }
   ],
   "source": [
    "new_products = ['Call of Duty: Ghosts', \n",
    "                'Call of Duty: Modern Warfare 2', \n",
    "                'Battlefield 3']\n",
    "\n",
    "recs = new_recommendations(new_products, whole, algo)\n",
    "recs.head(10)"
   ]
  },
  {
   "cell_type": "markdown",
   "metadata": {},
   "source": [
    "<br>\n",
    "## 7.A. User-User Collaborative Filtering (KNNWithZScore - Cosine)\n",
    "\n",
    "A basic collaborative filtering algorithm, taking into account the z-score normalization of each user.\n",
    "\n",
    "$${\\normalsize \\hat{r}_{ui} = \\mu_u + \\sigma_u \\frac{ \\sum\\limits_{v \\in N^k_i(u)}\\text{sim}(u, v) \\cdot (r_{vi} - \\mu_v) / \\sigma_v} {\\sum\\limits_{v \\in N^k_i(u)} \\text{sim}(u, v)} }$$\n",
    "\n",
    "Where:\n",
    "<br>\n",
    "$\\hat{r}_{ui}$ - Prediction for user $u$ and item $i$.<br>\n",
    "$\\mu_u$ - Mean rating for user $u$.<br>\n",
    "$\\sigma_u$ - Z-score normalization of user $u$ ratings.<br> \n",
    "${v \\in N^k_u(u)}$ - $v$ users in $k$ neighborhood most similar to user $u$ for item $i$.<br>\n",
    "$\\text{sim}(u, v)$ - **Cosine** similarity between user $u$ and $v$.<br>\n",
    "$(r_{vi} - \\mu_v) / \\sigma_v$ - Deviation of rating for user $v$ item $i$ and mean rating for user $v$, normalized by Z-score of user $v$ ratings, $\\sigma_v$.<br>"
   ]
  },
  {
   "cell_type": "markdown",
   "metadata": {},
   "source": [
    "### 7.A.1. Train Model"
   ]
  },
  {
   "cell_type": "code",
   "execution_count": 159,
   "metadata": {
    "scrolled": false
   },
   "outputs": [
    {
     "name": "stdout",
     "output_type": "stream",
     "text": [
      "Computing the cosine similarity matrix...\n",
      "Done computing similarity matrix.\n"
     ]
    },
    {
     "data": {
      "text/plain": [
       "<surprise.prediction_algorithms.knns.KNNWithZScore at 0x1a13b3c630>"
      ]
     },
     "execution_count": 159,
     "metadata": {},
     "output_type": "execute_result"
    }
   ],
   "source": [
    "# Use user_based true/false to switch between user-based or item-based collaborative filtering\n",
    "# Here we will use user based collaborative filtering, so True.\n",
    "\n",
    "algo = KNNWithZScore(k=50, sim_options={'name': 'cosine', 'user_based': True})\n",
    "algo.fit(trainset)\n"
   ]
  },
  {
   "cell_type": "markdown",
   "metadata": {},
   "source": [
    "### 7.A.2. Evaluate Model (RMSE)"
   ]
  },
  {
   "cell_type": "code",
   "execution_count": 160,
   "metadata": {},
   "outputs": [
    {
     "name": "stdout",
     "output_type": "stream",
     "text": [
      "User-based (KNNWithZScore - Cosine) Model : Test Set\n",
      "RMSE: 1.2960\n"
     ]
    }
   ],
   "source": [
    "# Evaluate test set\n",
    "print(\"User-based (KNNWithZScore - Cosine) Model : Test Set\")\n",
    "test_pred = algo.test(testset)\n",
    "rmse = accuracy.rmse(test_pred, verbose=True)"
   ]
  },
  {
   "cell_type": "markdown",
   "metadata": {},
   "source": [
    "**Search Best K based on RMSE**"
   ]
  },
  {
   "cell_type": "code",
   "execution_count": 161,
   "metadata": {},
   "outputs": [
    {
     "data": {
      "image/png": "[encoded data removed]",
      "text/plain": [
       "<Figure size 720x504 with 1 Axes>"
      ]
     },
     "metadata": {
      "image/png": {
       "height": 441,
       "width": 614
      }
     },
     "output_type": "display_data"
    }
   ],
   "source": [
    "scores = plot_rmse(range(1,100), \n",
    "                   trainset, \n",
    "                   testset, \n",
    "                   algorithm='KNNWithZScore', \n",
    "                   sim_options={'name': 'cosine', 'user_based': True})"
   ]
  },
  {
   "cell_type": "code",
   "execution_count": 162,
   "metadata": {
    "scrolled": true
   },
   "outputs": [
    {
     "data": {
      "text/html": [
       "<div>\n",
       "<style scoped>\n",
       "    .dataframe tbody tr th:only-of-type {\n",
       "        vertical-align: middle;\n",
       "    }\n",
       "\n",
       "    .dataframe tbody tr th {\n",
       "        vertical-align: top;\n",
       "    }\n",
       "\n",
       "    .dataframe thead th {\n",
       "        text-align: right;\n",
       "    }\n",
       "</style>\n",
       "<table border=\"1\" class=\"dataframe\">\n",
       "  <thead>\n",
       "    <tr style=\"text-align: right;\">\n",
       "      <th></th>\n",
       "      <th>k</th>\n",
       "      <th>test_rmse</th>\n",
       "    </tr>\n",
       "  </thead>\n",
       "  <tbody>\n",
       "    <tr>\n",
       "      <th>57</th>\n",
       "      <td>58</td>\n",
       "      <td>1.295685</td>\n",
       "    </tr>\n",
       "    <tr>\n",
       "      <th>58</th>\n",
       "      <td>59</td>\n",
       "      <td>1.295709</td>\n",
       "    </tr>\n",
       "    <tr>\n",
       "      <th>54</th>\n",
       "      <td>55</td>\n",
       "      <td>1.295782</td>\n",
       "    </tr>\n",
       "    <tr>\n",
       "      <th>55</th>\n",
       "      <td>56</td>\n",
       "      <td>1.295796</td>\n",
       "    </tr>\n",
       "    <tr>\n",
       "      <th>56</th>\n",
       "      <td>57</td>\n",
       "      <td>1.295797</td>\n",
       "    </tr>\n",
       "  </tbody>\n",
       "</table>\n",
       "</div>"
      ],
      "text/plain": [
       "     k  test_rmse\n",
       "57  58   1.295685\n",
       "58  59   1.295709\n",
       "54  55   1.295782\n",
       "55  56   1.295796\n",
       "56  57   1.295797"
      ]
     },
     "execution_count": 162,
     "metadata": {},
     "output_type": "execute_result"
    }
   ],
   "source": [
    "# Sort rmse scores and pick value of k that has lowest rmse on the test set\n",
    "scores.sort_values(by='test_rmse', ascending=True, inplace=True)\n",
    "scores.head(5)"
   ]
  },
  {
   "cell_type": "code",
   "execution_count": 163,
   "metadata": {},
   "outputs": [
    {
     "name": "stdout",
     "output_type": "stream",
     "text": [
      "Computing the cosine similarity matrix...\n",
      "Done computing similarity matrix.\n"
     ]
    },
    {
     "data": {
      "text/plain": [
       "<surprise.prediction_algorithms.knns.KNNWithZScore at 0x1a13a02ef0>"
      ]
     },
     "execution_count": 163,
     "metadata": {},
     "output_type": "execute_result"
    }
   ],
   "source": [
    "# Refit model with best k\n",
    "best_k = scores[:1]['k'].values[0]\n",
    "\n",
    "algo = KNNWithZScore(k=best_k, sim_options={'name': 'cosine', 'user_based': True})\n",
    "algo.fit(trainset)"
   ]
  },
  {
   "cell_type": "markdown",
   "metadata": {},
   "source": [
    "### 7.A.3. Evaluate Model (Recall)"
   ]
  },
  {
   "cell_type": "markdown",
   "metadata": {},
   "source": [
    "**Get Recommendations for Example User**"
   ]
  },
  {
   "cell_type": "code",
   "execution_count": 164,
   "metadata": {},
   "outputs": [],
   "source": [
    "# Than predict ratings for all pairs (u, i) that are NOT in the training set.\n",
    "train_pred_set = trainset.build_anti_testset()\n",
    "train_preds = algo.test(train_pred_set)\n",
    "\n",
    "# Make predictions\n",
    "top_n = get_n_recommendations(train_preds)\n"
   ]
  },
  {
   "cell_type": "code",
   "execution_count": 165,
   "metadata": {},
   "outputs": [
    {
     "name": "stdout",
     "output_type": "stream",
     "text": [
      "Pre-2014 selections (customer id - 13516428):\n",
      "                              product_title  star_rating\n",
      "7815   Red Dead Redemption Game of the Year            5\n",
      "9838                              Fable III            3\n",
      "12867                          Halo 3: ODST            4\n",
      "16011            Need for Speed Most Wanted            1\n",
      "25538                         Battlefield 3            5\n",
      "\n",
      "Post-2014 selections (customer id - 13516428):\n",
      "                                      product_title  star_rating\n",
      "341                                     Tomb Raider          5.0\n",
      "452            Red Dead Redemption Game of the Year          5.0\n",
      "1908                          Batman Arkham Origins          3.0\n",
      "2008                               Assassin's Creed          4.0\n",
      "2185                             Grand Theft Auto V          5.0\n",
      "3075                 Call of Duty 4: Modern Warfare          5.0\n",
      "3187      Call of Duty: Modern Warfare 3 - Xbox 360          5.0\n",
      "4160                 Call of Duty: Modern Warfare 2          5.0\n",
      "4183                             Assassins Creed II          5.0\n",
      "4242                  Kingdoms of Amalur: Reckoning          5.0\n",
      "4261                                   Dragon Age 2          5.0\n",
      "4356  The Elder Scrolls V: Skyrim Legendary Edition          2.0\n",
      "\n",
      "Recommendations:\n",
      "Kingdom Hearts II - PlayStation 2\n",
      "Super Mario Galaxy (Nintendo Selects)\n",
      "Pokemon X\n",
      "Brain Age: Train Your Brain in Minutes a Day!\n",
      "Animal Crossing: Wild World\n",
      "Call of Duty 4: Modern Warfare\n",
      "GoldenEye 007\n",
      "LEGO Lord of the Rings\n",
      "Animal Crossing\n",
      "Madden NFL 25 Anniversary Edition with NFL Sunday Ticket -Xbox 360\n",
      "NBA 2K14\n",
      "Resident Evil\n",
      "The Legend of Zelda: A Link Between Worlds 3D Twister Parent\n",
      "Valkyria Chronicles\n",
      "Kingdom Hearts 3D Dream Drop Distance\n"
     ]
    }
   ],
   "source": [
    "print_customer_prof(train_df, test_df, top_n)"
   ]
  },
  {
   "cell_type": "code",
   "execution_count": 166,
   "metadata": {},
   "outputs": [
    {
     "name": "stdout",
     "output_type": "stream",
     "text": [
      "Precision (UU - KNNWithZScore - Cosine): 0.008194820255121764\n"
     ]
    }
   ],
   "source": [
    "prec = evaluate_precision(top_n, testset, threshold=4.0)\n",
    "print('Precision (UU - KNNWithZScore - Cosine):', prec)\n"
   ]
  },
  {
   "cell_type": "code",
   "execution_count": 167,
   "metadata": {},
   "outputs": [
    {
     "name": "stdout",
     "output_type": "stream",
     "text": [
      "MAP (UU - KNNWithZScore - Cosine): 0.07443189905802469\n"
     ]
    }
   ],
   "source": [
    "mean_ap = evaluate_map(top_n, testset, threshold=4.0)\n",
    "print('MAP (UU - KNNWithZScore - Cosine):', mean_ap)\n"
   ]
  },
  {
   "cell_type": "code",
   "execution_count": 168,
   "metadata": {},
   "outputs": [],
   "source": [
    "algo_7A = {'Model': 'UU - KNNWithZScore - Cosine',\n",
    "           'RMSE': rmse,\n",
    "           'Unranked Precision': prec,\n",
    "           'MAP': mean_ap}"
   ]
  },
  {
   "cell_type": "markdown",
   "metadata": {},
   "source": [
    "**Search Best K based on Recall**"
   ]
  },
  {
   "cell_type": "code",
   "execution_count": 169,
   "metadata": {},
   "outputs": [],
   "source": [
    "# # HAHAHA\n",
    "# plot_recall(range(10,61,10), \n",
    "#             trainset, \n",
    "#             testset,\n",
    "#             algorithm='KNNWithZScore',\n",
    "#             sim_options={'name': 'cosine', 'user_based': True})"
   ]
  },
  {
   "cell_type": "markdown",
   "metadata": {},
   "source": [
    "### 7.A.4. Make Recommendations for New Customer"
   ]
  },
  {
   "cell_type": "code",
   "execution_count": 170,
   "metadata": {
    "scrolled": false
   },
   "outputs": [
    {
     "name": "stdout",
     "output_type": "stream",
     "text": [
      "Computing the cosine similarity matrix...\n",
      "Done computing similarity matrix.\n"
     ]
    },
    {
     "data": {
      "text/html": [
       "<div>\n",
       "<style scoped>\n",
       "    .dataframe tbody tr th:only-of-type {\n",
       "        vertical-align: middle;\n",
       "    }\n",
       "\n",
       "    .dataframe tbody tr th {\n",
       "        vertical-align: top;\n",
       "    }\n",
       "\n",
       "    .dataframe thead th {\n",
       "        text-align: right;\n",
       "    }\n",
       "</style>\n",
       "<table border=\"1\" class=\"dataframe\">\n",
       "  <thead>\n",
       "    <tr style=\"text-align: right;\">\n",
       "      <th></th>\n",
       "      <th>items</th>\n",
       "      <th>rating</th>\n",
       "    </tr>\n",
       "  </thead>\n",
       "  <tbody>\n",
       "    <tr>\n",
       "      <th>112</th>\n",
       "      <td>Killzone 3</td>\n",
       "      <td>5.0</td>\n",
       "    </tr>\n",
       "    <tr>\n",
       "      <th>144</th>\n",
       "      <td>Super Smash Bros. Brawl</td>\n",
       "      <td>5.0</td>\n",
       "    </tr>\n",
       "    <tr>\n",
       "      <th>134</th>\n",
       "      <td>NBA 2K14</td>\n",
       "      <td>5.0</td>\n",
       "    </tr>\n",
       "    <tr>\n",
       "      <th>135</th>\n",
       "      <td>Rocksmith</td>\n",
       "      <td>5.0</td>\n",
       "    </tr>\n",
       "    <tr>\n",
       "      <th>136</th>\n",
       "      <td>God of War III</td>\n",
       "      <td>5.0</td>\n",
       "    </tr>\n",
       "    <tr>\n",
       "      <th>139</th>\n",
       "      <td>Donkey Kong Country Returns</td>\n",
       "      <td>5.0</td>\n",
       "    </tr>\n",
       "    <tr>\n",
       "      <th>140</th>\n",
       "      <td>Super Smash Bros Melee</td>\n",
       "      <td>5.0</td>\n",
       "    </tr>\n",
       "    <tr>\n",
       "      <th>141</th>\n",
       "      <td>Michael Jackson The Experience</td>\n",
       "      <td>5.0</td>\n",
       "    </tr>\n",
       "    <tr>\n",
       "      <th>142</th>\n",
       "      <td>Mario Kart DS</td>\n",
       "      <td>5.0</td>\n",
       "    </tr>\n",
       "    <tr>\n",
       "      <th>143</th>\n",
       "      <td>Mario Kart: Double Dash</td>\n",
       "      <td>5.0</td>\n",
       "    </tr>\n",
       "  </tbody>\n",
       "</table>\n",
       "</div>"
      ],
      "text/plain": [
       "                              items  rating\n",
       "112                      Killzone 3     5.0\n",
       "144         Super Smash Bros. Brawl     5.0\n",
       "134                        NBA 2K14     5.0\n",
       "135                       Rocksmith     5.0\n",
       "136                  God of War III     5.0\n",
       "139     Donkey Kong Country Returns     5.0\n",
       "140          Super Smash Bros Melee     5.0\n",
       "141  Michael Jackson The Experience     5.0\n",
       "142                   Mario Kart DS     5.0\n",
       "143         Mario Kart: Double Dash     5.0"
      ]
     },
     "execution_count": 170,
     "metadata": {},
     "output_type": "execute_result"
    }
   ],
   "source": [
    "new_products = ['Call of Duty: Ghosts', \n",
    "                'Call of Duty: Modern Warfare 2', \n",
    "                'Battlefield 3']\n",
    "\n",
    "recs = new_recommendations(new_products, whole, algo)\n",
    "recs.head(10)"
   ]
  },
  {
   "cell_type": "markdown",
   "metadata": {},
   "source": [
    "<br>\n",
    "## 7.B. User-User Collaborative Filtering (KNNWithZScore - Pearson)\n",
    "\n",
    "A basic collaborative filtering algorithm, taking into account the z-score normalization of each user.\n",
    "\n",
    "$${\\normalsize \\hat{r}_{ui} = \\mu_u + \\sigma_u \\frac{ \\sum\\limits_{v \\in N^k_i(u)}\\text{sim}(u, v) \\cdot (r_{vi} - \\mu_v) / \\sigma_v} {\\sum\\limits_{v \\in N^k_i(u)} \\text{sim}(u, v)} }$$\n",
    "\n",
    "Where:\n",
    "<br>\n",
    "$\\hat{r}_{ui}$ - Prediction for user $u$ and item $i$.<br>\n",
    "$\\mu_u$ - Mean rating for user $u$.<br>\n",
    "$\\sigma_u$ - Z-score normalization of user $u$ ratings.<br> \n",
    "${v \\in N^k_u(u)}$ - $v$ users in $k$ neighborhood most similar to user $u$ for item $i$.<br>\n",
    "$\\text{sim}(u, v)$ - **Pearson** similarity between user $u$ and $v$.<br>\n",
    "$(r_{vi} - \\mu_v) / \\sigma_v$ - Deviation of rating for user $v$ item $i$ and mean rating for user $v$, normalized by Z-score of user $v$ ratings, $\\sigma_v$.<br>"
   ]
  },
  {
   "cell_type": "markdown",
   "metadata": {},
   "source": [
    "### 7.B.1. Train Model"
   ]
  },
  {
   "cell_type": "code",
   "execution_count": 171,
   "metadata": {
    "scrolled": false
   },
   "outputs": [
    {
     "name": "stdout",
     "output_type": "stream",
     "text": [
      "Computing the pearson similarity matrix...\n",
      "Done computing similarity matrix.\n"
     ]
    },
    {
     "data": {
      "text/plain": [
       "<surprise.prediction_algorithms.knns.KNNWithZScore at 0x1a13b486a0>"
      ]
     },
     "execution_count": 171,
     "metadata": {},
     "output_type": "execute_result"
    }
   ],
   "source": [
    "# Use user_based true/false to switch between user-based or item-based collaborative filtering\n",
    "# Here we will use user based collaborative filtering, so True.\n",
    "\n",
    "algo = KNNWithZScore(k=50, sim_options={'name': 'pearson', 'user_based': True})\n",
    "algo.fit(trainset)\n"
   ]
  },
  {
   "cell_type": "markdown",
   "metadata": {},
   "source": [
    "### 7.B.2. Evaluate Model (RMSE)"
   ]
  },
  {
   "cell_type": "code",
   "execution_count": 172,
   "metadata": {},
   "outputs": [
    {
     "name": "stdout",
     "output_type": "stream",
     "text": [
      "User-based (KNNWithZScore - Pearson) Model : Test Set\n",
      "RMSE: 1.3253\n"
     ]
    }
   ],
   "source": [
    "# Evaluate test set\n",
    "print(\"User-based (KNNWithZScore - Pearson) Model : Test Set\")\n",
    "test_pred = algo.test(testset)\n",
    "rmse = accuracy.rmse(test_pred, verbose=True)"
   ]
  },
  {
   "cell_type": "markdown",
   "metadata": {},
   "source": [
    "**Search Best K based on RMSE**"
   ]
  },
  {
   "cell_type": "code",
   "execution_count": 173,
   "metadata": {},
   "outputs": [
    {
     "data": {
      "image/png": "[encoded data removed]",
      "text/plain": [
       "<Figure size 720x504 with 1 Axes>"
      ]
     },
     "metadata": {
      "image/png": {
       "height": 441,
       "width": 619
      }
     },
     "output_type": "display_data"
    }
   ],
   "source": [
    "scores = plot_rmse(range(1,100), \n",
    "                   trainset, \n",
    "                   testset, \n",
    "                   algorithm='KNNWithZScore', \n",
    "                   sim_options={'name': 'pearson', 'user_based': True})"
   ]
  },
  {
   "cell_type": "code",
   "execution_count": 174,
   "metadata": {
    "scrolled": true
   },
   "outputs": [
    {
     "data": {
      "text/html": [
       "<div>\n",
       "<style scoped>\n",
       "    .dataframe tbody tr th:only-of-type {\n",
       "        vertical-align: middle;\n",
       "    }\n",
       "\n",
       "    .dataframe tbody tr th {\n",
       "        vertical-align: top;\n",
       "    }\n",
       "\n",
       "    .dataframe thead th {\n",
       "        text-align: right;\n",
       "    }\n",
       "</style>\n",
       "<table border=\"1\" class=\"dataframe\">\n",
       "  <thead>\n",
       "    <tr style=\"text-align: right;\">\n",
       "      <th></th>\n",
       "      <th>k</th>\n",
       "      <th>test_rmse</th>\n",
       "    </tr>\n",
       "  </thead>\n",
       "  <tbody>\n",
       "    <tr>\n",
       "      <th>11</th>\n",
       "      <td>12</td>\n",
       "      <td>1.324794</td>\n",
       "    </tr>\n",
       "    <tr>\n",
       "      <th>13</th>\n",
       "      <td>14</td>\n",
       "      <td>1.324841</td>\n",
       "    </tr>\n",
       "    <tr>\n",
       "      <th>10</th>\n",
       "      <td>11</td>\n",
       "      <td>1.324863</td>\n",
       "    </tr>\n",
       "    <tr>\n",
       "      <th>12</th>\n",
       "      <td>13</td>\n",
       "      <td>1.324898</td>\n",
       "    </tr>\n",
       "    <tr>\n",
       "      <th>14</th>\n",
       "      <td>15</td>\n",
       "      <td>1.324995</td>\n",
       "    </tr>\n",
       "  </tbody>\n",
       "</table>\n",
       "</div>"
      ],
      "text/plain": [
       "     k  test_rmse\n",
       "11  12   1.324794\n",
       "13  14   1.324841\n",
       "10  11   1.324863\n",
       "12  13   1.324898\n",
       "14  15   1.324995"
      ]
     },
     "execution_count": 174,
     "metadata": {},
     "output_type": "execute_result"
    }
   ],
   "source": [
    "# Sort rmse scores and pick value of k that has lowest rmse on the test set\n",
    "scores.sort_values(by='test_rmse', ascending=True, inplace=True)\n",
    "scores.head(5)"
   ]
  },
  {
   "cell_type": "code",
   "execution_count": 175,
   "metadata": {},
   "outputs": [
    {
     "name": "stdout",
     "output_type": "stream",
     "text": [
      "Computing the pearson similarity matrix...\n",
      "Done computing similarity matrix.\n"
     ]
    },
    {
     "data": {
      "text/plain": [
       "<surprise.prediction_algorithms.knns.KNNWithZScore at 0x1a13648da0>"
      ]
     },
     "execution_count": 175,
     "metadata": {},
     "output_type": "execute_result"
    }
   ],
   "source": [
    "# Refit model with best k\n",
    "best_k = scores[:1]['k'].values[0]\n",
    "\n",
    "algo = KNNWithZScore(k=best_k, sim_options={'name': 'pearson', 'user_based': True})\n",
    "algo.fit(trainset)"
   ]
  },
  {
   "cell_type": "markdown",
   "metadata": {},
   "source": [
    "### 7.B.3. Evaluate Model (Recall)"
   ]
  },
  {
   "cell_type": "markdown",
   "metadata": {},
   "source": [
    "**Get Recommendations for Example User**"
   ]
  },
  {
   "cell_type": "code",
   "execution_count": 176,
   "metadata": {},
   "outputs": [],
   "source": [
    "# Than predict ratings for all pairs (u, i) that are NOT in the training set.\n",
    "train_pred_set = trainset.build_anti_testset()\n",
    "train_preds = algo.test(train_pred_set)\n",
    "\n",
    "# Make predictions\n",
    "top_n = get_n_recommendations(train_preds)\n"
   ]
  },
  {
   "cell_type": "code",
   "execution_count": 177,
   "metadata": {},
   "outputs": [
    {
     "name": "stdout",
     "output_type": "stream",
     "text": [
      "Pre-2014 selections (customer id - 13516428):\n",
      "                              product_title  star_rating\n",
      "7815   Red Dead Redemption Game of the Year            5\n",
      "9838                              Fable III            3\n",
      "12867                          Halo 3: ODST            4\n",
      "16011            Need for Speed Most Wanted            1\n",
      "25538                         Battlefield 3            5\n",
      "\n",
      "Post-2014 selections (customer id - 13516428):\n",
      "                                      product_title  star_rating\n",
      "341                                     Tomb Raider          5.0\n",
      "452            Red Dead Redemption Game of the Year          5.0\n",
      "1908                          Batman Arkham Origins          3.0\n",
      "2008                               Assassin's Creed          4.0\n",
      "2185                             Grand Theft Auto V          5.0\n",
      "3075                 Call of Duty 4: Modern Warfare          5.0\n",
      "3187      Call of Duty: Modern Warfare 3 - Xbox 360          5.0\n",
      "4160                 Call of Duty: Modern Warfare 2          5.0\n",
      "4183                             Assassins Creed II          5.0\n",
      "4242                  Kingdoms of Amalur: Reckoning          5.0\n",
      "4261                                   Dragon Age 2          5.0\n",
      "4356  The Elder Scrolls V: Skyrim Legendary Edition          2.0\n",
      "\n",
      "Recommendations:\n",
      "Borderlands 2\n",
      "God of War: Ascension\n",
      "The Last of Us\n",
      "LEGO: Marvel\n",
      "Need for Speed: Hot Pursuit\n",
      "Mass Effect 2\n",
      "Dishonored\n",
      "Dead Space 3\n",
      "Assassin's Creed: Brotherhood\n",
      "Assassins Creed II\n",
      "Far Cry 3\n",
      "Call of Duty: Black Ops - Xbox 360\n",
      "BioShock Infinite\n",
      "Red Dead Redemption\n",
      "Tomb Raider\n"
     ]
    }
   ],
   "source": [
    "print_customer_prof(train_df, test_df, top_n)"
   ]
  },
  {
   "cell_type": "code",
   "execution_count": 178,
   "metadata": {},
   "outputs": [
    {
     "name": "stdout",
     "output_type": "stream",
     "text": [
      "Precision (UU - KNNWithZScore - Pearson): 0.014611519134132198\n"
     ]
    }
   ],
   "source": [
    "prec = evaluate_precision(top_n, testset, threshold=4.0)\n",
    "print('Precision (UU - KNNWithZScore - Pearson):', prec)\n"
   ]
  },
  {
   "cell_type": "code",
   "execution_count": 179,
   "metadata": {},
   "outputs": [
    {
     "name": "stdout",
     "output_type": "stream",
     "text": [
      "MAP (UU - KNNWithZScore - Pearson): 0.15303817106791\n"
     ]
    }
   ],
   "source": [
    "mean_ap = evaluate_map(top_n, testset, threshold=4.0)\n",
    "print('MAP (UU - KNNWithZScore - Pearson):', mean_ap)\n"
   ]
  },
  {
   "cell_type": "code",
   "execution_count": 180,
   "metadata": {},
   "outputs": [],
   "source": [
    "algo_7B = {'Model': 'UU - KNNWithZScore - Pearson',\n",
    "           'RMSE': rmse,\n",
    "           'Unranked Precision': prec,\n",
    "           'MAP': mean_ap}"
   ]
  },
  {
   "cell_type": "markdown",
   "metadata": {},
   "source": [
    "**Search Best K based on Recall**"
   ]
  },
  {
   "cell_type": "code",
   "execution_count": 181,
   "metadata": {},
   "outputs": [],
   "source": [
    "# # HAHAHA\n",
    "# plot_recall(range(10,61,10), \n",
    "#             trainset, \n",
    "#             testset,\n",
    "#             algorithm='KNNWithZScore',\n",
    "#             sim_options={'name': 'pearson', 'user_based': True})"
   ]
  },
  {
   "cell_type": "markdown",
   "metadata": {},
   "source": [
    "### 7.B.4. Make Recommendations for New Customer"
   ]
  },
  {
   "cell_type": "code",
   "execution_count": 182,
   "metadata": {
    "scrolled": false
   },
   "outputs": [
    {
     "name": "stdout",
     "output_type": "stream",
     "text": [
      "Computing the pearson similarity matrix...\n",
      "Done computing similarity matrix.\n"
     ]
    },
    {
     "data": {
      "text/html": [
       "<div>\n",
       "<style scoped>\n",
       "    .dataframe tbody tr th:only-of-type {\n",
       "        vertical-align: middle;\n",
       "    }\n",
       "\n",
       "    .dataframe tbody tr th {\n",
       "        vertical-align: top;\n",
       "    }\n",
       "\n",
       "    .dataframe thead th {\n",
       "        text-align: right;\n",
       "    }\n",
       "</style>\n",
       "<table border=\"1\" class=\"dataframe\">\n",
       "  <thead>\n",
       "    <tr style=\"text-align: right;\">\n",
       "      <th></th>\n",
       "      <th>items</th>\n",
       "      <th>rating</th>\n",
       "    </tr>\n",
       "  </thead>\n",
       "  <tbody>\n",
       "    <tr>\n",
       "      <th>0</th>\n",
       "      <td>Battlefield 4</td>\n",
       "      <td>5</td>\n",
       "    </tr>\n",
       "    <tr>\n",
       "      <th>1</th>\n",
       "      <td>Far Cry 3</td>\n",
       "      <td>5</td>\n",
       "    </tr>\n",
       "    <tr>\n",
       "      <th>142</th>\n",
       "      <td>Mario Kart DS</td>\n",
       "      <td>5</td>\n",
       "    </tr>\n",
       "    <tr>\n",
       "      <th>143</th>\n",
       "      <td>Mario Kart: Double Dash</td>\n",
       "      <td>5</td>\n",
       "    </tr>\n",
       "    <tr>\n",
       "      <th>144</th>\n",
       "      <td>Super Smash Bros. Brawl</td>\n",
       "      <td>5</td>\n",
       "    </tr>\n",
       "    <tr>\n",
       "      <th>145</th>\n",
       "      <td>Super Mario Galaxy (Nintendo Selects)</td>\n",
       "      <td>5</td>\n",
       "    </tr>\n",
       "    <tr>\n",
       "      <th>146</th>\n",
       "      <td>Super Mario 64</td>\n",
       "      <td>5</td>\n",
       "    </tr>\n",
       "    <tr>\n",
       "      <th>147</th>\n",
       "      <td>Uncharted 2: Among Thieves - Playstation 3</td>\n",
       "      <td>5</td>\n",
       "    </tr>\n",
       "    <tr>\n",
       "      <th>148</th>\n",
       "      <td>NBA 2K13</td>\n",
       "      <td>5</td>\n",
       "    </tr>\n",
       "    <tr>\n",
       "      <th>149</th>\n",
       "      <td>Gran Turismo 6</td>\n",
       "      <td>5</td>\n",
       "    </tr>\n",
       "  </tbody>\n",
       "</table>\n",
       "</div>"
      ],
      "text/plain": [
       "                                          items  rating\n",
       "0                                 Battlefield 4       5\n",
       "1                                     Far Cry 3       5\n",
       "142                               Mario Kart DS       5\n",
       "143                     Mario Kart: Double Dash       5\n",
       "144                     Super Smash Bros. Brawl       5\n",
       "145       Super Mario Galaxy (Nintendo Selects)       5\n",
       "146                              Super Mario 64       5\n",
       "147  Uncharted 2: Among Thieves - Playstation 3       5\n",
       "148                                    NBA 2K13       5\n",
       "149                              Gran Turismo 6       5"
      ]
     },
     "execution_count": 182,
     "metadata": {},
     "output_type": "execute_result"
    }
   ],
   "source": [
    "new_products = ['Call of Duty: Ghosts', \n",
    "                'Call of Duty: Modern Warfare 2', \n",
    "                'Battlefield 3']\n",
    "\n",
    "recs = new_recommendations(new_products, whole, algo)\n",
    "recs.head(10)"
   ]
  },
  {
   "cell_type": "markdown",
   "metadata": {},
   "source": [
    "<br>\n",
    "## 8.A. Item-Item Collaborative Filtering (KNNWithZScore - Cosine)\n",
    "\n",
    "A basic collaborative filtering algorithm, taking into account the z-score normalization of each user.\n",
    "\n",
    "$${\\normalsize \\hat{r}_{ui} = \\mu_i + \\sigma_i \\frac{ \\sum\\limits_{j \\in N^k_u(i)}\\text{sim}(i, j) \\cdot (r_{uj} - \\mu_j) / \\sigma_j} {\\sum\\limits_{j\\in N^k_u(i)} \\text{sim}(i, j)} }$$\n",
    "\n",
    "Where:\n",
    "<br>\n",
    "$\\hat{r}_{ui}$ - Prediction for user $u$ and item $i$.<br>\n",
    "$\\mu_i$ - Mean rating for item $i$.<br>\n",
    "$\\sigma_i$ - Z-score normalization of item $i$ ratings.<br>\n",
    "${j \\in N^k_u(i)}$ - $j$ items in $k$ neighborhood most similar to item $i$ for user $u$.<br>\n",
    "$\\text{sim}(i, j)$ - **Cosine** similarity between items $i$ and $j$.<br>\n",
    "$(r_{uj} - \\mu_j) / \\sigma_j$ - Deviation of rating for item $j$ user $u$ and mean rating for item $j$, normalized by Z-score of item $j$ ratings, $\\sigma_j$.<br>"
   ]
  },
  {
   "cell_type": "markdown",
   "metadata": {},
   "source": [
    "### 8.A.1. Train Model"
   ]
  },
  {
   "cell_type": "code",
   "execution_count": 183,
   "metadata": {
    "scrolled": false
   },
   "outputs": [
    {
     "name": "stdout",
     "output_type": "stream",
     "text": [
      "Computing the cosine similarity matrix...\n",
      "Done computing similarity matrix.\n"
     ]
    },
    {
     "data": {
      "text/plain": [
       "<surprise.prediction_algorithms.knns.KNNWithZScore at 0x1a798ab6d8>"
      ]
     },
     "execution_count": 183,
     "metadata": {},
     "output_type": "execute_result"
    }
   ],
   "source": [
    "# Use user_based true/false to switch between user-based or item-based collaborative filtering\n",
    "# Here we will use user based collaborative filtering, so True.\n",
    "\n",
    "algo = KNNWithZScore(k=50, sim_options={'name': 'cosine', 'user_based': False})\n",
    "algo.fit(trainset)\n"
   ]
  },
  {
   "cell_type": "markdown",
   "metadata": {},
   "source": [
    "### 8.A.2. Evaluate Model (RMSE)"
   ]
  },
  {
   "cell_type": "code",
   "execution_count": 184,
   "metadata": {},
   "outputs": [
    {
     "name": "stdout",
     "output_type": "stream",
     "text": [
      "Item-based (KNNWithZScore - Cosine) Model : Test Set\n",
      "RMSE: 1.2226\n"
     ]
    }
   ],
   "source": [
    "# Evaluate test set\n",
    "print(\"Item-based (KNNWithZScore - Cosine) Model : Test Set\")\n",
    "test_pred = algo.test(testset)\n",
    "rmse = accuracy.rmse(test_pred, verbose=True)"
   ]
  },
  {
   "cell_type": "markdown",
   "metadata": {},
   "source": [
    "**Search Best K based on RMSE**"
   ]
  },
  {
   "cell_type": "code",
   "execution_count": 185,
   "metadata": {},
   "outputs": [
    {
     "data": {
      "image/png": "[encoded data removed]",
      "text/plain": [
       "<Figure size 720x504 with 1 Axes>"
      ]
     },
     "metadata": {
      "image/png": {
       "height": 441,
       "width": 614
      }
     },
     "output_type": "display_data"
    }
   ],
   "source": [
    "scores = plot_rmse(range(1,100), \n",
    "                   trainset, \n",
    "                   testset, \n",
    "                   algorithm='KNNWithZScore', \n",
    "                   sim_options={'name': 'cosine', 'user_based': False})"
   ]
  },
  {
   "cell_type": "code",
   "execution_count": 186,
   "metadata": {
    "scrolled": true
   },
   "outputs": [
    {
     "data": {
      "text/html": [
       "<div>\n",
       "<style scoped>\n",
       "    .dataframe tbody tr th:only-of-type {\n",
       "        vertical-align: middle;\n",
       "    }\n",
       "\n",
       "    .dataframe tbody tr th {\n",
       "        vertical-align: top;\n",
       "    }\n",
       "\n",
       "    .dataframe thead th {\n",
       "        text-align: right;\n",
       "    }\n",
       "</style>\n",
       "<table border=\"1\" class=\"dataframe\">\n",
       "  <thead>\n",
       "    <tr style=\"text-align: right;\">\n",
       "      <th></th>\n",
       "      <th>k</th>\n",
       "      <th>test_rmse</th>\n",
       "    </tr>\n",
       "  </thead>\n",
       "  <tbody>\n",
       "    <tr>\n",
       "      <th>12</th>\n",
       "      <td>13</td>\n",
       "      <td>1.222495</td>\n",
       "    </tr>\n",
       "    <tr>\n",
       "      <th>23</th>\n",
       "      <td>24</td>\n",
       "      <td>1.222534</td>\n",
       "    </tr>\n",
       "    <tr>\n",
       "      <th>24</th>\n",
       "      <td>25</td>\n",
       "      <td>1.222542</td>\n",
       "    </tr>\n",
       "    <tr>\n",
       "      <th>25</th>\n",
       "      <td>26</td>\n",
       "      <td>1.222557</td>\n",
       "    </tr>\n",
       "    <tr>\n",
       "      <th>22</th>\n",
       "      <td>23</td>\n",
       "      <td>1.222567</td>\n",
       "    </tr>\n",
       "  </tbody>\n",
       "</table>\n",
       "</div>"
      ],
      "text/plain": [
       "     k  test_rmse\n",
       "12  13   1.222495\n",
       "23  24   1.222534\n",
       "24  25   1.222542\n",
       "25  26   1.222557\n",
       "22  23   1.222567"
      ]
     },
     "execution_count": 186,
     "metadata": {},
     "output_type": "execute_result"
    }
   ],
   "source": [
    "# Sort rmse scores and pick value of k that has lowest rmse on the test set\n",
    "scores.sort_values(by='test_rmse', ascending=True, inplace=True)\n",
    "scores.head(5)"
   ]
  },
  {
   "cell_type": "code",
   "execution_count": 187,
   "metadata": {},
   "outputs": [
    {
     "name": "stdout",
     "output_type": "stream",
     "text": [
      "Computing the cosine similarity matrix...\n",
      "Done computing similarity matrix.\n"
     ]
    },
    {
     "data": {
      "text/plain": [
       "<surprise.prediction_algorithms.knns.KNNWithZScore at 0x1a1357dbe0>"
      ]
     },
     "execution_count": 187,
     "metadata": {},
     "output_type": "execute_result"
    }
   ],
   "source": [
    "# Refit model with best k\n",
    "best_k = scores[:1]['k'].values[0]\n",
    "\n",
    "algo = KNNWithZScore(k=best_k, sim_options={'name': 'cosine', 'user_based': False})\n",
    "algo.fit(trainset)"
   ]
  },
  {
   "cell_type": "markdown",
   "metadata": {},
   "source": [
    "### 8.A.3. Evaluate Model (Recall)"
   ]
  },
  {
   "cell_type": "markdown",
   "metadata": {},
   "source": [
    "**Get Recommendations for Example User**"
   ]
  },
  {
   "cell_type": "code",
   "execution_count": 188,
   "metadata": {},
   "outputs": [],
   "source": [
    "# Than predict ratings for all pairs (u, i) that are NOT in the training set.\n",
    "train_pred_set = trainset.build_anti_testset()\n",
    "train_preds = algo.test(train_pred_set)\n",
    "\n",
    "# Make predictions\n",
    "top_n = get_n_recommendations(train_preds)\n"
   ]
  },
  {
   "cell_type": "code",
   "execution_count": 189,
   "metadata": {},
   "outputs": [
    {
     "name": "stdout",
     "output_type": "stream",
     "text": [
      "Pre-2014 selections (customer id - 13516428):\n",
      "                              product_title  star_rating\n",
      "7815   Red Dead Redemption Game of the Year            5\n",
      "9838                              Fable III            3\n",
      "12867                          Halo 3: ODST            4\n",
      "16011            Need for Speed Most Wanted            1\n",
      "25538                         Battlefield 3            5\n",
      "\n",
      "Post-2014 selections (customer id - 13516428):\n",
      "                                      product_title  star_rating\n",
      "341                                     Tomb Raider          5.0\n",
      "452            Red Dead Redemption Game of the Year          5.0\n",
      "1908                          Batman Arkham Origins          3.0\n",
      "2008                               Assassin's Creed          4.0\n",
      "2185                             Grand Theft Auto V          5.0\n",
      "3075                 Call of Duty 4: Modern Warfare          5.0\n",
      "3187      Call of Duty: Modern Warfare 3 - Xbox 360          5.0\n",
      "4160                 Call of Duty: Modern Warfare 2          5.0\n",
      "4183                             Assassins Creed II          5.0\n",
      "4242                  Kingdoms of Amalur: Reckoning          5.0\n",
      "4261                                   Dragon Age 2          5.0\n",
      "4356  The Elder Scrolls V: Skyrim Legendary Edition          2.0\n",
      "\n",
      "Recommendations:\n",
      "Luigi's Mansion: Dark Moon\n",
      "Kingdom Hearts HD 1.5 Remix\n",
      "The Legend of Zelda: The Wind Waker HD\n",
      "Fire Emblem: Awakening\n",
      "GoldenEye 007\n",
      "Minecraft - Xbox 360\n",
      "Kingdom Hearts\n",
      "Medal of Honor: Allied Assault - PC\n",
      "Super Mario Galaxy 2\n",
      "PS3 Journey Collection\n",
      "NBA 2K14\n",
      "Super Smash Bros Melee\n",
      "Super Mario Galaxy (Nintendo Selects)\n",
      "Metal Gear Solid: The Legacy Collection\n",
      "God of War - PlayStation 2\n"
     ]
    }
   ],
   "source": [
    "print_customer_prof(train_df, test_df, top_n)"
   ]
  },
  {
   "cell_type": "code",
   "execution_count": 190,
   "metadata": {},
   "outputs": [
    {
     "name": "stdout",
     "output_type": "stream",
     "text": [
      "Precision (II - KNNWithZScore - Cosine): 0.009148305630717692\n"
     ]
    }
   ],
   "source": [
    "prec = evaluate_precision(top_n, testset, threshold=4.0)\n",
    "print('Precision (II - KNNWithZScore - Cosine):', prec)\n"
   ]
  },
  {
   "cell_type": "code",
   "execution_count": 191,
   "metadata": {},
   "outputs": [
    {
     "name": "stdout",
     "output_type": "stream",
     "text": [
      "MAP (II - KNNWithZScore - Cosine): 0.10306898513987602\n"
     ]
    }
   ],
   "source": [
    "mean_ap = evaluate_map(top_n, testset, threshold=4.0)\n",
    "print('MAP (II - KNNWithZScore - Cosine):', mean_ap)\n"
   ]
  },
  {
   "cell_type": "code",
   "execution_count": 192,
   "metadata": {},
   "outputs": [],
   "source": [
    "algo_8A = {'Model': 'II - KNNWithZScore - Cosine',\n",
    "           'RMSE': rmse,\n",
    "           'Unranked Precision': prec,\n",
    "           'MAP': mean_ap}"
   ]
  },
  {
   "cell_type": "markdown",
   "metadata": {},
   "source": [
    "**Search Best K based on Recall**"
   ]
  },
  {
   "cell_type": "code",
   "execution_count": 193,
   "metadata": {},
   "outputs": [],
   "source": [
    "# # HAHAHA\n",
    "# plot_recall(range(10,61,10), \n",
    "#             trainset, \n",
    "#             testset,\n",
    "#             algorithm='KNNWithZScore',\n",
    "#             sim_options={'name': 'cosine', 'user_based': False})"
   ]
  },
  {
   "cell_type": "markdown",
   "metadata": {},
   "source": [
    "### 8.A.4. Make Recommendations for New Customer"
   ]
  },
  {
   "cell_type": "code",
   "execution_count": 194,
   "metadata": {
    "scrolled": false
   },
   "outputs": [
    {
     "name": "stdout",
     "output_type": "stream",
     "text": [
      "Computing the cosine similarity matrix...\n",
      "Done computing similarity matrix.\n"
     ]
    },
    {
     "data": {
      "text/html": [
       "<div>\n",
       "<style scoped>\n",
       "    .dataframe tbody tr th:only-of-type {\n",
       "        vertical-align: middle;\n",
       "    }\n",
       "\n",
       "    .dataframe tbody tr th {\n",
       "        vertical-align: top;\n",
       "    }\n",
       "\n",
       "    .dataframe thead th {\n",
       "        text-align: right;\n",
       "    }\n",
       "</style>\n",
       "<table border=\"1\" class=\"dataframe\">\n",
       "  <thead>\n",
       "    <tr style=\"text-align: right;\">\n",
       "      <th></th>\n",
       "      <th>items</th>\n",
       "      <th>rating</th>\n",
       "    </tr>\n",
       "  </thead>\n",
       "  <tbody>\n",
       "    <tr>\n",
       "      <th>112</th>\n",
       "      <td>Killzone 3</td>\n",
       "      <td>5.0</td>\n",
       "    </tr>\n",
       "    <tr>\n",
       "      <th>128</th>\n",
       "      <td>Lego Star Wars: The Complete Saga</td>\n",
       "      <td>5.0</td>\n",
       "    </tr>\n",
       "    <tr>\n",
       "      <th>118</th>\n",
       "      <td>Fallout 3: Game of The Year Edition</td>\n",
       "      <td>5.0</td>\n",
       "    </tr>\n",
       "    <tr>\n",
       "      <th>120</th>\n",
       "      <td>Batman Arkham Asylum Goty</td>\n",
       "      <td>5.0</td>\n",
       "    </tr>\n",
       "    <tr>\n",
       "      <th>121</th>\n",
       "      <td>Heavy Rain - Greatest Hits</td>\n",
       "      <td>5.0</td>\n",
       "    </tr>\n",
       "    <tr>\n",
       "      <th>122</th>\n",
       "      <td>PS3 Journey Collection</td>\n",
       "      <td>5.0</td>\n",
       "    </tr>\n",
       "    <tr>\n",
       "      <th>123</th>\n",
       "      <td>Dance Central 2 - Xbox 360</td>\n",
       "      <td>5.0</td>\n",
       "    </tr>\n",
       "    <tr>\n",
       "      <th>124</th>\n",
       "      <td>Dead Space 3</td>\n",
       "      <td>5.0</td>\n",
       "    </tr>\n",
       "    <tr>\n",
       "      <th>126</th>\n",
       "      <td>Uncharted: Drake's Fortune - Playstation 3</td>\n",
       "      <td>5.0</td>\n",
       "    </tr>\n",
       "    <tr>\n",
       "      <th>127</th>\n",
       "      <td>Demon's Souls</td>\n",
       "      <td>5.0</td>\n",
       "    </tr>\n",
       "  </tbody>\n",
       "</table>\n",
       "</div>"
      ],
      "text/plain": [
       "                                          items  rating\n",
       "112                                  Killzone 3     5.0\n",
       "128           Lego Star Wars: The Complete Saga     5.0\n",
       "118         Fallout 3: Game of The Year Edition     5.0\n",
       "120                   Batman Arkham Asylum Goty     5.0\n",
       "121                  Heavy Rain - Greatest Hits     5.0\n",
       "122                      PS3 Journey Collection     5.0\n",
       "123                  Dance Central 2 - Xbox 360     5.0\n",
       "124                                Dead Space 3     5.0\n",
       "126  Uncharted: Drake's Fortune - Playstation 3     5.0\n",
       "127                               Demon's Souls     5.0"
      ]
     },
     "execution_count": 194,
     "metadata": {},
     "output_type": "execute_result"
    }
   ],
   "source": [
    "new_products = ['Call of Duty: Ghosts', \n",
    "                'Call of Duty: Modern Warfare 2', \n",
    "                'Battlefield 3']\n",
    "\n",
    "recs = new_recommendations(new_products, whole, algo)\n",
    "recs.head(10)"
   ]
  },
  {
   "cell_type": "markdown",
   "metadata": {},
   "source": [
    "<br>\n",
    "## 8.B. Item-Item Collaborative Filtering (KNNWithZScore - Pearson)\n",
    "\n",
    "A basic collaborative filtering algorithm, taking into account the z-score normalization of each user.\n",
    "\n",
    "$${\\normalsize \\hat{r}_{ui} = \\mu_i + \\sigma_i \\frac{ \\sum\\limits_{j \\in N^k_u(i)}\\text{sim}(i, j) \\cdot (r_{uj} - \\mu_j) / \\sigma_j} {\\sum\\limits_{j\\in N^k_u(i)} \\text{sim}(i, j)} }$$\n",
    "\n",
    "Where:\n",
    "<br>\n",
    "$\\hat{r}_{ui}$ - Prediction for user $u$ and item $i$.<br>\n",
    "$\\mu_i$ - Mean rating for item $i$.<br>\n",
    "$\\sigma_i$ - Z-score normalization of item $i$ ratings.<br>\n",
    "${j \\in N^k_u(i)}$ - $j$ items in $k$ neighborhood most similar to item $i$ for user $u$.<br>\n",
    "$\\text{sim}(i, j)$ - **Pearson** similarity between items $i$ and $j$.<br>\n",
    "$(r_{uj} - \\mu_j) / \\sigma_j$ - Deviation of rating for item $j$ user $u$ and mean rating for item $j$, normalized by Z-score of item $j$ ratings, $\\sigma_j$.<br>"
   ]
  },
  {
   "cell_type": "markdown",
   "metadata": {},
   "source": [
    "### 8.B.1. Train Model"
   ]
  },
  {
   "cell_type": "code",
   "execution_count": 195,
   "metadata": {
    "scrolled": false
   },
   "outputs": [
    {
     "name": "stdout",
     "output_type": "stream",
     "text": [
      "Computing the pearson similarity matrix...\n",
      "Done computing similarity matrix.\n"
     ]
    },
    {
     "data": {
      "text/plain": [
       "<surprise.prediction_algorithms.knns.KNNWithZScore at 0x1a132587b8>"
      ]
     },
     "execution_count": 195,
     "metadata": {},
     "output_type": "execute_result"
    }
   ],
   "source": [
    "# Use user_based true/false to switch between user-based or item-based collaborative filtering\n",
    "# Here we will use user based collaborative filtering, so True.\n",
    "\n",
    "algo = KNNWithZScore(k=50, sim_options={'name': 'pearson', 'user_based': False})\n",
    "algo.fit(trainset)\n"
   ]
  },
  {
   "cell_type": "markdown",
   "metadata": {},
   "source": [
    "### 8.B.2. Evaluate Model (RMSE)"
   ]
  },
  {
   "cell_type": "code",
   "execution_count": 196,
   "metadata": {},
   "outputs": [
    {
     "name": "stdout",
     "output_type": "stream",
     "text": [
      "Item-based (KNNWithZScore - Pearson) Model : Test Set\n",
      "RMSE: 1.2111\n"
     ]
    }
   ],
   "source": [
    "# Evaluate test set\n",
    "print(\"Item-based (KNNWithZScore - Pearson) Model : Test Set\")\n",
    "test_pred = algo.test(testset)\n",
    "rmse = accuracy.rmse(test_pred, verbose=True)"
   ]
  },
  {
   "cell_type": "markdown",
   "metadata": {},
   "source": [
    "**Search Best K based on RMSE**"
   ]
  },
  {
   "cell_type": "code",
   "execution_count": 197,
   "metadata": {},
   "outputs": [
    {
     "data": {
      "image/png": "[encoded data removed]",
      "text/plain": [
       "<Figure size 720x504 with 1 Axes>"
      ]
     },
     "metadata": {
      "image/png": {
       "height": 441,
       "width": 619
      }
     },
     "output_type": "display_data"
    }
   ],
   "source": [
    "scores = plot_rmse(range(1,100), \n",
    "                   trainset, \n",
    "                   testset, \n",
    "                   algorithm='KNNWithZScore', \n",
    "                   sim_options={'name': 'pearson', 'user_based': False})"
   ]
  },
  {
   "cell_type": "code",
   "execution_count": 198,
   "metadata": {
    "scrolled": true
   },
   "outputs": [
    {
     "data": {
      "text/html": [
       "<div>\n",
       "<style scoped>\n",
       "    .dataframe tbody tr th:only-of-type {\n",
       "        vertical-align: middle;\n",
       "    }\n",
       "\n",
       "    .dataframe tbody tr th {\n",
       "        vertical-align: top;\n",
       "    }\n",
       "\n",
       "    .dataframe thead th {\n",
       "        text-align: right;\n",
       "    }\n",
       "</style>\n",
       "<table border=\"1\" class=\"dataframe\">\n",
       "  <thead>\n",
       "    <tr style=\"text-align: right;\">\n",
       "      <th></th>\n",
       "      <th>k</th>\n",
       "      <th>test_rmse</th>\n",
       "    </tr>\n",
       "  </thead>\n",
       "  <tbody>\n",
       "    <tr>\n",
       "      <th>18</th>\n",
       "      <td>19</td>\n",
       "      <td>1.211141</td>\n",
       "    </tr>\n",
       "    <tr>\n",
       "      <th>20</th>\n",
       "      <td>21</td>\n",
       "      <td>1.211142</td>\n",
       "    </tr>\n",
       "    <tr>\n",
       "      <th>19</th>\n",
       "      <td>20</td>\n",
       "      <td>1.211143</td>\n",
       "    </tr>\n",
       "    <tr>\n",
       "      <th>21</th>\n",
       "      <td>22</td>\n",
       "      <td>1.211145</td>\n",
       "    </tr>\n",
       "    <tr>\n",
       "      <th>49</th>\n",
       "      <td>50</td>\n",
       "      <td>1.211145</td>\n",
       "    </tr>\n",
       "  </tbody>\n",
       "</table>\n",
       "</div>"
      ],
      "text/plain": [
       "     k  test_rmse\n",
       "18  19   1.211141\n",
       "20  21   1.211142\n",
       "19  20   1.211143\n",
       "21  22   1.211145\n",
       "49  50   1.211145"
      ]
     },
     "execution_count": 198,
     "metadata": {},
     "output_type": "execute_result"
    }
   ],
   "source": [
    "# Sort rmse scores and pick value of k that has lowest rmse on the test set\n",
    "scores.sort_values(by='test_rmse', ascending=True, inplace=True)\n",
    "scores.head(5)"
   ]
  },
  {
   "cell_type": "code",
   "execution_count": 199,
   "metadata": {},
   "outputs": [
    {
     "name": "stdout",
     "output_type": "stream",
     "text": [
      "Computing the pearson similarity matrix...\n",
      "Done computing similarity matrix.\n"
     ]
    },
    {
     "data": {
      "text/plain": [
       "<surprise.prediction_algorithms.knns.KNNWithZScore at 0x1a58c6bda0>"
      ]
     },
     "execution_count": 199,
     "metadata": {},
     "output_type": "execute_result"
    }
   ],
   "source": [
    "# Refit model with best k\n",
    "best_k = scores[:1]['k'].values[0]\n",
    "\n",
    "algo = KNNWithZScore(k=best_k, sim_options={'name': 'pearson', 'user_based': False})\n",
    "algo.fit(trainset)"
   ]
  },
  {
   "cell_type": "markdown",
   "metadata": {},
   "source": [
    "### 8.B.3. Evaluate Model (Recall)"
   ]
  },
  {
   "cell_type": "markdown",
   "metadata": {},
   "source": [
    "**Get Recommendations for Example User**"
   ]
  },
  {
   "cell_type": "code",
   "execution_count": 200,
   "metadata": {},
   "outputs": [],
   "source": [
    "# Than predict ratings for all pairs (u, i) that are NOT in the training set.\n",
    "train_pred_set = trainset.build_anti_testset()\n",
    "train_preds = algo.test(train_pred_set)\n",
    "\n",
    "# Make predictions\n",
    "top_n = get_n_recommendations(train_preds)\n"
   ]
  },
  {
   "cell_type": "code",
   "execution_count": 201,
   "metadata": {
    "scrolled": false
   },
   "outputs": [
    {
     "name": "stdout",
     "output_type": "stream",
     "text": [
      "Pre-2014 selections (customer id - 13516428):\n",
      "                              product_title  star_rating\n",
      "7815   Red Dead Redemption Game of the Year            5\n",
      "9838                              Fable III            3\n",
      "12867                          Halo 3: ODST            4\n",
      "16011            Need for Speed Most Wanted            1\n",
      "25538                         Battlefield 3            5\n",
      "\n",
      "Post-2014 selections (customer id - 13516428):\n",
      "                                      product_title  star_rating\n",
      "341                                     Tomb Raider          5.0\n",
      "452            Red Dead Redemption Game of the Year          5.0\n",
      "1908                          Batman Arkham Origins          3.0\n",
      "2008                               Assassin's Creed          4.0\n",
      "2185                             Grand Theft Auto V          5.0\n",
      "3075                 Call of Duty 4: Modern Warfare          5.0\n",
      "3187      Call of Duty: Modern Warfare 3 - Xbox 360          5.0\n",
      "4160                 Call of Duty: Modern Warfare 2          5.0\n",
      "4183                             Assassins Creed II          5.0\n",
      "4242                  Kingdoms of Amalur: Reckoning          5.0\n",
      "4261                                   Dragon Age 2          5.0\n",
      "4356  The Elder Scrolls V: Skyrim Legendary Edition          2.0\n",
      "\n",
      "Recommendations:\n",
      "Luigi's Mansion: Dark Moon\n",
      "Forza Motorsport 4\n",
      "Halo 4\n",
      "LittleBigPlanet\n",
      "Assassin's Creed 4\n",
      "BEYOND: Two Souls\n",
      "Grand Theft Auto V\n",
      "LEGO: Marvel\n",
      "Fire Emblem: Awakening\n",
      "Resident Evil 5\n",
      "The Legend of Zelda: Ocarina of Time 3D\n",
      "New Super Mario Bros. 2\n",
      "Animal Crossing: New Leaf\n",
      "Mario Party 9\n",
      "Minecraft - Xbox 360\n"
     ]
    }
   ],
   "source": [
    "print_customer_prof(train_df, test_df, top_n)"
   ]
  },
  {
   "cell_type": "code",
   "execution_count": 202,
   "metadata": {},
   "outputs": [
    {
     "name": "stdout",
     "output_type": "stream",
     "text": [
      "Precision (II - KNNWithZScore - Pearson): 0.011725293132328308\n"
     ]
    }
   ],
   "source": [
    "prec = evaluate_precision(top_n, testset, threshold=4.0)\n",
    "print('Precision (II - KNNWithZScore - Pearson):', prec)\n"
   ]
  },
  {
   "cell_type": "code",
   "execution_count": 203,
   "metadata": {},
   "outputs": [
    {
     "name": "stdout",
     "output_type": "stream",
     "text": [
      "MAP (II - KNNWithZScore - Pearson): 0.12821573009335843\n"
     ]
    }
   ],
   "source": [
    "mean_ap = evaluate_map(top_n, testset, threshold=4.0)\n",
    "print('MAP (II - KNNWithZScore - Pearson):', mean_ap)\n"
   ]
  },
  {
   "cell_type": "code",
   "execution_count": 204,
   "metadata": {},
   "outputs": [],
   "source": [
    "algo_8B = {'Model': 'II - KNNWithZScore - Pearson',\n",
    "           'RMSE': rmse,\n",
    "           'Unranked Precision': prec,\n",
    "           'MAP': mean_ap}"
   ]
  },
  {
   "cell_type": "markdown",
   "metadata": {},
   "source": [
    "**Search Best K based on Recall**"
   ]
  },
  {
   "cell_type": "code",
   "execution_count": 205,
   "metadata": {},
   "outputs": [],
   "source": [
    "# # HAHAHA\n",
    "# plot_recall(range(10,61,10), \n",
    "#             trainset, \n",
    "#             testset,\n",
    "#             algorithm='KNNWithZScore',\n",
    "#             sim_options={'name': 'pearson', 'user_based': False})"
   ]
  },
  {
   "cell_type": "markdown",
   "metadata": {},
   "source": [
    "### 8.B.4. Make Recommendations for New Customer"
   ]
  },
  {
   "cell_type": "code",
   "execution_count": 206,
   "metadata": {
    "scrolled": false
   },
   "outputs": [
    {
     "name": "stdout",
     "output_type": "stream",
     "text": [
      "Computing the pearson similarity matrix...\n",
      "Done computing similarity matrix.\n"
     ]
    },
    {
     "data": {
      "text/html": [
       "<div>\n",
       "<style scoped>\n",
       "    .dataframe tbody tr th:only-of-type {\n",
       "        vertical-align: middle;\n",
       "    }\n",
       "\n",
       "    .dataframe tbody tr th {\n",
       "        vertical-align: top;\n",
       "    }\n",
       "\n",
       "    .dataframe thead th {\n",
       "        text-align: right;\n",
       "    }\n",
       "</style>\n",
       "<table border=\"1\" class=\"dataframe\">\n",
       "  <thead>\n",
       "    <tr style=\"text-align: right;\">\n",
       "      <th></th>\n",
       "      <th>items</th>\n",
       "      <th>rating</th>\n",
       "    </tr>\n",
       "  </thead>\n",
       "  <tbody>\n",
       "    <tr>\n",
       "      <th>112</th>\n",
       "      <td>Killzone 3</td>\n",
       "      <td>5.0</td>\n",
       "    </tr>\n",
       "    <tr>\n",
       "      <th>76</th>\n",
       "      <td>The Legend of Zelda: Ocarina of Time 3D</td>\n",
       "      <td>5.0</td>\n",
       "    </tr>\n",
       "    <tr>\n",
       "      <th>92</th>\n",
       "      <td>The Elder Scrolls V: Skyrim Legendary Edition</td>\n",
       "      <td>5.0</td>\n",
       "    </tr>\n",
       "    <tr>\n",
       "      <th>91</th>\n",
       "      <td>Minecraft - Xbox 360</td>\n",
       "      <td>5.0</td>\n",
       "    </tr>\n",
       "    <tr>\n",
       "      <th>88</th>\n",
       "      <td>Madden NFL 25</td>\n",
       "      <td>5.0</td>\n",
       "    </tr>\n",
       "    <tr>\n",
       "      <th>85</th>\n",
       "      <td>Mario Party 9</td>\n",
       "      <td>5.0</td>\n",
       "    </tr>\n",
       "    <tr>\n",
       "      <th>84</th>\n",
       "      <td>Rocksmith 2014</td>\n",
       "      <td>5.0</td>\n",
       "    </tr>\n",
       "    <tr>\n",
       "      <th>155</th>\n",
       "      <td>Call of Duty: Modern Warfare 3 - Playstation 3</td>\n",
       "      <td>5.0</td>\n",
       "    </tr>\n",
       "    <tr>\n",
       "      <th>82</th>\n",
       "      <td>Animal Crossing: New Leaf</td>\n",
       "      <td>5.0</td>\n",
       "    </tr>\n",
       "    <tr>\n",
       "      <th>81</th>\n",
       "      <td>Mario Kart 7</td>\n",
       "      <td>5.0</td>\n",
       "    </tr>\n",
       "  </tbody>\n",
       "</table>\n",
       "</div>"
      ],
      "text/plain": [
       "                                              items  rating\n",
       "112                                      Killzone 3     5.0\n",
       "76          The Legend of Zelda: Ocarina of Time 3D     5.0\n",
       "92    The Elder Scrolls V: Skyrim Legendary Edition     5.0\n",
       "91                             Minecraft - Xbox 360     5.0\n",
       "88                                    Madden NFL 25     5.0\n",
       "85                                    Mario Party 9     5.0\n",
       "84                                   Rocksmith 2014     5.0\n",
       "155  Call of Duty: Modern Warfare 3 - Playstation 3     5.0\n",
       "82                        Animal Crossing: New Leaf     5.0\n",
       "81                                     Mario Kart 7     5.0"
      ]
     },
     "execution_count": 206,
     "metadata": {},
     "output_type": "execute_result"
    }
   ],
   "source": [
    "new_products = ['Call of Duty: Ghosts', \n",
    "                'Call of Duty: Modern Warfare 2', \n",
    "                'Battlefield 3']\n",
    "\n",
    "recs = new_recommendations(new_products, whole, algo)\n",
    "recs.head(10)"
   ]
  },
  {
   "cell_type": "markdown",
   "metadata": {},
   "source": [
    "### Conclusion"
   ]
  },
  {
   "cell_type": "code",
   "execution_count": 29,
   "metadata": {
    "scrolled": false
   },
   "outputs": [],
   "source": [
    "# scores = [algo_1A, algo_1B,\n",
    "#           algo_2A, algo_2B,\n",
    "#           algo_3A, algo_3B,\n",
    "#           algo_4A, algo_4B,\n",
    "#           algo_5A, algo_5B,\n",
    "#           algo_6A, algo_6B,\n",
    "#           algo_7A, algo_7B,\n",
    "#           algo_8A, algo_8B]\n",
    "\n",
    "# scores_df(scores).sort_values(by='MAP', ascending=False)"
   ]
  },
  {
   "cell_type": "markdown",
   "metadata": {},
   "source": [
    "### Best Item-Item Model"
   ]
  },
  {
   "cell_type": "code",
   "execution_count": 30,
   "metadata": {
    "scrolled": false
   },
   "outputs": [
    {
     "name": "stdout",
     "output_type": "stream",
     "text": [
      "Estimating biases using als...\n",
      "Computing the pearson similarity matrix...\n",
      "Done computing similarity matrix.\n",
      "Pre-2014 selections (customer id - 13516428):\n",
      "                              product_title  star_rating\n",
      "7815   Red Dead Redemption Game of the Year            5\n",
      "9838                              Fable III            3\n",
      "12867                          Halo 3: ODST            4\n",
      "16011            Need for Speed Most Wanted            1\n",
      "25538                         Battlefield 3            5\n",
      "\n",
      "Post-2014 selections (customer id - 13516428):\n",
      "                                      product_title  star_rating\n",
      "341                                     Tomb Raider          5.0\n",
      "452            Red Dead Redemption Game of the Year          5.0\n",
      "1908                          Batman Arkham Origins          3.0\n",
      "2008                               Assassin's Creed          4.0\n",
      "2185                             Grand Theft Auto V          5.0\n",
      "3075                 Call of Duty 4: Modern Warfare          5.0\n",
      "3187      Call of Duty: Modern Warfare 3 - Xbox 360          5.0\n",
      "4160                 Call of Duty: Modern Warfare 2          5.0\n",
      "4183                             Assassins Creed II          5.0\n",
      "4242                  Kingdoms of Amalur: Reckoning          5.0\n",
      "4261                                   Dragon Age 2          5.0\n",
      "4356  The Elder Scrolls V: Skyrim Legendary Edition          2.0\n",
      "\n",
      "Recommendations:\n",
      "Far Cry 3\n",
      "Luigi's Mansion: Dark Moon\n",
      "Forza Motorsport 4\n",
      "Halo 4\n",
      "LittleBigPlanet\n",
      "Assassin's Creed 4\n",
      "BEYOND: Two Souls\n",
      "Grand Theft Auto V\n",
      "LEGO: Marvel\n",
      "Assassin's Creed: Brotherhood\n",
      "Borderlands 2\n",
      "Fire Emblem: Awakening\n",
      "Resident Evil 5\n",
      "The Legend of Zelda: Ocarina of Time 3D\n",
      "New Super Mario Bros. 2\n"
     ]
    }
   ],
   "source": [
    "# Best Item-Item CF Model - \"II - KNNBaseline - Pearson\"\n",
    "best_ii_algo = KNNBaseline(k=21, sim_options={'name': 'pearson', 'user_based': False})\n",
    "best_ii_algo.fit(trainset)\n",
    "\n",
    "# Than predict ratings for all pairs (u, i) that are NOT in the training set.\n",
    "train_pred_set = trainset.build_anti_testset()\n",
    "train_preds = best_ii_algo.test(train_pred_set)\n",
    "\n",
    "# Make predictions\n",
    "top_n = get_n_recommendations(train_preds)\n",
    "\n",
    "# Print predicitons\n",
    "print_customer_prof(train_df, test_df, top_n)\n"
   ]
  },
  {
   "cell_type": "code",
   "execution_count": 31,
   "metadata": {},
   "outputs": [
    {
     "name": "stdout",
     "output_type": "stream",
     "text": [
      "RMSE (II - KNNBaseline - Pearson): 1.2058424710480533\n",
      "Precision (II - KNNBaseline - Pearson): 0.014714598634196623\n",
      "MAP (II - KNNBaseline - Pearson): 0.16313733875450465\n"
     ]
    }
   ],
   "source": [
    "test_pred = best_ii_algo.test(testset)\n",
    "rmse = accuracy.rmse(test_pred, verbose=False)\n",
    "print(\"RMSE (II - KNNBaseline - Pearson):\", rmse)\n",
    "\n",
    "prec = evaluate_precision(top_n, testset, threshold=4.0)\n",
    "print('Precision (II - KNNBaseline - Pearson):', prec)\n",
    "\n",
    "mean_ap = evaluate_map(top_n, testset, threshold=4.0)\n",
    "print('MAP (II - KNNBaseline - Pearson):', mean_ap)\n"
   ]
  },
  {
   "cell_type": "code",
   "execution_count": 32,
   "metadata": {
    "scrolled": false
   },
   "outputs": [
    {
     "name": "stdout",
     "output_type": "stream",
     "text": [
      "Estimating biases using als...\n",
      "Computing the pearson similarity matrix...\n",
      "Done computing similarity matrix.\n"
     ]
    },
    {
     "data": {
      "text/html": [
       "<div>\n",
       "<style scoped>\n",
       "    .dataframe tbody tr th:only-of-type {\n",
       "        vertical-align: middle;\n",
       "    }\n",
       "\n",
       "    .dataframe tbody tr th {\n",
       "        vertical-align: top;\n",
       "    }\n",
       "\n",
       "    .dataframe thead th {\n",
       "        text-align: right;\n",
       "    }\n",
       "</style>\n",
       "<table border=\"1\" class=\"dataframe\">\n",
       "  <thead>\n",
       "    <tr style=\"text-align: right;\">\n",
       "      <th></th>\n",
       "      <th>items</th>\n",
       "      <th>rating</th>\n",
       "    </tr>\n",
       "  </thead>\n",
       "  <tbody>\n",
       "    <tr>\n",
       "      <th>112</th>\n",
       "      <td>Killzone 3</td>\n",
       "      <td>5.0</td>\n",
       "    </tr>\n",
       "    <tr>\n",
       "      <th>81</th>\n",
       "      <td>Mario Kart 7</td>\n",
       "      <td>5.0</td>\n",
       "    </tr>\n",
       "    <tr>\n",
       "      <th>98</th>\n",
       "      <td>Fallout 3</td>\n",
       "      <td>5.0</td>\n",
       "    </tr>\n",
       "    <tr>\n",
       "      <th>157</th>\n",
       "      <td>Batman: Arkham Asylum</td>\n",
       "      <td>5.0</td>\n",
       "    </tr>\n",
       "    <tr>\n",
       "      <th>158</th>\n",
       "      <td>inFAMOUS - Playstation 3</td>\n",
       "      <td>5.0</td>\n",
       "    </tr>\n",
       "    <tr>\n",
       "      <th>94</th>\n",
       "      <td>Call of Duty: World at War</td>\n",
       "      <td>5.0</td>\n",
       "    </tr>\n",
       "    <tr>\n",
       "      <th>93</th>\n",
       "      <td>Halo 3: ODST</td>\n",
       "      <td>5.0</td>\n",
       "    </tr>\n",
       "    <tr>\n",
       "      <th>92</th>\n",
       "      <td>The Elder Scrolls V: Skyrim Legendary Edition</td>\n",
       "      <td>5.0</td>\n",
       "    </tr>\n",
       "    <tr>\n",
       "      <th>91</th>\n",
       "      <td>Minecraft - Xbox 360</td>\n",
       "      <td>5.0</td>\n",
       "    </tr>\n",
       "    <tr>\n",
       "      <th>88</th>\n",
       "      <td>Madden NFL 25</td>\n",
       "      <td>5.0</td>\n",
       "    </tr>\n",
       "    <tr>\n",
       "      <th>87</th>\n",
       "      <td>Need for Speed Rivals</td>\n",
       "      <td>5.0</td>\n",
       "    </tr>\n",
       "    <tr>\n",
       "      <th>85</th>\n",
       "      <td>Mario Party 9</td>\n",
       "      <td>5.0</td>\n",
       "    </tr>\n",
       "    <tr>\n",
       "      <th>84</th>\n",
       "      <td>Rocksmith 2014</td>\n",
       "      <td>5.0</td>\n",
       "    </tr>\n",
       "    <tr>\n",
       "      <th>164</th>\n",
       "      <td>Ryse: Son of Rome Day One Edition - Xbox One</td>\n",
       "      <td>5.0</td>\n",
       "    </tr>\n",
       "    <tr>\n",
       "      <th>82</th>\n",
       "      <td>Animal Crossing: New Leaf</td>\n",
       "      <td>5.0</td>\n",
       "    </tr>\n",
       "  </tbody>\n",
       "</table>\n",
       "</div>"
      ],
      "text/plain": [
       "                                             items  rating\n",
       "112                                     Killzone 3     5.0\n",
       "81                                    Mario Kart 7     5.0\n",
       "98                                       Fallout 3     5.0\n",
       "157                          Batman: Arkham Asylum     5.0\n",
       "158                       inFAMOUS - Playstation 3     5.0\n",
       "94                      Call of Duty: World at War     5.0\n",
       "93                                    Halo 3: ODST     5.0\n",
       "92   The Elder Scrolls V: Skyrim Legendary Edition     5.0\n",
       "91                            Minecraft - Xbox 360     5.0\n",
       "88                                   Madden NFL 25     5.0\n",
       "87                           Need for Speed Rivals     5.0\n",
       "85                                   Mario Party 9     5.0\n",
       "84                                  Rocksmith 2014     5.0\n",
       "164   Ryse: Son of Rome Day One Edition - Xbox One     5.0\n",
       "82                       Animal Crossing: New Leaf     5.0"
      ]
     },
     "execution_count": 32,
     "metadata": {},
     "output_type": "execute_result"
    }
   ],
   "source": [
    "new_products = ['Call of Duty: Ghosts', \n",
    "                'Call of Duty: Modern Warfare 2', \n",
    "                'Battlefield 3']\n",
    "\n",
    "recs = new_recommendations(new_products, whole, best_ii_algo)\n",
    "recs.head(15)\n"
   ]
  },
  {
   "cell_type": "markdown",
   "metadata": {},
   "source": [
    "### Best User-User Model"
   ]
  },
  {
   "cell_type": "code",
   "execution_count": 33,
   "metadata": {
    "scrolled": false
   },
   "outputs": [
    {
     "name": "stdout",
     "output_type": "stream",
     "text": [
      "Computing the pearson similarity matrix...\n",
      "Done computing similarity matrix.\n",
      "Pre-2014 selections (customer id - 13516428):\n",
      "                              product_title  star_rating\n",
      "7815   Red Dead Redemption Game of the Year            5\n",
      "9838                              Fable III            3\n",
      "12867                          Halo 3: ODST            4\n",
      "16011            Need for Speed Most Wanted            1\n",
      "25538                         Battlefield 3            5\n",
      "\n",
      "Post-2014 selections (customer id - 13516428):\n",
      "                                      product_title  star_rating\n",
      "341                                     Tomb Raider          5.0\n",
      "452            Red Dead Redemption Game of the Year          5.0\n",
      "1908                          Batman Arkham Origins          3.0\n",
      "2008                               Assassin's Creed          4.0\n",
      "2185                             Grand Theft Auto V          5.0\n",
      "3075                 Call of Duty 4: Modern Warfare          5.0\n",
      "3187      Call of Duty: Modern Warfare 3 - Xbox 360          5.0\n",
      "4160                 Call of Duty: Modern Warfare 2          5.0\n",
      "4183                             Assassins Creed II          5.0\n",
      "4242                  Kingdoms of Amalur: Reckoning          5.0\n",
      "4261                                   Dragon Age 2          5.0\n",
      "4356  The Elder Scrolls V: Skyrim Legendary Edition          2.0\n",
      "\n",
      "Recommendations:\n",
      "Mass Effect 2\n",
      "Assassins Creed II\n",
      "The Last of Us\n",
      "LEGO: Marvel\n",
      "Need for Speed: Hot Pursuit\n",
      "Borderlands 2\n",
      "Assassin's Creed: Brotherhood\n",
      "God of War: Ascension\n",
      "Call of Duty: Black Ops - Xbox 360\n",
      "Dishonored\n",
      "Call of Duty: Modern Warfare 2\n",
      "BioShock Infinite\n",
      "Red Dead Redemption\n",
      "Elder Scrolls V: Skyrim\n",
      "Tomb Raider\n"
     ]
    }
   ],
   "source": [
    "# Best User-User CF Model - \"UU - KNNwithMeans - Pearson\"\n",
    "best_uu_algo = KNNWithMeans(k=12, sim_options={'name': 'pearson', 'user_based': True})\n",
    "best_uu_algo.fit(trainset)\n",
    "\n",
    "# Than predict ratings for all pairs (u, i) that are NOT in the training set\n",
    "train_pred_set = trainset.build_anti_testset()\n",
    "train_preds = best_uu_algo.test(train_pred_set)\n",
    "\n",
    "# Make predictions\n",
    "top_n = get_n_recommendations(train_preds)\n",
    "\n",
    "# Print predicitons\n",
    "print_customer_prof(train_df, test_df, top_n)\n"
   ]
  },
  {
   "cell_type": "code",
   "execution_count": 34,
   "metadata": {},
   "outputs": [
    {
     "name": "stdout",
     "output_type": "stream",
     "text": [
      "RMSE (UU - KNNwithMeans - Pearson): 1.325670229485958\n",
      "Precision (UU - KNNwithMeans - Pearson): 0.015023837134389898\n",
      "MAP (UU - KNNwithMeans - Pearson): 0.16031397251061497\n"
     ]
    }
   ],
   "source": [
    "test_pred = best_uu_algo.test(testset)\n",
    "rmse = accuracy.rmse(test_pred, verbose=False)\n",
    "print(\"RMSE (UU - KNNwithMeans - Pearson):\", rmse)\n",
    "\n",
    "prec = evaluate_precision(top_n, testset, threshold=4.0)\n",
    "print('Precision (UU - KNNwithMeans - Pearson):', prec)\n",
    "\n",
    "mean_ap = evaluate_map(top_n, testset, threshold=4.0)\n",
    "print('MAP (UU - KNNwithMeans - Pearson):', mean_ap)\n"
   ]
  },
  {
   "cell_type": "code",
   "execution_count": 35,
   "metadata": {
    "scrolled": false
   },
   "outputs": [
    {
     "name": "stdout",
     "output_type": "stream",
     "text": [
      "Computing the pearson similarity matrix...\n",
      "Done computing similarity matrix.\n"
     ]
    },
    {
     "data": {
      "text/html": [
       "<div>\n",
       "<style scoped>\n",
       "    .dataframe tbody tr th:only-of-type {\n",
       "        vertical-align: middle;\n",
       "    }\n",
       "\n",
       "    .dataframe tbody tr th {\n",
       "        vertical-align: top;\n",
       "    }\n",
       "\n",
       "    .dataframe thead th {\n",
       "        text-align: right;\n",
       "    }\n",
       "</style>\n",
       "<table border=\"1\" class=\"dataframe\">\n",
       "  <thead>\n",
       "    <tr style=\"text-align: right;\">\n",
       "      <th></th>\n",
       "      <th>items</th>\n",
       "      <th>rating</th>\n",
       "    </tr>\n",
       "  </thead>\n",
       "  <tbody>\n",
       "    <tr>\n",
       "      <th>0</th>\n",
       "      <td>Battlefield 4</td>\n",
       "      <td>5</td>\n",
       "    </tr>\n",
       "    <tr>\n",
       "      <th>1</th>\n",
       "      <td>Far Cry 3</td>\n",
       "      <td>5</td>\n",
       "    </tr>\n",
       "    <tr>\n",
       "      <th>142</th>\n",
       "      <td>Mario Kart DS</td>\n",
       "      <td>5</td>\n",
       "    </tr>\n",
       "    <tr>\n",
       "      <th>143</th>\n",
       "      <td>Mario Kart: Double Dash</td>\n",
       "      <td>5</td>\n",
       "    </tr>\n",
       "    <tr>\n",
       "      <th>144</th>\n",
       "      <td>Super Smash Bros. Brawl</td>\n",
       "      <td>5</td>\n",
       "    </tr>\n",
       "    <tr>\n",
       "      <th>145</th>\n",
       "      <td>Super Mario Galaxy (Nintendo Selects)</td>\n",
       "      <td>5</td>\n",
       "    </tr>\n",
       "    <tr>\n",
       "      <th>146</th>\n",
       "      <td>Super Mario 64</td>\n",
       "      <td>5</td>\n",
       "    </tr>\n",
       "    <tr>\n",
       "      <th>147</th>\n",
       "      <td>Uncharted 2: Among Thieves - Playstation 3</td>\n",
       "      <td>5</td>\n",
       "    </tr>\n",
       "    <tr>\n",
       "      <th>148</th>\n",
       "      <td>NBA 2K13</td>\n",
       "      <td>5</td>\n",
       "    </tr>\n",
       "    <tr>\n",
       "      <th>149</th>\n",
       "      <td>Gran Turismo 6</td>\n",
       "      <td>5</td>\n",
       "    </tr>\n",
       "    <tr>\n",
       "      <th>150</th>\n",
       "      <td>Metal Gear Solid: The Legacy Collection</td>\n",
       "      <td>5</td>\n",
       "    </tr>\n",
       "    <tr>\n",
       "      <th>151</th>\n",
       "      <td>Metal Gear Rising Revengeance</td>\n",
       "      <td>5</td>\n",
       "    </tr>\n",
       "    <tr>\n",
       "      <th>152</th>\n",
       "      <td>Gran Turismo 5</td>\n",
       "      <td>5</td>\n",
       "    </tr>\n",
       "    <tr>\n",
       "      <th>153</th>\n",
       "      <td>Gears Of War - Xbox 360</td>\n",
       "      <td>5</td>\n",
       "    </tr>\n",
       "    <tr>\n",
       "      <th>154</th>\n",
       "      <td>Kirby's Epic Yarn</td>\n",
       "      <td>5</td>\n",
       "    </tr>\n",
       "  </tbody>\n",
       "</table>\n",
       "</div>"
      ],
      "text/plain": [
       "                                          items  rating\n",
       "0                                 Battlefield 4       5\n",
       "1                                     Far Cry 3       5\n",
       "142                               Mario Kart DS       5\n",
       "143                     Mario Kart: Double Dash       5\n",
       "144                     Super Smash Bros. Brawl       5\n",
       "145       Super Mario Galaxy (Nintendo Selects)       5\n",
       "146                              Super Mario 64       5\n",
       "147  Uncharted 2: Among Thieves - Playstation 3       5\n",
       "148                                    NBA 2K13       5\n",
       "149                              Gran Turismo 6       5\n",
       "150     Metal Gear Solid: The Legacy Collection       5\n",
       "151               Metal Gear Rising Revengeance       5\n",
       "152                              Gran Turismo 5       5\n",
       "153                     Gears Of War - Xbox 360       5\n",
       "154                           Kirby's Epic Yarn       5"
      ]
     },
     "execution_count": 35,
     "metadata": {},
     "output_type": "execute_result"
    }
   ],
   "source": [
    "new_products = ['Call of Duty: Ghosts', \n",
    "                'Call of Duty: Modern Warfare 2', \n",
    "                'Battlefield 3']\n",
    "\n",
    "recs = new_recommendations(new_products, whole, best_uu_algo)\n",
    "recs.head(15)\n"
   ]
  },
  {
   "cell_type": "code",
   "execution_count": null,
   "metadata": {},
   "outputs": [],
   "source": []
  }
 ],
 "metadata": {
  "kernelspec": {
   "display_name": "Python 3",
   "language": "python",
   "name": "python3"
  },
  "language_info": {
   "codemirror_mode": {
    "name": "ipython",
    "version": 3
   },
   "file_extension": ".py",
   "mimetype": "text/x-python",
   "name": "python",
   "nbconvert_exporter": "python",
   "pygments_lexer": "ipython3",
   "version": "3.6.8"
  }
 },
 "nbformat": 4,
 "nbformat_minor": 2
}
