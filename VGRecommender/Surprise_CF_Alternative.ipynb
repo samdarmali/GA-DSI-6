{
 "cells": [
  {
   "cell_type": "markdown",
   "metadata": {},
   "source": [
    "# Collaborative Filtering with Surprise\n",
    "\n",
    "This notebooks uses the high level Surprise library for user-user and item-item  collaborative filtering."
   ]
  },
  {
   "cell_type": "code",
   "execution_count": 1,
   "metadata": {},
   "outputs": [],
   "source": [
    "# Import standard libraries\n",
    "import numpy as np\n",
    "import math\n",
    "import scipy.stats as stats\n",
    "import seaborn as sns\n",
    "import matplotlib.pyplot as plt\n",
    "import pandas as pd\n",
    "import sqlite3\n",
    "from collections import Counter\n",
    "from time import sleep\n",
    "from collections import defaultdict\n",
    "\n",
    "# Import packages from Surprise\n",
    "from surprise import KNNBasic, KNNWithMeans, KNNBaseline, KNNWithZScore\n",
    "from surprise import Dataset\n",
    "from surprise import accuracy\n",
    "from surprise.model_selection import train_test_split\n",
    "from surprise import Reader\n",
    "from surprise.model_selection import GridSearchCV\n",
    "from surprise.model_selection import cross_validate\n",
    "\n",
    "# Import sklearn packages\n",
    "from sklearn.metrics import confusion_matrix, pairwise_distances, mean_squared_error\n",
    "from sklearn import metrics\n",
    "\n",
    "sns.set_style('whitegrid')\n",
    "\n",
    "%config InlineBackend.figure_format = 'retina'\n",
    "%matplotlib inline\n"
   ]
  },
  {
   "cell_type": "markdown",
   "metadata": {},
   "source": [
    "### Functions"
   ]
  },
  {
   "cell_type": "code",
   "execution_count": 2,
   "metadata": {},
   "outputs": [],
   "source": [
    "def train_test_convert(train_df, test_df):\n",
    "    '''\n",
    "    Function that converts train and test dataframes into\n",
    "    train and test objects that Surpise can read.\n",
    "    \n",
    "    Arguments:\n",
    "    - train_df  :  train dataframe (\"customer_id\", \"product_title\", \"star_rating\") \n",
    "    - test_df   :  test dataframe (\"customer_id\", \"product_title\", \"star_rating\")\n",
    "    \n",
    "    Returns:\n",
    "    - trainset  :  train_df as trainset object\n",
    "    - testset   :  test_df as list of tuples\n",
    "    '''\n",
    "    # Convert train\n",
    "    # A reader is still needed but only the rating_scale param is requiered.\n",
    "    reader = Reader(rating_scale=(1, 5))\n",
    "    # The columns must correspond to user id, item id and ratings (in that order).\n",
    "    data = Dataset.load_from_df(train_df[['customer_id', 'product_title', 'star_rating']], reader)\n",
    "    trainset = data.build_full_trainset()\n",
    "    \n",
    "    # Convert test\n",
    "    test_df['star_rating'] = test_df['star_rating'].astype('float64')\n",
    "    testset = [tuple(x) for x in test_df.values]\n",
    "    \n",
    "    return trainset, testset\n",
    "    "
   ]
  },
  {
   "cell_type": "code",
   "execution_count": 3,
   "metadata": {},
   "outputs": [],
   "source": [
    "def plot_rmse(k_range, trainset, testset, algorithm='KNNWithMeans', sim_options={}):\n",
    "    '''\n",
    "    Function which takes in a range of K nearest neighbors values.\n",
    "    Calculates the RMSE on train and test for each K and plots this.\n",
    "    \n",
    "    Arguments:\n",
    "    - k_range    :  range of k-nearest-neighbors to try\n",
    "    - trainset   :  trainset as trainset object\n",
    "    - testset    :  testset as list of tuples\n",
    "    - algorithm  :  type of algorithm\n",
    "    \n",
    "    Returns:\n",
    "    - scores_df  :  dataframe of rmse at each k\n",
    "    '''\n",
    "    \n",
    "    scores_dict = {'k': [], 'test_rmse': []}\n",
    "    \n",
    "    for k in k_range:\n",
    "        if algorithm == 'KNNBasic':\n",
    "            algo = KNNBasic(k=k, sim_options=sim_options, verbose=False)\n",
    "        elif algorithm == 'KNNWithMeans':\n",
    "            algo = KNNWithMeans(k=k, sim_options=sim_options, verbose=False)\n",
    "        elif algorithm == 'KNNBaseline':\n",
    "            algo = KNNBaseline(k=k, sim_options=sim_options, verbose=False)\n",
    "        elif algorithm == 'KNNWithZScore':\n",
    "            algo = KNNWithZScore(k=k, sim_options=sim_options, verbose=False)\n",
    "            \n",
    "        algo.fit(trainset)\n",
    "\n",
    "        test_pred = algo.test(testset)\n",
    "        test_rmse = accuracy.rmse(test_pred, verbose=False)\n",
    "        \n",
    "        scores_dict['k'].append(k)\n",
    "        scores_dict['test_rmse'].append(test_rmse)\n",
    "    \n",
    "    scores_df = pd.DataFrame(scores_dict)\n",
    "    \n",
    "    plt.figure(figsize=(10,7));\n",
    "    plt.plot(scores_df['k'], scores_df['test_rmse']);\n",
    "    plt.title('RMSE for Different Values of K', fontsize=15);\n",
    "    plt.xlabel('K');\n",
    "    plt.ylabel('RMSE');\n",
    "    \n",
    "    return scores_df\n",
    "        "
   ]
  },
  {
   "cell_type": "code",
   "execution_count": 4,
   "metadata": {},
   "outputs": [],
   "source": [
    "def get_n_recommendations(predictions, n=15):\n",
    "    '''\n",
    "    Return the top-n recommendations for each user from a set of predictions.\n",
    "\n",
    "    Arguments:\n",
    "    - predictions  :  list of prediction objects, returned by the algorithm (algo).\n",
    "    - n            :  Number of recommendations to output for each user.\n",
    "\n",
    "    Returns:\n",
    "    - top_n        :  A dictionary where keys are user ids and values are lists of tuples of size n.\n",
    "    '''\n",
    "    \n",
    "    # First map the predictions to each user.\n",
    "    top_n = defaultdict(list)\n",
    "    for uid, iid, true_r, est, _ in predictions:\n",
    "        top_n[uid].append((iid, est))\n",
    "\n",
    "    # Then sort the predictions for each user and retrieve the k highest ones.\n",
    "    for uid, user_ratings in top_n.items():\n",
    "        user_ratings.sort(key=lambda x: x[1], reverse=True)\n",
    "        top_n[uid] = user_ratings[:n]\n",
    "\n",
    "    return top_n\n"
   ]
  },
  {
   "cell_type": "code",
   "execution_count": 5,
   "metadata": {
    "scrolled": false
   },
   "outputs": [],
   "source": [
    "def print_customer_prof(train_df, test_df, top_n, customer=10345078):\n",
    "    '''\n",
    "    Function which looks at an example of a user's ratings and recommendations made\n",
    "    \n",
    "    Arguments:\n",
    "    - customer  :  customer id\n",
    "    - train_df  :  train dataframe\n",
    "    - test_df   :  test dataframe\n",
    "    - top_n     :  dictionary of predictions \n",
    "    \n",
    "    Prints:\n",
    "    - customer's pre-2014 ratings\n",
    "    - customer's post-2014 ratings\n",
    "    - recommendations\n",
    "    '''\n",
    "\n",
    "    print('Pre-2014 selections (customer id - {}):'.format(customer))\n",
    "    print(train_df[train_df['customer_id']==customer][['product_title','star_rating']])\n",
    "    \n",
    "    print('\\nPost-2014 selections (customer id - {}):'.format(customer))\n",
    "    print(test_df[test_df['customer_id']==customer][['product_title','star_rating']])\n",
    "    \n",
    "    print('\\nRecommendations:')\n",
    "    for i in top_n[customer]:\n",
    "        print(i[0])"
   ]
  },
  {
   "cell_type": "code",
   "execution_count": 6,
   "metadata": {},
   "outputs": [],
   "source": [
    "def evaluate_precision(top_n_recs, testset, threshold=4.0):\n",
    "    '''\n",
    "    Function which calculates the average recall score of the test set.\n",
    "    Recall here is defined as the number of recommendations the user actually liked in the test set.\n",
    "    \n",
    "    Arguments:\n",
    "    - top_n_recs  :  dictionary of top N predictions for all users\n",
    "    - testset     :  test_df as list of tuples \n",
    "    - threshold   :  what is considered a like by a customer\n",
    "    \n",
    "    Returns:\n",
    "    - ave_recall  :  average recall score across all test users\n",
    "    '''\n",
    "    \n",
    "    # Convert testset into dictionary with user as key and items they rated as values\n",
    "    test_dict = defaultdict(list)\n",
    "    for uid, iid, r in testset:\n",
    "        test_dict[uid].append((iid, r))\n",
    "    \n",
    "    hit_list = []\n",
    "    for user, ratings in test_dict.items():\n",
    "\n",
    "        actual_liked = [i for i, r in ratings if r >= threshold]\n",
    "        preds = [i[0] for i in top_n_recs[user]]\n",
    "\n",
    "        hits = (set(actual_liked) & set(preds))\n",
    "\n",
    "        hit_rate = len(hits)/len(preds)\n",
    "        hit_list.append(hit_rate)\n",
    "    \n",
    "    ave_recall = np.mean(hit_list)\n",
    "    \n",
    "    return ave_recall"
   ]
  },
  {
   "cell_type": "code",
   "execution_count": 7,
   "metadata": {},
   "outputs": [],
   "source": [
    "def evaluate_map(top_n_recs, testset, threshold=4.0):\n",
    "    '''\n",
    "    Function which calculates the mean average precision (MAP) for each user and returns the mean of these values\n",
    "    \n",
    "    Arguments:\n",
    "    - top_n_recs  :  dictionary of top N predictions for all users\n",
    "    - testset     :  test_df as list of tuples \n",
    "    - threshold   :  what is considered a like by a customer\n",
    "    \n",
    "    Returns:\n",
    "    - mean_map  :  mean MAP across all users\n",
    "    '''\n",
    "    \n",
    "    # Convert testset into dictionary with user as key and items they rated as values\n",
    "    test_dict = defaultdict(list)\n",
    "    for uid, iid, r in testset:\n",
    "        test_dict[uid].append((iid, r))\n",
    "    \n",
    "    aps = []\n",
    "    for user, ratings in test_dict.items():\n",
    "\n",
    "        actual_liked = [i for i, r in ratings if r >= threshold]\n",
    "        recommendations = [i[0] for i in top_n_recs[user]]\n",
    "        \n",
    "        precisions = []\n",
    "        recalls = []\n",
    "        for i, rec in enumerate(recommendations):\n",
    "            \n",
    "            hits = (set(actual_liked) & set(recommendations[:i+1]))\n",
    "            prec = len(hits)/(i+1)\n",
    "            \n",
    "            if len(hits) >= 1:\n",
    "                change_recall = 1/len(actual_liked)\n",
    "            else:\n",
    "                change_recall = 0\n",
    "            \n",
    "            precisions.append(prec)\n",
    "            recalls.append(change_recall)\n",
    "\n",
    "        ap = np.sum([prec * chg_rec for prec, chg_rec in zip(precisions, recalls)])\n",
    "        aps.append(ap)\n",
    "    \n",
    "    mean_map = np.mean(aps)\n",
    "    \n",
    "    return mean_map"
   ]
  },
  {
   "cell_type": "code",
   "execution_count": 8,
   "metadata": {},
   "outputs": [],
   "source": [
    "def new_recommendations(new_products, orig_data, algo):\n",
    "    '''\n",
    "    Function that takes in a list of new products and returns recommendations.\n",
    "    \n",
    "    Arguments:\n",
    "    - new_products   :  list of products chosen by new user\n",
    "    - orig_data      :  original dataframe of users, items and ratings\n",
    "    \n",
    "    Returns:\n",
    "    - recs_df        :  dataframe of recommendations\n",
    "    '''\n",
    "    # Append new customer to data\n",
    "    new_data = pd.DataFrame({'customer_id':[1]*len(new_products), \n",
    "                             'product_title':new_products, \n",
    "                             'star_rating':[5]*len(new_products)})\n",
    "    full_data = pd.concat([new_data, orig_data]).reset_index(drop=True)\n",
    "    \n",
    "    # A reader is still needed but only the rating_scale param is requiered.\n",
    "    reader = Reader(rating_scale=(1, 5))\n",
    "\n",
    "    # The columns must correspond to user id, item id and ratings (in that order)\n",
    "    data = Dataset.load_from_df(full_data[['customer_id', 'product_title', 'star_rating']], reader)\n",
    "    \n",
    "    # Convert to surprise.trainset.Trainset object\n",
    "    trainset = data.build_full_trainset()\n",
    "    \n",
    "    # Train model\n",
    "    algo.fit(trainset)\n",
    "    \n",
    "    # Recommendations dictionary to convert into datframe\n",
    "    recommendations = {'items': [], 'rating': []}\n",
    "    \n",
    "    for item in orig_data['product_title'].unique():\n",
    "        rating = algo.predict(1, item, verbose=False)[3]\n",
    "        recommendations['items'].append(item)\n",
    "        recommendations['rating'].append(rating)\n",
    "    \n",
    "    recs_df = pd.DataFrame(recommendations).sort_values(by='rating', ascending=False)\n",
    "    \n",
    "    return recs_df"
   ]
  },
  {
   "cell_type": "code",
   "execution_count": 9,
   "metadata": {},
   "outputs": [],
   "source": [
    "def scores_df(scores):\n",
    "    '''\n",
    "    Function which takes in a list of models and returns a dataframe of the models and their scores.\n",
    "    \n",
    "    Arguments:\n",
    "    - scores   :  list of models and their scores\n",
    "    \n",
    "    Returns:\n",
    "    - df       :  dataframe of models and their scores\n",
    "    '''\n",
    "    scores_dict = {'Model': [],\n",
    "                  'RMSE': [],\n",
    "                  'Unranked Precision': [],\n",
    "                  'MAP': []}\n",
    "    \n",
    "    for score in scores:\n",
    "        # Update dictionary with model and results\n",
    "        scores_dict['Model'].append(score['Model'])\n",
    "        scores_dict['RMSE'].append(score['RMSE'])\n",
    "        scores_dict['Unranked Precision'].append(score['Unranked Precision'])\n",
    "        scores_dict['MAP'].append(score['MAP'])\n",
    "    \n",
    "    df = pd.DataFrame(scores_dict)\n",
    "            \n",
    "    return df"
   ]
  },
  {
   "cell_type": "markdown",
   "metadata": {},
   "source": [
    "### Load in Data"
   ]
  },
  {
   "cell_type": "code",
   "execution_count": 10,
   "metadata": {},
   "outputs": [
    {
     "name": "stdout",
     "output_type": "stream",
     "text": [
      "(33514, 3)\n"
     ]
    },
    {
     "data": {
      "text/html": [
       "<div>\n",
       "<style scoped>\n",
       "    .dataframe tbody tr th:only-of-type {\n",
       "        vertical-align: middle;\n",
       "    }\n",
       "\n",
       "    .dataframe tbody tr th {\n",
       "        vertical-align: top;\n",
       "    }\n",
       "\n",
       "    .dataframe thead th {\n",
       "        text-align: right;\n",
       "    }\n",
       "</style>\n",
       "<table border=\"1\" class=\"dataframe\">\n",
       "  <thead>\n",
       "    <tr style=\"text-align: right;\">\n",
       "      <th></th>\n",
       "      <th>customer_id</th>\n",
       "      <th>product_title</th>\n",
       "      <th>star_rating</th>\n",
       "    </tr>\n",
       "  </thead>\n",
       "  <tbody>\n",
       "    <tr>\n",
       "      <th>0</th>\n",
       "      <td>52125818</td>\n",
       "      <td>Battlefield 4</td>\n",
       "      <td>2</td>\n",
       "    </tr>\n",
       "    <tr>\n",
       "      <th>1</th>\n",
       "      <td>11725302</td>\n",
       "      <td>Battlefield 4</td>\n",
       "      <td>4</td>\n",
       "    </tr>\n",
       "    <tr>\n",
       "      <th>2</th>\n",
       "      <td>17479613</td>\n",
       "      <td>Battlefield 4</td>\n",
       "      <td>4</td>\n",
       "    </tr>\n",
       "    <tr>\n",
       "      <th>3</th>\n",
       "      <td>14460182</td>\n",
       "      <td>Battlefield 4</td>\n",
       "      <td>4</td>\n",
       "    </tr>\n",
       "    <tr>\n",
       "      <th>4</th>\n",
       "      <td>38739728</td>\n",
       "      <td>Battlefield 4</td>\n",
       "      <td>3</td>\n",
       "    </tr>\n",
       "  </tbody>\n",
       "</table>\n",
       "</div>"
      ],
      "text/plain": [
       "   customer_id  product_title  star_rating\n",
       "0     52125818  Battlefield 4            2\n",
       "1     11725302  Battlefield 4            4\n",
       "2     17479613  Battlefield 4            4\n",
       "3     14460182  Battlefield 4            4\n",
       "4     38739728  Battlefield 4            3"
      ]
     },
     "execution_count": 10,
     "metadata": {},
     "output_type": "execute_result"
    }
   ],
   "source": [
    "# Read in Data\n",
    "sqlite_db = 'datasets/amzn_vg_clean.db'\n",
    "conn = sqlite3.connect(sqlite_db) \n",
    "\n",
    "query = '''\n",
    "SELECT \"customer_id\", \"product_title\", \"star_rating\"\n",
    "FROM full_dataset\n",
    "'''\n",
    "\n",
    "whole = pd.read_sql(query, con=conn)\n",
    "print(whole.shape)\n",
    "whole.head()"
   ]
  },
  {
   "cell_type": "code",
   "execution_count": 11,
   "metadata": {},
   "outputs": [
    {
     "name": "stdout",
     "output_type": "stream",
     "text": [
      "13289\n",
      "224\n"
     ]
    }
   ],
   "source": [
    "# See number of unique users and products\n",
    "print(len(whole['customer_id'].unique()))\n",
    "print(len(whole['product_title'].unique()))"
   ]
  },
  {
   "cell_type": "code",
   "execution_count": 12,
   "metadata": {},
   "outputs": [
    {
     "name": "stdout",
     "output_type": "stream",
     "text": [
      "(28830, 3)\n",
      "(4684, 3)\n"
     ]
    }
   ],
   "source": [
    "# Read in train and test sets\n",
    "sqlite_db = 'datasets/amzn_vg_clean.db'\n",
    "conn = sqlite3.connect(sqlite_db) \n",
    "\n",
    "train_query = '''\n",
    "SELECT \"customer_id\", \"product_title\", \"star_rating\"\n",
    "FROM trainset\n",
    "'''\n",
    "test_query = '''\n",
    "SELECT \"customer_id\", \"product_title\", \"star_rating\"\n",
    "FROM testset\n",
    "'''\n",
    "\n",
    "train_df = pd.read_sql(train_query, con=conn)\n",
    "test_df = pd.read_sql(test_query, con=conn)\n",
    "print(train_df.shape)\n",
    "print(test_df.shape)\n"
   ]
  },
  {
   "cell_type": "code",
   "execution_count": 13,
   "metadata": {},
   "outputs": [],
   "source": [
    "# Split train and test\n",
    "trainset, testset = train_test_convert(train_df, test_df)"
   ]
  },
  {
   "cell_type": "markdown",
   "metadata": {},
   "source": [
    "<br>\n",
    "## 1.A. User-User Collaborative Filtering (KNNBasic - MSD)\n",
    "\n",
    "A basic collaborative filtering algorithm.\n",
    "\n",
    "$${\\normalsize \\hat{r}_{ui} = \\frac{\\sum\\limits_{v \\in N^k_i(u)} \\text{sim}(u, v) \\cdot r_{vi}}{\\sum\\limits_{v \\in N^k_i(u)} \\text{sim}(u, v)} }$$\n",
    "\n",
    "Where:\n",
    "<br>\n",
    "$\\hat{r}_{ui}$ - Prediction for user $u$ and item $i$.<br>\n",
    "${v \\in N^k_i(u)}$ - $v$ users in $k$ neighborhood most similar to user $u$ for item $i$.<br>\n",
    "$\\text{sim}(u, v)$ - **MSD** similarity between user $u$ and $v$.<br>\n",
    "$r_{vi}$ - Rating for user $v$ and item $i$.<br>"
   ]
  },
  {
   "cell_type": "markdown",
   "metadata": {},
   "source": [
    "### 1.A.1. Train Model"
   ]
  },
  {
   "cell_type": "code",
   "execution_count": 14,
   "metadata": {
    "scrolled": false
   },
   "outputs": [
    {
     "name": "stdout",
     "output_type": "stream",
     "text": [
      "Computing the msd similarity matrix...\n",
      "Done computing similarity matrix.\n"
     ]
    },
    {
     "data": {
      "text/plain": [
       "<surprise.prediction_algorithms.knns.KNNBasic at 0x1a0d076a90>"
      ]
     },
     "execution_count": 14,
     "metadata": {},
     "output_type": "execute_result"
    }
   ],
   "source": [
    "# Use user_based true/false to switch between user-based or item-based collaborative filtering\n",
    "# Here we will use user based collaborative filtering, so True.\n",
    "\n",
    "algo = KNNBasic(k=50, sim_options={'name': 'msd', 'user_based': True})\n",
    "algo.fit(trainset)\n"
   ]
  },
  {
   "cell_type": "markdown",
   "metadata": {},
   "source": [
    "### 1.A.2. Evaluate Model (RMSE)"
   ]
  },
  {
   "cell_type": "code",
   "execution_count": 15,
   "metadata": {},
   "outputs": [
    {
     "name": "stdout",
     "output_type": "stream",
     "text": [
      "User-based (KNNBasic - MSD) Model : Test Set\n",
      "RMSE: 1.2800\n"
     ]
    }
   ],
   "source": [
    "# Evaluate test set\n",
    "print(\"User-based (KNNBasic - MSD) Model : Test Set\")\n",
    "test_pred = algo.test(testset)\n",
    "rmse = accuracy.rmse(test_pred, verbose=True)"
   ]
  },
  {
   "cell_type": "markdown",
   "metadata": {},
   "source": [
    "**Search Best K based on RMSE**"
   ]
  },
  {
   "cell_type": "code",
   "execution_count": 16,
   "metadata": {},
   "outputs": [
    {
     "data": {
      "image/png": "[encoded data removed]",
      "text/plain": [
       "<Figure size 720x504 with 1 Axes>"
      ]
     },
     "metadata": {
      "image/png": {
       "height": 441,
       "width": 614
      }
     },
     "output_type": "display_data"
    }
   ],
   "source": [
    "scores = plot_rmse(range(1,100), \n",
    "                   trainset, \n",
    "                   testset, \n",
    "                   algorithm='KNNBasic', \n",
    "                   sim_options={'name': 'msd', 'user_based': True})"
   ]
  },
  {
   "cell_type": "code",
   "execution_count": 17,
   "metadata": {
    "scrolled": true
   },
   "outputs": [
    {
     "data": {
      "text/html": [
       "<div>\n",
       "<style scoped>\n",
       "    .dataframe tbody tr th:only-of-type {\n",
       "        vertical-align: middle;\n",
       "    }\n",
       "\n",
       "    .dataframe tbody tr th {\n",
       "        vertical-align: top;\n",
       "    }\n",
       "\n",
       "    .dataframe thead th {\n",
       "        text-align: right;\n",
       "    }\n",
       "</style>\n",
       "<table border=\"1\" class=\"dataframe\">\n",
       "  <thead>\n",
       "    <tr style=\"text-align: right;\">\n",
       "      <th></th>\n",
       "      <th>k</th>\n",
       "      <th>test_rmse</th>\n",
       "    </tr>\n",
       "  </thead>\n",
       "  <tbody>\n",
       "    <tr>\n",
       "      <th>21</th>\n",
       "      <td>22</td>\n",
       "      <td>1.279143</td>\n",
       "    </tr>\n",
       "    <tr>\n",
       "      <th>20</th>\n",
       "      <td>21</td>\n",
       "      <td>1.279182</td>\n",
       "    </tr>\n",
       "    <tr>\n",
       "      <th>27</th>\n",
       "      <td>28</td>\n",
       "      <td>1.279275</td>\n",
       "    </tr>\n",
       "    <tr>\n",
       "      <th>24</th>\n",
       "      <td>25</td>\n",
       "      <td>1.279286</td>\n",
       "    </tr>\n",
       "    <tr>\n",
       "      <th>15</th>\n",
       "      <td>16</td>\n",
       "      <td>1.279291</td>\n",
       "    </tr>\n",
       "  </tbody>\n",
       "</table>\n",
       "</div>"
      ],
      "text/plain": [
       "     k  test_rmse\n",
       "21  22   1.279143\n",
       "20  21   1.279182\n",
       "27  28   1.279275\n",
       "24  25   1.279286\n",
       "15  16   1.279291"
      ]
     },
     "execution_count": 17,
     "metadata": {},
     "output_type": "execute_result"
    }
   ],
   "source": [
    "# Sort rmse scores and pick value of k that has lowest rmse on the test set\n",
    "scores.sort_values(by='test_rmse', ascending=True, inplace=True)\n",
    "scores.head(5)"
   ]
  },
  {
   "cell_type": "code",
   "execution_count": 18,
   "metadata": {},
   "outputs": [
    {
     "name": "stdout",
     "output_type": "stream",
     "text": [
      "Computing the msd similarity matrix...\n",
      "Done computing similarity matrix.\n"
     ]
    },
    {
     "data": {
      "text/plain": [
       "<surprise.prediction_algorithms.knns.KNNBasic at 0x1a0da2aeb8>"
      ]
     },
     "execution_count": 18,
     "metadata": {},
     "output_type": "execute_result"
    }
   ],
   "source": [
    "# Refit model with best k\n",
    "best_k = scores[:1]['k'].values[0]\n",
    "\n",
    "algo = KNNBasic(k=best_k, sim_options={'name': 'msd', 'user_based': True})\n",
    "algo.fit(trainset)"
   ]
  },
  {
   "cell_type": "markdown",
   "metadata": {},
   "source": [
    "### 1.A.3. Evaluate Model (Recall)"
   ]
  },
  {
   "cell_type": "markdown",
   "metadata": {},
   "source": [
    "**Get Recommendations for Example User**"
   ]
  },
  {
   "cell_type": "code",
   "execution_count": 19,
   "metadata": {},
   "outputs": [],
   "source": [
    "# Than predict ratings for all pairs (u, i) that are NOT in the training set.\n",
    "train_pred_set = trainset.build_anti_testset()\n",
    "train_preds = algo.test(train_pred_set)\n",
    "\n",
    "# Make predictions\n",
    "top_n = get_n_recommendations(train_preds)\n"
   ]
  },
  {
   "cell_type": "code",
   "execution_count": 20,
   "metadata": {},
   "outputs": [
    {
     "name": "stdout",
     "output_type": "stream",
     "text": [
      "Pre-2014 selections (customer id - 10345078):\n",
      "                                        product_title  star_rating\n",
      "1621                            God of War: Ascension            5\n",
      "4031                   Mortal Kombat Komplete Edition            5\n",
      "5094                   Uncharted 3: Drake's Deception            5\n",
      "5568     Batman: Arkham City Game of the Year Edition            5\n",
      "7888                                  Resident Evil 6            5\n",
      "14548      Call of Duty: Black Ops II - PlayStation 3            5\n",
      "16008                      Need for Speed Most Wanted            5\n",
      "17495                                    Dead Space 3            5\n",
      "17997                                   Battlefield 3            5\n",
      "18677                                     Max Payne 3            5\n",
      "19033                   Assassin's Creed: Brotherhood            5\n",
      "19200                            Assassin's Creed III            5\n",
      "22727                                        LA Noire            5\n",
      "23741                                      Dishonored            5\n",
      "23847  Call of Duty: Modern Warfare 3 - Playstation 3            5\n",
      "27978                                  FIFA Soccer 13            5\n",
      "28223                      Medal of Honor: Warfighter            5\n",
      "\n",
      "Post-2014 selections (customer id - 10345078):\n",
      "                              product_title  star_rating\n",
      "97                            Battlefield 4          5.0\n",
      "694                   Batman Arkham Origins          5.0\n",
      "910                Injustice: Gods Among Us          5.0\n",
      "1188                      BEYOND: Two Souls          5.0\n",
      "1358                         The Last of Us          5.0\n",
      "1486                     Assassin's Creed 4          5.0\n",
      "2731  Killzone: Shadow Fall (PlayStation 4)          5.0\n",
      "2831                   Call of Duty: Ghosts          5.0\n",
      "2962               Injustice: Gods Among Us          5.0\n",
      "3059  Assassin's Creed Ezio Trilogy Edition          5.0\n",
      "\n",
      "Recommendations:\n",
      "Super Mario Galaxy\n",
      "Batman Arkham City\n",
      "Super Mario 64 DS\n",
      "Luigi's Mansion - Gamecube\n",
      "Chrono Cross - PlayStation\n",
      "Half-Life 2 - PC\n",
      "Mario Kart DS\n",
      "Super Mario 64\n",
      "The Elder Scrolls Anthology\n",
      "Gran Turismo 3 A-spec\n",
      "Pokemon X\n",
      "Dance Central 3\n",
      "The Hip Hop Dance Experience\n",
      "The Legend of Zelda: Ocarina of Time\n",
      "The Legend of Zelda: Majora's Mask\n"
     ]
    }
   ],
   "source": [
    "print_customer_prof(train_df, test_df, top_n)"
   ]
  },
  {
   "cell_type": "code",
   "execution_count": 21,
   "metadata": {
    "scrolled": true
   },
   "outputs": [
    {
     "name": "stdout",
     "output_type": "stream",
     "text": [
      "Precision (UU - KNNBasic - MSD): 0.005952841128720527\n"
     ]
    }
   ],
   "source": [
    "prec = evaluate_precision(top_n, testset, threshold=4.0)\n",
    "print('Precision (UU - KNNBasic - MSD):', prec)\n"
   ]
  },
  {
   "cell_type": "code",
   "execution_count": 22,
   "metadata": {},
   "outputs": [
    {
     "name": "stdout",
     "output_type": "stream",
     "text": [
      "MAP (UU - KNNBasic - MSD): 0.05682269324414458\n"
     ]
    }
   ],
   "source": [
    "mean_ap = evaluate_map(top_n, testset, threshold=4.0)\n",
    "print('MAP (UU - KNNBasic - MSD):', mean_ap)\n"
   ]
  },
  {
   "cell_type": "code",
   "execution_count": 23,
   "metadata": {},
   "outputs": [],
   "source": [
    "algo_1A = {'Model': 'UU - KNNBasic - MSD',\n",
    "           'RMSE': rmse,\n",
    "           'Unranked Precision': prec,\n",
    "           'MAP': mean_ap}"
   ]
  },
  {
   "cell_type": "markdown",
   "metadata": {},
   "source": [
    "**Search Best K based on Recall**"
   ]
  },
  {
   "cell_type": "code",
   "execution_count": 24,
   "metadata": {},
   "outputs": [],
   "source": [
    "# # HAHAHA\n",
    "# plot_recall(range(10,61,10), \n",
    "#             trainset, \n",
    "#             testset,\n",
    "#             algorithm='KNNBasic',\n",
    "#             sim_options={'name': 'cosine', 'user_based': True})"
   ]
  },
  {
   "cell_type": "markdown",
   "metadata": {},
   "source": [
    "### 1.A.4. Make Recommendations for New Customer"
   ]
  },
  {
   "cell_type": "code",
   "execution_count": 25,
   "metadata": {
    "scrolled": false
   },
   "outputs": [
    {
     "name": "stdout",
     "output_type": "stream",
     "text": [
      "Computing the msd similarity matrix...\n",
      "Done computing similarity matrix.\n"
     ]
    },
    {
     "data": {
      "text/html": [
       "<div>\n",
       "<style scoped>\n",
       "    .dataframe tbody tr th:only-of-type {\n",
       "        vertical-align: middle;\n",
       "    }\n",
       "\n",
       "    .dataframe tbody tr th {\n",
       "        vertical-align: top;\n",
       "    }\n",
       "\n",
       "    .dataframe thead th {\n",
       "        text-align: right;\n",
       "    }\n",
       "</style>\n",
       "<table border=\"1\" class=\"dataframe\">\n",
       "  <thead>\n",
       "    <tr style=\"text-align: right;\">\n",
       "      <th></th>\n",
       "      <th>items</th>\n",
       "      <th>rating</th>\n",
       "    </tr>\n",
       "  </thead>\n",
       "  <tbody>\n",
       "    <tr>\n",
       "      <th>216</th>\n",
       "      <td>Civilization 3</td>\n",
       "      <td>5.0</td>\n",
       "    </tr>\n",
       "    <tr>\n",
       "      <th>128</th>\n",
       "      <td>Lego Star Wars: The Complete Saga</td>\n",
       "      <td>5.0</td>\n",
       "    </tr>\n",
       "    <tr>\n",
       "      <th>219</th>\n",
       "      <td>Roller Coaster Tycoon</td>\n",
       "      <td>5.0</td>\n",
       "    </tr>\n",
       "    <tr>\n",
       "      <th>146</th>\n",
       "      <td>Super Mario 64</td>\n",
       "      <td>5.0</td>\n",
       "    </tr>\n",
       "    <tr>\n",
       "      <th>27</th>\n",
       "      <td>Call of Duty: Ghosts</td>\n",
       "      <td>5.0</td>\n",
       "    </tr>\n",
       "    <tr>\n",
       "      <th>143</th>\n",
       "      <td>Mario Kart: Double Dash</td>\n",
       "      <td>5.0</td>\n",
       "    </tr>\n",
       "    <tr>\n",
       "      <th>218</th>\n",
       "      <td>Animal Crossing: Wild World</td>\n",
       "      <td>5.0</td>\n",
       "    </tr>\n",
       "    <tr>\n",
       "      <th>140</th>\n",
       "      <td>Super Smash Bros Melee</td>\n",
       "      <td>5.0</td>\n",
       "    </tr>\n",
       "    <tr>\n",
       "      <th>38</th>\n",
       "      <td>Kingdom Hearts 3D Dream Drop Distance</td>\n",
       "      <td>5.0</td>\n",
       "    </tr>\n",
       "    <tr>\n",
       "      <th>160</th>\n",
       "      <td>The Elder Scrolls Anthology</td>\n",
       "      <td>5.0</td>\n",
       "    </tr>\n",
       "  </tbody>\n",
       "</table>\n",
       "</div>"
      ],
      "text/plain": [
       "                                     items  rating\n",
       "216                         Civilization 3     5.0\n",
       "128      Lego Star Wars: The Complete Saga     5.0\n",
       "219                  Roller Coaster Tycoon     5.0\n",
       "146                         Super Mario 64     5.0\n",
       "27                    Call of Duty: Ghosts     5.0\n",
       "143                Mario Kart: Double Dash     5.0\n",
       "218            Animal Crossing: Wild World     5.0\n",
       "140                 Super Smash Bros Melee     5.0\n",
       "38   Kingdom Hearts 3D Dream Drop Distance     5.0\n",
       "160            The Elder Scrolls Anthology     5.0"
      ]
     },
     "execution_count": 25,
     "metadata": {},
     "output_type": "execute_result"
    }
   ],
   "source": [
    "new_products = ['Call of Duty: Ghosts', \n",
    "                'Call of Duty: Modern Warfare 2', \n",
    "                'Battlefield 3']\n",
    "\n",
    "recs = new_recommendations(new_products, whole, algo)\n",
    "recs.head(10)"
   ]
  },
  {
   "cell_type": "markdown",
   "metadata": {},
   "source": [
    "<br>\n",
    "\n",
    "## 1.B. User-User Collaborative Filtering (KNNBasic - Pearson-baseline)\n",
    "\n",
    "A basic collaborative filtering algorithm.\n",
    "\n",
    "$${\\normalsize \\hat{r}_{ui} = \\frac{\\sum\\limits_{v \\in N^k_i(u)} \\text{sim}(u, v) \\cdot r_{vi}}{\\sum\\limits_{v \\in N^k_i(u)} \\text{sim}(u, v)} }$$\n",
    "\n",
    "Where:\n",
    "<br>\n",
    "$\\hat{r}_{ui}$ - Prediction for user $u$ and item $i$.<br>\n",
    "${v \\in N^k_i(u)}$ - $v$ users in $k$ neighborhood most similar to user $u$ for item $i$.<br>\n",
    "$\\text{sim}(u, v)$ - **Pearson-baseline** similarity between user $u$ and $v$.<br>\n",
    "$r_{vi}$ - Rating for user $v$ and item $i$.<br>"
   ]
  },
  {
   "cell_type": "markdown",
   "metadata": {},
   "source": [
    "### 1.B.1. Train Model"
   ]
  },
  {
   "cell_type": "code",
   "execution_count": 26,
   "metadata": {
    "scrolled": false
   },
   "outputs": [
    {
     "name": "stdout",
     "output_type": "stream",
     "text": [
      "Estimating biases using als...\n",
      "Computing the pearson_baseline similarity matrix...\n",
      "Done computing similarity matrix.\n"
     ]
    },
    {
     "data": {
      "text/plain": [
       "<surprise.prediction_algorithms.knns.KNNBasic at 0x1a0e1faa58>"
      ]
     },
     "execution_count": 26,
     "metadata": {},
     "output_type": "execute_result"
    }
   ],
   "source": [
    "# Use user_based true/false to switch between user-based or item-based collaborative filtering\n",
    "# Here we will use user based collaborative filtering, so True.\n",
    "\n",
    "algo = KNNBasic(k=50, sim_options={'name': 'pearson_baseline', 'user_based': True})\n",
    "algo.fit(trainset)\n"
   ]
  },
  {
   "cell_type": "markdown",
   "metadata": {},
   "source": [
    "### 1.B.2. Evaluate Model (RMSE)"
   ]
  },
  {
   "cell_type": "code",
   "execution_count": 27,
   "metadata": {},
   "outputs": [
    {
     "name": "stdout",
     "output_type": "stream",
     "text": [
      "User-based (II - KNNBasic - Pearson-baseline) Model : Test Set\n",
      "RMSE: 1.3093\n"
     ]
    }
   ],
   "source": [
    "# Evaluate test set\n",
    "print(\"User-based (II - KNNBasic - Pearson-baseline) Model : Test Set\")\n",
    "test_pred = algo.test(testset)\n",
    "rmse = accuracy.rmse(test_pred, verbose=True)"
   ]
  },
  {
   "cell_type": "markdown",
   "metadata": {},
   "source": [
    "**Search Best K based on RMSE**"
   ]
  },
  {
   "cell_type": "code",
   "execution_count": 28,
   "metadata": {},
   "outputs": [
    {
     "data": {
      "image/png": "[encoded data removed]",
      "text/plain": [
       "<Figure size 720x504 with 1 Axes>"
      ]
     },
     "metadata": {
      "image/png": {
       "height": 441,
       "width": 614
      }
     },
     "output_type": "display_data"
    }
   ],
   "source": [
    "scores = plot_rmse(range(1,100), \n",
    "                   trainset, \n",
    "                   testset, \n",
    "                   algorithm='KNNBasic', \n",
    "                   sim_options={'name': 'pearson_baseline', 'user_based': True})"
   ]
  },
  {
   "cell_type": "code",
   "execution_count": 29,
   "metadata": {
    "scrolled": true
   },
   "outputs": [
    {
     "data": {
      "text/html": [
       "<div>\n",
       "<style scoped>\n",
       "    .dataframe tbody tr th:only-of-type {\n",
       "        vertical-align: middle;\n",
       "    }\n",
       "\n",
       "    .dataframe tbody tr th {\n",
       "        vertical-align: top;\n",
       "    }\n",
       "\n",
       "    .dataframe thead th {\n",
       "        text-align: right;\n",
       "    }\n",
       "</style>\n",
       "<table border=\"1\" class=\"dataframe\">\n",
       "  <thead>\n",
       "    <tr style=\"text-align: right;\">\n",
       "      <th></th>\n",
       "      <th>k</th>\n",
       "      <th>test_rmse</th>\n",
       "    </tr>\n",
       "  </thead>\n",
       "  <tbody>\n",
       "    <tr>\n",
       "      <th>57</th>\n",
       "      <td>58</td>\n",
       "      <td>1.309336</td>\n",
       "    </tr>\n",
       "    <tr>\n",
       "      <th>59</th>\n",
       "      <td>60</td>\n",
       "      <td>1.309336</td>\n",
       "    </tr>\n",
       "    <tr>\n",
       "      <th>54</th>\n",
       "      <td>55</td>\n",
       "      <td>1.309336</td>\n",
       "    </tr>\n",
       "    <tr>\n",
       "      <th>55</th>\n",
       "      <td>56</td>\n",
       "      <td>1.309336</td>\n",
       "    </tr>\n",
       "    <tr>\n",
       "      <th>58</th>\n",
       "      <td>59</td>\n",
       "      <td>1.309336</td>\n",
       "    </tr>\n",
       "  </tbody>\n",
       "</table>\n",
       "</div>"
      ],
      "text/plain": [
       "     k  test_rmse\n",
       "57  58   1.309336\n",
       "59  60   1.309336\n",
       "54  55   1.309336\n",
       "55  56   1.309336\n",
       "58  59   1.309336"
      ]
     },
     "execution_count": 29,
     "metadata": {},
     "output_type": "execute_result"
    }
   ],
   "source": [
    "# Sort rmse scores and pick value of k that has lowest rmse on the test set\n",
    "scores.sort_values(by='test_rmse', ascending=True, inplace=True)\n",
    "scores.head(5)"
   ]
  },
  {
   "cell_type": "code",
   "execution_count": 30,
   "metadata": {},
   "outputs": [
    {
     "name": "stdout",
     "output_type": "stream",
     "text": [
      "Estimating biases using als...\n",
      "Computing the pearson_baseline similarity matrix...\n",
      "Done computing similarity matrix.\n"
     ]
    },
    {
     "data": {
      "text/plain": [
       "<surprise.prediction_algorithms.knns.KNNBasic at 0x1a0da2af60>"
      ]
     },
     "execution_count": 30,
     "metadata": {},
     "output_type": "execute_result"
    }
   ],
   "source": [
    "# Refit model with best k\n",
    "best_k = scores[:1]['k'].values[0]\n",
    "\n",
    "algo = KNNBasic(k=best_k, sim_options={'name': 'pearson_baseline', 'user_based': True})\n",
    "algo.fit(trainset)"
   ]
  },
  {
   "cell_type": "markdown",
   "metadata": {},
   "source": [
    "### 1.B.3. Evaluate Model (Recall)"
   ]
  },
  {
   "cell_type": "markdown",
   "metadata": {},
   "source": [
    "**Get Recommendations for Example User**"
   ]
  },
  {
   "cell_type": "code",
   "execution_count": 31,
   "metadata": {},
   "outputs": [],
   "source": [
    "# Than predict ratings for all pairs (u, i) that are NOT in the training set.\n",
    "train_pred_set = trainset.build_anti_testset()\n",
    "train_preds = algo.test(train_pred_set)\n",
    "\n",
    "# Make predictions\n",
    "top_n = get_n_recommendations(train_preds)\n"
   ]
  },
  {
   "cell_type": "code",
   "execution_count": 32,
   "metadata": {},
   "outputs": [
    {
     "name": "stdout",
     "output_type": "stream",
     "text": [
      "Pre-2014 selections (customer id - 10345078):\n",
      "                                        product_title  star_rating\n",
      "1621                            God of War: Ascension            5\n",
      "4031                   Mortal Kombat Komplete Edition            5\n",
      "5094                   Uncharted 3: Drake's Deception            5\n",
      "5568     Batman: Arkham City Game of the Year Edition            5\n",
      "7888                                  Resident Evil 6            5\n",
      "14548      Call of Duty: Black Ops II - PlayStation 3            5\n",
      "16008                      Need for Speed Most Wanted            5\n",
      "17495                                    Dead Space 3            5\n",
      "17997                                   Battlefield 3            5\n",
      "18677                                     Max Payne 3            5\n",
      "19033                   Assassin's Creed: Brotherhood            5\n",
      "19200                            Assassin's Creed III            5\n",
      "22727                                        LA Noire            5\n",
      "23741                                      Dishonored            5\n",
      "23847  Call of Duty: Modern Warfare 3 - Playstation 3            5\n",
      "27978                                  FIFA Soccer 13            5\n",
      "28223                      Medal of Honor: Warfighter            5\n",
      "\n",
      "Post-2014 selections (customer id - 10345078):\n",
      "                              product_title  star_rating\n",
      "97                            Battlefield 4          5.0\n",
      "694                   Batman Arkham Origins          5.0\n",
      "910                Injustice: Gods Among Us          5.0\n",
      "1188                      BEYOND: Two Souls          5.0\n",
      "1358                         The Last of Us          5.0\n",
      "1486                     Assassin's Creed 4          5.0\n",
      "2731  Killzone: Shadow Fall (PlayStation 4)          5.0\n",
      "2831                   Call of Duty: Ghosts          5.0\n",
      "2962               Injustice: Gods Among Us          5.0\n",
      "3059  Assassin's Creed Ezio Trilogy Edition          5.0\n",
      "\n",
      "Recommendations:\n",
      "Pokemon Y\n",
      "Red Dead Redemption Game of the Year\n",
      "Zumba Fitness Rush - Xbox 360\n",
      "Forza Motorsport 4\n",
      "Heavy Rain: Director's Cut PS3\n",
      "Knack (PlayStation 4)\n",
      "Kingdom Hearts HD 1.5 Remix\n",
      "Super Mario Galaxy\n",
      "LEGO: Marvel\n",
      "Super Mario 64 DS\n",
      "Shadow of the Colossus\n",
      "The Legend of Zelda: The Wind Waker\n",
      "The Legend of Zelda: A Link Between Worlds 3D Twister Parent\n",
      "Just Dance 3\n",
      "New Super Mario Bros. 2\n"
     ]
    }
   ],
   "source": [
    "print_customer_prof(train_df, test_df, top_n)"
   ]
  },
  {
   "cell_type": "code",
   "execution_count": 33,
   "metadata": {},
   "outputs": [
    {
     "name": "stdout",
     "output_type": "stream",
     "text": [
      "Precision (II - KNNBasic - Pearson-baseline): 0.013039556758149723\n"
     ]
    }
   ],
   "source": [
    "prec = evaluate_precision(top_n, testset, threshold=4.0)\n",
    "print('Precision (II - KNNBasic - Pearson-baseline):', prec)\n"
   ]
  },
  {
   "cell_type": "code",
   "execution_count": 34,
   "metadata": {},
   "outputs": [
    {
     "name": "stdout",
     "output_type": "stream",
     "text": [
      "MAP (II - KNNBasic - Pearson-baseline): 0.14959922794818284\n"
     ]
    }
   ],
   "source": [
    "mean_ap = evaluate_map(top_n, testset, threshold=4.0)\n",
    "print('MAP (II - KNNBasic - Pearson-baseline):', mean_ap)\n"
   ]
  },
  {
   "cell_type": "code",
   "execution_count": 35,
   "metadata": {},
   "outputs": [],
   "source": [
    "algo_1B = {'Model': 'UU - KNNBasic - Pearson-baseline',\n",
    "           'RMSE': rmse,\n",
    "           'Unranked Precision': prec,\n",
    "           'MAP': mean_ap}"
   ]
  },
  {
   "cell_type": "markdown",
   "metadata": {},
   "source": [
    "**Search Best K based on Recall**"
   ]
  },
  {
   "cell_type": "code",
   "execution_count": 36,
   "metadata": {},
   "outputs": [],
   "source": [
    "# # HAHAHA\n",
    "# plot_recall(range(10,61,10), \n",
    "#             trainset, \n",
    "#             testset,\n",
    "#             algorithm='KNNBasic',\n",
    "#             sim_options={'name': 'pearson', 'user_based': True})"
   ]
  },
  {
   "cell_type": "markdown",
   "metadata": {},
   "source": [
    "### 1.B.4. Make Recommendations for New Customer"
   ]
  },
  {
   "cell_type": "code",
   "execution_count": 37,
   "metadata": {
    "scrolled": false
   },
   "outputs": [
    {
     "name": "stdout",
     "output_type": "stream",
     "text": [
      "Estimating biases using als...\n",
      "Computing the pearson_baseline similarity matrix...\n",
      "Done computing similarity matrix.\n"
     ]
    },
    {
     "data": {
      "text/html": [
       "<div>\n",
       "<style scoped>\n",
       "    .dataframe tbody tr th:only-of-type {\n",
       "        vertical-align: middle;\n",
       "    }\n",
       "\n",
       "    .dataframe tbody tr th {\n",
       "        vertical-align: top;\n",
       "    }\n",
       "\n",
       "    .dataframe thead th {\n",
       "        text-align: right;\n",
       "    }\n",
       "</style>\n",
       "<table border=\"1\" class=\"dataframe\">\n",
       "  <thead>\n",
       "    <tr style=\"text-align: right;\">\n",
       "      <th></th>\n",
       "      <th>items</th>\n",
       "      <th>rating</th>\n",
       "    </tr>\n",
       "  </thead>\n",
       "  <tbody>\n",
       "    <tr>\n",
       "      <th>211</th>\n",
       "      <td>Grand Theft Auto III - PS2</td>\n",
       "      <td>5.0</td>\n",
       "    </tr>\n",
       "    <tr>\n",
       "      <th>39</th>\n",
       "      <td>Kingdom Hearts HD 1.5 Remix</td>\n",
       "      <td>5.0</td>\n",
       "    </tr>\n",
       "    <tr>\n",
       "      <th>26</th>\n",
       "      <td>Mortal Kombat Komplete Edition</td>\n",
       "      <td>5.0</td>\n",
       "    </tr>\n",
       "    <tr>\n",
       "      <th>149</th>\n",
       "      <td>Gran Turismo 6</td>\n",
       "      <td>5.0</td>\n",
       "    </tr>\n",
       "    <tr>\n",
       "      <th>64</th>\n",
       "      <td>Assassins Creed II</td>\n",
       "      <td>5.0</td>\n",
       "    </tr>\n",
       "    <tr>\n",
       "      <th>110</th>\n",
       "      <td>Assassin's Creed Ezio Trilogy Edition</td>\n",
       "      <td>5.0</td>\n",
       "    </tr>\n",
       "    <tr>\n",
       "      <th>33</th>\n",
       "      <td>Metal Gear Solid 4: Guns of the Patriots</td>\n",
       "      <td>5.0</td>\n",
       "    </tr>\n",
       "    <tr>\n",
       "      <th>150</th>\n",
       "      <td>Metal Gear Solid: The Legacy Collection</td>\n",
       "      <td>5.0</td>\n",
       "    </tr>\n",
       "    <tr>\n",
       "      <th>35</th>\n",
       "      <td>LittleBigPlanet</td>\n",
       "      <td>5.0</td>\n",
       "    </tr>\n",
       "    <tr>\n",
       "      <th>156</th>\n",
       "      <td>Need for Speed: Hot Pursuit</td>\n",
       "      <td>5.0</td>\n",
       "    </tr>\n",
       "  </tbody>\n",
       "</table>\n",
       "</div>"
      ],
      "text/plain": [
       "                                        items  rating\n",
       "211                Grand Theft Auto III - PS2     5.0\n",
       "39                Kingdom Hearts HD 1.5 Remix     5.0\n",
       "26             Mortal Kombat Komplete Edition     5.0\n",
       "149                            Gran Turismo 6     5.0\n",
       "64                         Assassins Creed II     5.0\n",
       "110     Assassin's Creed Ezio Trilogy Edition     5.0\n",
       "33   Metal Gear Solid 4: Guns of the Patriots     5.0\n",
       "150   Metal Gear Solid: The Legacy Collection     5.0\n",
       "35                            LittleBigPlanet     5.0\n",
       "156               Need for Speed: Hot Pursuit     5.0"
      ]
     },
     "execution_count": 37,
     "metadata": {},
     "output_type": "execute_result"
    }
   ],
   "source": [
    "new_products = ['Call of Duty: Ghosts', \n",
    "                'Call of Duty: Modern Warfare 2', \n",
    "                'Battlefield 3']\n",
    "\n",
    "recs = new_recommendations(new_products, whole, algo)\n",
    "recs.head(10)"
   ]
  },
  {
   "cell_type": "markdown",
   "metadata": {},
   "source": [
    "<br>\n",
    "## 2.A. Item-Item Collaborative Filtering (KNNBasic - MSD)\n",
    "\n",
    "A basic collaborative filtering algorithm.\n",
    "\n",
    "$${\\normalsize \\hat{r}_{ui} = \\frac{\\sum\\limits_{j \\in N^k_u(i)} \\text{sim}(i, j) \\cdot r_{uj}}{\\sum\\limits_{j \\in N^k_u(i)} \\text{sim}(i, j)} }$$\n",
    "\n",
    "Where:\n",
    "<br>\n",
    "$\\hat{r}_{ui}$ - Prediction for user $u$ and item $i$.<br>\n",
    "${j \\in N^k_u(i)}$ - $j$ items in $k$ neighborhood most similar to item $i$ for user $u$.<br>\n",
    "$\\text{sim}(i, j)$ - **MSD** similarity between item $i$ and $j$.<br>\n",
    "$r_{uj}$ - Rating for item $j$ and user $u$.<br>"
   ]
  },
  {
   "cell_type": "markdown",
   "metadata": {},
   "source": [
    "### 2.A.1. Train Model"
   ]
  },
  {
   "cell_type": "code",
   "execution_count": 38,
   "metadata": {
    "scrolled": false
   },
   "outputs": [
    {
     "name": "stdout",
     "output_type": "stream",
     "text": [
      "Computing the msd similarity matrix...\n",
      "Done computing similarity matrix.\n"
     ]
    },
    {
     "data": {
      "text/plain": [
       "<surprise.prediction_algorithms.knns.KNNBasic at 0x1a0e128978>"
      ]
     },
     "execution_count": 38,
     "metadata": {},
     "output_type": "execute_result"
    }
   ],
   "source": [
    "# Use user_based true/false to switch between user-based or item-based collaborative filtering\n",
    "# Here we will use user based collaborative filtering, so True.\n",
    "\n",
    "algo = KNNBasic(k=50, sim_options={'name': 'msd', 'user_based': False})\n",
    "algo.fit(trainset)\n"
   ]
  },
  {
   "cell_type": "markdown",
   "metadata": {},
   "source": [
    "### 2.A.2. Evaluate Model (RMSE)"
   ]
  },
  {
   "cell_type": "code",
   "execution_count": 39,
   "metadata": {},
   "outputs": [
    {
     "name": "stdout",
     "output_type": "stream",
     "text": [
      "Item-based (UU - KNNBasic - MSD) Model : Test Set\n",
      "RMSE: 1.3036\n"
     ]
    }
   ],
   "source": [
    "# Evaluate test set\n",
    "print(\"Item-based (UU - KNNBasic - MSD) Model : Test Set\")\n",
    "test_pred = algo.test(testset)\n",
    "rmse = accuracy.rmse(test_pred, verbose=True)"
   ]
  },
  {
   "cell_type": "markdown",
   "metadata": {},
   "source": [
    "**Search Best K based on RMSE**"
   ]
  },
  {
   "cell_type": "code",
   "execution_count": 40,
   "metadata": {},
   "outputs": [
    {
     "data": {
      "image/png": "[encoded data removed]",
      "text/plain": [
       "<Figure size 720x504 with 1 Axes>"
      ]
     },
     "metadata": {
      "image/png": {
       "height": 441,
       "width": 614
      }
     },
     "output_type": "display_data"
    }
   ],
   "source": [
    "scores = plot_rmse(range(1,100), \n",
    "                   trainset, \n",
    "                   testset, \n",
    "                   algorithm='KNNBasic', \n",
    "                   sim_options={'name': 'msd', 'user_based': False})"
   ]
  },
  {
   "cell_type": "code",
   "execution_count": 41,
   "metadata": {
    "scrolled": true
   },
   "outputs": [
    {
     "data": {
      "text/html": [
       "<div>\n",
       "<style scoped>\n",
       "    .dataframe tbody tr th:only-of-type {\n",
       "        vertical-align: middle;\n",
       "    }\n",
       "\n",
       "    .dataframe tbody tr th {\n",
       "        vertical-align: top;\n",
       "    }\n",
       "\n",
       "    .dataframe thead th {\n",
       "        text-align: right;\n",
       "    }\n",
       "</style>\n",
       "<table border=\"1\" class=\"dataframe\">\n",
       "  <thead>\n",
       "    <tr style=\"text-align: right;\">\n",
       "      <th></th>\n",
       "      <th>k</th>\n",
       "      <th>test_rmse</th>\n",
       "    </tr>\n",
       "  </thead>\n",
       "  <tbody>\n",
       "    <tr>\n",
       "      <th>20</th>\n",
       "      <td>21</td>\n",
       "      <td>1.303584</td>\n",
       "    </tr>\n",
       "    <tr>\n",
       "      <th>22</th>\n",
       "      <td>23</td>\n",
       "      <td>1.303597</td>\n",
       "    </tr>\n",
       "    <tr>\n",
       "      <th>21</th>\n",
       "      <td>22</td>\n",
       "      <td>1.303597</td>\n",
       "    </tr>\n",
       "    <tr>\n",
       "      <th>19</th>\n",
       "      <td>20</td>\n",
       "      <td>1.303602</td>\n",
       "    </tr>\n",
       "    <tr>\n",
       "      <th>23</th>\n",
       "      <td>24</td>\n",
       "      <td>1.303611</td>\n",
       "    </tr>\n",
       "  </tbody>\n",
       "</table>\n",
       "</div>"
      ],
      "text/plain": [
       "     k  test_rmse\n",
       "20  21   1.303584\n",
       "22  23   1.303597\n",
       "21  22   1.303597\n",
       "19  20   1.303602\n",
       "23  24   1.303611"
      ]
     },
     "execution_count": 41,
     "metadata": {},
     "output_type": "execute_result"
    }
   ],
   "source": [
    "# Sort rmse scores and pick value of k that has lowest rmse on the test set\n",
    "scores.sort_values(by='test_rmse', ascending=True, inplace=True)\n",
    "scores.head(5)"
   ]
  },
  {
   "cell_type": "code",
   "execution_count": 42,
   "metadata": {},
   "outputs": [
    {
     "name": "stdout",
     "output_type": "stream",
     "text": [
      "Computing the msd similarity matrix...\n",
      "Done computing similarity matrix.\n"
     ]
    },
    {
     "data": {
      "text/plain": [
       "<surprise.prediction_algorithms.knns.KNNBasic at 0x1a6e0436d8>"
      ]
     },
     "execution_count": 42,
     "metadata": {},
     "output_type": "execute_result"
    }
   ],
   "source": [
    "# Refit model with best k\n",
    "best_k = scores[:1]['k'].values[0]\n",
    "\n",
    "algo = KNNBasic(k=best_k, sim_options={'name': 'msd', 'user_based': False})\n",
    "algo.fit(trainset)"
   ]
  },
  {
   "cell_type": "markdown",
   "metadata": {},
   "source": [
    "### 2.A.3. Evaluate Model (Recall)"
   ]
  },
  {
   "cell_type": "markdown",
   "metadata": {},
   "source": [
    "**Get Recommendations for Example User**"
   ]
  },
  {
   "cell_type": "code",
   "execution_count": 43,
   "metadata": {},
   "outputs": [],
   "source": [
    "# Than predict ratings for all pairs (u, i) that are NOT in the training set.\n",
    "train_pred_set = trainset.build_anti_testset()\n",
    "train_preds = algo.test(train_pred_set)\n",
    "\n",
    "# Make predictions\n",
    "top_n = get_n_recommendations(train_preds)\n"
   ]
  },
  {
   "cell_type": "code",
   "execution_count": 44,
   "metadata": {},
   "outputs": [
    {
     "name": "stdout",
     "output_type": "stream",
     "text": [
      "Pre-2014 selections (customer id - 10345078):\n",
      "                                        product_title  star_rating\n",
      "1621                            God of War: Ascension            5\n",
      "4031                   Mortal Kombat Komplete Edition            5\n",
      "5094                   Uncharted 3: Drake's Deception            5\n",
      "5568     Batman: Arkham City Game of the Year Edition            5\n",
      "7888                                  Resident Evil 6            5\n",
      "14548      Call of Duty: Black Ops II - PlayStation 3            5\n",
      "16008                      Need for Speed Most Wanted            5\n",
      "17495                                    Dead Space 3            5\n",
      "17997                                   Battlefield 3            5\n",
      "18677                                     Max Payne 3            5\n",
      "19033                   Assassin's Creed: Brotherhood            5\n",
      "19200                            Assassin's Creed III            5\n",
      "22727                                        LA Noire            5\n",
      "23741                                      Dishonored            5\n",
      "23847  Call of Duty: Modern Warfare 3 - Playstation 3            5\n",
      "27978                                  FIFA Soccer 13            5\n",
      "28223                      Medal of Honor: Warfighter            5\n",
      "\n",
      "Post-2014 selections (customer id - 10345078):\n",
      "                              product_title  star_rating\n",
      "97                            Battlefield 4          5.0\n",
      "694                   Batman Arkham Origins          5.0\n",
      "910                Injustice: Gods Among Us          5.0\n",
      "1188                      BEYOND: Two Souls          5.0\n",
      "1358                         The Last of Us          5.0\n",
      "1486                     Assassin's Creed 4          5.0\n",
      "2731  Killzone: Shadow Fall (PlayStation 4)          5.0\n",
      "2831                   Call of Duty: Ghosts          5.0\n",
      "2962               Injustice: Gods Among Us          5.0\n",
      "3059  Assassin's Creed Ezio Trilogy Edition          5.0\n",
      "\n",
      "Recommendations:\n",
      "Battlefield 4\n",
      "Valkyria Chronicles\n",
      "Pokemon Y\n",
      "Call of Duty: Modern Warfare 2\n",
      "Call of Duty: Black Ops\n",
      "Grand Theft Auto IV\n",
      "Halo 3\n",
      "The Last of Us\n",
      "Pokémon Black Version 2\n",
      "Luigi's Mansion: Dark Moon\n",
      "Red Dead Redemption Game of the Year\n",
      "Zumba Fitness Rush - Xbox 360\n",
      "Forza Motorsport 4\n",
      "Call of Duty: Black Ops II\n",
      "Halo 4\n"
     ]
    }
   ],
   "source": [
    "print_customer_prof(train_df, test_df, top_n)"
   ]
  },
  {
   "cell_type": "code",
   "execution_count": 45,
   "metadata": {},
   "outputs": [
    {
     "name": "stdout",
     "output_type": "stream",
     "text": [
      "Precision (II - KNNBasic - msd): 0.009328694755830433\n"
     ]
    }
   ],
   "source": [
    "prec = evaluate_precision(top_n, testset, threshold=4.0)\n",
    "print('Precision (II - KNNBasic - msd):', prec)\n"
   ]
  },
  {
   "cell_type": "code",
   "execution_count": 46,
   "metadata": {},
   "outputs": [
    {
     "name": "stdout",
     "output_type": "stream",
     "text": [
      "MAP (II - KNNBasic - MSD): 0.09637501253640622\n"
     ]
    }
   ],
   "source": [
    "mean_ap = evaluate_map(top_n, testset, threshold=4.0)\n",
    "print('MAP (II - KNNBasic - MSD):', mean_ap)\n"
   ]
  },
  {
   "cell_type": "code",
   "execution_count": 47,
   "metadata": {},
   "outputs": [],
   "source": [
    "algo_2A = {'Model': 'II - KNNBasic - MSD',\n",
    "           'RMSE': rmse,\n",
    "           'Unranked Precision': prec,\n",
    "           'MAP': mean_ap}"
   ]
  },
  {
   "cell_type": "markdown",
   "metadata": {},
   "source": [
    "**Search Best K based on Recall**"
   ]
  },
  {
   "cell_type": "code",
   "execution_count": 48,
   "metadata": {},
   "outputs": [],
   "source": [
    "# # HAHAHA\n",
    "# plot_recall(range(10,61,10), \n",
    "#             trainset, \n",
    "#             testset,\n",
    "#             algorithm='KNNBasic',\n",
    "#             sim_options={'name': 'cosine', 'user_based': False})"
   ]
  },
  {
   "cell_type": "markdown",
   "metadata": {},
   "source": [
    "### 2.A.4. Make Recommendations for New Customer"
   ]
  },
  {
   "cell_type": "code",
   "execution_count": 49,
   "metadata": {
    "scrolled": false
   },
   "outputs": [
    {
     "name": "stdout",
     "output_type": "stream",
     "text": [
      "Computing the msd similarity matrix...\n",
      "Done computing similarity matrix.\n"
     ]
    },
    {
     "data": {
      "text/html": [
       "<div>\n",
       "<style scoped>\n",
       "    .dataframe tbody tr th:only-of-type {\n",
       "        vertical-align: middle;\n",
       "    }\n",
       "\n",
       "    .dataframe tbody tr th {\n",
       "        vertical-align: top;\n",
       "    }\n",
       "\n",
       "    .dataframe thead th {\n",
       "        text-align: right;\n",
       "    }\n",
       "</style>\n",
       "<table border=\"1\" class=\"dataframe\">\n",
       "  <thead>\n",
       "    <tr style=\"text-align: right;\">\n",
       "      <th></th>\n",
       "      <th>items</th>\n",
       "      <th>rating</th>\n",
       "    </tr>\n",
       "  </thead>\n",
       "  <tbody>\n",
       "    <tr>\n",
       "      <th>0</th>\n",
       "      <td>Battlefield 4</td>\n",
       "      <td>5.0</td>\n",
       "    </tr>\n",
       "    <tr>\n",
       "      <th>144</th>\n",
       "      <td>Super Smash Bros. Brawl</td>\n",
       "      <td>5.0</td>\n",
       "    </tr>\n",
       "    <tr>\n",
       "      <th>131</th>\n",
       "      <td>Star Wars The Old Republic</td>\n",
       "      <td>5.0</td>\n",
       "    </tr>\n",
       "    <tr>\n",
       "      <th>132</th>\n",
       "      <td>Mass Effect 2</td>\n",
       "      <td>5.0</td>\n",
       "    </tr>\n",
       "    <tr>\n",
       "      <th>134</th>\n",
       "      <td>NBA 2K14</td>\n",
       "      <td>5.0</td>\n",
       "    </tr>\n",
       "    <tr>\n",
       "      <th>135</th>\n",
       "      <td>Rocksmith</td>\n",
       "      <td>5.0</td>\n",
       "    </tr>\n",
       "    <tr>\n",
       "      <th>137</th>\n",
       "      <td>New Super Mario Bros</td>\n",
       "      <td>5.0</td>\n",
       "    </tr>\n",
       "    <tr>\n",
       "      <th>138</th>\n",
       "      <td>Mortal Kombat vs. DC Universe</td>\n",
       "      <td>5.0</td>\n",
       "    </tr>\n",
       "    <tr>\n",
       "      <th>139</th>\n",
       "      <td>Donkey Kong Country Returns</td>\n",
       "      <td>5.0</td>\n",
       "    </tr>\n",
       "    <tr>\n",
       "      <th>140</th>\n",
       "      <td>Super Smash Bros Melee</td>\n",
       "      <td>5.0</td>\n",
       "    </tr>\n",
       "  </tbody>\n",
       "</table>\n",
       "</div>"
      ],
      "text/plain": [
       "                             items  rating\n",
       "0                    Battlefield 4     5.0\n",
       "144        Super Smash Bros. Brawl     5.0\n",
       "131     Star Wars The Old Republic     5.0\n",
       "132                  Mass Effect 2     5.0\n",
       "134                       NBA 2K14     5.0\n",
       "135                      Rocksmith     5.0\n",
       "137           New Super Mario Bros     5.0\n",
       "138  Mortal Kombat vs. DC Universe     5.0\n",
       "139    Donkey Kong Country Returns     5.0\n",
       "140         Super Smash Bros Melee     5.0"
      ]
     },
     "execution_count": 49,
     "metadata": {},
     "output_type": "execute_result"
    }
   ],
   "source": [
    "new_products = ['Call of Duty: Ghosts', \n",
    "                'Call of Duty: Modern Warfare 2', \n",
    "                'Battlefield 3']\n",
    "\n",
    "recs = new_recommendations(new_products, whole, algo)\n",
    "recs.head(10)"
   ]
  },
  {
   "cell_type": "markdown",
   "metadata": {},
   "source": [
    "<br>\n",
    "## 2.B. Item-Item Collaborative Filtering (KNNBasic - Pearson-baseline)\n",
    "\n",
    "A basic collaborative filtering algorithm.\n",
    "\n",
    "$${\\normalsize \\hat{r}_{ui} = \\frac{\\sum\\limits_{j \\in N^k_u(i)} \\text{sim}(i, j) \\cdot r_{uj}}{\\sum\\limits_{j \\in N^k_u(i)} \\text{sim}(i, j)} }$$\n",
    "\n",
    "Where:\n",
    "<br>\n",
    "$\\hat{r}_{ui}$ - Prediction for user $u$ and item $i$.<br>\n",
    "${j \\in N^k_u(i)}$ - $j$ items in $k$ neighborhood most similar to item $i$ for user $u$.<br>\n",
    "$\\text{sim}(i, j)$ - **Pearson-baseline** similarity between item $i$ and $j$.<br>\n",
    "$r_{uj}$ - Rating for item $j$ and user $u$.<br>"
   ]
  },
  {
   "cell_type": "markdown",
   "metadata": {},
   "source": [
    "### 2.B.1. Train Model"
   ]
  },
  {
   "cell_type": "code",
   "execution_count": 50,
   "metadata": {
    "scrolled": false
   },
   "outputs": [
    {
     "name": "stdout",
     "output_type": "stream",
     "text": [
      "Estimating biases using als...\n",
      "Computing the pearson_baseline similarity matrix...\n",
      "Done computing similarity matrix.\n"
     ]
    },
    {
     "data": {
      "text/plain": [
       "<surprise.prediction_algorithms.knns.KNNBasic at 0x1a0e1fae80>"
      ]
     },
     "execution_count": 50,
     "metadata": {},
     "output_type": "execute_result"
    }
   ],
   "source": [
    "# Use user_based true/false to switch between user-based or item-based collaborative filtering\n",
    "# Here we will use user based collaborative filtering, so True.\n",
    "\n",
    "algo = KNNBasic(k=50, sim_options={'name': 'pearson_baseline', 'user_based': False})\n",
    "algo.fit(trainset)\n"
   ]
  },
  {
   "cell_type": "markdown",
   "metadata": {},
   "source": [
    "### 2.B.2. Evaluate Model (RMSE)"
   ]
  },
  {
   "cell_type": "code",
   "execution_count": 51,
   "metadata": {},
   "outputs": [
    {
     "name": "stdout",
     "output_type": "stream",
     "text": [
      "Item-based (II - KNNBasic - Pearson-baseline) Model : Test Set\n",
      "RMSE: 1.2772\n"
     ]
    }
   ],
   "source": [
    "# Evaluate test set\n",
    "print(\"Item-based (II - KNNBasic - Pearson-baseline) Model : Test Set\")\n",
    "test_pred = algo.test(testset)\n",
    "rmse = accuracy.rmse(test_pred, verbose=True)"
   ]
  },
  {
   "cell_type": "markdown",
   "metadata": {},
   "source": [
    "**Search Best K based on RMSE**"
   ]
  },
  {
   "cell_type": "code",
   "execution_count": 52,
   "metadata": {},
   "outputs": [
    {
     "data": {
      "image/png": "[encoded data removed]",
      "text/plain": [
       "<Figure size 720x504 with 1 Axes>"
      ]
     },
     "metadata": {
      "image/png": {
       "height": 441,
       "width": 619
      }
     },
     "output_type": "display_data"
    }
   ],
   "source": [
    "scores = plot_rmse(range(1,100), \n",
    "                   trainset, \n",
    "                   testset, \n",
    "                   algorithm='KNNBasic', \n",
    "                   sim_options={'name': 'pearson_baseline', 'user_based': False})"
   ]
  },
  {
   "cell_type": "code",
   "execution_count": 53,
   "metadata": {
    "scrolled": true
   },
   "outputs": [
    {
     "data": {
      "text/html": [
       "<div>\n",
       "<style scoped>\n",
       "    .dataframe tbody tr th:only-of-type {\n",
       "        vertical-align: middle;\n",
       "    }\n",
       "\n",
       "    .dataframe tbody tr th {\n",
       "        vertical-align: top;\n",
       "    }\n",
       "\n",
       "    .dataframe thead th {\n",
       "        text-align: right;\n",
       "    }\n",
       "</style>\n",
       "<table border=\"1\" class=\"dataframe\">\n",
       "  <thead>\n",
       "    <tr style=\"text-align: right;\">\n",
       "      <th></th>\n",
       "      <th>k</th>\n",
       "      <th>test_rmse</th>\n",
       "    </tr>\n",
       "  </thead>\n",
       "  <tbody>\n",
       "    <tr>\n",
       "      <th>6</th>\n",
       "      <td>7</td>\n",
       "      <td>1.277150</td>\n",
       "    </tr>\n",
       "    <tr>\n",
       "      <th>5</th>\n",
       "      <td>6</td>\n",
       "      <td>1.277197</td>\n",
       "    </tr>\n",
       "    <tr>\n",
       "      <th>12</th>\n",
       "      <td>13</td>\n",
       "      <td>1.277211</td>\n",
       "    </tr>\n",
       "    <tr>\n",
       "      <th>11</th>\n",
       "      <td>12</td>\n",
       "      <td>1.277214</td>\n",
       "    </tr>\n",
       "    <tr>\n",
       "      <th>9</th>\n",
       "      <td>10</td>\n",
       "      <td>1.277219</td>\n",
       "    </tr>\n",
       "  </tbody>\n",
       "</table>\n",
       "</div>"
      ],
      "text/plain": [
       "     k  test_rmse\n",
       "6    7   1.277150\n",
       "5    6   1.277197\n",
       "12  13   1.277211\n",
       "11  12   1.277214\n",
       "9   10   1.277219"
      ]
     },
     "execution_count": 53,
     "metadata": {},
     "output_type": "execute_result"
    }
   ],
   "source": [
    "# Sort rmse scores and pick value of k that has lowest rmse on the test set\n",
    "scores.sort_values(by='test_rmse', ascending=True, inplace=True)\n",
    "scores.head(5)"
   ]
  },
  {
   "cell_type": "code",
   "execution_count": 54,
   "metadata": {},
   "outputs": [
    {
     "name": "stdout",
     "output_type": "stream",
     "text": [
      "Estimating biases using als...\n",
      "Computing the pearson_baseline similarity matrix...\n",
      "Done computing similarity matrix.\n"
     ]
    },
    {
     "data": {
      "text/plain": [
       "<surprise.prediction_algorithms.knns.KNNBasic at 0x1a0d8c66a0>"
      ]
     },
     "execution_count": 54,
     "metadata": {},
     "output_type": "execute_result"
    }
   ],
   "source": [
    "# Refit model with best k\n",
    "best_k = scores[:1]['k'].values[0]\n",
    "\n",
    "algo = KNNBasic(k=best_k, sim_options={'name': 'pearson_baseline', 'user_based': False})\n",
    "algo.fit(trainset)"
   ]
  },
  {
   "cell_type": "markdown",
   "metadata": {},
   "source": [
    "### 2.B.3. Evaluate Model (Recall)"
   ]
  },
  {
   "cell_type": "markdown",
   "metadata": {},
   "source": [
    "**Get Recommendations for Example User**"
   ]
  },
  {
   "cell_type": "code",
   "execution_count": 55,
   "metadata": {},
   "outputs": [],
   "source": [
    "# Than predict ratings for all pairs (u, i) that are NOT in the training set.\n",
    "train_pred_set = trainset.build_anti_testset()\n",
    "train_preds = algo.test(train_pred_set)\n",
    "\n",
    "# Make predictions\n",
    "top_n = get_n_recommendations(train_preds)\n"
   ]
  },
  {
   "cell_type": "code",
   "execution_count": 56,
   "metadata": {},
   "outputs": [
    {
     "name": "stdout",
     "output_type": "stream",
     "text": [
      "Pre-2014 selections (customer id - 10345078):\n",
      "                                        product_title  star_rating\n",
      "1621                            God of War: Ascension            5\n",
      "4031                   Mortal Kombat Komplete Edition            5\n",
      "5094                   Uncharted 3: Drake's Deception            5\n",
      "5568     Batman: Arkham City Game of the Year Edition            5\n",
      "7888                                  Resident Evil 6            5\n",
      "14548      Call of Duty: Black Ops II - PlayStation 3            5\n",
      "16008                      Need for Speed Most Wanted            5\n",
      "17495                                    Dead Space 3            5\n",
      "17997                                   Battlefield 3            5\n",
      "18677                                     Max Payne 3            5\n",
      "19033                   Assassin's Creed: Brotherhood            5\n",
      "19200                            Assassin's Creed III            5\n",
      "22727                                        LA Noire            5\n",
      "23741                                      Dishonored            5\n",
      "23847  Call of Duty: Modern Warfare 3 - Playstation 3            5\n",
      "27978                                  FIFA Soccer 13            5\n",
      "28223                      Medal of Honor: Warfighter            5\n",
      "\n",
      "Post-2014 selections (customer id - 10345078):\n",
      "                              product_title  star_rating\n",
      "97                            Battlefield 4          5.0\n",
      "694                   Batman Arkham Origins          5.0\n",
      "910                Injustice: Gods Among Us          5.0\n",
      "1188                      BEYOND: Two Souls          5.0\n",
      "1358                         The Last of Us          5.0\n",
      "1486                     Assassin's Creed 4          5.0\n",
      "2731  Killzone: Shadow Fall (PlayStation 4)          5.0\n",
      "2831                   Call of Duty: Ghosts          5.0\n",
      "2962               Injustice: Gods Among Us          5.0\n",
      "3059  Assassin's Creed Ezio Trilogy Edition          5.0\n",
      "\n",
      "Recommendations:\n",
      "Far Cry 3\n",
      "Valkyria Chronicles\n",
      "Pokemon Y\n",
      "Call of Duty: Modern Warfare 2\n",
      "Call of Duty: Black Ops\n",
      "Grand Theft Auto IV\n",
      "Halo 3\n",
      "Halo Reach\n",
      "Tomb Raider\n",
      "Pokémon Black Version 2\n",
      "Red Dead Redemption Game of the Year\n",
      "Heavy Rain: Director's Cut PS3\n",
      "The Legend of Zelda: Twilight Princess\n",
      "Call of Duty: Black Ops II\n",
      "Halo 4\n"
     ]
    }
   ],
   "source": [
    "print_customer_prof(train_df, test_df, top_n)"
   ]
  },
  {
   "cell_type": "code",
   "execution_count": 57,
   "metadata": {},
   "outputs": [
    {
     "name": "stdout",
     "output_type": "stream",
     "text": [
      "Precision (II - KNNBasic - Pearson-baseline): 0.013554954258471847\n"
     ]
    }
   ],
   "source": [
    "prec = evaluate_precision(top_n, testset, threshold=4.0)\n",
    "print('Precision (II - KNNBasic - Pearson-baseline):', prec)\n"
   ]
  },
  {
   "cell_type": "code",
   "execution_count": 58,
   "metadata": {},
   "outputs": [
    {
     "name": "stdout",
     "output_type": "stream",
     "text": [
      "MAP (II - KNNBasic - Pearson-baseline): 0.13157920265734768\n"
     ]
    }
   ],
   "source": [
    "mean_ap = evaluate_map(top_n, testset, threshold=4.0)\n",
    "print('MAP (II - KNNBasic - Pearson-baseline):', mean_ap)\n"
   ]
  },
  {
   "cell_type": "code",
   "execution_count": 59,
   "metadata": {},
   "outputs": [],
   "source": [
    "algo_2B = {'Model': 'II - KNNBasic - Pearson-baseline',\n",
    "           'RMSE': rmse,\n",
    "           'Unranked Precision': prec,\n",
    "           'MAP': mean_ap}"
   ]
  },
  {
   "cell_type": "markdown",
   "metadata": {},
   "source": [
    "**Search Best K based on Recall**"
   ]
  },
  {
   "cell_type": "code",
   "execution_count": 60,
   "metadata": {},
   "outputs": [],
   "source": [
    "# # HAHAHA\n",
    "# plot_recall(range(10,61,10), \n",
    "#             trainset, \n",
    "#             testset,\n",
    "#             algorithm='KNNBasic',\n",
    "#             sim_options={'name': 'pearson', 'user_based': False})"
   ]
  },
  {
   "cell_type": "markdown",
   "metadata": {},
   "source": [
    "### 2.B.4. Make Recommendations for New Customer"
   ]
  },
  {
   "cell_type": "code",
   "execution_count": 61,
   "metadata": {
    "scrolled": false
   },
   "outputs": [
    {
     "name": "stdout",
     "output_type": "stream",
     "text": [
      "Estimating biases using als...\n",
      "Computing the pearson_baseline similarity matrix...\n",
      "Done computing similarity matrix.\n"
     ]
    },
    {
     "data": {
      "text/html": [
       "<div>\n",
       "<style scoped>\n",
       "    .dataframe tbody tr th:only-of-type {\n",
       "        vertical-align: middle;\n",
       "    }\n",
       "\n",
       "    .dataframe tbody tr th {\n",
       "        vertical-align: top;\n",
       "    }\n",
       "\n",
       "    .dataframe thead th {\n",
       "        text-align: right;\n",
       "    }\n",
       "</style>\n",
       "<table border=\"1\" class=\"dataframe\">\n",
       "  <thead>\n",
       "    <tr style=\"text-align: right;\">\n",
       "      <th></th>\n",
       "      <th>items</th>\n",
       "      <th>rating</th>\n",
       "    </tr>\n",
       "  </thead>\n",
       "  <tbody>\n",
       "    <tr>\n",
       "      <th>0</th>\n",
       "      <td>Battlefield 4</td>\n",
       "      <td>5.0</td>\n",
       "    </tr>\n",
       "    <tr>\n",
       "      <th>117</th>\n",
       "      <td>Call of Duty: Modern Warfare 3 - Xbox 360</td>\n",
       "      <td>5.0</td>\n",
       "    </tr>\n",
       "    <tr>\n",
       "      <th>109</th>\n",
       "      <td>Just Dance 2014</td>\n",
       "      <td>5.0</td>\n",
       "    </tr>\n",
       "    <tr>\n",
       "      <th>110</th>\n",
       "      <td>Assassin's Creed Ezio Trilogy Edition</td>\n",
       "      <td>5.0</td>\n",
       "    </tr>\n",
       "    <tr>\n",
       "      <th>111</th>\n",
       "      <td>Call of Duty 4: Modern Warfare</td>\n",
       "      <td>5.0</td>\n",
       "    </tr>\n",
       "    <tr>\n",
       "      <th>1</th>\n",
       "      <td>Far Cry 3</td>\n",
       "      <td>5.0</td>\n",
       "    </tr>\n",
       "    <tr>\n",
       "      <th>113</th>\n",
       "      <td>Killzone 2 - Playstation 3</td>\n",
       "      <td>5.0</td>\n",
       "    </tr>\n",
       "    <tr>\n",
       "      <th>114</th>\n",
       "      <td>StarCraft II</td>\n",
       "      <td>5.0</td>\n",
       "    </tr>\n",
       "    <tr>\n",
       "      <th>116</th>\n",
       "      <td>Super Mario Galaxy 2</td>\n",
       "      <td>5.0</td>\n",
       "    </tr>\n",
       "    <tr>\n",
       "      <th>118</th>\n",
       "      <td>Fallout 3: Game of The Year Edition</td>\n",
       "      <td>5.0</td>\n",
       "    </tr>\n",
       "  </tbody>\n",
       "</table>\n",
       "</div>"
      ],
      "text/plain": [
       "                                         items  rating\n",
       "0                                Battlefield 4     5.0\n",
       "117  Call of Duty: Modern Warfare 3 - Xbox 360     5.0\n",
       "109                            Just Dance 2014     5.0\n",
       "110      Assassin's Creed Ezio Trilogy Edition     5.0\n",
       "111             Call of Duty 4: Modern Warfare     5.0\n",
       "1                                    Far Cry 3     5.0\n",
       "113                 Killzone 2 - Playstation 3     5.0\n",
       "114                               StarCraft II     5.0\n",
       "116                       Super Mario Galaxy 2     5.0\n",
       "118        Fallout 3: Game of The Year Edition     5.0"
      ]
     },
     "execution_count": 61,
     "metadata": {},
     "output_type": "execute_result"
    }
   ],
   "source": [
    "new_products = ['Call of Duty: Ghosts', \n",
    "                'Call of Duty: Modern Warfare 2', \n",
    "                'Battlefield 3']\n",
    "\n",
    "recs = new_recommendations(new_products, whole, algo)\n",
    "recs.head(10)"
   ]
  },
  {
   "cell_type": "markdown",
   "metadata": {},
   "source": [
    "<br>\n",
    "## 3.A. User-User Collaborative Filtering (KNNwithMeans - MSD)\n",
    "\n",
    "A basic collaborative filtering algorithm, taking into account the mean ratings of each user.\n",
    "\n",
    "$${\\normalsize \\hat{r}_{ui} = \\mu_u + \\frac{ \\sum\\limits_{v \\in N^k_i(u)}\\text{sim}(u, v) \\cdot (r_{vi} - \\mu_v)}{\\sum\\limits_{v \\in N^k_i(u)} \\text{sim}(u, v)} }$$\n",
    "\n",
    "Where:\n",
    "<br>\n",
    "$\\hat{r}_{ui}$ - Prediction for user $u$ and item $i$.<br>\n",
    "$\\mu_u$ - Mean rating for user $u$.<br>\n",
    "${v \\in N^k_i(u)}$ - $v$ users in $k$ neighborhood most similar to user $u$ for item $i$.<br>\n",
    "$\\text{sim}(u, v)$ - **MSD** similarity between user $u$ and $v$.<br>\n",
    "$(r_{vi} - \\mu_v)$ - Deviation of rating for user $v$ and its mean rating.<br>"
   ]
  },
  {
   "cell_type": "markdown",
   "metadata": {},
   "source": [
    "### 3.A.1. Train Model"
   ]
  },
  {
   "cell_type": "code",
   "execution_count": 62,
   "metadata": {
    "scrolled": false
   },
   "outputs": [
    {
     "name": "stdout",
     "output_type": "stream",
     "text": [
      "Computing the msd similarity matrix...\n",
      "Done computing similarity matrix.\n"
     ]
    },
    {
     "data": {
      "text/plain": [
       "<surprise.prediction_algorithms.knns.KNNWithMeans at 0x1a0cedb390>"
      ]
     },
     "execution_count": 62,
     "metadata": {},
     "output_type": "execute_result"
    }
   ],
   "source": [
    "# Use user_based true/false to switch between user-based or item-based collaborative filtering\n",
    "# Here we will use user based collaborative filtering, so True.\n",
    "\n",
    "algo = KNNWithMeans(k=50, sim_options={'name': 'msd', 'user_based': True})\n",
    "algo.fit(trainset)\n"
   ]
  },
  {
   "cell_type": "markdown",
   "metadata": {},
   "source": [
    "### 3.A.2. Evaluate Model (RMSE)"
   ]
  },
  {
   "cell_type": "code",
   "execution_count": 63,
   "metadata": {},
   "outputs": [
    {
     "name": "stdout",
     "output_type": "stream",
     "text": [
      "User-based (UU - KNNwithMeans - MSD) Model : Test Set\n",
      "RMSE: 1.2786\n"
     ]
    }
   ],
   "source": [
    "# Evaluate test set\n",
    "print(\"User-based (UU - KNNwithMeans - MSD) Model : Test Set\")\n",
    "test_pred = algo.test(testset)\n",
    "rmse = accuracy.rmse(test_pred, verbose=True)"
   ]
  },
  {
   "cell_type": "markdown",
   "metadata": {},
   "source": [
    "**Search Best K based on RMSE**"
   ]
  },
  {
   "cell_type": "code",
   "execution_count": 64,
   "metadata": {},
   "outputs": [
    {
     "data": {
      "image/png": "[encoded data removed]",
      "text/plain": [
       "<Figure size 720x504 with 1 Axes>"
      ]
     },
     "metadata": {
      "image/png": {
       "height": 441,
       "width": 614
      }
     },
     "output_type": "display_data"
    }
   ],
   "source": [
    "scores = plot_rmse(range(1,100), \n",
    "                   trainset, \n",
    "                   testset, \n",
    "                   algorithm='KNNWithMeans', \n",
    "                   sim_options={'name': 'msd', 'user_based': True})"
   ]
  },
  {
   "cell_type": "code",
   "execution_count": 65,
   "metadata": {
    "scrolled": true
   },
   "outputs": [
    {
     "data": {
      "text/html": [
       "<div>\n",
       "<style scoped>\n",
       "    .dataframe tbody tr th:only-of-type {\n",
       "        vertical-align: middle;\n",
       "    }\n",
       "\n",
       "    .dataframe tbody tr th {\n",
       "        vertical-align: top;\n",
       "    }\n",
       "\n",
       "    .dataframe thead th {\n",
       "        text-align: right;\n",
       "    }\n",
       "</style>\n",
       "<table border=\"1\" class=\"dataframe\">\n",
       "  <thead>\n",
       "    <tr style=\"text-align: right;\">\n",
       "      <th></th>\n",
       "      <th>k</th>\n",
       "      <th>test_rmse</th>\n",
       "    </tr>\n",
       "  </thead>\n",
       "  <tbody>\n",
       "    <tr>\n",
       "      <th>98</th>\n",
       "      <td>99</td>\n",
       "      <td>1.278068</td>\n",
       "    </tr>\n",
       "    <tr>\n",
       "      <th>97</th>\n",
       "      <td>98</td>\n",
       "      <td>1.278074</td>\n",
       "    </tr>\n",
       "  </tbody>\n",
       "</table>\n",
       "</div>"
      ],
      "text/plain": [
       "     k  test_rmse\n",
       "98  99   1.278068\n",
       "97  98   1.278074"
      ]
     },
     "execution_count": 65,
     "metadata": {},
     "output_type": "execute_result"
    }
   ],
   "source": [
    "# Sort rmse scores and pick value of k that has lowest rmse on the test set\n",
    "scores.sort_values(by='test_rmse', ascending=True, inplace=True)\n",
    "scores.head(2)"
   ]
  },
  {
   "cell_type": "code",
   "execution_count": 66,
   "metadata": {},
   "outputs": [
    {
     "name": "stdout",
     "output_type": "stream",
     "text": [
      "Computing the msd similarity matrix...\n",
      "Done computing similarity matrix.\n"
     ]
    },
    {
     "data": {
      "text/plain": [
       "<surprise.prediction_algorithms.knns.KNNWithMeans at 0x1a72b1ac18>"
      ]
     },
     "execution_count": 66,
     "metadata": {},
     "output_type": "execute_result"
    }
   ],
   "source": [
    "# Refit model with best k\n",
    "best_k = scores[:1]['k'].values[0]\n",
    "\n",
    "algo = KNNWithMeans(k=best_k, sim_options={'name': 'msd', 'user_based': True})\n",
    "algo.fit(trainset)"
   ]
  },
  {
   "cell_type": "markdown",
   "metadata": {},
   "source": [
    "### 3.A.3. Evaluate Model (Recall)"
   ]
  },
  {
   "cell_type": "markdown",
   "metadata": {},
   "source": [
    "**Get Recommendations for Example User**"
   ]
  },
  {
   "cell_type": "code",
   "execution_count": 67,
   "metadata": {},
   "outputs": [],
   "source": [
    "# Than predict ratings for all pairs (u, i) that are NOT in the training set.\n",
    "train_pred_set = trainset.build_anti_testset()\n",
    "train_preds = algo.test(train_pred_set)\n",
    "\n",
    "# Make predictions\n",
    "top_n = get_n_recommendations(train_preds)\n"
   ]
  },
  {
   "cell_type": "code",
   "execution_count": 68,
   "metadata": {},
   "outputs": [
    {
     "name": "stdout",
     "output_type": "stream",
     "text": [
      "Pre-2014 selections (customer id - 10345078):\n",
      "                                        product_title  star_rating\n",
      "1621                            God of War: Ascension            5\n",
      "4031                   Mortal Kombat Komplete Edition            5\n",
      "5094                   Uncharted 3: Drake's Deception            5\n",
      "5568     Batman: Arkham City Game of the Year Edition            5\n",
      "7888                                  Resident Evil 6            5\n",
      "14548      Call of Duty: Black Ops II - PlayStation 3            5\n",
      "16008                      Need for Speed Most Wanted            5\n",
      "17495                                    Dead Space 3            5\n",
      "17997                                   Battlefield 3            5\n",
      "18677                                     Max Payne 3            5\n",
      "19033                   Assassin's Creed: Brotherhood            5\n",
      "19200                            Assassin's Creed III            5\n",
      "22727                                        LA Noire            5\n",
      "23741                                      Dishonored            5\n",
      "23847  Call of Duty: Modern Warfare 3 - Playstation 3            5\n",
      "27978                                  FIFA Soccer 13            5\n",
      "28223                      Medal of Honor: Warfighter            5\n",
      "\n",
      "Post-2014 selections (customer id - 10345078):\n",
      "                              product_title  star_rating\n",
      "97                            Battlefield 4          5.0\n",
      "694                   Batman Arkham Origins          5.0\n",
      "910                Injustice: Gods Among Us          5.0\n",
      "1188                      BEYOND: Two Souls          5.0\n",
      "1358                         The Last of Us          5.0\n",
      "1486                     Assassin's Creed 4          5.0\n",
      "2731  Killzone: Shadow Fall (PlayStation 4)          5.0\n",
      "2831                   Call of Duty: Ghosts          5.0\n",
      "2962               Injustice: Gods Among Us          5.0\n",
      "3059  Assassin's Creed Ezio Trilogy Edition          5.0\n",
      "\n",
      "Recommendations:\n",
      "Far Cry 3\n",
      "Valkyria Chronicles\n",
      "Pokemon Y\n",
      "The Last of Us\n",
      "Tomb Raider\n",
      "Pokémon Black Version 2\n",
      "Luigi's Mansion: Dark Moon\n",
      "Red Dead Redemption Game of the Year\n",
      "Zumba Fitness Rush - Xbox 360\n",
      "Forza Motorsport 4\n",
      "The Legend of Zelda: Twilight Princess\n",
      "Halo 4\n",
      "Gears of War 3\n",
      "Kingdom Hearts HD 1.5 Remix\n",
      "BioShock Infinite\n"
     ]
    }
   ],
   "source": [
    "print_customer_prof(train_df, test_df, top_n)"
   ]
  },
  {
   "cell_type": "code",
   "execution_count": 69,
   "metadata": {},
   "outputs": [
    {
     "name": "stdout",
     "output_type": "stream",
     "text": [
      "Precision (UU - KNNwithMeans - MSD): 0.008864837005540525\n"
     ]
    }
   ],
   "source": [
    "prec = evaluate_precision(top_n, testset, threshold=4.0)\n",
    "print('Precision (UU - KNNwithMeans - MSD):', prec)\n"
   ]
  },
  {
   "cell_type": "code",
   "execution_count": 70,
   "metadata": {},
   "outputs": [
    {
     "name": "stdout",
     "output_type": "stream",
     "text": [
      "MAP (UU - KNNwithMeans - MSD): 0.08496186940936296\n"
     ]
    }
   ],
   "source": [
    "mean_ap = evaluate_map(top_n, testset, threshold=4.0)\n",
    "print('MAP (UU - KNNwithMeans - MSD):', mean_ap)\n"
   ]
  },
  {
   "cell_type": "code",
   "execution_count": 71,
   "metadata": {},
   "outputs": [],
   "source": [
    "algo_3A = {'Model': 'UU - KNNwithMeans - MSD',\n",
    "           'RMSE': rmse,\n",
    "           'Unranked Precision': prec,\n",
    "           'MAP': mean_ap}"
   ]
  },
  {
   "cell_type": "markdown",
   "metadata": {},
   "source": [
    "**Search Best K based on Recall**"
   ]
  },
  {
   "cell_type": "code",
   "execution_count": 72,
   "metadata": {},
   "outputs": [],
   "source": [
    "# # HAHAHA\n",
    "# plot_recall(range(10,61,10), \n",
    "#             trainset, \n",
    "#             testset,\n",
    "#             algorithm='KNNWithMeans',\n",
    "#             sim_options={'name': 'cosine', 'user_based': True})"
   ]
  },
  {
   "cell_type": "markdown",
   "metadata": {},
   "source": [
    "### 3.A.4. Make Recommendations for New Customer"
   ]
  },
  {
   "cell_type": "code",
   "execution_count": 73,
   "metadata": {
    "scrolled": false
   },
   "outputs": [
    {
     "name": "stdout",
     "output_type": "stream",
     "text": [
      "Computing the msd similarity matrix...\n",
      "Done computing similarity matrix.\n"
     ]
    },
    {
     "data": {
      "text/html": [
       "<div>\n",
       "<style scoped>\n",
       "    .dataframe tbody tr th:only-of-type {\n",
       "        vertical-align: middle;\n",
       "    }\n",
       "\n",
       "    .dataframe tbody tr th {\n",
       "        vertical-align: top;\n",
       "    }\n",
       "\n",
       "    .dataframe thead th {\n",
       "        text-align: right;\n",
       "    }\n",
       "</style>\n",
       "<table border=\"1\" class=\"dataframe\">\n",
       "  <thead>\n",
       "    <tr style=\"text-align: right;\">\n",
       "      <th></th>\n",
       "      <th>items</th>\n",
       "      <th>rating</th>\n",
       "    </tr>\n",
       "  </thead>\n",
       "  <tbody>\n",
       "    <tr>\n",
       "      <th>112</th>\n",
       "      <td>Killzone 3</td>\n",
       "      <td>5.0</td>\n",
       "    </tr>\n",
       "    <tr>\n",
       "      <th>81</th>\n",
       "      <td>Mario Kart 7</td>\n",
       "      <td>5.0</td>\n",
       "    </tr>\n",
       "    <tr>\n",
       "      <th>129</th>\n",
       "      <td>Carnival Games</td>\n",
       "      <td>5.0</td>\n",
       "    </tr>\n",
       "    <tr>\n",
       "      <th>132</th>\n",
       "      <td>Mass Effect 2</td>\n",
       "      <td>5.0</td>\n",
       "    </tr>\n",
       "    <tr>\n",
       "      <th>136</th>\n",
       "      <td>God of War III</td>\n",
       "      <td>5.0</td>\n",
       "    </tr>\n",
       "    <tr>\n",
       "      <th>140</th>\n",
       "      <td>Super Smash Bros Melee</td>\n",
       "      <td>5.0</td>\n",
       "    </tr>\n",
       "    <tr>\n",
       "      <th>141</th>\n",
       "      <td>Michael Jackson The Experience</td>\n",
       "      <td>5.0</td>\n",
       "    </tr>\n",
       "    <tr>\n",
       "      <th>142</th>\n",
       "      <td>Mario Kart DS</td>\n",
       "      <td>5.0</td>\n",
       "    </tr>\n",
       "    <tr>\n",
       "      <th>143</th>\n",
       "      <td>Mario Kart: Double Dash</td>\n",
       "      <td>5.0</td>\n",
       "    </tr>\n",
       "    <tr>\n",
       "      <th>144</th>\n",
       "      <td>Super Smash Bros. Brawl</td>\n",
       "      <td>5.0</td>\n",
       "    </tr>\n",
       "  </tbody>\n",
       "</table>\n",
       "</div>"
      ],
      "text/plain": [
       "                              items  rating\n",
       "112                      Killzone 3     5.0\n",
       "81                     Mario Kart 7     5.0\n",
       "129                  Carnival Games     5.0\n",
       "132                   Mass Effect 2     5.0\n",
       "136                  God of War III     5.0\n",
       "140          Super Smash Bros Melee     5.0\n",
       "141  Michael Jackson The Experience     5.0\n",
       "142                   Mario Kart DS     5.0\n",
       "143         Mario Kart: Double Dash     5.0\n",
       "144         Super Smash Bros. Brawl     5.0"
      ]
     },
     "execution_count": 73,
     "metadata": {},
     "output_type": "execute_result"
    }
   ],
   "source": [
    "new_products = ['Call of Duty: Ghosts', \n",
    "                'Call of Duty: Modern Warfare 2', \n",
    "                'Battlefield 3']\n",
    "\n",
    "recs = new_recommendations(new_products, whole, algo)\n",
    "recs.head(10)"
   ]
  },
  {
   "cell_type": "markdown",
   "metadata": {},
   "source": [
    "<br>\n",
    "## 3.B. User-User Collaborative Filtering (KNNwithMeans - Pearson-baseline)\n",
    "\n",
    "A basic collaborative filtering algorithm, taking into account the mean ratings of each user.\n",
    "\n",
    "$${\\normalsize \\hat{r}_{ui} = \\mu_u + \\frac{ \\sum\\limits_{v \\in N^k_i(u)}\\text{sim}(u, v) \\cdot (r_{vi} - \\mu_v)}{\\sum\\limits_{v \\in N^k_i(u)} \\text{sim}(u, v)} }$$\n",
    "\n",
    "Where:\n",
    "<br>\n",
    "$\\hat{r}_{ui}$ - Prediction for user $u$ and item $i$.<br>\n",
    "$\\mu_u$ - Mean rating for user $u$.<br>\n",
    "${v \\in N^k_i(u)}$ - $v$ users in $k$ neighborhood most similar to user $u$ for item $i$.<br>\n",
    "$\\text{sim}(u, v)$ - **Pearson-baseline** similarity between user $u$ and $v$.<br>\n",
    "$(r_{vi} - \\mu_v)$ - Deviation of rating for user $v$ and its mean rating.<br>"
   ]
  },
  {
   "cell_type": "markdown",
   "metadata": {},
   "source": [
    "### 3.B.1. Train Model"
   ]
  },
  {
   "cell_type": "code",
   "execution_count": 74,
   "metadata": {
    "scrolled": false
   },
   "outputs": [
    {
     "name": "stdout",
     "output_type": "stream",
     "text": [
      "Estimating biases using als...\n",
      "Computing the pearson_baseline similarity matrix...\n",
      "Done computing similarity matrix.\n"
     ]
    },
    {
     "data": {
      "text/plain": [
       "<surprise.prediction_algorithms.knns.KNNWithMeans at 0x1a0d8c6080>"
      ]
     },
     "execution_count": 74,
     "metadata": {},
     "output_type": "execute_result"
    }
   ],
   "source": [
    "# Use user_based true/false to switch between user-based or item-based collaborative filtering\n",
    "# Here we will use user based collaborative filtering, so True.\n",
    "\n",
    "algo = KNNWithMeans(k=50, sim_options={'name': 'pearson_baseline', 'user_based': True})\n",
    "algo.fit(trainset)\n"
   ]
  },
  {
   "cell_type": "markdown",
   "metadata": {},
   "source": [
    "### 3.B.2. Evaluate Model (RMSE)"
   ]
  },
  {
   "cell_type": "code",
   "execution_count": 75,
   "metadata": {},
   "outputs": [
    {
     "name": "stdout",
     "output_type": "stream",
     "text": [
      "User-based (UU - KNNwithMeans - Pearson-baseline) Model : Test Set\n",
      "RMSE: 1.3409\n"
     ]
    }
   ],
   "source": [
    "# Evaluate test set\n",
    "print(\"User-based (UU - KNNwithMeans - Pearson-baseline) Model : Test Set\")\n",
    "test_pred = algo.test(testset)\n",
    "rmse = accuracy.rmse(test_pred, verbose=True)"
   ]
  },
  {
   "cell_type": "markdown",
   "metadata": {},
   "source": [
    "**Search Best K based on RMSE**"
   ]
  },
  {
   "cell_type": "code",
   "execution_count": 76,
   "metadata": {},
   "outputs": [
    {
     "data": {
      "image/png": "[encoded data removed]",
      "text/plain": [
       "<Figure size 720x504 with 1 Axes>"
      ]
     },
     "metadata": {
      "image/png": {
       "height": 441,
       "width": 619
      }
     },
     "output_type": "display_data"
    }
   ],
   "source": [
    "scores = plot_rmse(range(1,100), \n",
    "                   trainset, \n",
    "                   testset, \n",
    "                   algorithm='KNNWithMeans', \n",
    "                   sim_options={'name': 'pearson_baseline', 'user_based': True})"
   ]
  },
  {
   "cell_type": "code",
   "execution_count": 77,
   "metadata": {
    "scrolled": true
   },
   "outputs": [
    {
     "data": {
      "text/html": [
       "<div>\n",
       "<style scoped>\n",
       "    .dataframe tbody tr th:only-of-type {\n",
       "        vertical-align: middle;\n",
       "    }\n",
       "\n",
       "    .dataframe tbody tr th {\n",
       "        vertical-align: top;\n",
       "    }\n",
       "\n",
       "    .dataframe thead th {\n",
       "        text-align: right;\n",
       "    }\n",
       "</style>\n",
       "<table border=\"1\" class=\"dataframe\">\n",
       "  <thead>\n",
       "    <tr style=\"text-align: right;\">\n",
       "      <th></th>\n",
       "      <th>k</th>\n",
       "      <th>test_rmse</th>\n",
       "    </tr>\n",
       "  </thead>\n",
       "  <tbody>\n",
       "    <tr>\n",
       "      <th>53</th>\n",
       "      <td>54</td>\n",
       "      <td>1.340946</td>\n",
       "    </tr>\n",
       "    <tr>\n",
       "      <th>52</th>\n",
       "      <td>53</td>\n",
       "      <td>1.340946</td>\n",
       "    </tr>\n",
       "  </tbody>\n",
       "</table>\n",
       "</div>"
      ],
      "text/plain": [
       "     k  test_rmse\n",
       "53  54   1.340946\n",
       "52  53   1.340946"
      ]
     },
     "execution_count": 77,
     "metadata": {},
     "output_type": "execute_result"
    }
   ],
   "source": [
    "# Sort rmse scores and pick value of k that has lowest rmse on the test set\n",
    "scores.sort_values(by='test_rmse', ascending=True, inplace=True)\n",
    "scores.head(2)"
   ]
  },
  {
   "cell_type": "code",
   "execution_count": 78,
   "metadata": {},
   "outputs": [
    {
     "name": "stdout",
     "output_type": "stream",
     "text": [
      "Estimating biases using als...\n",
      "Computing the pearson_baseline similarity matrix...\n",
      "Done computing similarity matrix.\n"
     ]
    },
    {
     "data": {
      "text/plain": [
       "<surprise.prediction_algorithms.knns.KNNWithMeans at 0x1a0d005630>"
      ]
     },
     "execution_count": 78,
     "metadata": {},
     "output_type": "execute_result"
    }
   ],
   "source": [
    "# Refit model with best k\n",
    "best_k = scores[:1]['k'].values[0]\n",
    "\n",
    "algo = KNNWithMeans(k=best_k, sim_options={'name': 'pearson_baseline', 'user_based': True})\n",
    "algo.fit(trainset)"
   ]
  },
  {
   "cell_type": "markdown",
   "metadata": {},
   "source": [
    "### 3.B.3. Evaluate Model (Recall)"
   ]
  },
  {
   "cell_type": "markdown",
   "metadata": {},
   "source": [
    "**Get Recommendations for Example User**"
   ]
  },
  {
   "cell_type": "code",
   "execution_count": 79,
   "metadata": {},
   "outputs": [],
   "source": [
    "# Than predict ratings for all pairs (u, i) that are NOT in the training set.\n",
    "train_pred_set = trainset.build_anti_testset()\n",
    "train_preds = algo.test(train_pred_set)\n",
    "\n",
    "# Make predictions\n",
    "top_n = get_n_recommendations(train_preds)\n"
   ]
  },
  {
   "cell_type": "code",
   "execution_count": 80,
   "metadata": {},
   "outputs": [
    {
     "name": "stdout",
     "output_type": "stream",
     "text": [
      "Pre-2014 selections (customer id - 10345078):\n",
      "                                        product_title  star_rating\n",
      "1621                            God of War: Ascension            5\n",
      "4031                   Mortal Kombat Komplete Edition            5\n",
      "5094                   Uncharted 3: Drake's Deception            5\n",
      "5568     Batman: Arkham City Game of the Year Edition            5\n",
      "7888                                  Resident Evil 6            5\n",
      "14548      Call of Duty: Black Ops II - PlayStation 3            5\n",
      "16008                      Need for Speed Most Wanted            5\n",
      "17495                                    Dead Space 3            5\n",
      "17997                                   Battlefield 3            5\n",
      "18677                                     Max Payne 3            5\n",
      "19033                   Assassin's Creed: Brotherhood            5\n",
      "19200                            Assassin's Creed III            5\n",
      "22727                                        LA Noire            5\n",
      "23741                                      Dishonored            5\n",
      "23847  Call of Duty: Modern Warfare 3 - Playstation 3            5\n",
      "27978                                  FIFA Soccer 13            5\n",
      "28223                      Medal of Honor: Warfighter            5\n",
      "\n",
      "Post-2014 selections (customer id - 10345078):\n",
      "                              product_title  star_rating\n",
      "97                            Battlefield 4          5.0\n",
      "694                   Batman Arkham Origins          5.0\n",
      "910                Injustice: Gods Among Us          5.0\n",
      "1188                      BEYOND: Two Souls          5.0\n",
      "1358                         The Last of Us          5.0\n",
      "1486                     Assassin's Creed 4          5.0\n",
      "2731  Killzone: Shadow Fall (PlayStation 4)          5.0\n",
      "2831                   Call of Duty: Ghosts          5.0\n",
      "2962               Injustice: Gods Among Us          5.0\n",
      "3059  Assassin's Creed Ezio Trilogy Edition          5.0\n",
      "\n",
      "Recommendations:\n",
      "Far Cry 3\n",
      "Pokemon Y\n",
      "Call of Duty: Modern Warfare 2\n",
      "The Last of Us\n",
      "Tomb Raider\n",
      "Red Dead Redemption Game of the Year\n",
      "Zumba Fitness Rush - Xbox 360\n",
      "Forza Motorsport 4\n",
      "Heavy Rain: Director's Cut PS3\n",
      "The Legend of Zelda: Twilight Princess\n",
      "Halo 4\n",
      "Gears of War 3\n",
      "Batman Arkham Origins\n",
      "Super Mario 3D Land\n",
      "Knack (PlayStation 4)\n"
     ]
    }
   ],
   "source": [
    "print_customer_prof(train_df, test_df, top_n)"
   ]
  },
  {
   "cell_type": "code",
   "execution_count": 81,
   "metadata": {},
   "outputs": [
    {
     "name": "stdout",
     "output_type": "stream",
     "text": [
      "Precision (UU - KNNwithMeans - Pearson-baseline):\n"
     ]
    }
   ],
   "source": [
    "prec = evaluate_precision(top_n, testset, threshold=4.0)\n",
    "print('Precision (UU - KNNwithMeans - Pearson-baseline):')\n"
   ]
  },
  {
   "cell_type": "code",
   "execution_count": 82,
   "metadata": {},
   "outputs": [
    {
     "name": "stdout",
     "output_type": "stream",
     "text": [
      "MAP (UU - KNNwithMeans - Pearson-baseline):\n"
     ]
    }
   ],
   "source": [
    "mean_ap = evaluate_map(top_n, testset, threshold=4.0)\n",
    "print('MAP (UU - KNNwithMeans - Pearson-baseline):')\n"
   ]
  },
  {
   "cell_type": "code",
   "execution_count": 83,
   "metadata": {},
   "outputs": [],
   "source": [
    "algo_3B = {'Model': 'UU - KNNwithMeans - Pearson-baseline',\n",
    "           'RMSE': rmse,\n",
    "           'Unranked Precision': prec,\n",
    "           'MAP': mean_ap}"
   ]
  },
  {
   "cell_type": "markdown",
   "metadata": {},
   "source": [
    "**Search Best K based on Recall**"
   ]
  },
  {
   "cell_type": "code",
   "execution_count": 84,
   "metadata": {},
   "outputs": [],
   "source": [
    "# # HAHAHA\n",
    "# plot_recall(range(10,61,10), \n",
    "#             trainset, \n",
    "#             testset,\n",
    "#             algorithm='KNNWithMeans',\n",
    "#             sim_options={'name': 'pearson', 'user_based': True})"
   ]
  },
  {
   "cell_type": "markdown",
   "metadata": {},
   "source": [
    "### 3.B.4. Make Recommendations for New Customer"
   ]
  },
  {
   "cell_type": "code",
   "execution_count": 85,
   "metadata": {
    "scrolled": false
   },
   "outputs": [
    {
     "name": "stdout",
     "output_type": "stream",
     "text": [
      "Estimating biases using als...\n",
      "Computing the pearson_baseline similarity matrix...\n",
      "Done computing similarity matrix.\n"
     ]
    },
    {
     "data": {
      "text/html": [
       "<div>\n",
       "<style scoped>\n",
       "    .dataframe tbody tr th:only-of-type {\n",
       "        vertical-align: middle;\n",
       "    }\n",
       "\n",
       "    .dataframe tbody tr th {\n",
       "        vertical-align: top;\n",
       "    }\n",
       "\n",
       "    .dataframe thead th {\n",
       "        text-align: right;\n",
       "    }\n",
       "</style>\n",
       "<table border=\"1\" class=\"dataframe\">\n",
       "  <thead>\n",
       "    <tr style=\"text-align: right;\">\n",
       "      <th></th>\n",
       "      <th>items</th>\n",
       "      <th>rating</th>\n",
       "    </tr>\n",
       "  </thead>\n",
       "  <tbody>\n",
       "    <tr>\n",
       "      <th>112</th>\n",
       "      <td>Killzone 3</td>\n",
       "      <td>5.0</td>\n",
       "    </tr>\n",
       "    <tr>\n",
       "      <th>147</th>\n",
       "      <td>Uncharted 2: Among Thieves - Playstation 3</td>\n",
       "      <td>5.0</td>\n",
       "    </tr>\n",
       "    <tr>\n",
       "      <th>136</th>\n",
       "      <td>God of War III</td>\n",
       "      <td>5.0</td>\n",
       "    </tr>\n",
       "    <tr>\n",
       "      <th>137</th>\n",
       "      <td>New Super Mario Bros</td>\n",
       "      <td>5.0</td>\n",
       "    </tr>\n",
       "    <tr>\n",
       "      <th>139</th>\n",
       "      <td>Donkey Kong Country Returns</td>\n",
       "      <td>5.0</td>\n",
       "    </tr>\n",
       "    <tr>\n",
       "      <th>140</th>\n",
       "      <td>Super Smash Bros Melee</td>\n",
       "      <td>5.0</td>\n",
       "    </tr>\n",
       "    <tr>\n",
       "      <th>141</th>\n",
       "      <td>Michael Jackson The Experience</td>\n",
       "      <td>5.0</td>\n",
       "    </tr>\n",
       "    <tr>\n",
       "      <th>142</th>\n",
       "      <td>Mario Kart DS</td>\n",
       "      <td>5.0</td>\n",
       "    </tr>\n",
       "    <tr>\n",
       "      <th>143</th>\n",
       "      <td>Mario Kart: Double Dash</td>\n",
       "      <td>5.0</td>\n",
       "    </tr>\n",
       "    <tr>\n",
       "      <th>145</th>\n",
       "      <td>Super Mario Galaxy (Nintendo Selects)</td>\n",
       "      <td>5.0</td>\n",
       "    </tr>\n",
       "  </tbody>\n",
       "</table>\n",
       "</div>"
      ],
      "text/plain": [
       "                                          items  rating\n",
       "112                                  Killzone 3     5.0\n",
       "147  Uncharted 2: Among Thieves - Playstation 3     5.0\n",
       "136                              God of War III     5.0\n",
       "137                        New Super Mario Bros     5.0\n",
       "139                 Donkey Kong Country Returns     5.0\n",
       "140                      Super Smash Bros Melee     5.0\n",
       "141              Michael Jackson The Experience     5.0\n",
       "142                               Mario Kart DS     5.0\n",
       "143                     Mario Kart: Double Dash     5.0\n",
       "145       Super Mario Galaxy (Nintendo Selects)     5.0"
      ]
     },
     "execution_count": 85,
     "metadata": {},
     "output_type": "execute_result"
    }
   ],
   "source": [
    "new_products = ['Call of Duty: Ghosts', \n",
    "                'Call of Duty: Modern Warfare 2', \n",
    "                'Battlefield 3']\n",
    "\n",
    "recs = new_recommendations(new_products, whole, algo)\n",
    "recs.head(10)"
   ]
  },
  {
   "cell_type": "markdown",
   "metadata": {},
   "source": [
    "<br>\n",
    "## 4.A. Item-Item Collaborative Filtering (KNNwithMeans - MSD)\n",
    "\n",
    "A basic collaborative filtering algorithm, taking into account the mean ratings of each user.\n",
    "\n",
    "$${\\normalsize \\hat{r}_{ui} = \\mu_i + \\frac{ \\sum\\limits_{j \\in N^k_u(i)}\\text{sim}(i, j) \\cdot (r_{uj} - \\mu_j)} {\\sum\\limits_{j \\in N^k_u(i)} \\text{sim}(i, j)} }$$\n",
    "\n",
    "Where:\n",
    "<br>\n",
    "$\\hat{r}_{ui}$ - Prediction for user $u$ and item $i$.<br>\n",
    "$\\mu_i$ - Mean rating for item $i$.<br>\n",
    "${j \\in N^k_u(i)}$ - $j$ items in $k$ neighborhood most similar to item $i$ for user $u$.<br>\n",
    "$\\text{sim}(i, j)$ - **MSD** similarity between item $i$ and $j$.<br>\n",
    "$(r_{uj} - \\mu_j)$ - Deviation of rating for item $j$ and their mean rating.<br>"
   ]
  },
  {
   "cell_type": "markdown",
   "metadata": {},
   "source": [
    "### 4.A.1. Train Model"
   ]
  },
  {
   "cell_type": "code",
   "execution_count": 86,
   "metadata": {
    "scrolled": false
   },
   "outputs": [
    {
     "name": "stdout",
     "output_type": "stream",
     "text": [
      "Computing the msd similarity matrix...\n",
      "Done computing similarity matrix.\n"
     ]
    },
    {
     "data": {
      "text/plain": [
       "<surprise.prediction_algorithms.knns.KNNWithMeans at 0x1a72b1aa58>"
      ]
     },
     "execution_count": 86,
     "metadata": {},
     "output_type": "execute_result"
    }
   ],
   "source": [
    "# Use user_based true/false to switch between user-based or item-based collaborative filtering\n",
    "# Here we will use user based collaborative filtering, so True.\n",
    "\n",
    "algo = KNNWithMeans(k=50, sim_options={'name': 'msd', 'user_based': False})\n",
    "algo.fit(trainset)\n"
   ]
  },
  {
   "cell_type": "markdown",
   "metadata": {},
   "source": [
    "### 4.A.2. Evaluate Model (RMSE)"
   ]
  },
  {
   "cell_type": "code",
   "execution_count": 87,
   "metadata": {},
   "outputs": [
    {
     "name": "stdout",
     "output_type": "stream",
     "text": [
      "Item-based (II - KNNwithMeans - MSD) Model : Test Set\n",
      "RMSE: 1.2307\n"
     ]
    }
   ],
   "source": [
    "# Evaluate test set\n",
    "print(\"Item-based (II - KNNwithMeans - MSD) Model : Test Set\")\n",
    "test_pred = algo.test(testset)\n",
    "rmse = accuracy.rmse(test_pred, verbose=True)"
   ]
  },
  {
   "cell_type": "markdown",
   "metadata": {},
   "source": [
    "**Search Best K based on RMSE**"
   ]
  },
  {
   "cell_type": "code",
   "execution_count": 88,
   "metadata": {},
   "outputs": [
    {
     "data": {
      "image/png": "[encoded data removed]",
      "text/plain": [
       "<Figure size 720x504 with 1 Axes>"
      ]
     },
     "metadata": {
      "image/png": {
       "height": 441,
       "width": 614
      }
     },
     "output_type": "display_data"
    }
   ],
   "source": [
    "scores = plot_rmse(range(1,100), \n",
    "                   trainset, \n",
    "                   testset, \n",
    "                   algorithm='KNNWithMeans', \n",
    "                   sim_options={'name': 'msd', 'user_based': False})"
   ]
  },
  {
   "cell_type": "code",
   "execution_count": 89,
   "metadata": {
    "scrolled": true
   },
   "outputs": [
    {
     "data": {
      "text/html": [
       "<div>\n",
       "<style scoped>\n",
       "    .dataframe tbody tr th:only-of-type {\n",
       "        vertical-align: middle;\n",
       "    }\n",
       "\n",
       "    .dataframe tbody tr th {\n",
       "        vertical-align: top;\n",
       "    }\n",
       "\n",
       "    .dataframe thead th {\n",
       "        text-align: right;\n",
       "    }\n",
       "</style>\n",
       "<table border=\"1\" class=\"dataframe\">\n",
       "  <thead>\n",
       "    <tr style=\"text-align: right;\">\n",
       "      <th></th>\n",
       "      <th>k</th>\n",
       "      <th>test_rmse</th>\n",
       "    </tr>\n",
       "  </thead>\n",
       "  <tbody>\n",
       "    <tr>\n",
       "      <th>22</th>\n",
       "      <td>23</td>\n",
       "      <td>1.230665</td>\n",
       "    </tr>\n",
       "    <tr>\n",
       "      <th>23</th>\n",
       "      <td>24</td>\n",
       "      <td>1.230669</td>\n",
       "    </tr>\n",
       "    <tr>\n",
       "      <th>24</th>\n",
       "      <td>25</td>\n",
       "      <td>1.230680</td>\n",
       "    </tr>\n",
       "    <tr>\n",
       "      <th>27</th>\n",
       "      <td>28</td>\n",
       "      <td>1.230680</td>\n",
       "    </tr>\n",
       "    <tr>\n",
       "      <th>21</th>\n",
       "      <td>22</td>\n",
       "      <td>1.230681</td>\n",
       "    </tr>\n",
       "  </tbody>\n",
       "</table>\n",
       "</div>"
      ],
      "text/plain": [
       "     k  test_rmse\n",
       "22  23   1.230665\n",
       "23  24   1.230669\n",
       "24  25   1.230680\n",
       "27  28   1.230680\n",
       "21  22   1.230681"
      ]
     },
     "execution_count": 89,
     "metadata": {},
     "output_type": "execute_result"
    }
   ],
   "source": [
    "# Sort rmse scores and pick value of k that has lowest rmse on the test set\n",
    "scores.sort_values(by='test_rmse', ascending=True, inplace=True)\n",
    "scores.head(5)"
   ]
  },
  {
   "cell_type": "code",
   "execution_count": 90,
   "metadata": {},
   "outputs": [
    {
     "name": "stdout",
     "output_type": "stream",
     "text": [
      "Computing the msd similarity matrix...\n",
      "Done computing similarity matrix.\n"
     ]
    },
    {
     "data": {
      "text/plain": [
       "<surprise.prediction_algorithms.knns.KNNWithMeans at 0x1a7a1cfa20>"
      ]
     },
     "execution_count": 90,
     "metadata": {},
     "output_type": "execute_result"
    }
   ],
   "source": [
    "# Refit model with best k\n",
    "best_k = scores[:1]['k'].values[0]\n",
    "\n",
    "algo = KNNWithMeans(k=best_k, sim_options={'name': 'msd', 'user_based': False})\n",
    "algo.fit(trainset)"
   ]
  },
  {
   "cell_type": "markdown",
   "metadata": {},
   "source": [
    "### 4.A.3. Evaluate Model (Recall)"
   ]
  },
  {
   "cell_type": "markdown",
   "metadata": {},
   "source": [
    "**Get Recommendations for Example User**"
   ]
  },
  {
   "cell_type": "code",
   "execution_count": 91,
   "metadata": {},
   "outputs": [],
   "source": [
    "# Than predict ratings for all pairs (u, i) that are NOT in the training set.\n",
    "train_pred_set = trainset.build_anti_testset()\n",
    "train_preds = algo.test(train_pred_set)\n",
    "\n",
    "# Make predictions\n",
    "top_n = get_n_recommendations(train_preds)\n"
   ]
  },
  {
   "cell_type": "code",
   "execution_count": 92,
   "metadata": {},
   "outputs": [
    {
     "name": "stdout",
     "output_type": "stream",
     "text": [
      "Pre-2014 selections (customer id - 10345078):\n",
      "                                        product_title  star_rating\n",
      "1621                            God of War: Ascension            5\n",
      "4031                   Mortal Kombat Komplete Edition            5\n",
      "5094                   Uncharted 3: Drake's Deception            5\n",
      "5568     Batman: Arkham City Game of the Year Edition            5\n",
      "7888                                  Resident Evil 6            5\n",
      "14548      Call of Duty: Black Ops II - PlayStation 3            5\n",
      "16008                      Need for Speed Most Wanted            5\n",
      "17495                                    Dead Space 3            5\n",
      "17997                                   Battlefield 3            5\n",
      "18677                                     Max Payne 3            5\n",
      "19033                   Assassin's Creed: Brotherhood            5\n",
      "19200                            Assassin's Creed III            5\n",
      "22727                                        LA Noire            5\n",
      "23741                                      Dishonored            5\n",
      "23847  Call of Duty: Modern Warfare 3 - Playstation 3            5\n",
      "27978                                  FIFA Soccer 13            5\n",
      "28223                      Medal of Honor: Warfighter            5\n",
      "\n",
      "Post-2014 selections (customer id - 10345078):\n",
      "                              product_title  star_rating\n",
      "97                            Battlefield 4          5.0\n",
      "694                   Batman Arkham Origins          5.0\n",
      "910                Injustice: Gods Among Us          5.0\n",
      "1188                      BEYOND: Two Souls          5.0\n",
      "1358                         The Last of Us          5.0\n",
      "1486                     Assassin's Creed 4          5.0\n",
      "2731  Killzone: Shadow Fall (PlayStation 4)          5.0\n",
      "2831                   Call of Duty: Ghosts          5.0\n",
      "2962               Injustice: Gods Among Us          5.0\n",
      "3059  Assassin's Creed Ezio Trilogy Edition          5.0\n",
      "\n",
      "Recommendations:\n",
      "Far Cry 3\n",
      "Valkyria Chronicles\n",
      "Pokemon Y\n",
      "Halo 3\n",
      "Halo Reach\n",
      "The Last of Us\n",
      "Tomb Raider\n",
      "Pokémon Black Version 2\n",
      "Luigi's Mansion: Dark Moon\n",
      "Red Dead Redemption Game of the Year\n",
      "Zumba Fitness Rush - Xbox 360\n",
      "Forza Motorsport 4\n",
      "Heavy Rain: Director's Cut PS3\n",
      "The Legend of Zelda: Twilight Princess\n",
      "Halo 4\n"
     ]
    }
   ],
   "source": [
    "print_customer_prof(train_df, test_df, top_n)"
   ]
  },
  {
   "cell_type": "code",
   "execution_count": 93,
   "metadata": {},
   "outputs": [
    {
     "name": "stdout",
     "output_type": "stream",
     "text": [
      "Precision (II - KNNwithMeans - MSD): 0.009689473006055922\n"
     ]
    }
   ],
   "source": [
    "prec = evaluate_precision(top_n, testset, threshold=4.0)\n",
    "print('Precision (II - KNNwithMeans - MSD):', prec)\n"
   ]
  },
  {
   "cell_type": "code",
   "execution_count": 94,
   "metadata": {},
   "outputs": [
    {
     "name": "stdout",
     "output_type": "stream",
     "text": [
      "MAP (II - KNNwithMeans - MSD): 0.10031884266896757\n"
     ]
    }
   ],
   "source": [
    "mean_ap = evaluate_map(top_n, testset, threshold=4.0)\n",
    "print('MAP (II - KNNwithMeans - MSD):', mean_ap)\n"
   ]
  },
  {
   "cell_type": "code",
   "execution_count": 95,
   "metadata": {},
   "outputs": [],
   "source": [
    "algo_4A = {'Model': 'II - KNNwithMeans - MSD',\n",
    "           'RMSE': rmse,\n",
    "           'Unranked Precision': prec,\n",
    "           'MAP': mean_ap}"
   ]
  },
  {
   "cell_type": "markdown",
   "metadata": {},
   "source": [
    "**Search Best K based on Recall**"
   ]
  },
  {
   "cell_type": "code",
   "execution_count": 96,
   "metadata": {},
   "outputs": [],
   "source": [
    "# # HAHAHA\n",
    "# plot_recall(range(10,61,10), \n",
    "#             trainset, \n",
    "#             testset,\n",
    "#             algorithm='KNNWithMeans',\n",
    "#             sim_options={'name': 'cosine', 'user_based': False})"
   ]
  },
  {
   "cell_type": "markdown",
   "metadata": {},
   "source": [
    "### 4.A.4. Make Recommendations for New Customer"
   ]
  },
  {
   "cell_type": "code",
   "execution_count": 97,
   "metadata": {
    "scrolled": false
   },
   "outputs": [
    {
     "name": "stdout",
     "output_type": "stream",
     "text": [
      "Computing the msd similarity matrix...\n",
      "Done computing similarity matrix.\n"
     ]
    },
    {
     "data": {
      "text/html": [
       "<div>\n",
       "<style scoped>\n",
       "    .dataframe tbody tr th:only-of-type {\n",
       "        vertical-align: middle;\n",
       "    }\n",
       "\n",
       "    .dataframe tbody tr th {\n",
       "        vertical-align: top;\n",
       "    }\n",
       "\n",
       "    .dataframe thead th {\n",
       "        text-align: right;\n",
       "    }\n",
       "</style>\n",
       "<table border=\"1\" class=\"dataframe\">\n",
       "  <thead>\n",
       "    <tr style=\"text-align: right;\">\n",
       "      <th></th>\n",
       "      <th>items</th>\n",
       "      <th>rating</th>\n",
       "    </tr>\n",
       "  </thead>\n",
       "  <tbody>\n",
       "    <tr>\n",
       "      <th>112</th>\n",
       "      <td>Killzone 3</td>\n",
       "      <td>5.0</td>\n",
       "    </tr>\n",
       "    <tr>\n",
       "      <th>143</th>\n",
       "      <td>Mario Kart: Double Dash</td>\n",
       "      <td>5.0</td>\n",
       "    </tr>\n",
       "    <tr>\n",
       "      <th>132</th>\n",
       "      <td>Mass Effect 2</td>\n",
       "      <td>5.0</td>\n",
       "    </tr>\n",
       "    <tr>\n",
       "      <th>133</th>\n",
       "      <td>PlayStation All-Stars Battle Royale</td>\n",
       "      <td>5.0</td>\n",
       "    </tr>\n",
       "    <tr>\n",
       "      <th>135</th>\n",
       "      <td>Rocksmith</td>\n",
       "      <td>5.0</td>\n",
       "    </tr>\n",
       "    <tr>\n",
       "      <th>136</th>\n",
       "      <td>God of War III</td>\n",
       "      <td>5.0</td>\n",
       "    </tr>\n",
       "    <tr>\n",
       "      <th>137</th>\n",
       "      <td>New Super Mario Bros</td>\n",
       "      <td>5.0</td>\n",
       "    </tr>\n",
       "    <tr>\n",
       "      <th>138</th>\n",
       "      <td>Mortal Kombat vs. DC Universe</td>\n",
       "      <td>5.0</td>\n",
       "    </tr>\n",
       "    <tr>\n",
       "      <th>139</th>\n",
       "      <td>Donkey Kong Country Returns</td>\n",
       "      <td>5.0</td>\n",
       "    </tr>\n",
       "    <tr>\n",
       "      <th>140</th>\n",
       "      <td>Super Smash Bros Melee</td>\n",
       "      <td>5.0</td>\n",
       "    </tr>\n",
       "  </tbody>\n",
       "</table>\n",
       "</div>"
      ],
      "text/plain": [
       "                                   items  rating\n",
       "112                           Killzone 3     5.0\n",
       "143              Mario Kart: Double Dash     5.0\n",
       "132                        Mass Effect 2     5.0\n",
       "133  PlayStation All-Stars Battle Royale     5.0\n",
       "135                            Rocksmith     5.0\n",
       "136                       God of War III     5.0\n",
       "137                 New Super Mario Bros     5.0\n",
       "138        Mortal Kombat vs. DC Universe     5.0\n",
       "139          Donkey Kong Country Returns     5.0\n",
       "140               Super Smash Bros Melee     5.0"
      ]
     },
     "execution_count": 97,
     "metadata": {},
     "output_type": "execute_result"
    }
   ],
   "source": [
    "new_products = ['Call of Duty: Ghosts', \n",
    "                'Call of Duty: Modern Warfare 2', \n",
    "                'Battlefield 3']\n",
    "\n",
    "recs = new_recommendations(new_products, whole, algo)\n",
    "recs.head(10)"
   ]
  },
  {
   "cell_type": "markdown",
   "metadata": {},
   "source": [
    "<br>\n",
    "## 4.B. Item-Item Collaborative Filtering (KNNwithMeans - Pearson-baseline)\n",
    "\n",
    "A basic collaborative filtering algorithm, taking into account the mean ratings of each user.\n",
    "\n",
    "$${\\normalsize \\hat{r}_{ui} = \\mu_i + \\frac{ \\sum\\limits_{j \\in N^k_u(i)}\\text{sim}(i, j) \\cdot (r_{uj} - \\mu_j)} {\\sum\\limits_{j \\in N^k_u(i)} \\text{sim}(i, j)} }$$\n",
    "\n",
    "Where:\n",
    "<br>\n",
    "$\\hat{r}_{ui}$ - Prediction for user $u$ and item $i$.<br>\n",
    "$\\mu_i$ - Mean rating for item $i$.<br>\n",
    "${j \\in N^k_u(i)}$ - $j$ items in $k$ neighborhood most similar to item $i$ for user $u$.<br>\n",
    "$\\text{sim}(i, j)$ - **Pearson-baseline** similarity between item $i$ and $j$.<br>\n",
    "$(r_{uj} - \\mu_j)$ - Deviation of rating for item $j$ and their mean rating.<br>"
   ]
  },
  {
   "cell_type": "markdown",
   "metadata": {},
   "source": [
    "### 4.B.1. Train Model"
   ]
  },
  {
   "cell_type": "code",
   "execution_count": 98,
   "metadata": {
    "scrolled": false
   },
   "outputs": [
    {
     "name": "stdout",
     "output_type": "stream",
     "text": [
      "Estimating biases using als...\n",
      "Computing the pearson_baseline similarity matrix...\n",
      "Done computing similarity matrix.\n"
     ]
    },
    {
     "data": {
      "text/plain": [
       "<surprise.prediction_algorithms.knns.KNNWithMeans at 0x1a0da2af98>"
      ]
     },
     "execution_count": 98,
     "metadata": {},
     "output_type": "execute_result"
    }
   ],
   "source": [
    "# Use user_based true/false to switch between user-based or item-based collaborative filtering\n",
    "# Here we will use user based collaborative filtering, so True.\n",
    "\n",
    "algo = KNNWithMeans(k=50, sim_options={'name': 'pearson_baseline', 'user_based': False})\n",
    "algo.fit(trainset)\n"
   ]
  },
  {
   "cell_type": "markdown",
   "metadata": {},
   "source": [
    "### 4.B.2. Evaluate Model (RMSE)"
   ]
  },
  {
   "cell_type": "code",
   "execution_count": 99,
   "metadata": {},
   "outputs": [
    {
     "name": "stdout",
     "output_type": "stream",
     "text": [
      "Item-based (II - KNNwithMeans - Pearson-baseline) Model : Test Set\n",
      "RMSE: 1.2151\n"
     ]
    }
   ],
   "source": [
    "# Evaluate test set\n",
    "print(\"Item-based (II - KNNwithMeans - Pearson-baseline) Model : Test Set\")\n",
    "test_pred = algo.test(testset)\n",
    "rmse = accuracy.rmse(test_pred, verbose=True)"
   ]
  },
  {
   "cell_type": "markdown",
   "metadata": {},
   "source": [
    "**Search Best K based on RMSE**"
   ]
  },
  {
   "cell_type": "code",
   "execution_count": 100,
   "metadata": {},
   "outputs": [
    {
     "data": {
      "image/png": "[encoded data removed]",
      "text/plain": [
       "<Figure size 720x504 with 1 Axes>"
      ]
     },
     "metadata": {
      "image/png": {
       "height": 441,
       "width": 619
      }
     },
     "output_type": "display_data"
    }
   ],
   "source": [
    "scores = plot_rmse(range(1,100), \n",
    "                   trainset, \n",
    "                   testset, \n",
    "                   algorithm='KNNWithMeans', \n",
    "                   sim_options={'name': 'pearson_baseline', 'user_based': False})"
   ]
  },
  {
   "cell_type": "code",
   "execution_count": 101,
   "metadata": {
    "scrolled": true
   },
   "outputs": [
    {
     "data": {
      "text/html": [
       "<div>\n",
       "<style scoped>\n",
       "    .dataframe tbody tr th:only-of-type {\n",
       "        vertical-align: middle;\n",
       "    }\n",
       "\n",
       "    .dataframe tbody tr th {\n",
       "        vertical-align: top;\n",
       "    }\n",
       "\n",
       "    .dataframe thead th {\n",
       "        text-align: right;\n",
       "    }\n",
       "</style>\n",
       "<table border=\"1\" class=\"dataframe\">\n",
       "  <thead>\n",
       "    <tr style=\"text-align: right;\">\n",
       "      <th></th>\n",
       "      <th>k</th>\n",
       "      <th>test_rmse</th>\n",
       "    </tr>\n",
       "  </thead>\n",
       "  <tbody>\n",
       "    <tr>\n",
       "      <th>49</th>\n",
       "      <td>50</td>\n",
       "      <td>1.215083</td>\n",
       "    </tr>\n",
       "    <tr>\n",
       "      <th>71</th>\n",
       "      <td>72</td>\n",
       "      <td>1.215083</td>\n",
       "    </tr>\n",
       "    <tr>\n",
       "      <th>70</th>\n",
       "      <td>71</td>\n",
       "      <td>1.215083</td>\n",
       "    </tr>\n",
       "    <tr>\n",
       "      <th>69</th>\n",
       "      <td>70</td>\n",
       "      <td>1.215083</td>\n",
       "    </tr>\n",
       "    <tr>\n",
       "      <th>68</th>\n",
       "      <td>69</td>\n",
       "      <td>1.215083</td>\n",
       "    </tr>\n",
       "  </tbody>\n",
       "</table>\n",
       "</div>"
      ],
      "text/plain": [
       "     k  test_rmse\n",
       "49  50   1.215083\n",
       "71  72   1.215083\n",
       "70  71   1.215083\n",
       "69  70   1.215083\n",
       "68  69   1.215083"
      ]
     },
     "execution_count": 101,
     "metadata": {},
     "output_type": "execute_result"
    }
   ],
   "source": [
    "# Sort rmse scores and pick value of k that has lowest rmse on the test set\n",
    "scores.sort_values(by='test_rmse', ascending=True, inplace=True)\n",
    "scores.head(5)"
   ]
  },
  {
   "cell_type": "code",
   "execution_count": 102,
   "metadata": {},
   "outputs": [
    {
     "name": "stdout",
     "output_type": "stream",
     "text": [
      "Estimating biases using als...\n",
      "Computing the pearson_baseline similarity matrix...\n",
      "Done computing similarity matrix.\n"
     ]
    },
    {
     "data": {
      "text/plain": [
       "<surprise.prediction_algorithms.knns.KNNWithMeans at 0x1a788adb00>"
      ]
     },
     "execution_count": 102,
     "metadata": {},
     "output_type": "execute_result"
    }
   ],
   "source": [
    "# Refit model with best k\n",
    "best_k = scores[:1]['k'].values[0]\n",
    "\n",
    "algo = KNNWithMeans(k=best_k, sim_options={'name': 'pearson_baseline', 'user_based': False})\n",
    "algo.fit(trainset)"
   ]
  },
  {
   "cell_type": "markdown",
   "metadata": {},
   "source": [
    "### 4.B.3. Evaluate Model (Recall)"
   ]
  },
  {
   "cell_type": "markdown",
   "metadata": {},
   "source": [
    "**Get Recommendations for Example User**"
   ]
  },
  {
   "cell_type": "code",
   "execution_count": 103,
   "metadata": {},
   "outputs": [],
   "source": [
    "# Than predict ratings for all pairs (u, i) that are NOT in the training set.\n",
    "train_pred_set = trainset.build_anti_testset()\n",
    "train_preds = algo.test(train_pred_set)\n",
    "\n",
    "# Make predictions\n",
    "top_n = get_n_recommendations(train_preds)\n"
   ]
  },
  {
   "cell_type": "code",
   "execution_count": 104,
   "metadata": {},
   "outputs": [
    {
     "name": "stdout",
     "output_type": "stream",
     "text": [
      "Pre-2014 selections (customer id - 10345078):\n",
      "                                        product_title  star_rating\n",
      "1621                            God of War: Ascension            5\n",
      "4031                   Mortal Kombat Komplete Edition            5\n",
      "5094                   Uncharted 3: Drake's Deception            5\n",
      "5568     Batman: Arkham City Game of the Year Edition            5\n",
      "7888                                  Resident Evil 6            5\n",
      "14548      Call of Duty: Black Ops II - PlayStation 3            5\n",
      "16008                      Need for Speed Most Wanted            5\n",
      "17495                                    Dead Space 3            5\n",
      "17997                                   Battlefield 3            5\n",
      "18677                                     Max Payne 3            5\n",
      "19033                   Assassin's Creed: Brotherhood            5\n",
      "19200                            Assassin's Creed III            5\n",
      "22727                                        LA Noire            5\n",
      "23741                                      Dishonored            5\n",
      "23847  Call of Duty: Modern Warfare 3 - Playstation 3            5\n",
      "27978                                  FIFA Soccer 13            5\n",
      "28223                      Medal of Honor: Warfighter            5\n",
      "\n",
      "Post-2014 selections (customer id - 10345078):\n",
      "                              product_title  star_rating\n",
      "97                            Battlefield 4          5.0\n",
      "694                   Batman Arkham Origins          5.0\n",
      "910                Injustice: Gods Among Us          5.0\n",
      "1188                      BEYOND: Two Souls          5.0\n",
      "1358                         The Last of Us          5.0\n",
      "1486                     Assassin's Creed 4          5.0\n",
      "2731  Killzone: Shadow Fall (PlayStation 4)          5.0\n",
      "2831                   Call of Duty: Ghosts          5.0\n",
      "2962               Injustice: Gods Among Us          5.0\n",
      "3059  Assassin's Creed Ezio Trilogy Edition          5.0\n",
      "\n",
      "Recommendations:\n",
      "Far Cry 3\n",
      "Valkyria Chronicles\n",
      "Pokemon Y\n",
      "Call of Duty: Modern Warfare 2\n",
      "Halo 3\n",
      "Halo Reach\n",
      "The Last of Us\n",
      "Tomb Raider\n",
      "Pokémon Black Version 2\n",
      "Luigi's Mansion: Dark Moon\n",
      "Red Dead Redemption Game of the Year\n",
      "Forza Motorsport 4\n",
      "Heavy Rain: Director's Cut PS3\n",
      "The Legend of Zelda: Twilight Princess\n",
      "Halo 4\n"
     ]
    }
   ],
   "source": [
    "print_customer_prof(train_df, test_df, top_n)"
   ]
  },
  {
   "cell_type": "code",
   "execution_count": 105,
   "metadata": {},
   "outputs": [
    {
     "name": "stdout",
     "output_type": "stream",
     "text": [
      "Precision (II - KNNwithMeans - Pearson-baseline): 0.011596443757247778\n"
     ]
    }
   ],
   "source": [
    "prec = evaluate_precision(top_n, testset, threshold=4.0)\n",
    "print('Precision (II - KNNwithMeans - Pearson-baseline):', prec)\n"
   ]
  },
  {
   "cell_type": "code",
   "execution_count": 106,
   "metadata": {},
   "outputs": [
    {
     "name": "stdout",
     "output_type": "stream",
     "text": [
      "MAP (II - KNNwithMeans - Pearson-baseline): 0.1189232436472121\n"
     ]
    }
   ],
   "source": [
    "mean_ap = evaluate_map(top_n, testset, threshold=4.0)\n",
    "print('MAP (II - KNNwithMeans - Pearson-baseline):', mean_ap)\n"
   ]
  },
  {
   "cell_type": "code",
   "execution_count": 107,
   "metadata": {},
   "outputs": [],
   "source": [
    "algo_4B = {'Model': 'II - KNNwithMeans - Pearson-baseline',\n",
    "           'RMSE': rmse,\n",
    "           'Unranked Precision': prec,\n",
    "           'MAP': mean_ap}"
   ]
  },
  {
   "cell_type": "markdown",
   "metadata": {},
   "source": [
    "**Search Best K based on Recall**"
   ]
  },
  {
   "cell_type": "code",
   "execution_count": 108,
   "metadata": {},
   "outputs": [],
   "source": [
    "# # HAHAHA\n",
    "# plot_recall(range(10,61,10), \n",
    "#             trainset, \n",
    "#             testset,\n",
    "#             algorithm='KNNWithMeans',\n",
    "#             sim_options={'name': 'pearson', 'user_based': False})"
   ]
  },
  {
   "cell_type": "markdown",
   "metadata": {},
   "source": [
    "### 4.B.4. Make Recommendations for New Customer"
   ]
  },
  {
   "cell_type": "code",
   "execution_count": 109,
   "metadata": {
    "scrolled": false
   },
   "outputs": [
    {
     "name": "stdout",
     "output_type": "stream",
     "text": [
      "Estimating biases using als...\n",
      "Computing the pearson_baseline similarity matrix...\n",
      "Done computing similarity matrix.\n"
     ]
    },
    {
     "data": {
      "text/html": [
       "<div>\n",
       "<style scoped>\n",
       "    .dataframe tbody tr th:only-of-type {\n",
       "        vertical-align: middle;\n",
       "    }\n",
       "\n",
       "    .dataframe tbody tr th {\n",
       "        vertical-align: top;\n",
       "    }\n",
       "\n",
       "    .dataframe thead th {\n",
       "        text-align: right;\n",
       "    }\n",
       "</style>\n",
       "<table border=\"1\" class=\"dataframe\">\n",
       "  <thead>\n",
       "    <tr style=\"text-align: right;\">\n",
       "      <th></th>\n",
       "      <th>items</th>\n",
       "      <th>rating</th>\n",
       "    </tr>\n",
       "  </thead>\n",
       "  <tbody>\n",
       "    <tr>\n",
       "      <th>112</th>\n",
       "      <td>Killzone 3</td>\n",
       "      <td>5.0</td>\n",
       "    </tr>\n",
       "    <tr>\n",
       "      <th>171</th>\n",
       "      <td>Madden NFL 25 Anniversary Edition with NFL Sun...</td>\n",
       "      <td>5.0</td>\n",
       "    </tr>\n",
       "    <tr>\n",
       "      <th>92</th>\n",
       "      <td>The Elder Scrolls V: Skyrim Legendary Edition</td>\n",
       "      <td>5.0</td>\n",
       "    </tr>\n",
       "    <tr>\n",
       "      <th>93</th>\n",
       "      <td>Halo 3: ODST</td>\n",
       "      <td>5.0</td>\n",
       "    </tr>\n",
       "    <tr>\n",
       "      <th>94</th>\n",
       "      <td>Call of Duty: World at War</td>\n",
       "      <td>5.0</td>\n",
       "    </tr>\n",
       "    <tr>\n",
       "      <th>97</th>\n",
       "      <td>Medal of Honor: Allied Assault - PC</td>\n",
       "      <td>5.0</td>\n",
       "    </tr>\n",
       "    <tr>\n",
       "      <th>98</th>\n",
       "      <td>Fallout 3</td>\n",
       "      <td>5.0</td>\n",
       "    </tr>\n",
       "    <tr>\n",
       "      <th>99</th>\n",
       "      <td>God Of War Collection</td>\n",
       "      <td>5.0</td>\n",
       "    </tr>\n",
       "    <tr>\n",
       "      <th>101</th>\n",
       "      <td>Borderlands</td>\n",
       "      <td>5.0</td>\n",
       "    </tr>\n",
       "    <tr>\n",
       "      <th>177</th>\n",
       "      <td>Forza Horizon</td>\n",
       "      <td>5.0</td>\n",
       "    </tr>\n",
       "  </tbody>\n",
       "</table>\n",
       "</div>"
      ],
      "text/plain": [
       "                                                 items  rating\n",
       "112                                         Killzone 3     5.0\n",
       "171  Madden NFL 25 Anniversary Edition with NFL Sun...     5.0\n",
       "92       The Elder Scrolls V: Skyrim Legendary Edition     5.0\n",
       "93                                        Halo 3: ODST     5.0\n",
       "94                          Call of Duty: World at War     5.0\n",
       "97                 Medal of Honor: Allied Assault - PC     5.0\n",
       "98                                           Fallout 3     5.0\n",
       "99                               God Of War Collection     5.0\n",
       "101                                        Borderlands     5.0\n",
       "177                                      Forza Horizon     5.0"
      ]
     },
     "execution_count": 109,
     "metadata": {},
     "output_type": "execute_result"
    }
   ],
   "source": [
    "new_products = ['Call of Duty: Ghosts', \n",
    "                'Call of Duty: Modern Warfare 2', \n",
    "                'Battlefield 3']\n",
    "\n",
    "recs = new_recommendations(new_products, whole, algo)\n",
    "recs.head(10)"
   ]
  },
  {
   "cell_type": "markdown",
   "metadata": {},
   "source": [
    "<br>\n",
    "## 5.A. User-User Collaborative Filtering (KNNBaseline - MSD)\n",
    "\n",
    "A basic collaborative filtering algorithm taking into account a *baseline* rating.\n",
    "\n",
    "$${\\normalsize \\hat{r}_{ui} = b_{ui} + \\frac{ \\sum\\limits_{v \\in N^k_i(u)}\\text{sim}(u, v) \\cdot (r_{vi} - b_{vi})} {\\sum\\limits_{v \\in N^k_i(u)} \\text{sim}(u, v)} }$$\n",
    "\n",
    "Where:\n",
    "<br>\n",
    "$\\hat{r}_{ui}$ - Prediction for user $u$ and item $i$.<br>\n",
    "$b_{ui}$ - Baseline estimate for user $u$ and item $i$.<br>\n",
    "${v \\in N^k_u(i)}$ - $v$ users in $k$ neighborhood most similar to user $u$ for item $i$.<br>\n",
    "$\\text{sim}(u, v)$ - **MSD** similarity between user $u$ and $v$.<br>\n",
    "$(r_{vi} - b_{vi})$ - Deviation of rating for user $u$ item $i$ and its baseline estimate.<br>"
   ]
  },
  {
   "cell_type": "markdown",
   "metadata": {},
   "source": [
    "### 5.A.1. Train Model"
   ]
  },
  {
   "cell_type": "code",
   "execution_count": 110,
   "metadata": {
    "scrolled": false
   },
   "outputs": [
    {
     "name": "stdout",
     "output_type": "stream",
     "text": [
      "Estimating biases using als...\n",
      "Computing the msd similarity matrix...\n",
      "Done computing similarity matrix.\n"
     ]
    },
    {
     "data": {
      "text/plain": [
       "<surprise.prediction_algorithms.knns.KNNBaseline at 0x1a0ab3f198>"
      ]
     },
     "execution_count": 110,
     "metadata": {},
     "output_type": "execute_result"
    }
   ],
   "source": [
    "# Use user_based true/false to switch between user-based or item-based collaborative filtering\n",
    "# Here we will use user based collaborative filtering, so True.\n",
    "\n",
    "algo = KNNBaseline(k=50, sim_options={'name': 'msd', 'user_based': True})\n",
    "algo.fit(trainset)\n"
   ]
  },
  {
   "cell_type": "markdown",
   "metadata": {},
   "source": [
    "### 5.A.2. Evaluate Model (RMSE)"
   ]
  },
  {
   "cell_type": "code",
   "execution_count": 111,
   "metadata": {},
   "outputs": [
    {
     "name": "stdout",
     "output_type": "stream",
     "text": [
      "User-based (UU - KNNBaseline - MSD) Model : Test Set\n",
      "RMSE: 1.2126\n"
     ]
    }
   ],
   "source": [
    "# Evaluate test set\n",
    "print(\"User-based (UU - KNNBaseline - MSD) Model : Test Set\")\n",
    "test_pred = algo.test(testset)\n",
    "rmse = accuracy.rmse(test_pred, verbose=True)"
   ]
  },
  {
   "cell_type": "markdown",
   "metadata": {},
   "source": [
    "**Search Best K based on RMSE**"
   ]
  },
  {
   "cell_type": "code",
   "execution_count": 112,
   "metadata": {},
   "outputs": [
    {
     "data": {
      "image/png": "[encoded data removed]",
      "text/plain": [
       "<Figure size 720x504 with 1 Axes>"
      ]
     },
     "metadata": {
      "image/png": {
       "height": 441,
       "width": 619
      }
     },
     "output_type": "display_data"
    }
   ],
   "source": [
    "scores = plot_rmse(range(1,100), \n",
    "                   trainset, \n",
    "                   testset, \n",
    "                   algorithm='KNNBaseline', \n",
    "                   sim_options={'name': 'msd', 'user_based': True})"
   ]
  },
  {
   "cell_type": "code",
   "execution_count": 113,
   "metadata": {
    "scrolled": true
   },
   "outputs": [
    {
     "data": {
      "text/html": [
       "<div>\n",
       "<style scoped>\n",
       "    .dataframe tbody tr th:only-of-type {\n",
       "        vertical-align: middle;\n",
       "    }\n",
       "\n",
       "    .dataframe tbody tr th {\n",
       "        vertical-align: top;\n",
       "    }\n",
       "\n",
       "    .dataframe thead th {\n",
       "        text-align: right;\n",
       "    }\n",
       "</style>\n",
       "<table border=\"1\" class=\"dataframe\">\n",
       "  <thead>\n",
       "    <tr style=\"text-align: right;\">\n",
       "      <th></th>\n",
       "      <th>k</th>\n",
       "      <th>test_rmse</th>\n",
       "    </tr>\n",
       "  </thead>\n",
       "  <tbody>\n",
       "    <tr>\n",
       "      <th>98</th>\n",
       "      <td>99</td>\n",
       "      <td>1.211784</td>\n",
       "    </tr>\n",
       "    <tr>\n",
       "      <th>97</th>\n",
       "      <td>98</td>\n",
       "      <td>1.211808</td>\n",
       "    </tr>\n",
       "    <tr>\n",
       "      <th>96</th>\n",
       "      <td>97</td>\n",
       "      <td>1.211824</td>\n",
       "    </tr>\n",
       "    <tr>\n",
       "      <th>95</th>\n",
       "      <td>96</td>\n",
       "      <td>1.211846</td>\n",
       "    </tr>\n",
       "    <tr>\n",
       "      <th>94</th>\n",
       "      <td>95</td>\n",
       "      <td>1.211858</td>\n",
       "    </tr>\n",
       "  </tbody>\n",
       "</table>\n",
       "</div>"
      ],
      "text/plain": [
       "     k  test_rmse\n",
       "98  99   1.211784\n",
       "97  98   1.211808\n",
       "96  97   1.211824\n",
       "95  96   1.211846\n",
       "94  95   1.211858"
      ]
     },
     "execution_count": 113,
     "metadata": {},
     "output_type": "execute_result"
    }
   ],
   "source": [
    "# Sort rmse scores and pick value of k that has lowest rmse on the test set\n",
    "scores.sort_values(by='test_rmse', ascending=True, inplace=True)\n",
    "scores.head(5)"
   ]
  },
  {
   "cell_type": "code",
   "execution_count": 114,
   "metadata": {},
   "outputs": [
    {
     "name": "stdout",
     "output_type": "stream",
     "text": [
      "Estimating biases using als...\n",
      "Computing the msd similarity matrix...\n",
      "Done computing similarity matrix.\n"
     ]
    },
    {
     "data": {
      "text/plain": [
       "<surprise.prediction_algorithms.knns.KNNBaseline at 0x1a0ab3f9b0>"
      ]
     },
     "execution_count": 114,
     "metadata": {},
     "output_type": "execute_result"
    }
   ],
   "source": [
    "# Refit model with best k\n",
    "best_k = scores[:1]['k'].values[0]\n",
    "\n",
    "algo = KNNBaseline(k=best_k, sim_options={'name': 'msd', 'user_based': True})\n",
    "algo.fit(trainset)"
   ]
  },
  {
   "cell_type": "markdown",
   "metadata": {},
   "source": [
    "### 5.A.3. Evaluate Model (Recall)"
   ]
  },
  {
   "cell_type": "markdown",
   "metadata": {},
   "source": [
    "**Get Recommendations for Example User**"
   ]
  },
  {
   "cell_type": "code",
   "execution_count": 115,
   "metadata": {},
   "outputs": [],
   "source": [
    "# Than predict ratings for all pairs (u, i) that are NOT in the training set.\n",
    "train_pred_set = trainset.build_anti_testset()\n",
    "train_preds = algo.test(train_pred_set)\n",
    "\n",
    "# Make predictions\n",
    "top_n = get_n_recommendations(train_preds)\n"
   ]
  },
  {
   "cell_type": "code",
   "execution_count": 116,
   "metadata": {},
   "outputs": [
    {
     "name": "stdout",
     "output_type": "stream",
     "text": [
      "Pre-2014 selections (customer id - 10345078):\n",
      "                                        product_title  star_rating\n",
      "1621                            God of War: Ascension            5\n",
      "4031                   Mortal Kombat Komplete Edition            5\n",
      "5094                   Uncharted 3: Drake's Deception            5\n",
      "5568     Batman: Arkham City Game of the Year Edition            5\n",
      "7888                                  Resident Evil 6            5\n",
      "14548      Call of Duty: Black Ops II - PlayStation 3            5\n",
      "16008                      Need for Speed Most Wanted            5\n",
      "17495                                    Dead Space 3            5\n",
      "17997                                   Battlefield 3            5\n",
      "18677                                     Max Payne 3            5\n",
      "19033                   Assassin's Creed: Brotherhood            5\n",
      "19200                            Assassin's Creed III            5\n",
      "22727                                        LA Noire            5\n",
      "23741                                      Dishonored            5\n",
      "23847  Call of Duty: Modern Warfare 3 - Playstation 3            5\n",
      "27978                                  FIFA Soccer 13            5\n",
      "28223                      Medal of Honor: Warfighter            5\n",
      "\n",
      "Post-2014 selections (customer id - 10345078):\n",
      "                              product_title  star_rating\n",
      "97                            Battlefield 4          5.0\n",
      "694                   Batman Arkham Origins          5.0\n",
      "910                Injustice: Gods Among Us          5.0\n",
      "1188                      BEYOND: Two Souls          5.0\n",
      "1358                         The Last of Us          5.0\n",
      "1486                     Assassin's Creed 4          5.0\n",
      "2731  Killzone: Shadow Fall (PlayStation 4)          5.0\n",
      "2831                   Call of Duty: Ghosts          5.0\n",
      "2962               Injustice: Gods Among Us          5.0\n",
      "3059  Assassin's Creed Ezio Trilogy Edition          5.0\n",
      "\n",
      "Recommendations:\n",
      "Far Cry 3\n",
      "Valkyria Chronicles\n",
      "Pokemon Y\n",
      "The Last of Us\n",
      "Tomb Raider\n",
      "Pokémon Black Version 2\n",
      "Red Dead Redemption Game of the Year\n",
      "The Legend of Zelda: Twilight Princess\n",
      "Halo 4\n",
      "Kingdom Hearts HD 1.5 Remix\n",
      "BioShock Infinite\n",
      "Assassin's Creed 4\n",
      "Super Mario Galaxy\n",
      "Batman Arkham City\n",
      "The Legend of Zelda: The Wind Waker HD\n"
     ]
    }
   ],
   "source": [
    "print_customer_prof(train_df, test_df, top_n)"
   ]
  },
  {
   "cell_type": "code",
   "execution_count": 117,
   "metadata": {},
   "outputs": [
    {
     "name": "stdout",
     "output_type": "stream",
     "text": [
      "Precision (UU - KNNBaseline - MSD): 0.005231284628269553\n"
     ]
    }
   ],
   "source": [
    "prec = evaluate_precision(top_n, testset, threshold=4.0)\n",
    "print('Precision (UU - KNNBaseline - MSD):', prec)\n"
   ]
  },
  {
   "cell_type": "code",
   "execution_count": 118,
   "metadata": {},
   "outputs": [
    {
     "name": "stdout",
     "output_type": "stream",
     "text": [
      "MAP (UU - KNNBaseline - MSD): 0.05329418645946331\n"
     ]
    }
   ],
   "source": [
    "mean_ap = evaluate_map(top_n, testset, threshold=4.0)\n",
    "print('MAP (UU - KNNBaseline - MSD):', mean_ap)\n"
   ]
  },
  {
   "cell_type": "code",
   "execution_count": 119,
   "metadata": {},
   "outputs": [],
   "source": [
    "algo_5A = {'Model': 'II - KNNBaseline - MSD',\n",
    "           'RMSE': rmse,\n",
    "           'Unranked Precision': prec,\n",
    "           'MAP': mean_ap}"
   ]
  },
  {
   "cell_type": "markdown",
   "metadata": {},
   "source": [
    "**Search Best K based on Recall**"
   ]
  },
  {
   "cell_type": "code",
   "execution_count": 120,
   "metadata": {},
   "outputs": [],
   "source": [
    "# # HAHAHA\n",
    "# plot_recall(range(10,61,10), \n",
    "#             trainset, \n",
    "#             testset,\n",
    "#             algorithm='KNNBaseline',\n",
    "#             sim_options={'name': 'cosine', 'user_based': True})"
   ]
  },
  {
   "cell_type": "markdown",
   "metadata": {},
   "source": [
    "### 5.A.4. Make Recommendations for New Customer"
   ]
  },
  {
   "cell_type": "code",
   "execution_count": 121,
   "metadata": {
    "scrolled": false
   },
   "outputs": [
    {
     "name": "stdout",
     "output_type": "stream",
     "text": [
      "Estimating biases using als...\n",
      "Computing the msd similarity matrix...\n",
      "Done computing similarity matrix.\n"
     ]
    },
    {
     "data": {
      "text/html": [
       "<div>\n",
       "<style scoped>\n",
       "    .dataframe tbody tr th:only-of-type {\n",
       "        vertical-align: middle;\n",
       "    }\n",
       "\n",
       "    .dataframe tbody tr th {\n",
       "        vertical-align: top;\n",
       "    }\n",
       "\n",
       "    .dataframe thead th {\n",
       "        text-align: right;\n",
       "    }\n",
       "</style>\n",
       "<table border=\"1\" class=\"dataframe\">\n",
       "  <thead>\n",
       "    <tr style=\"text-align: right;\">\n",
       "      <th></th>\n",
       "      <th>items</th>\n",
       "      <th>rating</th>\n",
       "    </tr>\n",
       "  </thead>\n",
       "  <tbody>\n",
       "    <tr>\n",
       "      <th>218</th>\n",
       "      <td>Animal Crossing: Wild World</td>\n",
       "      <td>5.0</td>\n",
       "    </tr>\n",
       "    <tr>\n",
       "      <th>27</th>\n",
       "      <td>Call of Duty: Ghosts</td>\n",
       "      <td>5.0</td>\n",
       "    </tr>\n",
       "    <tr>\n",
       "      <th>97</th>\n",
       "      <td>Medal of Honor: Allied Assault - PC</td>\n",
       "      <td>5.0</td>\n",
       "    </tr>\n",
       "    <tr>\n",
       "      <th>65</th>\n",
       "      <td>Metal Gear Solid 2: Sons of Liberty</td>\n",
       "      <td>5.0</td>\n",
       "    </tr>\n",
       "    <tr>\n",
       "      <th>72</th>\n",
       "      <td>Metroid: Other M</td>\n",
       "      <td>5.0</td>\n",
       "    </tr>\n",
       "    <tr>\n",
       "      <th>219</th>\n",
       "      <td>Roller Coaster Tycoon</td>\n",
       "      <td>5.0</td>\n",
       "    </tr>\n",
       "    <tr>\n",
       "      <th>20</th>\n",
       "      <td>The Legend of Zelda: Twilight Princess</td>\n",
       "      <td>5.0</td>\n",
       "    </tr>\n",
       "    <tr>\n",
       "      <th>128</th>\n",
       "      <td>Lego Star Wars: The Complete Saga</td>\n",
       "      <td>5.0</td>\n",
       "    </tr>\n",
       "    <tr>\n",
       "      <th>123</th>\n",
       "      <td>Dance Central 2 - Xbox 360</td>\n",
       "      <td>5.0</td>\n",
       "    </tr>\n",
       "    <tr>\n",
       "      <th>142</th>\n",
       "      <td>Mario Kart DS</td>\n",
       "      <td>5.0</td>\n",
       "    </tr>\n",
       "  </tbody>\n",
       "</table>\n",
       "</div>"
      ],
      "text/plain": [
       "                                      items  rating\n",
       "218             Animal Crossing: Wild World     5.0\n",
       "27                     Call of Duty: Ghosts     5.0\n",
       "97      Medal of Honor: Allied Assault - PC     5.0\n",
       "65      Metal Gear Solid 2: Sons of Liberty     5.0\n",
       "72                         Metroid: Other M     5.0\n",
       "219                   Roller Coaster Tycoon     5.0\n",
       "20   The Legend of Zelda: Twilight Princess     5.0\n",
       "128       Lego Star Wars: The Complete Saga     5.0\n",
       "123              Dance Central 2 - Xbox 360     5.0\n",
       "142                           Mario Kart DS     5.0"
      ]
     },
     "execution_count": 121,
     "metadata": {},
     "output_type": "execute_result"
    }
   ],
   "source": [
    "new_products = ['Call of Duty: Ghosts', \n",
    "                'Call of Duty: Modern Warfare 2', \n",
    "                'Battlefield 3']\n",
    "\n",
    "recs = new_recommendations(new_products, whole, algo)\n",
    "recs.head(10)"
   ]
  },
  {
   "cell_type": "markdown",
   "metadata": {},
   "source": [
    "<br>\n",
    "## 5.B. User-User Collaborative Filtering (KNNBaseline - Pearson-baseline)\n",
    "\n",
    "A basic collaborative filtering algorithm taking into account a *baseline* rating.\n",
    "\n",
    "$${\\normalsize \\hat{r}_{ui} = b_{ui} + \\frac{ \\sum\\limits_{v \\in N^k_i(u)}\\text{sim}(u, v) \\cdot (r_{vi} - b_{vi})} {\\sum\\limits_{v \\in N^k_i(u)} \\text{sim}(u, v)} }$$\n",
    "\n",
    "Where:\n",
    "<br>\n",
    "$\\hat{r}_{ui}$ - Prediction for user $u$ and item $i$.<br>\n",
    "$b_{ui}$ - Baseline estimate for user $u$ and item $i$.<br>\n",
    "${v \\in N^k_u(i)}$ - $v$ users in $k$ neighborhood most similar to user $u$ for item $i$.<br>\n",
    "$\\text{sim}(u, v)$ - **Pearson-baseline** similarity between user $u$ and $v$.<br>\n",
    "$(r_{vi} - b_{vi})$ - Deviation of rating for user $u$ item $i$ and its baseline estimate.<br>"
   ]
  },
  {
   "cell_type": "markdown",
   "metadata": {},
   "source": [
    "### 5.B.1. Train Model"
   ]
  },
  {
   "cell_type": "code",
   "execution_count": 122,
   "metadata": {
    "scrolled": false
   },
   "outputs": [
    {
     "name": "stdout",
     "output_type": "stream",
     "text": [
      "Estimating biases using als...\n",
      "Computing the pearson_baseline similarity matrix...\n",
      "Done computing similarity matrix.\n"
     ]
    },
    {
     "data": {
      "text/plain": [
       "<surprise.prediction_algorithms.knns.KNNBaseline at 0x1a0d076d30>"
      ]
     },
     "execution_count": 122,
     "metadata": {},
     "output_type": "execute_result"
    }
   ],
   "source": [
    "# Use user_based true/false to switch between user-based or item-based collaborative filtering\n",
    "# Here we will use user based collaborative filtering, so True.\n",
    "\n",
    "algo = KNNBaseline(k=50, sim_options={'name': 'pearson_baseline', 'user_based': True})\n",
    "algo.fit(trainset)\n"
   ]
  },
  {
   "cell_type": "markdown",
   "metadata": {},
   "source": [
    "### 5.B.2. Evaluate Model (RMSE)"
   ]
  },
  {
   "cell_type": "code",
   "execution_count": 123,
   "metadata": {},
   "outputs": [
    {
     "name": "stdout",
     "output_type": "stream",
     "text": [
      "User-based (UU - KNNBaseline - Pearson-baseline) Model : Test Set\n",
      "RMSE: 1.2253\n"
     ]
    }
   ],
   "source": [
    "# Evaluate test set\n",
    "print(\"User-based (UU - KNNBaseline - Pearson-baseline) Model : Test Set\")\n",
    "test_pred = algo.test(testset)\n",
    "rmse = accuracy.rmse(test_pred, verbose=True)"
   ]
  },
  {
   "cell_type": "markdown",
   "metadata": {},
   "source": [
    "**Search Best K based on RMSE**"
   ]
  },
  {
   "cell_type": "code",
   "execution_count": 124,
   "metadata": {},
   "outputs": [
    {
     "data": {
      "image/png": "[encoded data removed]",
      "text/plain": [
       "<Figure size 720x504 with 1 Axes>"
      ]
     },
     "metadata": {
      "image/png": {
       "height": 441,
       "width": 614
      }
     },
     "output_type": "display_data"
    }
   ],
   "source": [
    "scores = plot_rmse(range(1,100), \n",
    "                   trainset, \n",
    "                   testset, \n",
    "                   algorithm='KNNBaseline', \n",
    "                   sim_options={'name': 'pearson_baseline', 'user_based': True})"
   ]
  },
  {
   "cell_type": "code",
   "execution_count": 125,
   "metadata": {
    "scrolled": true
   },
   "outputs": [
    {
     "data": {
      "text/html": [
       "<div>\n",
       "<style scoped>\n",
       "    .dataframe tbody tr th:only-of-type {\n",
       "        vertical-align: middle;\n",
       "    }\n",
       "\n",
       "    .dataframe tbody tr th {\n",
       "        vertical-align: top;\n",
       "    }\n",
       "\n",
       "    .dataframe thead th {\n",
       "        text-align: right;\n",
       "    }\n",
       "</style>\n",
       "<table border=\"1\" class=\"dataframe\">\n",
       "  <thead>\n",
       "    <tr style=\"text-align: right;\">\n",
       "      <th></th>\n",
       "      <th>k</th>\n",
       "      <th>test_rmse</th>\n",
       "    </tr>\n",
       "  </thead>\n",
       "  <tbody>\n",
       "    <tr>\n",
       "      <th>59</th>\n",
       "      <td>60</td>\n",
       "      <td>1.225307</td>\n",
       "    </tr>\n",
       "    <tr>\n",
       "      <th>54</th>\n",
       "      <td>55</td>\n",
       "      <td>1.225307</td>\n",
       "    </tr>\n",
       "    <tr>\n",
       "      <th>57</th>\n",
       "      <td>58</td>\n",
       "      <td>1.225307</td>\n",
       "    </tr>\n",
       "    <tr>\n",
       "      <th>60</th>\n",
       "      <td>61</td>\n",
       "      <td>1.225307</td>\n",
       "    </tr>\n",
       "    <tr>\n",
       "      <th>62</th>\n",
       "      <td>63</td>\n",
       "      <td>1.225307</td>\n",
       "    </tr>\n",
       "  </tbody>\n",
       "</table>\n",
       "</div>"
      ],
      "text/plain": [
       "     k  test_rmse\n",
       "59  60   1.225307\n",
       "54  55   1.225307\n",
       "57  58   1.225307\n",
       "60  61   1.225307\n",
       "62  63   1.225307"
      ]
     },
     "execution_count": 125,
     "metadata": {},
     "output_type": "execute_result"
    }
   ],
   "source": [
    "# Sort rmse scores and pick value of k that has lowest rmse on the test set\n",
    "scores.sort_values(by='test_rmse', ascending=True, inplace=True)\n",
    "scores.head(5)"
   ]
  },
  {
   "cell_type": "code",
   "execution_count": 126,
   "metadata": {},
   "outputs": [
    {
     "name": "stdout",
     "output_type": "stream",
     "text": [
      "Estimating biases using als...\n",
      "Computing the pearson_baseline similarity matrix...\n",
      "Done computing similarity matrix.\n"
     ]
    },
    {
     "data": {
      "text/plain": [
       "<surprise.prediction_algorithms.knns.KNNBaseline at 0x1a0d8f9b70>"
      ]
     },
     "execution_count": 126,
     "metadata": {},
     "output_type": "execute_result"
    }
   ],
   "source": [
    "# Refit model with best k\n",
    "best_k = scores[:1]['k'].values[0]\n",
    "\n",
    "algo = KNNBaseline(k=best_k, sim_options={'name': 'pearson_baseline', 'user_based': True})\n",
    "algo.fit(trainset)"
   ]
  },
  {
   "cell_type": "markdown",
   "metadata": {},
   "source": [
    "### 5.B.3. Evaluate Model (Recall)"
   ]
  },
  {
   "cell_type": "markdown",
   "metadata": {},
   "source": [
    "**Get Recommendations for Example User**"
   ]
  },
  {
   "cell_type": "code",
   "execution_count": 127,
   "metadata": {},
   "outputs": [],
   "source": [
    "# Than predict ratings for all pairs (u, i) that are NOT in the training set.\n",
    "train_pred_set = trainset.build_anti_testset()\n",
    "train_preds = algo.test(train_pred_set)\n",
    "\n",
    "# Make predictions\n",
    "top_n = get_n_recommendations(train_preds)\n"
   ]
  },
  {
   "cell_type": "code",
   "execution_count": 128,
   "metadata": {},
   "outputs": [
    {
     "name": "stdout",
     "output_type": "stream",
     "text": [
      "Pre-2014 selections (customer id - 10345078):\n",
      "                                        product_title  star_rating\n",
      "1621                            God of War: Ascension            5\n",
      "4031                   Mortal Kombat Komplete Edition            5\n",
      "5094                   Uncharted 3: Drake's Deception            5\n",
      "5568     Batman: Arkham City Game of the Year Edition            5\n",
      "7888                                  Resident Evil 6            5\n",
      "14548      Call of Duty: Black Ops II - PlayStation 3            5\n",
      "16008                      Need for Speed Most Wanted            5\n",
      "17495                                    Dead Space 3            5\n",
      "17997                                   Battlefield 3            5\n",
      "18677                                     Max Payne 3            5\n",
      "19033                   Assassin's Creed: Brotherhood            5\n",
      "19200                            Assassin's Creed III            5\n",
      "22727                                        LA Noire            5\n",
      "23741                                      Dishonored            5\n",
      "23847  Call of Duty: Modern Warfare 3 - Playstation 3            5\n",
      "27978                                  FIFA Soccer 13            5\n",
      "28223                      Medal of Honor: Warfighter            5\n",
      "\n",
      "Post-2014 selections (customer id - 10345078):\n",
      "                              product_title  star_rating\n",
      "97                            Battlefield 4          5.0\n",
      "694                   Batman Arkham Origins          5.0\n",
      "910                Injustice: Gods Among Us          5.0\n",
      "1188                      BEYOND: Two Souls          5.0\n",
      "1358                         The Last of Us          5.0\n",
      "1486                     Assassin's Creed 4          5.0\n",
      "2731  Killzone: Shadow Fall (PlayStation 4)          5.0\n",
      "2831                   Call of Duty: Ghosts          5.0\n",
      "2962               Injustice: Gods Among Us          5.0\n",
      "3059  Assassin's Creed Ezio Trilogy Edition          5.0\n",
      "\n",
      "Recommendations:\n",
      "Far Cry 3\n",
      "Pokemon Y\n",
      "Call of Duty: Modern Warfare 2\n",
      "The Last of Us\n",
      "Tomb Raider\n",
      "Red Dead Redemption Game of the Year\n",
      "Zumba Fitness Rush - Xbox 360\n",
      "Forza Motorsport 4\n",
      "Heavy Rain: Director's Cut PS3\n",
      "The Legend of Zelda: Twilight Princess\n",
      "Halo 4\n",
      "Super Mario 3D Land\n",
      "Knack (PlayStation 4)\n",
      "LittleBigPlanet\n",
      "Kingdom Hearts HD 1.5 Remix\n"
     ]
    }
   ],
   "source": [
    "print_customer_prof(train_df, test_df, top_n)"
   ]
  },
  {
   "cell_type": "code",
   "execution_count": 129,
   "metadata": {},
   "outputs": [
    {
     "name": "stdout",
     "output_type": "stream",
     "text": [
      "Precision (UU - KNNBaseline - Pearson-baseline): 0.011081046256925655\n"
     ]
    }
   ],
   "source": [
    "prec = evaluate_precision(top_n, testset, threshold=4.0)\n",
    "print('Precision (UU - KNNBaseline - Pearson-baseline):', prec)\n"
   ]
  },
  {
   "cell_type": "code",
   "execution_count": 130,
   "metadata": {},
   "outputs": [
    {
     "name": "stdout",
     "output_type": "stream",
     "text": [
      "MAP (UU - KNNBaseline - Pearson-baseline): 0.10831140760620517\n"
     ]
    }
   ],
   "source": [
    "mean_ap = evaluate_map(top_n, testset, threshold=4.0)\n",
    "print('MAP (UU - KNNBaseline - Pearson-baseline):', mean_ap)\n"
   ]
  },
  {
   "cell_type": "code",
   "execution_count": 131,
   "metadata": {},
   "outputs": [],
   "source": [
    "algo_5B = {'Model': 'UU - KNNBaseline - Pearson-baseline',\n",
    "           'RMSE': rmse,\n",
    "           'Unranked Precision': prec,\n",
    "           'MAP': mean_ap}"
   ]
  },
  {
   "cell_type": "markdown",
   "metadata": {},
   "source": [
    "**Search Best K based on Recall**"
   ]
  },
  {
   "cell_type": "code",
   "execution_count": 132,
   "metadata": {},
   "outputs": [],
   "source": [
    "# # HAHAHA\n",
    "# plot_recall(range(10,61,10), \n",
    "#             trainset, \n",
    "#             testset,\n",
    "#             algorithm='KNNBaseline',\n",
    "#             sim_options={'name': 'pearson', 'user_based': True})"
   ]
  },
  {
   "cell_type": "markdown",
   "metadata": {},
   "source": [
    "### 5.B.4. Make Recommendations for New Customer"
   ]
  },
  {
   "cell_type": "code",
   "execution_count": 133,
   "metadata": {
    "scrolled": false
   },
   "outputs": [
    {
     "name": "stdout",
     "output_type": "stream",
     "text": [
      "Estimating biases using als...\n",
      "Computing the pearson_baseline similarity matrix...\n",
      "Done computing similarity matrix.\n"
     ]
    },
    {
     "data": {
      "text/html": [
       "<div>\n",
       "<style scoped>\n",
       "    .dataframe tbody tr th:only-of-type {\n",
       "        vertical-align: middle;\n",
       "    }\n",
       "\n",
       "    .dataframe tbody tr th {\n",
       "        vertical-align: top;\n",
       "    }\n",
       "\n",
       "    .dataframe thead th {\n",
       "        text-align: right;\n",
       "    }\n",
       "</style>\n",
       "<table border=\"1\" class=\"dataframe\">\n",
       "  <thead>\n",
       "    <tr style=\"text-align: right;\">\n",
       "      <th></th>\n",
       "      <th>items</th>\n",
       "      <th>rating</th>\n",
       "    </tr>\n",
       "  </thead>\n",
       "  <tbody>\n",
       "    <tr>\n",
       "      <th>33</th>\n",
       "      <td>Metal Gear Solid 4: Guns of the Patriots</td>\n",
       "      <td>5.0</td>\n",
       "    </tr>\n",
       "    <tr>\n",
       "      <th>218</th>\n",
       "      <td>Animal Crossing: Wild World</td>\n",
       "      <td>5.0</td>\n",
       "    </tr>\n",
       "    <tr>\n",
       "      <th>205</th>\n",
       "      <td>Grand Theft Auto: San Andreas</td>\n",
       "      <td>5.0</td>\n",
       "    </tr>\n",
       "    <tr>\n",
       "      <th>108</th>\n",
       "      <td>Red Dead Redemption</td>\n",
       "      <td>5.0</td>\n",
       "    </tr>\n",
       "    <tr>\n",
       "      <th>103</th>\n",
       "      <td>Mass Effect - Xbox 360 (Limited)</td>\n",
       "      <td>5.0</td>\n",
       "    </tr>\n",
       "    <tr>\n",
       "      <th>35</th>\n",
       "      <td>LittleBigPlanet</td>\n",
       "      <td>5.0</td>\n",
       "    </tr>\n",
       "    <tr>\n",
       "      <th>198</th>\n",
       "      <td>FIFA Soccer 13</td>\n",
       "      <td>5.0</td>\n",
       "    </tr>\n",
       "    <tr>\n",
       "      <th>146</th>\n",
       "      <td>Super Mario 64</td>\n",
       "      <td>5.0</td>\n",
       "    </tr>\n",
       "    <tr>\n",
       "      <th>147</th>\n",
       "      <td>Uncharted 2: Among Thieves - Playstation 3</td>\n",
       "      <td>5.0</td>\n",
       "    </tr>\n",
       "    <tr>\n",
       "      <th>99</th>\n",
       "      <td>God Of War Collection</td>\n",
       "      <td>5.0</td>\n",
       "    </tr>\n",
       "  </tbody>\n",
       "</table>\n",
       "</div>"
      ],
      "text/plain": [
       "                                          items  rating\n",
       "33     Metal Gear Solid 4: Guns of the Patriots     5.0\n",
       "218                 Animal Crossing: Wild World     5.0\n",
       "205               Grand Theft Auto: San Andreas     5.0\n",
       "108                         Red Dead Redemption     5.0\n",
       "103            Mass Effect - Xbox 360 (Limited)     5.0\n",
       "35                              LittleBigPlanet     5.0\n",
       "198                              FIFA Soccer 13     5.0\n",
       "146                              Super Mario 64     5.0\n",
       "147  Uncharted 2: Among Thieves - Playstation 3     5.0\n",
       "99                        God Of War Collection     5.0"
      ]
     },
     "execution_count": 133,
     "metadata": {},
     "output_type": "execute_result"
    }
   ],
   "source": [
    "new_products = ['Call of Duty: Ghosts', \n",
    "                'Call of Duty: Modern Warfare 2', \n",
    "                'Battlefield 3']\n",
    "\n",
    "recs = new_recommendations(new_products, whole, algo)\n",
    "recs.head(10)"
   ]
  },
  {
   "cell_type": "markdown",
   "metadata": {},
   "source": [
    "<br>\n",
    "## 6.A. Item-Item Collaborative Filtering (KNNBaseline - MSD)\n",
    "\n",
    "A basic collaborative filtering algorithm taking into account a *baseline* rating.\n",
    "\n",
    "$${\\normalsize \\hat{r}_{ui} = b_{ui} + \\frac{ \\sum\\limits_{j \\in N^k_u(i)}\\text{sim}(i, j) \\cdot (r_{uj} - b_{uj})} {\\sum\\limits_{j \\in N^k_u(i)} \\text{sim}(i, j)} }$$\n",
    "\n",
    "Where:\n",
    "<br>\n",
    "$\\hat{r}_{ui}$ - Prediction for user $u$ and item $i$.<br>\n",
    "$b_{ui}$ - Baseline estimate for user $u$ and item $i$.<br>\n",
    "${j \\in N^k_u(i)}$ - $j$ items in $k$ neighborhood most similar to item $i$ for user $u$.<br>\n",
    "$\\text{sim}(i, j)$ - **MSD** similarity between items $i$ and $j$.<br>\n",
    "$(r_{uj} - b_{uj})$ - Deviation of rating for user $u$ item $j$ and its baseline estimate.<br>"
   ]
  },
  {
   "cell_type": "markdown",
   "metadata": {},
   "source": [
    "### 6.A.1. Train Model"
   ]
  },
  {
   "cell_type": "code",
   "execution_count": 134,
   "metadata": {
    "scrolled": false
   },
   "outputs": [
    {
     "name": "stdout",
     "output_type": "stream",
     "text": [
      "Estimating biases using als...\n",
      "Computing the msd similarity matrix...\n",
      "Done computing similarity matrix.\n"
     ]
    },
    {
     "data": {
      "text/plain": [
       "<surprise.prediction_algorithms.knns.KNNBaseline at 0x1a4f2d5358>"
      ]
     },
     "execution_count": 134,
     "metadata": {},
     "output_type": "execute_result"
    }
   ],
   "source": [
    "# Use user_based true/false to switch between user-based or item-based collaborative filtering\n",
    "# Here we will use user based collaborative filtering, so True.\n",
    "\n",
    "algo = KNNBaseline(k=50, sim_options={'name': 'msd', 'user_based': False})\n",
    "algo.fit(trainset)\n"
   ]
  },
  {
   "cell_type": "markdown",
   "metadata": {},
   "source": [
    "### 6.A.2. Evaluate Model (RMSE)"
   ]
  },
  {
   "cell_type": "code",
   "execution_count": 135,
   "metadata": {},
   "outputs": [
    {
     "name": "stdout",
     "output_type": "stream",
     "text": [
      "Item-based (II - KNNBaseline - MSD) Model : Test Set\n",
      "RMSE: 1.2275\n"
     ]
    }
   ],
   "source": [
    "# Evaluate test set\n",
    "print(\"Item-based (II - KNNBaseline - MSD) Model : Test Set\")\n",
    "test_pred = algo.test(testset)\n",
    "rmse = accuracy.rmse(test_pred, verbose=True)"
   ]
  },
  {
   "cell_type": "markdown",
   "metadata": {},
   "source": [
    "**Search Best K based on RMSE**"
   ]
  },
  {
   "cell_type": "code",
   "execution_count": 136,
   "metadata": {},
   "outputs": [
    {
     "data": {
      "image/png": "[encoded data removed]",
      "text/plain": [
       "<Figure size 720x504 with 1 Axes>"
      ]
     },
     "metadata": {
      "image/png": {
       "height": 441,
       "width": 614
      }
     },
     "output_type": "display_data"
    }
   ],
   "source": [
    "scores = plot_rmse(range(1,100), \n",
    "                   trainset, \n",
    "                   testset, \n",
    "                   algorithm='KNNBaseline', \n",
    "                   sim_options={'name': 'msd', 'user_based': False})"
   ]
  },
  {
   "cell_type": "code",
   "execution_count": 137,
   "metadata": {
    "scrolled": true
   },
   "outputs": [
    {
     "data": {
      "text/html": [
       "<div>\n",
       "<style scoped>\n",
       "    .dataframe tbody tr th:only-of-type {\n",
       "        vertical-align: middle;\n",
       "    }\n",
       "\n",
       "    .dataframe tbody tr th {\n",
       "        vertical-align: top;\n",
       "    }\n",
       "\n",
       "    .dataframe thead th {\n",
       "        text-align: right;\n",
       "    }\n",
       "</style>\n",
       "<table border=\"1\" class=\"dataframe\">\n",
       "  <thead>\n",
       "    <tr style=\"text-align: right;\">\n",
       "      <th></th>\n",
       "      <th>k</th>\n",
       "      <th>test_rmse</th>\n",
       "    </tr>\n",
       "  </thead>\n",
       "  <tbody>\n",
       "    <tr>\n",
       "      <th>22</th>\n",
       "      <td>23</td>\n",
       "      <td>1.227432</td>\n",
       "    </tr>\n",
       "    <tr>\n",
       "      <th>23</th>\n",
       "      <td>24</td>\n",
       "      <td>1.227437</td>\n",
       "    </tr>\n",
       "    <tr>\n",
       "      <th>21</th>\n",
       "      <td>22</td>\n",
       "      <td>1.227447</td>\n",
       "    </tr>\n",
       "    <tr>\n",
       "      <th>24</th>\n",
       "      <td>25</td>\n",
       "      <td>1.227448</td>\n",
       "    </tr>\n",
       "    <tr>\n",
       "      <th>20</th>\n",
       "      <td>21</td>\n",
       "      <td>1.227448</td>\n",
       "    </tr>\n",
       "  </tbody>\n",
       "</table>\n",
       "</div>"
      ],
      "text/plain": [
       "     k  test_rmse\n",
       "22  23   1.227432\n",
       "23  24   1.227437\n",
       "21  22   1.227447\n",
       "24  25   1.227448\n",
       "20  21   1.227448"
      ]
     },
     "execution_count": 137,
     "metadata": {},
     "output_type": "execute_result"
    }
   ],
   "source": [
    "# Sort rmse scores and pick value of k that has lowest rmse on the test set\n",
    "scores.sort_values(by='test_rmse', ascending=True, inplace=True)\n",
    "scores.head(5)"
   ]
  },
  {
   "cell_type": "code",
   "execution_count": 138,
   "metadata": {},
   "outputs": [
    {
     "name": "stdout",
     "output_type": "stream",
     "text": [
      "Estimating biases using als...\n",
      "Computing the msd similarity matrix...\n",
      "Done computing similarity matrix.\n"
     ]
    },
    {
     "data": {
      "text/plain": [
       "<surprise.prediction_algorithms.knns.KNNBaseline at 0x1a9d5fc3c8>"
      ]
     },
     "execution_count": 138,
     "metadata": {},
     "output_type": "execute_result"
    }
   ],
   "source": [
    "# Refit model with best k\n",
    "best_k = scores[:1]['k'].values[0]\n",
    "\n",
    "algo = KNNBaseline(k=best_k, sim_options={'name': 'msd', 'user_based': False})\n",
    "algo.fit(trainset)"
   ]
  },
  {
   "cell_type": "markdown",
   "metadata": {},
   "source": [
    "### 6.A.3. Evaluate Model (Recall)"
   ]
  },
  {
   "cell_type": "markdown",
   "metadata": {},
   "source": [
    "**Get Recommendations for Example User**"
   ]
  },
  {
   "cell_type": "code",
   "execution_count": 139,
   "metadata": {},
   "outputs": [],
   "source": [
    "# Than predict ratings for all pairs (u, i) that are NOT in the training set.\n",
    "train_pred_set = trainset.build_anti_testset()\n",
    "train_preds = algo.test(train_pred_set)\n",
    "\n",
    "# Make predictions\n",
    "top_n = get_n_recommendations(train_preds)\n"
   ]
  },
  {
   "cell_type": "code",
   "execution_count": 140,
   "metadata": {},
   "outputs": [
    {
     "name": "stdout",
     "output_type": "stream",
     "text": [
      "Pre-2014 selections (customer id - 10345078):\n",
      "                                        product_title  star_rating\n",
      "1621                            God of War: Ascension            5\n",
      "4031                   Mortal Kombat Komplete Edition            5\n",
      "5094                   Uncharted 3: Drake's Deception            5\n",
      "5568     Batman: Arkham City Game of the Year Edition            5\n",
      "7888                                  Resident Evil 6            5\n",
      "14548      Call of Duty: Black Ops II - PlayStation 3            5\n",
      "16008                      Need for Speed Most Wanted            5\n",
      "17495                                    Dead Space 3            5\n",
      "17997                                   Battlefield 3            5\n",
      "18677                                     Max Payne 3            5\n",
      "19033                   Assassin's Creed: Brotherhood            5\n",
      "19200                            Assassin's Creed III            5\n",
      "22727                                        LA Noire            5\n",
      "23741                                      Dishonored            5\n",
      "23847  Call of Duty: Modern Warfare 3 - Playstation 3            5\n",
      "27978                                  FIFA Soccer 13            5\n",
      "28223                      Medal of Honor: Warfighter            5\n",
      "\n",
      "Post-2014 selections (customer id - 10345078):\n",
      "                              product_title  star_rating\n",
      "97                            Battlefield 4          5.0\n",
      "694                   Batman Arkham Origins          5.0\n",
      "910                Injustice: Gods Among Us          5.0\n",
      "1188                      BEYOND: Two Souls          5.0\n",
      "1358                         The Last of Us          5.0\n",
      "1486                     Assassin's Creed 4          5.0\n",
      "2731  Killzone: Shadow Fall (PlayStation 4)          5.0\n",
      "2831                   Call of Duty: Ghosts          5.0\n",
      "2962               Injustice: Gods Among Us          5.0\n",
      "3059  Assassin's Creed Ezio Trilogy Edition          5.0\n",
      "\n",
      "Recommendations:\n",
      "Far Cry 3\n",
      "Valkyria Chronicles\n",
      "Pokemon Y\n",
      "Halo Reach\n",
      "The Last of Us\n",
      "Tomb Raider\n",
      "Pokémon Black Version 2\n",
      "Luigi's Mansion: Dark Moon\n",
      "Red Dead Redemption Game of the Year\n",
      "Zumba Fitness Rush - Xbox 360\n",
      "Forza Motorsport 4\n",
      "Heavy Rain: Director's Cut PS3\n",
      "The Legend of Zelda: Twilight Princess\n",
      "Halo 4\n",
      "Gears of War 3\n"
     ]
    }
   ],
   "source": [
    "print_customer_prof(train_df, test_df, top_n)"
   ]
  },
  {
   "cell_type": "code",
   "execution_count": 141,
   "metadata": {},
   "outputs": [
    {
     "name": "stdout",
     "output_type": "stream",
     "text": [
      "Precision (II - KNNBaseline - MSD): 0.011338745007086717\n"
     ]
    }
   ],
   "source": [
    "prec = evaluate_precision(top_n, testset, threshold=4.0)\n",
    "print('Precision (II - KNNBaseline - MSD):', prec)\n"
   ]
  },
  {
   "cell_type": "code",
   "execution_count": 142,
   "metadata": {},
   "outputs": [
    {
     "name": "stdout",
     "output_type": "stream",
     "text": [
      "MAP (II - KNNBaseline - MSD): 0.11644231285564478\n"
     ]
    }
   ],
   "source": [
    "mean_ap = evaluate_map(top_n, testset, threshold=4.0)\n",
    "print('MAP (II - KNNBaseline - MSD):', mean_ap)\n"
   ]
  },
  {
   "cell_type": "code",
   "execution_count": 143,
   "metadata": {},
   "outputs": [],
   "source": [
    "algo_6A = {'Model': 'II - KNNBaseline - MSD',\n",
    "           'RMSE': rmse,\n",
    "           'Unranked Precision': prec,\n",
    "           'MAP': mean_ap}"
   ]
  },
  {
   "cell_type": "markdown",
   "metadata": {},
   "source": [
    "**Search Best K based on Recall**"
   ]
  },
  {
   "cell_type": "code",
   "execution_count": 144,
   "metadata": {},
   "outputs": [],
   "source": [
    "# # HAHAHA\n",
    "# plot_recall(range(10,61,10), \n",
    "#             trainset, \n",
    "#             testset,\n",
    "#             algorithm='KNNBaseline',\n",
    "#             sim_options={'name': 'cosine', 'user_based': False})"
   ]
  },
  {
   "cell_type": "markdown",
   "metadata": {},
   "source": [
    "### 6.A.4. Make Recommendations for New Customer"
   ]
  },
  {
   "cell_type": "code",
   "execution_count": 145,
   "metadata": {
    "scrolled": false
   },
   "outputs": [
    {
     "name": "stdout",
     "output_type": "stream",
     "text": [
      "Estimating biases using als...\n",
      "Computing the msd similarity matrix...\n",
      "Done computing similarity matrix.\n"
     ]
    },
    {
     "data": {
      "text/html": [
       "<div>\n",
       "<style scoped>\n",
       "    .dataframe tbody tr th:only-of-type {\n",
       "        vertical-align: middle;\n",
       "    }\n",
       "\n",
       "    .dataframe tbody tr th {\n",
       "        vertical-align: top;\n",
       "    }\n",
       "\n",
       "    .dataframe thead th {\n",
       "        text-align: right;\n",
       "    }\n",
       "</style>\n",
       "<table border=\"1\" class=\"dataframe\">\n",
       "  <thead>\n",
       "    <tr style=\"text-align: right;\">\n",
       "      <th></th>\n",
       "      <th>items</th>\n",
       "      <th>rating</th>\n",
       "    </tr>\n",
       "  </thead>\n",
       "  <tbody>\n",
       "    <tr>\n",
       "      <th>112</th>\n",
       "      <td>Killzone 3</td>\n",
       "      <td>5.0</td>\n",
       "    </tr>\n",
       "    <tr>\n",
       "      <th>96</th>\n",
       "      <td>Kingdom Hearts II - PlayStation 2</td>\n",
       "      <td>5.0</td>\n",
       "    </tr>\n",
       "    <tr>\n",
       "      <th>133</th>\n",
       "      <td>PlayStation All-Stars Battle Royale</td>\n",
       "      <td>5.0</td>\n",
       "    </tr>\n",
       "    <tr>\n",
       "      <th>135</th>\n",
       "      <td>Rocksmith</td>\n",
       "      <td>5.0</td>\n",
       "    </tr>\n",
       "    <tr>\n",
       "      <th>136</th>\n",
       "      <td>God of War III</td>\n",
       "      <td>5.0</td>\n",
       "    </tr>\n",
       "    <tr>\n",
       "      <th>137</th>\n",
       "      <td>New Super Mario Bros</td>\n",
       "      <td>5.0</td>\n",
       "    </tr>\n",
       "    <tr>\n",
       "      <th>138</th>\n",
       "      <td>Mortal Kombat vs. DC Universe</td>\n",
       "      <td>5.0</td>\n",
       "    </tr>\n",
       "    <tr>\n",
       "      <th>139</th>\n",
       "      <td>Donkey Kong Country Returns</td>\n",
       "      <td>5.0</td>\n",
       "    </tr>\n",
       "    <tr>\n",
       "      <th>140</th>\n",
       "      <td>Super Smash Bros Melee</td>\n",
       "      <td>5.0</td>\n",
       "    </tr>\n",
       "    <tr>\n",
       "      <th>142</th>\n",
       "      <td>Mario Kart DS</td>\n",
       "      <td>5.0</td>\n",
       "    </tr>\n",
       "  </tbody>\n",
       "</table>\n",
       "</div>"
      ],
      "text/plain": [
       "                                   items  rating\n",
       "112                           Killzone 3     5.0\n",
       "96     Kingdom Hearts II - PlayStation 2     5.0\n",
       "133  PlayStation All-Stars Battle Royale     5.0\n",
       "135                            Rocksmith     5.0\n",
       "136                       God of War III     5.0\n",
       "137                 New Super Mario Bros     5.0\n",
       "138        Mortal Kombat vs. DC Universe     5.0\n",
       "139          Donkey Kong Country Returns     5.0\n",
       "140               Super Smash Bros Melee     5.0\n",
       "142                        Mario Kart DS     5.0"
      ]
     },
     "execution_count": 145,
     "metadata": {},
     "output_type": "execute_result"
    }
   ],
   "source": [
    "new_products = ['Call of Duty: Ghosts', \n",
    "                'Call of Duty: Modern Warfare 2', \n",
    "                'Battlefield 3']\n",
    "\n",
    "recs = new_recommendations(new_products, whole, algo)\n",
    "recs.head(10)"
   ]
  },
  {
   "cell_type": "markdown",
   "metadata": {},
   "source": [
    "<br>\n",
    "## 6.B. Item-Item Collaborative Filtering (KNNBaseline - Pearson-baseline)\n",
    "\n",
    "A basic collaborative filtering algorithm taking into account a *baseline* rating.\n",
    "\n",
    "$${\\normalsize \\hat{r}_{ui} = b_{ui} + \\frac{ \\sum\\limits_{j \\in N^k_u(i)}\\text{sim}(i, j) \\cdot (r_{uj} - b_{uj})} {\\sum\\limits_{j \\in N^k_u(i)} \\text{sim}(i, j)} }$$\n",
    "\n",
    "Where:\n",
    "<br>\n",
    "$\\hat{r}_{ui}$ - Prediction for user $u$ and item $i$.<br>\n",
    "$b_{ui}$ - Baseline estimate for user $u$ and item $i$.<br>\n",
    "${j \\in N^k_u(i)}$ - $j$ items in $k$ neighborhood most similar to item $i$ for user $u$.<br>\n",
    "$\\text{sim}(i, j)$ - **Pearson-baseline** similarity between items $i$ and $j$.<br>\n",
    "$(r_{uj} - b_{uj})$ - Deviation of rating for user $u$ item $j$ and its baseline estimate.<br>"
   ]
  },
  {
   "cell_type": "markdown",
   "metadata": {},
   "source": [
    "### 6.B.1. Train Model"
   ]
  },
  {
   "cell_type": "code",
   "execution_count": 146,
   "metadata": {
    "scrolled": false
   },
   "outputs": [
    {
     "name": "stdout",
     "output_type": "stream",
     "text": [
      "Estimating biases using als...\n",
      "Computing the pearson_baseline similarity matrix...\n",
      "Done computing similarity matrix.\n"
     ]
    },
    {
     "data": {
      "text/plain": [
       "<surprise.prediction_algorithms.knns.KNNBaseline at 0x1a0da03160>"
      ]
     },
     "execution_count": 146,
     "metadata": {},
     "output_type": "execute_result"
    }
   ],
   "source": [
    "# Use user_based true/false to switch between user-based or item-based collaborative filtering\n",
    "# Here we will use user based collaborative filtering, so True.\n",
    "\n",
    "algo = KNNBaseline(k=50, sim_options={'name': 'pearson_baseline', 'user_based': False})\n",
    "algo.fit(trainset)\n"
   ]
  },
  {
   "cell_type": "markdown",
   "metadata": {},
   "source": [
    "### 6.B.2. Evaluate Model (RMSE)"
   ]
  },
  {
   "cell_type": "code",
   "execution_count": 147,
   "metadata": {},
   "outputs": [
    {
     "name": "stdout",
     "output_type": "stream",
     "text": [
      "Item-based (KNNBaseline - Pearson-baseline) Model : Test Set\n",
      "RMSE: 1.2063\n"
     ]
    }
   ],
   "source": [
    "# Evaluate test set\n",
    "print(\"Item-based (KNNBaseline - Pearson-baseline) Model : Test Set\")\n",
    "test_pred = algo.test(testset)\n",
    "rmse = accuracy.rmse(test_pred, verbose=True)"
   ]
  },
  {
   "cell_type": "markdown",
   "metadata": {},
   "source": [
    "**Search Best K based on RMSE**"
   ]
  },
  {
   "cell_type": "code",
   "execution_count": 148,
   "metadata": {},
   "outputs": [
    {
     "data": {
      "image/png": "[encoded data removed]",
      "text/plain": [
       "<Figure size 720x504 with 1 Axes>"
      ]
     },
     "metadata": {
      "image/png": {
       "height": 441,
       "width": 619
      }
     },
     "output_type": "display_data"
    }
   ],
   "source": [
    "scores = plot_rmse(range(1,100), \n",
    "                   trainset, \n",
    "                   testset, \n",
    "                   algorithm='KNNBaseline', \n",
    "                   sim_options={'name': 'pearson_baseline', 'user_based': False})"
   ]
  },
  {
   "cell_type": "code",
   "execution_count": 149,
   "metadata": {
    "scrolled": true
   },
   "outputs": [
    {
     "data": {
      "text/html": [
       "<div>\n",
       "<style scoped>\n",
       "    .dataframe tbody tr th:only-of-type {\n",
       "        vertical-align: middle;\n",
       "    }\n",
       "\n",
       "    .dataframe tbody tr th {\n",
       "        vertical-align: top;\n",
       "    }\n",
       "\n",
       "    .dataframe thead th {\n",
       "        text-align: right;\n",
       "    }\n",
       "</style>\n",
       "<table border=\"1\" class=\"dataframe\">\n",
       "  <thead>\n",
       "    <tr style=\"text-align: right;\">\n",
       "      <th></th>\n",
       "      <th>k</th>\n",
       "      <th>test_rmse</th>\n",
       "    </tr>\n",
       "  </thead>\n",
       "  <tbody>\n",
       "    <tr>\n",
       "      <th>49</th>\n",
       "      <td>50</td>\n",
       "      <td>1.206316</td>\n",
       "    </tr>\n",
       "    <tr>\n",
       "      <th>71</th>\n",
       "      <td>72</td>\n",
       "      <td>1.206316</td>\n",
       "    </tr>\n",
       "    <tr>\n",
       "      <th>70</th>\n",
       "      <td>71</td>\n",
       "      <td>1.206316</td>\n",
       "    </tr>\n",
       "    <tr>\n",
       "      <th>69</th>\n",
       "      <td>70</td>\n",
       "      <td>1.206316</td>\n",
       "    </tr>\n",
       "    <tr>\n",
       "      <th>68</th>\n",
       "      <td>69</td>\n",
       "      <td>1.206316</td>\n",
       "    </tr>\n",
       "  </tbody>\n",
       "</table>\n",
       "</div>"
      ],
      "text/plain": [
       "     k  test_rmse\n",
       "49  50   1.206316\n",
       "71  72   1.206316\n",
       "70  71   1.206316\n",
       "69  70   1.206316\n",
       "68  69   1.206316"
      ]
     },
     "execution_count": 149,
     "metadata": {},
     "output_type": "execute_result"
    }
   ],
   "source": [
    "# Sort rmse scores and pick value of k that has lowest rmse on the test set\n",
    "scores.sort_values(by='test_rmse', ascending=True, inplace=True)\n",
    "scores.head(5)"
   ]
  },
  {
   "cell_type": "code",
   "execution_count": 150,
   "metadata": {},
   "outputs": [
    {
     "name": "stdout",
     "output_type": "stream",
     "text": [
      "Estimating biases using als...\n",
      "Computing the pearson_baseline similarity matrix...\n",
      "Done computing similarity matrix.\n"
     ]
    },
    {
     "data": {
      "text/plain": [
       "<surprise.prediction_algorithms.knns.KNNBaseline at 0x1a0da2abe0>"
      ]
     },
     "execution_count": 150,
     "metadata": {},
     "output_type": "execute_result"
    }
   ],
   "source": [
    "# Refit model with best k\n",
    "best_k = scores[:1]['k'].values[0]\n",
    "\n",
    "algo = KNNBaseline(k=best_k, sim_options={'name': 'pearson_baseline', 'user_based': False})\n",
    "algo.fit(trainset)"
   ]
  },
  {
   "cell_type": "markdown",
   "metadata": {},
   "source": [
    "### 6.B.3. Evaluate Model (Recall)"
   ]
  },
  {
   "cell_type": "markdown",
   "metadata": {},
   "source": [
    "**Get Recommendations for Example User**"
   ]
  },
  {
   "cell_type": "code",
   "execution_count": 151,
   "metadata": {},
   "outputs": [],
   "source": [
    "# Than predict ratings for all pairs (u, i) that are NOT in the training set.\n",
    "train_pred_set = trainset.build_anti_testset()\n",
    "train_preds = algo.test(train_pred_set)\n",
    "\n",
    "# Make predictions\n",
    "top_n = get_n_recommendations(train_preds)\n"
   ]
  },
  {
   "cell_type": "code",
   "execution_count": 152,
   "metadata": {},
   "outputs": [
    {
     "name": "stdout",
     "output_type": "stream",
     "text": [
      "Pre-2014 selections (customer id - 10345078):\n",
      "                                        product_title  star_rating\n",
      "1621                            God of War: Ascension            5\n",
      "4031                   Mortal Kombat Komplete Edition            5\n",
      "5094                   Uncharted 3: Drake's Deception            5\n",
      "5568     Batman: Arkham City Game of the Year Edition            5\n",
      "7888                                  Resident Evil 6            5\n",
      "14548      Call of Duty: Black Ops II - PlayStation 3            5\n",
      "16008                      Need for Speed Most Wanted            5\n",
      "17495                                    Dead Space 3            5\n",
      "17997                                   Battlefield 3            5\n",
      "18677                                     Max Payne 3            5\n",
      "19033                   Assassin's Creed: Brotherhood            5\n",
      "19200                            Assassin's Creed III            5\n",
      "22727                                        LA Noire            5\n",
      "23741                                      Dishonored            5\n",
      "23847  Call of Duty: Modern Warfare 3 - Playstation 3            5\n",
      "27978                                  FIFA Soccer 13            5\n",
      "28223                      Medal of Honor: Warfighter            5\n",
      "\n",
      "Post-2014 selections (customer id - 10345078):\n",
      "                              product_title  star_rating\n",
      "97                            Battlefield 4          5.0\n",
      "694                   Batman Arkham Origins          5.0\n",
      "910                Injustice: Gods Among Us          5.0\n",
      "1188                      BEYOND: Two Souls          5.0\n",
      "1358                         The Last of Us          5.0\n",
      "1486                     Assassin's Creed 4          5.0\n",
      "2731  Killzone: Shadow Fall (PlayStation 4)          5.0\n",
      "2831                   Call of Duty: Ghosts          5.0\n",
      "2962               Injustice: Gods Among Us          5.0\n",
      "3059  Assassin's Creed Ezio Trilogy Edition          5.0\n",
      "\n",
      "Recommendations:\n",
      "Far Cry 3\n",
      "Valkyria Chronicles\n",
      "Pokemon Y\n",
      "Call of Duty: Modern Warfare 2\n",
      "Halo 3\n",
      "Halo Reach\n",
      "The Last of Us\n",
      "Tomb Raider\n",
      "Pokémon Black Version 2\n",
      "Luigi's Mansion: Dark Moon\n",
      "Red Dead Redemption Game of the Year\n",
      "Forza Motorsport 4\n",
      "Heavy Rain: Director's Cut PS3\n",
      "The Legend of Zelda: Twilight Princess\n",
      "Halo 4\n"
     ]
    }
   ],
   "source": [
    "print_customer_prof(train_df, test_df, top_n)"
   ]
  },
  {
   "cell_type": "code",
   "execution_count": 153,
   "metadata": {},
   "outputs": [
    {
     "name": "stdout",
     "output_type": "stream",
     "text": [
      "Precision (II - KNNBaseline - Pearson-baseline): 0.013967272258729546\n"
     ]
    }
   ],
   "source": [
    "prec = evaluate_precision(top_n, testset, threshold=4.0)\n",
    "print('Precision (II - KNNBaseline - Pearson-baseline):', prec)\n"
   ]
  },
  {
   "cell_type": "code",
   "execution_count": 154,
   "metadata": {},
   "outputs": [
    {
     "name": "stdout",
     "output_type": "stream",
     "text": [
      "MAP (II - KNNBaseline - Pearson-baseline): 0.1410182450404906\n"
     ]
    }
   ],
   "source": [
    "mean_ap = evaluate_map(top_n, testset, threshold=4.0)\n",
    "print('MAP (II - KNNBaseline - Pearson-baseline):', mean_ap)\n"
   ]
  },
  {
   "cell_type": "code",
   "execution_count": 155,
   "metadata": {},
   "outputs": [],
   "source": [
    "algo_6B = {'Model': 'II - KNNBaseline - Pearson-baseline',\n",
    "           'RMSE': rmse,\n",
    "           'Unranked Precision': prec,\n",
    "           'MAP': mean_ap}"
   ]
  },
  {
   "cell_type": "markdown",
   "metadata": {},
   "source": [
    "**Search Best K based on Recall**"
   ]
  },
  {
   "cell_type": "code",
   "execution_count": 156,
   "metadata": {},
   "outputs": [],
   "source": [
    "# # HAHAHA\n",
    "# plot_recall(range(10,61,10), \n",
    "#             trainset, \n",
    "#             testset,\n",
    "#             algorithm='KNNBaseline',\n",
    "#             sim_options={'name': 'cosine', 'user_based': False})"
   ]
  },
  {
   "cell_type": "markdown",
   "metadata": {},
   "source": [
    "### 6.B.4. Make Recommendations for New Customer"
   ]
  },
  {
   "cell_type": "code",
   "execution_count": 157,
   "metadata": {
    "scrolled": false
   },
   "outputs": [
    {
     "name": "stdout",
     "output_type": "stream",
     "text": [
      "Estimating biases using als...\n",
      "Computing the pearson_baseline similarity matrix...\n",
      "Done computing similarity matrix.\n"
     ]
    },
    {
     "data": {
      "text/html": [
       "<div>\n",
       "<style scoped>\n",
       "    .dataframe tbody tr th:only-of-type {\n",
       "        vertical-align: middle;\n",
       "    }\n",
       "\n",
       "    .dataframe tbody tr th {\n",
       "        vertical-align: top;\n",
       "    }\n",
       "\n",
       "    .dataframe thead th {\n",
       "        text-align: right;\n",
       "    }\n",
       "</style>\n",
       "<table border=\"1\" class=\"dataframe\">\n",
       "  <thead>\n",
       "    <tr style=\"text-align: right;\">\n",
       "      <th></th>\n",
       "      <th>items</th>\n",
       "      <th>rating</th>\n",
       "    </tr>\n",
       "  </thead>\n",
       "  <tbody>\n",
       "    <tr>\n",
       "      <th>112</th>\n",
       "      <td>Killzone 3</td>\n",
       "      <td>5.0</td>\n",
       "    </tr>\n",
       "    <tr>\n",
       "      <th>101</th>\n",
       "      <td>Borderlands</td>\n",
       "      <td>5.0</td>\n",
       "    </tr>\n",
       "    <tr>\n",
       "      <th>92</th>\n",
       "      <td>The Elder Scrolls V: Skyrim Legendary Edition</td>\n",
       "      <td>5.0</td>\n",
       "    </tr>\n",
       "    <tr>\n",
       "      <th>93</th>\n",
       "      <td>Halo 3: ODST</td>\n",
       "      <td>5.0</td>\n",
       "    </tr>\n",
       "    <tr>\n",
       "      <th>94</th>\n",
       "      <td>Call of Duty: World at War</td>\n",
       "      <td>5.0</td>\n",
       "    </tr>\n",
       "    <tr>\n",
       "      <th>98</th>\n",
       "      <td>Fallout 3</td>\n",
       "      <td>5.0</td>\n",
       "    </tr>\n",
       "    <tr>\n",
       "      <th>99</th>\n",
       "      <td>God Of War Collection</td>\n",
       "      <td>5.0</td>\n",
       "    </tr>\n",
       "    <tr>\n",
       "      <th>166</th>\n",
       "      <td>Dragon Age 2</td>\n",
       "      <td>5.0</td>\n",
       "    </tr>\n",
       "    <tr>\n",
       "      <th>165</th>\n",
       "      <td>Kingdoms of Amalur: Reckoning</td>\n",
       "      <td>5.0</td>\n",
       "    </tr>\n",
       "    <tr>\n",
       "      <th>110</th>\n",
       "      <td>Assassin's Creed Ezio Trilogy Edition</td>\n",
       "      <td>5.0</td>\n",
       "    </tr>\n",
       "  </tbody>\n",
       "</table>\n",
       "</div>"
      ],
      "text/plain": [
       "                                             items  rating\n",
       "112                                     Killzone 3     5.0\n",
       "101                                    Borderlands     5.0\n",
       "92   The Elder Scrolls V: Skyrim Legendary Edition     5.0\n",
       "93                                    Halo 3: ODST     5.0\n",
       "94                      Call of Duty: World at War     5.0\n",
       "98                                       Fallout 3     5.0\n",
       "99                           God Of War Collection     5.0\n",
       "166                                   Dragon Age 2     5.0\n",
       "165                  Kingdoms of Amalur: Reckoning     5.0\n",
       "110          Assassin's Creed Ezio Trilogy Edition     5.0"
      ]
     },
     "execution_count": 157,
     "metadata": {},
     "output_type": "execute_result"
    }
   ],
   "source": [
    "new_products = ['Call of Duty: Ghosts', \n",
    "                'Call of Duty: Modern Warfare 2', \n",
    "                'Battlefield 3']\n",
    "\n",
    "recs = new_recommendations(new_products, whole, algo)\n",
    "recs.head(10)"
   ]
  },
  {
   "cell_type": "markdown",
   "metadata": {},
   "source": [
    "<br>\n",
    "## 7.A. User-User Collaborative Filtering (KNNWithZScore - MSD)\n",
    "\n",
    "A basic collaborative filtering algorithm, taking into account the z-score normalization of each user.\n",
    "\n",
    "$${\\normalsize \\hat{r}_{ui} = \\mu_u + \\sigma_u \\frac{ \\sum\\limits_{v \\in N^k_i(u)}\\text{sim}(u, v) \\cdot (r_{vi} - \\mu_v) / \\sigma_v} {\\sum\\limits_{v \\in N^k_i(u)} \\text{sim}(u, v)} }$$\n",
    "\n",
    "Where:\n",
    "<br>\n",
    "$\\hat{r}_{ui}$ - Prediction for user $u$ and item $i$.<br>\n",
    "$\\mu_u$ - Mean rating for user $u$.<br>\n",
    "$\\sigma_u$ - Z-score normalization of user $u$ ratings.<br> \n",
    "${v \\in N^k_u(u)}$ - $v$ users in $k$ neighborhood most similar to user $u$ for item $i$.<br>\n",
    "$\\text{sim}(u, v)$ - **MSD** similarity between user $u$ and $v$.<br>\n",
    "$(r_{vi} - \\mu_v) / \\sigma_v$ - Deviation of rating for user $v$ item $i$ and mean rating for user $v$, normalized by Z-score of user $v$ ratings, $\\sigma_v$.<br>"
   ]
  },
  {
   "cell_type": "markdown",
   "metadata": {},
   "source": [
    "### 7.A.1. Train Model"
   ]
  },
  {
   "cell_type": "code",
   "execution_count": 158,
   "metadata": {
    "scrolled": false
   },
   "outputs": [
    {
     "name": "stdout",
     "output_type": "stream",
     "text": [
      "Computing the msd similarity matrix...\n",
      "Done computing similarity matrix.\n"
     ]
    },
    {
     "data": {
      "text/plain": [
       "<surprise.prediction_algorithms.knns.KNNWithZScore at 0x1a0d8c6fd0>"
      ]
     },
     "execution_count": 158,
     "metadata": {},
     "output_type": "execute_result"
    }
   ],
   "source": [
    "# Use user_based true/false to switch between user-based or item-based collaborative filtering\n",
    "# Here we will use user based collaborative filtering, so True.\n",
    "\n",
    "algo = KNNWithZScore(k=50, sim_options={'name': 'msd', 'user_based': True})\n",
    "algo.fit(trainset)\n"
   ]
  },
  {
   "cell_type": "markdown",
   "metadata": {},
   "source": [
    "### 7.A.2. Evaluate Model (RMSE)"
   ]
  },
  {
   "cell_type": "code",
   "execution_count": 159,
   "metadata": {},
   "outputs": [
    {
     "name": "stdout",
     "output_type": "stream",
     "text": [
      "User-based (UU - KNNWithZScore - MSD) Model : Test Set\n",
      "RMSE: 1.2950\n"
     ]
    }
   ],
   "source": [
    "# Evaluate test set\n",
    "print(\"User-based (UU - KNNWithZScore - MSD) Model : Test Set\")\n",
    "test_pred = algo.test(testset)\n",
    "rmse = accuracy.rmse(test_pred, verbose=True)"
   ]
  },
  {
   "cell_type": "markdown",
   "metadata": {},
   "source": [
    "**Search Best K based on RMSE**"
   ]
  },
  {
   "cell_type": "code",
   "execution_count": 160,
   "metadata": {},
   "outputs": [
    {
     "data": {
      "image/png": "[encoded data removed]",
      "text/plain": [
       "<Figure size 720x504 with 1 Axes>"
      ]
     },
     "metadata": {
      "image/png": {
       "height": 441,
       "width": 614
      }
     },
     "output_type": "display_data"
    }
   ],
   "source": [
    "scores = plot_rmse(range(1,100), \n",
    "                   trainset, \n",
    "                   testset, \n",
    "                   algorithm='KNNWithZScore', \n",
    "                   sim_options={'name': 'msd', 'user_based': True})"
   ]
  },
  {
   "cell_type": "code",
   "execution_count": 161,
   "metadata": {
    "scrolled": true
   },
   "outputs": [
    {
     "data": {
      "text/html": [
       "<div>\n",
       "<style scoped>\n",
       "    .dataframe tbody tr th:only-of-type {\n",
       "        vertical-align: middle;\n",
       "    }\n",
       "\n",
       "    .dataframe tbody tr th {\n",
       "        vertical-align: top;\n",
       "    }\n",
       "\n",
       "    .dataframe thead th {\n",
       "        text-align: right;\n",
       "    }\n",
       "</style>\n",
       "<table border=\"1\" class=\"dataframe\">\n",
       "  <thead>\n",
       "    <tr style=\"text-align: right;\">\n",
       "      <th></th>\n",
       "      <th>k</th>\n",
       "      <th>test_rmse</th>\n",
       "    </tr>\n",
       "  </thead>\n",
       "  <tbody>\n",
       "    <tr>\n",
       "      <th>21</th>\n",
       "      <td>22</td>\n",
       "      <td>1.294122</td>\n",
       "    </tr>\n",
       "    <tr>\n",
       "      <th>20</th>\n",
       "      <td>21</td>\n",
       "      <td>1.294242</td>\n",
       "    </tr>\n",
       "    <tr>\n",
       "      <th>27</th>\n",
       "      <td>28</td>\n",
       "      <td>1.294256</td>\n",
       "    </tr>\n",
       "    <tr>\n",
       "      <th>24</th>\n",
       "      <td>25</td>\n",
       "      <td>1.294267</td>\n",
       "    </tr>\n",
       "    <tr>\n",
       "      <th>28</th>\n",
       "      <td>29</td>\n",
       "      <td>1.294288</td>\n",
       "    </tr>\n",
       "  </tbody>\n",
       "</table>\n",
       "</div>"
      ],
      "text/plain": [
       "     k  test_rmse\n",
       "21  22   1.294122\n",
       "20  21   1.294242\n",
       "27  28   1.294256\n",
       "24  25   1.294267\n",
       "28  29   1.294288"
      ]
     },
     "execution_count": 161,
     "metadata": {},
     "output_type": "execute_result"
    }
   ],
   "source": [
    "# Sort rmse scores and pick value of k that has lowest rmse on the test set\n",
    "scores.sort_values(by='test_rmse', ascending=True, inplace=True)\n",
    "scores.head(5)"
   ]
  },
  {
   "cell_type": "code",
   "execution_count": 162,
   "metadata": {},
   "outputs": [
    {
     "name": "stdout",
     "output_type": "stream",
     "text": [
      "Computing the msd similarity matrix...\n",
      "Done computing similarity matrix.\n"
     ]
    },
    {
     "data": {
      "text/plain": [
       "<surprise.prediction_algorithms.knns.KNNWithZScore at 0x1a5e8eea58>"
      ]
     },
     "execution_count": 162,
     "metadata": {},
     "output_type": "execute_result"
    }
   ],
   "source": [
    "# Refit model with best k\n",
    "best_k = scores[:1]['k'].values[0]\n",
    "\n",
    "algo = KNNWithZScore(k=best_k, sim_options={'name': 'msd', 'user_based': True})\n",
    "algo.fit(trainset)"
   ]
  },
  {
   "cell_type": "markdown",
   "metadata": {},
   "source": [
    "### 7.A.3. Evaluate Model (Recall)"
   ]
  },
  {
   "cell_type": "markdown",
   "metadata": {},
   "source": [
    "**Get Recommendations for Example User**"
   ]
  },
  {
   "cell_type": "code",
   "execution_count": 163,
   "metadata": {},
   "outputs": [],
   "source": [
    "# Than predict ratings for all pairs (u, i) that are NOT in the training set.\n",
    "train_pred_set = trainset.build_anti_testset()\n",
    "train_preds = algo.test(train_pred_set)\n",
    "\n",
    "# Make predictions\n",
    "top_n = get_n_recommendations(train_preds)\n"
   ]
  },
  {
   "cell_type": "code",
   "execution_count": 164,
   "metadata": {},
   "outputs": [
    {
     "name": "stdout",
     "output_type": "stream",
     "text": [
      "Pre-2014 selections (customer id - 10345078):\n",
      "                                        product_title  star_rating\n",
      "1621                            God of War: Ascension            5\n",
      "4031                   Mortal Kombat Komplete Edition            5\n",
      "5094                   Uncharted 3: Drake's Deception            5\n",
      "5568     Batman: Arkham City Game of the Year Edition            5\n",
      "7888                                  Resident Evil 6            5\n",
      "14548      Call of Duty: Black Ops II - PlayStation 3            5\n",
      "16008                      Need for Speed Most Wanted            5\n",
      "17495                                    Dead Space 3            5\n",
      "17997                                   Battlefield 3            5\n",
      "18677                                     Max Payne 3            5\n",
      "19033                   Assassin's Creed: Brotherhood            5\n",
      "19200                            Assassin's Creed III            5\n",
      "22727                                        LA Noire            5\n",
      "23741                                      Dishonored            5\n",
      "23847  Call of Duty: Modern Warfare 3 - Playstation 3            5\n",
      "27978                                  FIFA Soccer 13            5\n",
      "28223                      Medal of Honor: Warfighter            5\n",
      "\n",
      "Post-2014 selections (customer id - 10345078):\n",
      "                              product_title  star_rating\n",
      "97                            Battlefield 4          5.0\n",
      "694                   Batman Arkham Origins          5.0\n",
      "910                Injustice: Gods Among Us          5.0\n",
      "1188                      BEYOND: Two Souls          5.0\n",
      "1358                         The Last of Us          5.0\n",
      "1486                     Assassin's Creed 4          5.0\n",
      "2731  Killzone: Shadow Fall (PlayStation 4)          5.0\n",
      "2831                   Call of Duty: Ghosts          5.0\n",
      "2962               Injustice: Gods Among Us          5.0\n",
      "3059  Assassin's Creed Ezio Trilogy Edition          5.0\n",
      "\n",
      "Recommendations:\n",
      "Far Cry 3\n",
      "Pokemon Y\n",
      "Halo Reach\n",
      "The Last of Us\n",
      "Tomb Raider\n",
      "Pokémon Black Version 2\n",
      "Luigi's Mansion: Dark Moon\n",
      "Red Dead Redemption Game of the Year\n",
      "Zumba Fitness Rush - Xbox 360\n",
      "Forza Motorsport 4\n",
      "The Legend of Zelda: Twilight Princess\n",
      "Halo 4\n",
      "LittleBigPlanet\n",
      "Kingdom Hearts HD 1.5 Remix\n",
      "BioShock Infinite\n"
     ]
    }
   ],
   "source": [
    "print_customer_prof(train_df, test_df, top_n)"
   ]
  },
  {
   "cell_type": "code",
   "execution_count": 165,
   "metadata": {},
   "outputs": [
    {
     "name": "stdout",
     "output_type": "stream",
     "text": [
      "Precision (UU - KNNWithZScore - MSD): 0.0083494395052184\n"
     ]
    }
   ],
   "source": [
    "prec = evaluate_precision(top_n, testset, threshold=4.0)\n",
    "print('Precision (UU - KNNWithZScore - MSD):', prec)\n"
   ]
  },
  {
   "cell_type": "code",
   "execution_count": 166,
   "metadata": {},
   "outputs": [
    {
     "name": "stdout",
     "output_type": "stream",
     "text": [
      "MAP (UU - KNNWithZScore - MSD): 0.07505408886692184\n"
     ]
    }
   ],
   "source": [
    "mean_ap = evaluate_map(top_n, testset, threshold=4.0)\n",
    "print('MAP (UU - KNNWithZScore - MSD):', mean_ap)\n"
   ]
  },
  {
   "cell_type": "code",
   "execution_count": 167,
   "metadata": {},
   "outputs": [],
   "source": [
    "algo_7A = {'Model': 'II - KNNWithZScore - MSD',\n",
    "           'RMSE': rmse,\n",
    "           'Unranked Precision': prec,\n",
    "           'MAP': mean_ap}"
   ]
  },
  {
   "cell_type": "markdown",
   "metadata": {},
   "source": [
    "**Search Best K based on Recall**"
   ]
  },
  {
   "cell_type": "code",
   "execution_count": 168,
   "metadata": {},
   "outputs": [],
   "source": [
    "# # HAHAHA\n",
    "# plot_recall(range(10,61,10), \n",
    "#             trainset, \n",
    "#             testset,\n",
    "#             algorithm='KNNWithZScore',\n",
    "#             sim_options={'name': 'cosine', 'user_based': True})"
   ]
  },
  {
   "cell_type": "markdown",
   "metadata": {},
   "source": [
    "### 7.A.4. Make Recommendations for New Customer"
   ]
  },
  {
   "cell_type": "code",
   "execution_count": 169,
   "metadata": {
    "scrolled": false
   },
   "outputs": [
    {
     "name": "stdout",
     "output_type": "stream",
     "text": [
      "Computing the msd similarity matrix...\n",
      "Done computing similarity matrix.\n"
     ]
    },
    {
     "data": {
      "text/html": [
       "<div>\n",
       "<style scoped>\n",
       "    .dataframe tbody tr th:only-of-type {\n",
       "        vertical-align: middle;\n",
       "    }\n",
       "\n",
       "    .dataframe tbody tr th {\n",
       "        vertical-align: top;\n",
       "    }\n",
       "\n",
       "    .dataframe thead th {\n",
       "        text-align: right;\n",
       "    }\n",
       "</style>\n",
       "<table border=\"1\" class=\"dataframe\">\n",
       "  <thead>\n",
       "    <tr style=\"text-align: right;\">\n",
       "      <th></th>\n",
       "      <th>items</th>\n",
       "      <th>rating</th>\n",
       "    </tr>\n",
       "  </thead>\n",
       "  <tbody>\n",
       "    <tr>\n",
       "      <th>112</th>\n",
       "      <td>Killzone 3</td>\n",
       "      <td>5.0</td>\n",
       "    </tr>\n",
       "    <tr>\n",
       "      <th>141</th>\n",
       "      <td>Michael Jackson The Experience</td>\n",
       "      <td>5.0</td>\n",
       "    </tr>\n",
       "    <tr>\n",
       "      <th>123</th>\n",
       "      <td>Dance Central 2 - Xbox 360</td>\n",
       "      <td>5.0</td>\n",
       "    </tr>\n",
       "    <tr>\n",
       "      <th>128</th>\n",
       "      <td>Lego Star Wars: The Complete Saga</td>\n",
       "      <td>5.0</td>\n",
       "    </tr>\n",
       "    <tr>\n",
       "      <th>129</th>\n",
       "      <td>Carnival Games</td>\n",
       "      <td>5.0</td>\n",
       "    </tr>\n",
       "    <tr>\n",
       "      <th>132</th>\n",
       "      <td>Mass Effect 2</td>\n",
       "      <td>5.0</td>\n",
       "    </tr>\n",
       "    <tr>\n",
       "      <th>136</th>\n",
       "      <td>God of War III</td>\n",
       "      <td>5.0</td>\n",
       "    </tr>\n",
       "    <tr>\n",
       "      <th>139</th>\n",
       "      <td>Donkey Kong Country Returns</td>\n",
       "      <td>5.0</td>\n",
       "    </tr>\n",
       "    <tr>\n",
       "      <th>140</th>\n",
       "      <td>Super Smash Bros Melee</td>\n",
       "      <td>5.0</td>\n",
       "    </tr>\n",
       "    <tr>\n",
       "      <th>142</th>\n",
       "      <td>Mario Kart DS</td>\n",
       "      <td>5.0</td>\n",
       "    </tr>\n",
       "  </tbody>\n",
       "</table>\n",
       "</div>"
      ],
      "text/plain": [
       "                                 items  rating\n",
       "112                         Killzone 3     5.0\n",
       "141     Michael Jackson The Experience     5.0\n",
       "123         Dance Central 2 - Xbox 360     5.0\n",
       "128  Lego Star Wars: The Complete Saga     5.0\n",
       "129                     Carnival Games     5.0\n",
       "132                      Mass Effect 2     5.0\n",
       "136                     God of War III     5.0\n",
       "139        Donkey Kong Country Returns     5.0\n",
       "140             Super Smash Bros Melee     5.0\n",
       "142                      Mario Kart DS     5.0"
      ]
     },
     "execution_count": 169,
     "metadata": {},
     "output_type": "execute_result"
    }
   ],
   "source": [
    "new_products = ['Call of Duty: Ghosts', \n",
    "                'Call of Duty: Modern Warfare 2', \n",
    "                'Battlefield 3']\n",
    "\n",
    "recs = new_recommendations(new_products, whole, algo)\n",
    "recs.head(10)"
   ]
  },
  {
   "cell_type": "markdown",
   "metadata": {},
   "source": [
    "<br>\n",
    "## 7.B. User-User Collaborative Filtering (KNNWithZScore - Pearson-baseline)\n",
    "\n",
    "A basic collaborative filtering algorithm, taking into account the z-score normalization of each user.\n",
    "\n",
    "$${\\normalsize \\hat{r}_{ui} = \\mu_u + \\sigma_u \\frac{ \\sum\\limits_{v \\in N^k_i(u)}\\text{sim}(u, v) \\cdot (r_{vi} - \\mu_v) / \\sigma_v} {\\sum\\limits_{v \\in N^k_i(u)} \\text{sim}(u, v)} }$$\n",
    "\n",
    "Where:\n",
    "<br>\n",
    "$\\hat{r}_{ui}$ - Prediction for user $u$ and item $i$.<br>\n",
    "$\\mu_u$ - Mean rating for user $u$.<br>\n",
    "$\\sigma_u$ - Z-score normalization of user $u$ ratings.<br> \n",
    "${v \\in N^k_u(u)}$ - $v$ users in $k$ neighborhood most similar to user $u$ for item $i$.<br>\n",
    "$\\text{sim}(u, v)$ - **Pearson-baseline** similarity between user $u$ and $v$.<br>\n",
    "$(r_{vi} - \\mu_v) / \\sigma_v$ - Deviation of rating for user $v$ item $i$ and mean rating for user $v$, normalized by Z-score of user $v$ ratings, $\\sigma_v$.<br>"
   ]
  },
  {
   "cell_type": "markdown",
   "metadata": {},
   "source": [
    "### 7.B.1. Train Model"
   ]
  },
  {
   "cell_type": "code",
   "execution_count": 170,
   "metadata": {
    "scrolled": false
   },
   "outputs": [
    {
     "name": "stdout",
     "output_type": "stream",
     "text": [
      "Estimating biases using als...\n",
      "Computing the pearson_baseline similarity matrix...\n",
      "Done computing similarity matrix.\n"
     ]
    },
    {
     "data": {
      "text/plain": [
       "<surprise.prediction_algorithms.knns.KNNWithZScore at 0x1a4f2d59e8>"
      ]
     },
     "execution_count": 170,
     "metadata": {},
     "output_type": "execute_result"
    }
   ],
   "source": [
    "# Use user_based true/false to switch between user-based or item-based collaborative filtering\n",
    "# Here we will use user based collaborative filtering, so True.\n",
    "\n",
    "algo = KNNWithZScore(k=50, sim_options={'name': 'pearson_baseline', 'user_based': True})\n",
    "algo.fit(trainset)\n"
   ]
  },
  {
   "cell_type": "markdown",
   "metadata": {},
   "source": [
    "### 7.B.2. Evaluate Model (RMSE)"
   ]
  },
  {
   "cell_type": "code",
   "execution_count": 171,
   "metadata": {},
   "outputs": [
    {
     "name": "stdout",
     "output_type": "stream",
     "text": [
      "User-based (UU - KNNWithZScore - Pearson-baseline) Model : Test Set\n",
      "RMSE: 1.3452\n"
     ]
    }
   ],
   "source": [
    "# Evaluate test set\n",
    "print(\"User-based (UU - KNNWithZScore - Pearson-baseline) Model : Test Set\")\n",
    "test_pred = algo.test(testset)\n",
    "rmse = accuracy.rmse(test_pred, verbose=True)"
   ]
  },
  {
   "cell_type": "markdown",
   "metadata": {},
   "source": [
    "**Search Best K based on RMSE**"
   ]
  },
  {
   "cell_type": "code",
   "execution_count": 172,
   "metadata": {},
   "outputs": [
    {
     "data": {
      "image/png": "[encoded data removed]",
      "text/plain": [
       "<Figure size 720x504 with 1 Axes>"
      ]
     },
     "metadata": {
      "image/png": {
       "height": 441,
       "width": 619
      }
     },
     "output_type": "display_data"
    }
   ],
   "source": [
    "scores = plot_rmse(range(1,100), \n",
    "                   trainset, \n",
    "                   testset, \n",
    "                   algorithm='KNNWithZScore', \n",
    "                   sim_options={'name': 'pearson_baseline', 'user_based': True})"
   ]
  },
  {
   "cell_type": "code",
   "execution_count": 173,
   "metadata": {
    "scrolled": true
   },
   "outputs": [
    {
     "data": {
      "text/html": [
       "<div>\n",
       "<style scoped>\n",
       "    .dataframe tbody tr th:only-of-type {\n",
       "        vertical-align: middle;\n",
       "    }\n",
       "\n",
       "    .dataframe tbody tr th {\n",
       "        vertical-align: top;\n",
       "    }\n",
       "\n",
       "    .dataframe thead th {\n",
       "        text-align: right;\n",
       "    }\n",
       "</style>\n",
       "<table border=\"1\" class=\"dataframe\">\n",
       "  <thead>\n",
       "    <tr style=\"text-align: right;\">\n",
       "      <th></th>\n",
       "      <th>k</th>\n",
       "      <th>test_rmse</th>\n",
       "    </tr>\n",
       "  </thead>\n",
       "  <tbody>\n",
       "    <tr>\n",
       "      <th>49</th>\n",
       "      <td>50</td>\n",
       "      <td>1.345160</td>\n",
       "    </tr>\n",
       "    <tr>\n",
       "      <th>50</th>\n",
       "      <td>51</td>\n",
       "      <td>1.345161</td>\n",
       "    </tr>\n",
       "    <tr>\n",
       "      <th>48</th>\n",
       "      <td>49</td>\n",
       "      <td>1.345161</td>\n",
       "    </tr>\n",
       "    <tr>\n",
       "      <th>53</th>\n",
       "      <td>54</td>\n",
       "      <td>1.345162</td>\n",
       "    </tr>\n",
       "    <tr>\n",
       "      <th>51</th>\n",
       "      <td>52</td>\n",
       "      <td>1.345162</td>\n",
       "    </tr>\n",
       "  </tbody>\n",
       "</table>\n",
       "</div>"
      ],
      "text/plain": [
       "     k  test_rmse\n",
       "49  50   1.345160\n",
       "50  51   1.345161\n",
       "48  49   1.345161\n",
       "53  54   1.345162\n",
       "51  52   1.345162"
      ]
     },
     "execution_count": 173,
     "metadata": {},
     "output_type": "execute_result"
    }
   ],
   "source": [
    "# Sort rmse scores and pick value of k that has lowest rmse on the test set\n",
    "scores.sort_values(by='test_rmse', ascending=True, inplace=True)\n",
    "scores.head(5)"
   ]
  },
  {
   "cell_type": "code",
   "execution_count": 174,
   "metadata": {},
   "outputs": [
    {
     "name": "stdout",
     "output_type": "stream",
     "text": [
      "Estimating biases using als...\n",
      "Computing the pearson_baseline similarity matrix...\n",
      "Done computing similarity matrix.\n"
     ]
    },
    {
     "data": {
      "text/plain": [
       "<surprise.prediction_algorithms.knns.KNNWithZScore at 0x1a7a1cf518>"
      ]
     },
     "execution_count": 174,
     "metadata": {},
     "output_type": "execute_result"
    }
   ],
   "source": [
    "# Refit model with best k\n",
    "best_k = scores[:1]['k'].values[0]\n",
    "\n",
    "algo = KNNWithZScore(k=best_k, sim_options={'name': 'pearson_baseline', 'user_based': True})\n",
    "algo.fit(trainset)"
   ]
  },
  {
   "cell_type": "markdown",
   "metadata": {},
   "source": [
    "### 7.B.3. Evaluate Model (Recall)"
   ]
  },
  {
   "cell_type": "markdown",
   "metadata": {},
   "source": [
    "**Get Recommendations for Example User**"
   ]
  },
  {
   "cell_type": "code",
   "execution_count": 175,
   "metadata": {},
   "outputs": [],
   "source": [
    "# Than predict ratings for all pairs (u, i) that are NOT in the training set.\n",
    "train_pred_set = trainset.build_anti_testset()\n",
    "train_preds = algo.test(train_pred_set)\n",
    "\n",
    "# Make predictions\n",
    "top_n = get_n_recommendations(train_preds)\n"
   ]
  },
  {
   "cell_type": "code",
   "execution_count": 176,
   "metadata": {},
   "outputs": [
    {
     "name": "stdout",
     "output_type": "stream",
     "text": [
      "Pre-2014 selections (customer id - 10345078):\n",
      "                                        product_title  star_rating\n",
      "1621                            God of War: Ascension            5\n",
      "4031                   Mortal Kombat Komplete Edition            5\n",
      "5094                   Uncharted 3: Drake's Deception            5\n",
      "5568     Batman: Arkham City Game of the Year Edition            5\n",
      "7888                                  Resident Evil 6            5\n",
      "14548      Call of Duty: Black Ops II - PlayStation 3            5\n",
      "16008                      Need for Speed Most Wanted            5\n",
      "17495                                    Dead Space 3            5\n",
      "17997                                   Battlefield 3            5\n",
      "18677                                     Max Payne 3            5\n",
      "19033                   Assassin's Creed: Brotherhood            5\n",
      "19200                            Assassin's Creed III            5\n",
      "22727                                        LA Noire            5\n",
      "23741                                      Dishonored            5\n",
      "23847  Call of Duty: Modern Warfare 3 - Playstation 3            5\n",
      "27978                                  FIFA Soccer 13            5\n",
      "28223                      Medal of Honor: Warfighter            5\n",
      "\n",
      "Post-2014 selections (customer id - 10345078):\n",
      "                              product_title  star_rating\n",
      "97                            Battlefield 4          5.0\n",
      "694                   Batman Arkham Origins          5.0\n",
      "910                Injustice: Gods Among Us          5.0\n",
      "1188                      BEYOND: Two Souls          5.0\n",
      "1358                         The Last of Us          5.0\n",
      "1486                     Assassin's Creed 4          5.0\n",
      "2731  Killzone: Shadow Fall (PlayStation 4)          5.0\n",
      "2831                   Call of Duty: Ghosts          5.0\n",
      "2962               Injustice: Gods Among Us          5.0\n",
      "3059  Assassin's Creed Ezio Trilogy Edition          5.0\n",
      "\n",
      "Recommendations:\n",
      "Far Cry 3\n",
      "Pokemon Y\n",
      "Call of Duty: Modern Warfare 2\n",
      "The Last of Us\n",
      "Tomb Raider\n",
      "Luigi's Mansion: Dark Moon\n",
      "Red Dead Redemption Game of the Year\n",
      "Zumba Fitness Rush - Xbox 360\n",
      "Forza Motorsport 4\n",
      "Heavy Rain: Director's Cut PS3\n",
      "The Legend of Zelda: Twilight Princess\n",
      "Halo 4\n",
      "Super Mario 3D Land\n",
      "Knack (PlayStation 4)\n",
      "LittleBigPlanet\n"
     ]
    }
   ],
   "source": [
    "print_customer_prof(train_df, test_df, top_n)"
   ]
  },
  {
   "cell_type": "code",
   "execution_count": 177,
   "metadata": {},
   "outputs": [
    {
     "name": "stdout",
     "output_type": "stream",
     "text": [
      "Precision (UU - KNNWithZScore - Pearson-baseline): 0.012884937508053087\n"
     ]
    }
   ],
   "source": [
    "prec = evaluate_precision(top_n, testset, threshold=4.0)\n",
    "print('Precision (UU - KNNWithZScore - Pearson-baseline):', prec)\n"
   ]
  },
  {
   "cell_type": "code",
   "execution_count": 178,
   "metadata": {},
   "outputs": [
    {
     "name": "stdout",
     "output_type": "stream",
     "text": [
      "MAP (UU - KNNWithZScore - Pearson-baseline): 0.145706949797542\n"
     ]
    }
   ],
   "source": [
    "mean_ap = evaluate_map(top_n, testset, threshold=4.0)\n",
    "print('MAP (UU - KNNWithZScore - Pearson-baseline):', mean_ap)\n"
   ]
  },
  {
   "cell_type": "code",
   "execution_count": 179,
   "metadata": {},
   "outputs": [],
   "source": [
    "algo_7B = {'Model': 'II - KNNWithZScore - Pearson-baseline',\n",
    "           'RMSE': rmse,\n",
    "           'Unranked Precision': prec,\n",
    "           'MAP': mean_ap}"
   ]
  },
  {
   "cell_type": "markdown",
   "metadata": {},
   "source": [
    "**Search Best K based on Recall**"
   ]
  },
  {
   "cell_type": "code",
   "execution_count": 180,
   "metadata": {},
   "outputs": [],
   "source": [
    "# # HAHAHA\n",
    "# plot_recall(range(10,61,10), \n",
    "#             trainset, \n",
    "#             testset,\n",
    "#             algorithm='KNNWithZScore',\n",
    "#             sim_options={'name': 'pearson', 'user_based': True})"
   ]
  },
  {
   "cell_type": "markdown",
   "metadata": {},
   "source": [
    "### 7.B.4. Make Recommendations for New Customer"
   ]
  },
  {
   "cell_type": "code",
   "execution_count": 181,
   "metadata": {
    "scrolled": false
   },
   "outputs": [
    {
     "name": "stdout",
     "output_type": "stream",
     "text": [
      "Estimating biases using als...\n",
      "Computing the pearson_baseline similarity matrix...\n",
      "Done computing similarity matrix.\n"
     ]
    },
    {
     "data": {
      "text/html": [
       "<div>\n",
       "<style scoped>\n",
       "    .dataframe tbody tr th:only-of-type {\n",
       "        vertical-align: middle;\n",
       "    }\n",
       "\n",
       "    .dataframe tbody tr th {\n",
       "        vertical-align: top;\n",
       "    }\n",
       "\n",
       "    .dataframe thead th {\n",
       "        text-align: right;\n",
       "    }\n",
       "</style>\n",
       "<table border=\"1\" class=\"dataframe\">\n",
       "  <thead>\n",
       "    <tr style=\"text-align: right;\">\n",
       "      <th></th>\n",
       "      <th>items</th>\n",
       "      <th>rating</th>\n",
       "    </tr>\n",
       "  </thead>\n",
       "  <tbody>\n",
       "    <tr>\n",
       "      <th>112</th>\n",
       "      <td>Killzone 3</td>\n",
       "      <td>5.0</td>\n",
       "    </tr>\n",
       "    <tr>\n",
       "      <th>146</th>\n",
       "      <td>Super Mario 64</td>\n",
       "      <td>5.0</td>\n",
       "    </tr>\n",
       "    <tr>\n",
       "      <th>135</th>\n",
       "      <td>Rocksmith</td>\n",
       "      <td>5.0</td>\n",
       "    </tr>\n",
       "    <tr>\n",
       "      <th>136</th>\n",
       "      <td>God of War III</td>\n",
       "      <td>5.0</td>\n",
       "    </tr>\n",
       "    <tr>\n",
       "      <th>137</th>\n",
       "      <td>New Super Mario Bros</td>\n",
       "      <td>5.0</td>\n",
       "    </tr>\n",
       "    <tr>\n",
       "      <th>139</th>\n",
       "      <td>Donkey Kong Country Returns</td>\n",
       "      <td>5.0</td>\n",
       "    </tr>\n",
       "    <tr>\n",
       "      <th>140</th>\n",
       "      <td>Super Smash Bros Melee</td>\n",
       "      <td>5.0</td>\n",
       "    </tr>\n",
       "    <tr>\n",
       "      <th>141</th>\n",
       "      <td>Michael Jackson The Experience</td>\n",
       "      <td>5.0</td>\n",
       "    </tr>\n",
       "    <tr>\n",
       "      <th>142</th>\n",
       "      <td>Mario Kart DS</td>\n",
       "      <td>5.0</td>\n",
       "    </tr>\n",
       "    <tr>\n",
       "      <th>143</th>\n",
       "      <td>Mario Kart: Double Dash</td>\n",
       "      <td>5.0</td>\n",
       "    </tr>\n",
       "  </tbody>\n",
       "</table>\n",
       "</div>"
      ],
      "text/plain": [
       "                              items  rating\n",
       "112                      Killzone 3     5.0\n",
       "146                  Super Mario 64     5.0\n",
       "135                       Rocksmith     5.0\n",
       "136                  God of War III     5.0\n",
       "137            New Super Mario Bros     5.0\n",
       "139     Donkey Kong Country Returns     5.0\n",
       "140          Super Smash Bros Melee     5.0\n",
       "141  Michael Jackson The Experience     5.0\n",
       "142                   Mario Kart DS     5.0\n",
       "143         Mario Kart: Double Dash     5.0"
      ]
     },
     "execution_count": 181,
     "metadata": {},
     "output_type": "execute_result"
    }
   ],
   "source": [
    "new_products = ['Call of Duty: Ghosts', \n",
    "                'Call of Duty: Modern Warfare 2', \n",
    "                'Battlefield 3']\n",
    "\n",
    "recs = new_recommendations(new_products, whole, algo)\n",
    "recs.head(10)"
   ]
  },
  {
   "cell_type": "markdown",
   "metadata": {},
   "source": [
    "<br>\n",
    "## 8.A. Item-Item Collaborative Filtering (KNNWithZScore - MSD)\n",
    "\n",
    "A basic collaborative filtering algorithm, taking into account the z-score normalization of each user.\n",
    "\n",
    "$${\\normalsize \\hat{r}_{ui} = \\mu_i + \\sigma_i \\frac{ \\sum\\limits_{j \\in N^k_u(i)}\\text{sim}(i, j) \\cdot (r_{uj} - \\mu_j) / \\sigma_j} {\\sum\\limits_{j\\in N^k_u(i)} \\text{sim}(i, j)} }$$\n",
    "\n",
    "Where:\n",
    "<br>\n",
    "$\\hat{r}_{ui}$ - Prediction for user $u$ and item $i$.<br>\n",
    "$\\mu_i$ - Mean rating for item $i$.<br>\n",
    "$\\sigma_i$ - Z-score normalization of item $i$ ratings.<br>\n",
    "${j \\in N^k_u(i)}$ - $j$ items in $k$ neighborhood most similar to item $i$ for user $u$.<br>\n",
    "$\\text{sim}(i, j)$ - **MSD** similarity between items $i$ and $j$.<br>\n",
    "$(r_{uj} - \\mu_j) / \\sigma_j$ - Deviation of rating for item $j$ user $u$ and mean rating for item $j$, normalized by Z-score of item $j$ ratings, $\\sigma_j$.<br>"
   ]
  },
  {
   "cell_type": "markdown",
   "metadata": {},
   "source": [
    "### 8.A.1. Train Model"
   ]
  },
  {
   "cell_type": "code",
   "execution_count": 182,
   "metadata": {
    "scrolled": false
   },
   "outputs": [
    {
     "name": "stdout",
     "output_type": "stream",
     "text": [
      "Computing the msd similarity matrix...\n",
      "Done computing similarity matrix.\n"
     ]
    },
    {
     "data": {
      "text/plain": [
       "<surprise.prediction_algorithms.knns.KNNWithZScore at 0x1a0d0059b0>"
      ]
     },
     "execution_count": 182,
     "metadata": {},
     "output_type": "execute_result"
    }
   ],
   "source": [
    "# Use user_based true/false to switch between user-based or item-based collaborative filtering\n",
    "# Here we will use user based collaborative filtering, so True.\n",
    "\n",
    "algo = KNNWithZScore(k=50, sim_options={'name': 'msd', 'user_based': False})\n",
    "algo.fit(trainset)\n"
   ]
  },
  {
   "cell_type": "markdown",
   "metadata": {},
   "source": [
    "### 8.A.2. Evaluate Model (RMSE)"
   ]
  },
  {
   "cell_type": "code",
   "execution_count": 183,
   "metadata": {},
   "outputs": [
    {
     "name": "stdout",
     "output_type": "stream",
     "text": [
      "Item-based (II - KNNWithZScore - MSD) Model : Test Set\n",
      "RMSE: 1.2318\n"
     ]
    }
   ],
   "source": [
    "# Evaluate test set\n",
    "print(\"Item-based (II - KNNWithZScore - MSD) Model : Test Set\")\n",
    "test_pred = algo.test(testset)\n",
    "rmse = accuracy.rmse(test_pred, verbose=True)"
   ]
  },
  {
   "cell_type": "markdown",
   "metadata": {},
   "source": [
    "**Search Best K based on RMSE**"
   ]
  },
  {
   "cell_type": "code",
   "execution_count": 184,
   "metadata": {},
   "outputs": [
    {
     "data": {
      "image/png": "[encoded data removed]",
      "text/plain": [
       "<Figure size 720x504 with 1 Axes>"
      ]
     },
     "metadata": {
      "image/png": {
       "height": 441,
       "width": 614
      }
     },
     "output_type": "display_data"
    }
   ],
   "source": [
    "scores = plot_rmse(range(1,100), \n",
    "                   trainset, \n",
    "                   testset, \n",
    "                   algorithm='KNNWithZScore', \n",
    "                   sim_options={'name': 'msd', 'user_based': False})"
   ]
  },
  {
   "cell_type": "code",
   "execution_count": 185,
   "metadata": {
    "scrolled": true
   },
   "outputs": [
    {
     "data": {
      "text/html": [
       "<div>\n",
       "<style scoped>\n",
       "    .dataframe tbody tr th:only-of-type {\n",
       "        vertical-align: middle;\n",
       "    }\n",
       "\n",
       "    .dataframe tbody tr th {\n",
       "        vertical-align: top;\n",
       "    }\n",
       "\n",
       "    .dataframe thead th {\n",
       "        text-align: right;\n",
       "    }\n",
       "</style>\n",
       "<table border=\"1\" class=\"dataframe\">\n",
       "  <thead>\n",
       "    <tr style=\"text-align: right;\">\n",
       "      <th></th>\n",
       "      <th>k</th>\n",
       "      <th>test_rmse</th>\n",
       "    </tr>\n",
       "  </thead>\n",
       "  <tbody>\n",
       "    <tr>\n",
       "      <th>23</th>\n",
       "      <td>24</td>\n",
       "      <td>1.231802</td>\n",
       "    </tr>\n",
       "    <tr>\n",
       "      <th>22</th>\n",
       "      <td>23</td>\n",
       "      <td>1.231804</td>\n",
       "    </tr>\n",
       "    <tr>\n",
       "      <th>24</th>\n",
       "      <td>25</td>\n",
       "      <td>1.231811</td>\n",
       "    </tr>\n",
       "    <tr>\n",
       "      <th>25</th>\n",
       "      <td>26</td>\n",
       "      <td>1.231813</td>\n",
       "    </tr>\n",
       "    <tr>\n",
       "      <th>27</th>\n",
       "      <td>28</td>\n",
       "      <td>1.231814</td>\n",
       "    </tr>\n",
       "  </tbody>\n",
       "</table>\n",
       "</div>"
      ],
      "text/plain": [
       "     k  test_rmse\n",
       "23  24   1.231802\n",
       "22  23   1.231804\n",
       "24  25   1.231811\n",
       "25  26   1.231813\n",
       "27  28   1.231814"
      ]
     },
     "execution_count": 185,
     "metadata": {},
     "output_type": "execute_result"
    }
   ],
   "source": [
    "# Sort rmse scores and pick value of k that has lowest rmse on the test set\n",
    "scores.sort_values(by='test_rmse', ascending=True, inplace=True)\n",
    "scores.head(5)"
   ]
  },
  {
   "cell_type": "code",
   "execution_count": 186,
   "metadata": {},
   "outputs": [
    {
     "name": "stdout",
     "output_type": "stream",
     "text": [
      "Computing the msd similarity matrix...\n",
      "Done computing similarity matrix.\n"
     ]
    },
    {
     "data": {
      "text/plain": [
       "<surprise.prediction_algorithms.knns.KNNWithZScore at 0x1a94fdd9e8>"
      ]
     },
     "execution_count": 186,
     "metadata": {},
     "output_type": "execute_result"
    }
   ],
   "source": [
    "# Refit model with best k\n",
    "best_k = scores[:1]['k'].values[0]\n",
    "\n",
    "algo = KNNWithZScore(k=best_k, sim_options={'name': 'msd', 'user_based': False})\n",
    "algo.fit(trainset)"
   ]
  },
  {
   "cell_type": "markdown",
   "metadata": {},
   "source": [
    "### 8.A.3. Evaluate Model (Recall)"
   ]
  },
  {
   "cell_type": "markdown",
   "metadata": {},
   "source": [
    "**Get Recommendations for Example User**"
   ]
  },
  {
   "cell_type": "code",
   "execution_count": 187,
   "metadata": {},
   "outputs": [],
   "source": [
    "# Than predict ratings for all pairs (u, i) that are NOT in the training set.\n",
    "train_pred_set = trainset.build_anti_testset()\n",
    "train_preds = algo.test(train_pred_set)\n",
    "\n",
    "# Make predictions\n",
    "top_n = get_n_recommendations(train_preds)\n"
   ]
  },
  {
   "cell_type": "code",
   "execution_count": 188,
   "metadata": {},
   "outputs": [
    {
     "name": "stdout",
     "output_type": "stream",
     "text": [
      "Pre-2014 selections (customer id - 10345078):\n",
      "                                        product_title  star_rating\n",
      "1621                            God of War: Ascension            5\n",
      "4031                   Mortal Kombat Komplete Edition            5\n",
      "5094                   Uncharted 3: Drake's Deception            5\n",
      "5568     Batman: Arkham City Game of the Year Edition            5\n",
      "7888                                  Resident Evil 6            5\n",
      "14548      Call of Duty: Black Ops II - PlayStation 3            5\n",
      "16008                      Need for Speed Most Wanted            5\n",
      "17495                                    Dead Space 3            5\n",
      "17997                                   Battlefield 3            5\n",
      "18677                                     Max Payne 3            5\n",
      "19033                   Assassin's Creed: Brotherhood            5\n",
      "19200                            Assassin's Creed III            5\n",
      "22727                                        LA Noire            5\n",
      "23741                                      Dishonored            5\n",
      "23847  Call of Duty: Modern Warfare 3 - Playstation 3            5\n",
      "27978                                  FIFA Soccer 13            5\n",
      "28223                      Medal of Honor: Warfighter            5\n",
      "\n",
      "Post-2014 selections (customer id - 10345078):\n",
      "                              product_title  star_rating\n",
      "97                            Battlefield 4          5.0\n",
      "694                   Batman Arkham Origins          5.0\n",
      "910                Injustice: Gods Among Us          5.0\n",
      "1188                      BEYOND: Two Souls          5.0\n",
      "1358                         The Last of Us          5.0\n",
      "1486                     Assassin's Creed 4          5.0\n",
      "2731  Killzone: Shadow Fall (PlayStation 4)          5.0\n",
      "2831                   Call of Duty: Ghosts          5.0\n",
      "2962               Injustice: Gods Among Us          5.0\n",
      "3059  Assassin's Creed Ezio Trilogy Edition          5.0\n",
      "\n",
      "Recommendations:\n",
      "Far Cry 3\n",
      "Valkyria Chronicles\n",
      "Pokemon Y\n",
      "Halo 3\n",
      "Halo Reach\n",
      "The Last of Us\n",
      "Tomb Raider\n",
      "Pokémon Black Version 2\n",
      "Luigi's Mansion: Dark Moon\n",
      "Red Dead Redemption Game of the Year\n",
      "Zumba Fitness Rush - Xbox 360\n",
      "Forza Motorsport 4\n",
      "Heavy Rain: Director's Cut PS3\n",
      "The Legend of Zelda: Twilight Princess\n",
      "Halo 4\n"
     ]
    }
   ],
   "source": [
    "print_customer_prof(train_df, test_df, top_n)"
   ]
  },
  {
   "cell_type": "code",
   "execution_count": 189,
   "metadata": {},
   "outputs": [
    {
     "name": "stdout",
     "output_type": "stream",
     "text": [
      "Precision (II - KNNWithZScore - MSD): 0.009586393505991497\n"
     ]
    }
   ],
   "source": [
    "prec = evaluate_precision(top_n, testset, threshold=4.0)\n",
    "print('Precision (II - KNNWithZScore - MSD):', prec)\n"
   ]
  },
  {
   "cell_type": "code",
   "execution_count": 190,
   "metadata": {},
   "outputs": [
    {
     "name": "stdout",
     "output_type": "stream",
     "text": [
      "MAP (II - KNNWithZScore - MSD): 0.10503452172494175\n"
     ]
    }
   ],
   "source": [
    "mean_ap = evaluate_map(top_n, testset, threshold=4.0)\n",
    "print('MAP (II - KNNWithZScore - MSD):', mean_ap)\n"
   ]
  },
  {
   "cell_type": "code",
   "execution_count": 191,
   "metadata": {},
   "outputs": [],
   "source": [
    "algo_8A = {'Model': 'II - KNNWithZScore - MSD',\n",
    "           'RMSE': rmse,\n",
    "           'Unranked Precision': prec,\n",
    "           'MAP': mean_ap}"
   ]
  },
  {
   "cell_type": "markdown",
   "metadata": {},
   "source": [
    "**Search Best K based on Recall**"
   ]
  },
  {
   "cell_type": "code",
   "execution_count": 192,
   "metadata": {},
   "outputs": [],
   "source": [
    "# # HAHAHA\n",
    "# plot_recall(range(10,61,10), \n",
    "#             trainset, \n",
    "#             testset,\n",
    "#             algorithm='KNNWithZScore',\n",
    "#             sim_options={'name': 'cosine', 'user_based': False})"
   ]
  },
  {
   "cell_type": "markdown",
   "metadata": {},
   "source": [
    "### 8.A.4. Make Recommendations for New Customer"
   ]
  },
  {
   "cell_type": "code",
   "execution_count": 193,
   "metadata": {
    "scrolled": false
   },
   "outputs": [
    {
     "name": "stdout",
     "output_type": "stream",
     "text": [
      "Computing the msd similarity matrix...\n",
      "Done computing similarity matrix.\n"
     ]
    },
    {
     "data": {
      "text/html": [
       "<div>\n",
       "<style scoped>\n",
       "    .dataframe tbody tr th:only-of-type {\n",
       "        vertical-align: middle;\n",
       "    }\n",
       "\n",
       "    .dataframe tbody tr th {\n",
       "        vertical-align: top;\n",
       "    }\n",
       "\n",
       "    .dataframe thead th {\n",
       "        text-align: right;\n",
       "    }\n",
       "</style>\n",
       "<table border=\"1\" class=\"dataframe\">\n",
       "  <thead>\n",
       "    <tr style=\"text-align: right;\">\n",
       "      <th></th>\n",
       "      <th>items</th>\n",
       "      <th>rating</th>\n",
       "    </tr>\n",
       "  </thead>\n",
       "  <tbody>\n",
       "    <tr>\n",
       "      <th>112</th>\n",
       "      <td>Killzone 3</td>\n",
       "      <td>5.0</td>\n",
       "    </tr>\n",
       "    <tr>\n",
       "      <th>127</th>\n",
       "      <td>Demon's Souls</td>\n",
       "      <td>5.0</td>\n",
       "    </tr>\n",
       "    <tr>\n",
       "      <th>205</th>\n",
       "      <td>Grand Theft Auto: San Andreas</td>\n",
       "      <td>5.0</td>\n",
       "    </tr>\n",
       "    <tr>\n",
       "      <th>118</th>\n",
       "      <td>Fallout 3: Game of The Year Edition</td>\n",
       "      <td>5.0</td>\n",
       "    </tr>\n",
       "    <tr>\n",
       "      <th>120</th>\n",
       "      <td>Batman Arkham Asylum Goty</td>\n",
       "      <td>5.0</td>\n",
       "    </tr>\n",
       "    <tr>\n",
       "      <th>121</th>\n",
       "      <td>Heavy Rain - Greatest Hits</td>\n",
       "      <td>5.0</td>\n",
       "    </tr>\n",
       "    <tr>\n",
       "      <th>122</th>\n",
       "      <td>PS3 Journey Collection</td>\n",
       "      <td>5.0</td>\n",
       "    </tr>\n",
       "    <tr>\n",
       "      <th>123</th>\n",
       "      <td>Dance Central 2 - Xbox 360</td>\n",
       "      <td>5.0</td>\n",
       "    </tr>\n",
       "    <tr>\n",
       "      <th>124</th>\n",
       "      <td>Dead Space 3</td>\n",
       "      <td>5.0</td>\n",
       "    </tr>\n",
       "    <tr>\n",
       "      <th>126</th>\n",
       "      <td>Uncharted: Drake's Fortune - Playstation 3</td>\n",
       "      <td>5.0</td>\n",
       "    </tr>\n",
       "  </tbody>\n",
       "</table>\n",
       "</div>"
      ],
      "text/plain": [
       "                                          items  rating\n",
       "112                                  Killzone 3     5.0\n",
       "127                               Demon's Souls     5.0\n",
       "205               Grand Theft Auto: San Andreas     5.0\n",
       "118         Fallout 3: Game of The Year Edition     5.0\n",
       "120                   Batman Arkham Asylum Goty     5.0\n",
       "121                  Heavy Rain - Greatest Hits     5.0\n",
       "122                      PS3 Journey Collection     5.0\n",
       "123                  Dance Central 2 - Xbox 360     5.0\n",
       "124                                Dead Space 3     5.0\n",
       "126  Uncharted: Drake's Fortune - Playstation 3     5.0"
      ]
     },
     "execution_count": 193,
     "metadata": {},
     "output_type": "execute_result"
    }
   ],
   "source": [
    "new_products = ['Call of Duty: Ghosts', \n",
    "                'Call of Duty: Modern Warfare 2', \n",
    "                'Battlefield 3']\n",
    "\n",
    "recs = new_recommendations(new_products, whole, algo)\n",
    "recs.head(10)"
   ]
  },
  {
   "cell_type": "markdown",
   "metadata": {},
   "source": [
    "<br>\n",
    "## 8.B. Item-Item Collaborative Filtering (KNNWithZScore - Pearson-baseline)\n",
    "\n",
    "A basic collaborative filtering algorithm, taking into account the z-score normalization of each user.\n",
    "\n",
    "$${\\normalsize \\hat{r}_{ui} = \\mu_i + \\sigma_i \\frac{ \\sum\\limits_{j \\in N^k_u(i)}\\text{sim}(i, j) \\cdot (r_{uj} - \\mu_j) / \\sigma_j} {\\sum\\limits_{j\\in N^k_u(i)} \\text{sim}(i, j)} }$$\n",
    "\n",
    "Where:\n",
    "<br>\n",
    "$\\hat{r}_{ui}$ - Prediction for user $u$ and item $i$.<br>\n",
    "$\\mu_i$ - Mean rating for item $i$.<br>\n",
    "$\\sigma_i$ - Z-score normalization of item $i$ ratings.<br>\n",
    "${j \\in N^k_u(i)}$ - $j$ items in $k$ neighborhood most similar to item $i$ for user $u$.<br>\n",
    "$\\text{sim}(i, j)$ - **Pearson-baseline** similarity between items $i$ and $j$.<br>\n",
    "$(r_{uj} - \\mu_j) / \\sigma_j$ - Deviation of rating for item $j$ user $u$ and mean rating for item $j$, normalized by Z-score of item $j$ ratings, $\\sigma_j$.<br>"
   ]
  },
  {
   "cell_type": "markdown",
   "metadata": {},
   "source": [
    "### 8.B.1. Train Model"
   ]
  },
  {
   "cell_type": "code",
   "execution_count": 194,
   "metadata": {
    "scrolled": false
   },
   "outputs": [
    {
     "name": "stdout",
     "output_type": "stream",
     "text": [
      "Estimating biases using als...\n",
      "Computing the pearson_baseline similarity matrix...\n",
      "Done computing similarity matrix.\n"
     ]
    },
    {
     "data": {
      "text/plain": [
       "<surprise.prediction_algorithms.knns.KNNWithZScore at 0x1a9d5fc160>"
      ]
     },
     "execution_count": 194,
     "metadata": {},
     "output_type": "execute_result"
    }
   ],
   "source": [
    "# Use user_based true/false to switch between user-based or item-based collaborative filtering\n",
    "# Here we will use user based collaborative filtering, so True.\n",
    "\n",
    "algo = KNNWithZScore(k=50, sim_options={'name': 'pearson_baseline', 'user_based': False})\n",
    "algo.fit(trainset)\n"
   ]
  },
  {
   "cell_type": "markdown",
   "metadata": {},
   "source": [
    "### 8.B.2. Evaluate Model (RMSE)"
   ]
  },
  {
   "cell_type": "code",
   "execution_count": 195,
   "metadata": {},
   "outputs": [
    {
     "name": "stdout",
     "output_type": "stream",
     "text": [
      "Item-based (KNNWithZScore - Pearson-baseline) Model : Test Set\n",
      "RMSE: 1.2100\n"
     ]
    }
   ],
   "source": [
    "# Evaluate test set\n",
    "print(\"Item-based (KNNWithZScore - Pearson-baseline) Model : Test Set\")\n",
    "test_pred = algo.test(testset)\n",
    "rmse = accuracy.rmse(test_pred, verbose=True)"
   ]
  },
  {
   "cell_type": "markdown",
   "metadata": {},
   "source": [
    "**Search Best K based on RMSE**"
   ]
  },
  {
   "cell_type": "code",
   "execution_count": 196,
   "metadata": {},
   "outputs": [
    {
     "data": {
      "image/png": "[encoded data removed]",
      "text/plain": [
       "<Figure size 720x504 with 1 Axes>"
      ]
     },
     "metadata": {
      "image/png": {
       "height": 441,
       "width": 619
      }
     },
     "output_type": "display_data"
    }
   ],
   "source": [
    "scores = plot_rmse(range(1,100), \n",
    "                   trainset, \n",
    "                   testset, \n",
    "                   algorithm='KNNWithZScore', \n",
    "                   sim_options={'name': 'pearson_baseline', 'user_based': False})"
   ]
  },
  {
   "cell_type": "code",
   "execution_count": 197,
   "metadata": {
    "scrolled": true
   },
   "outputs": [
    {
     "data": {
      "text/html": [
       "<div>\n",
       "<style scoped>\n",
       "    .dataframe tbody tr th:only-of-type {\n",
       "        vertical-align: middle;\n",
       "    }\n",
       "\n",
       "    .dataframe tbody tr th {\n",
       "        vertical-align: top;\n",
       "    }\n",
       "\n",
       "    .dataframe thead th {\n",
       "        text-align: right;\n",
       "    }\n",
       "</style>\n",
       "<table border=\"1\" class=\"dataframe\">\n",
       "  <thead>\n",
       "    <tr style=\"text-align: right;\">\n",
       "      <th></th>\n",
       "      <th>k</th>\n",
       "      <th>test_rmse</th>\n",
       "    </tr>\n",
       "  </thead>\n",
       "  <tbody>\n",
       "    <tr>\n",
       "      <th>9</th>\n",
       "      <td>10</td>\n",
       "      <td>1.210003</td>\n",
       "    </tr>\n",
       "    <tr>\n",
       "      <th>49</th>\n",
       "      <td>50</td>\n",
       "      <td>1.210013</td>\n",
       "    </tr>\n",
       "    <tr>\n",
       "      <th>71</th>\n",
       "      <td>72</td>\n",
       "      <td>1.210013</td>\n",
       "    </tr>\n",
       "    <tr>\n",
       "      <th>70</th>\n",
       "      <td>71</td>\n",
       "      <td>1.210013</td>\n",
       "    </tr>\n",
       "    <tr>\n",
       "      <th>69</th>\n",
       "      <td>70</td>\n",
       "      <td>1.210013</td>\n",
       "    </tr>\n",
       "  </tbody>\n",
       "</table>\n",
       "</div>"
      ],
      "text/plain": [
       "     k  test_rmse\n",
       "9   10   1.210003\n",
       "49  50   1.210013\n",
       "71  72   1.210013\n",
       "70  71   1.210013\n",
       "69  70   1.210013"
      ]
     },
     "execution_count": 197,
     "metadata": {},
     "output_type": "execute_result"
    }
   ],
   "source": [
    "# Sort rmse scores and pick value of k that has lowest rmse on the test set\n",
    "scores.sort_values(by='test_rmse', ascending=True, inplace=True)\n",
    "scores.head(5)"
   ]
  },
  {
   "cell_type": "code",
   "execution_count": 198,
   "metadata": {},
   "outputs": [
    {
     "name": "stdout",
     "output_type": "stream",
     "text": [
      "Estimating biases using als...\n",
      "Computing the pearson_baseline similarity matrix...\n",
      "Done computing similarity matrix.\n"
     ]
    },
    {
     "data": {
      "text/plain": [
       "<surprise.prediction_algorithms.knns.KNNWithZScore at 0x1a5e8eeef0>"
      ]
     },
     "execution_count": 198,
     "metadata": {},
     "output_type": "execute_result"
    }
   ],
   "source": [
    "# Refit model with best k\n",
    "best_k = scores[:1]['k'].values[0]\n",
    "\n",
    "algo = KNNWithZScore(k=best_k, sim_options={'name': 'pearson_baseline', 'user_based': False})\n",
    "algo.fit(trainset)"
   ]
  },
  {
   "cell_type": "markdown",
   "metadata": {},
   "source": [
    "### 8.B.3. Evaluate Model (Recall)"
   ]
  },
  {
   "cell_type": "markdown",
   "metadata": {},
   "source": [
    "**Get Recommendations for Example User**"
   ]
  },
  {
   "cell_type": "code",
   "execution_count": 199,
   "metadata": {},
   "outputs": [],
   "source": [
    "# Than predict ratings for all pairs (u, i) that are NOT in the training set.\n",
    "train_pred_set = trainset.build_anti_testset()\n",
    "train_preds = algo.test(train_pred_set)\n",
    "\n",
    "# Make predictions\n",
    "top_n = get_n_recommendations(train_preds)\n"
   ]
  },
  {
   "cell_type": "code",
   "execution_count": 200,
   "metadata": {
    "scrolled": false
   },
   "outputs": [
    {
     "name": "stdout",
     "output_type": "stream",
     "text": [
      "Pre-2014 selections (customer id - 10345078):\n",
      "                                        product_title  star_rating\n",
      "1621                            God of War: Ascension            5\n",
      "4031                   Mortal Kombat Komplete Edition            5\n",
      "5094                   Uncharted 3: Drake's Deception            5\n",
      "5568     Batman: Arkham City Game of the Year Edition            5\n",
      "7888                                  Resident Evil 6            5\n",
      "14548      Call of Duty: Black Ops II - PlayStation 3            5\n",
      "16008                      Need for Speed Most Wanted            5\n",
      "17495                                    Dead Space 3            5\n",
      "17997                                   Battlefield 3            5\n",
      "18677                                     Max Payne 3            5\n",
      "19033                   Assassin's Creed: Brotherhood            5\n",
      "19200                            Assassin's Creed III            5\n",
      "22727                                        LA Noire            5\n",
      "23741                                      Dishonored            5\n",
      "23847  Call of Duty: Modern Warfare 3 - Playstation 3            5\n",
      "27978                                  FIFA Soccer 13            5\n",
      "28223                      Medal of Honor: Warfighter            5\n",
      "\n",
      "Post-2014 selections (customer id - 10345078):\n",
      "                              product_title  star_rating\n",
      "97                            Battlefield 4          5.0\n",
      "694                   Batman Arkham Origins          5.0\n",
      "910                Injustice: Gods Among Us          5.0\n",
      "1188                      BEYOND: Two Souls          5.0\n",
      "1358                         The Last of Us          5.0\n",
      "1486                     Assassin's Creed 4          5.0\n",
      "2731  Killzone: Shadow Fall (PlayStation 4)          5.0\n",
      "2831                   Call of Duty: Ghosts          5.0\n",
      "2962               Injustice: Gods Among Us          5.0\n",
      "3059  Assassin's Creed Ezio Trilogy Edition          5.0\n",
      "\n",
      "Recommendations:\n",
      "Far Cry 3\n",
      "Valkyria Chronicles\n",
      "Pokemon Y\n",
      "Call of Duty: Modern Warfare 2\n",
      "Halo 3\n",
      "Halo Reach\n",
      "The Last of Us\n",
      "Tomb Raider\n",
      "Pokémon Black Version 2\n",
      "Luigi's Mansion: Dark Moon\n",
      "Red Dead Redemption Game of the Year\n",
      "Forza Motorsport 4\n",
      "Heavy Rain: Director's Cut PS3\n",
      "The Legend of Zelda: Twilight Princess\n",
      "Halo 4\n"
     ]
    }
   ],
   "source": [
    "print_customer_prof(train_df, test_df, top_n)"
   ]
  },
  {
   "cell_type": "code",
   "execution_count": 201,
   "metadata": {},
   "outputs": [
    {
     "name": "stdout",
     "output_type": "stream",
     "text": [
      "Precision (II - KNNWithZScore - Pearson-baseline): 0.01136451488210282\n"
     ]
    }
   ],
   "source": [
    "prec = evaluate_precision(top_n, testset, threshold=4.0)\n",
    "print('Precision (II - KNNWithZScore - Pearson-baseline):', prec)\n"
   ]
  },
  {
   "cell_type": "code",
   "execution_count": 202,
   "metadata": {},
   "outputs": [
    {
     "name": "stdout",
     "output_type": "stream",
     "text": [
      "MAP (II - KNNWithZScore - Pearson-baseline):\n"
     ]
    }
   ],
   "source": [
    "mean_ap = evaluate_map(top_n, testset, threshold=4.0)\n",
    "print('MAP (II - KNNWithZScore - Pearson-baseline):')\n"
   ]
  },
  {
   "cell_type": "code",
   "execution_count": 203,
   "metadata": {},
   "outputs": [],
   "source": [
    "algo_8B = {'Model': 'II - KNNWithZScore - Pearson-baseline',\n",
    "           'RMSE': rmse,\n",
    "           'Unranked Precision': prec,\n",
    "           'MAP': mean_ap}"
   ]
  },
  {
   "cell_type": "markdown",
   "metadata": {},
   "source": [
    "**Search Best K based on Recall**"
   ]
  },
  {
   "cell_type": "code",
   "execution_count": 204,
   "metadata": {},
   "outputs": [],
   "source": [
    "# # HAHAHA\n",
    "# plot_recall(range(10,61,10), \n",
    "#             trainset, \n",
    "#             testset,\n",
    "#             algorithm='KNNWithZScore',\n",
    "#             sim_options={'name': 'pearson', 'user_based': False})"
   ]
  },
  {
   "cell_type": "markdown",
   "metadata": {},
   "source": [
    "### 8.B.4. Make Recommendations for New Customer"
   ]
  },
  {
   "cell_type": "code",
   "execution_count": 205,
   "metadata": {
    "scrolled": false
   },
   "outputs": [
    {
     "name": "stdout",
     "output_type": "stream",
     "text": [
      "Estimating biases using als...\n",
      "Computing the pearson_baseline similarity matrix...\n",
      "Done computing similarity matrix.\n"
     ]
    },
    {
     "data": {
      "text/html": [
       "<div>\n",
       "<style scoped>\n",
       "    .dataframe tbody tr th:only-of-type {\n",
       "        vertical-align: middle;\n",
       "    }\n",
       "\n",
       "    .dataframe tbody tr th {\n",
       "        vertical-align: top;\n",
       "    }\n",
       "\n",
       "    .dataframe thead th {\n",
       "        text-align: right;\n",
       "    }\n",
       "</style>\n",
       "<table border=\"1\" class=\"dataframe\">\n",
       "  <thead>\n",
       "    <tr style=\"text-align: right;\">\n",
       "      <th></th>\n",
       "      <th>items</th>\n",
       "      <th>rating</th>\n",
       "    </tr>\n",
       "  </thead>\n",
       "  <tbody>\n",
       "    <tr>\n",
       "      <th>112</th>\n",
       "      <td>Killzone 3</td>\n",
       "      <td>5.0</td>\n",
       "    </tr>\n",
       "    <tr>\n",
       "      <th>177</th>\n",
       "      <td>Forza Horizon</td>\n",
       "      <td>5.0</td>\n",
       "    </tr>\n",
       "    <tr>\n",
       "      <th>101</th>\n",
       "      <td>Borderlands</td>\n",
       "      <td>5.0</td>\n",
       "    </tr>\n",
       "    <tr>\n",
       "      <th>160</th>\n",
       "      <td>The Elder Scrolls Anthology</td>\n",
       "      <td>5.0</td>\n",
       "    </tr>\n",
       "    <tr>\n",
       "      <th>99</th>\n",
       "      <td>God Of War Collection</td>\n",
       "      <td>5.0</td>\n",
       "    </tr>\n",
       "    <tr>\n",
       "      <th>98</th>\n",
       "      <td>Fallout 3</td>\n",
       "      <td>5.0</td>\n",
       "    </tr>\n",
       "    <tr>\n",
       "      <th>97</th>\n",
       "      <td>Medal of Honor: Allied Assault - PC</td>\n",
       "      <td>5.0</td>\n",
       "    </tr>\n",
       "    <tr>\n",
       "      <th>164</th>\n",
       "      <td>Ryse: Son of Rome Day One Edition - Xbox One</td>\n",
       "      <td>5.0</td>\n",
       "    </tr>\n",
       "    <tr>\n",
       "      <th>94</th>\n",
       "      <td>Call of Duty: World at War</td>\n",
       "      <td>5.0</td>\n",
       "    </tr>\n",
       "    <tr>\n",
       "      <th>93</th>\n",
       "      <td>Halo 3: ODST</td>\n",
       "      <td>5.0</td>\n",
       "    </tr>\n",
       "  </tbody>\n",
       "</table>\n",
       "</div>"
      ],
      "text/plain": [
       "                                            items  rating\n",
       "112                                    Killzone 3     5.0\n",
       "177                                 Forza Horizon     5.0\n",
       "101                                   Borderlands     5.0\n",
       "160                   The Elder Scrolls Anthology     5.0\n",
       "99                          God Of War Collection     5.0\n",
       "98                                      Fallout 3     5.0\n",
       "97            Medal of Honor: Allied Assault - PC     5.0\n",
       "164  Ryse: Son of Rome Day One Edition - Xbox One     5.0\n",
       "94                     Call of Duty: World at War     5.0\n",
       "93                                   Halo 3: ODST     5.0"
      ]
     },
     "execution_count": 205,
     "metadata": {},
     "output_type": "execute_result"
    }
   ],
   "source": [
    "new_products = ['Call of Duty: Ghosts', \n",
    "                'Call of Duty: Modern Warfare 2', \n",
    "                'Battlefield 3']\n",
    "\n",
    "recs = new_recommendations(new_products, whole, algo)\n",
    "recs.head(10)"
   ]
  },
  {
   "cell_type": "markdown",
   "metadata": {},
   "source": [
    "### Conclusion"
   ]
  },
  {
   "cell_type": "code",
   "execution_count": 206,
   "metadata": {
    "scrolled": false
   },
   "outputs": [
    {
     "data": {
      "text/html": [
       "<div>\n",
       "<style scoped>\n",
       "    .dataframe tbody tr th:only-of-type {\n",
       "        vertical-align: middle;\n",
       "    }\n",
       "\n",
       "    .dataframe tbody tr th {\n",
       "        vertical-align: top;\n",
       "    }\n",
       "\n",
       "    .dataframe thead th {\n",
       "        text-align: right;\n",
       "    }\n",
       "</style>\n",
       "<table border=\"1\" class=\"dataframe\">\n",
       "  <thead>\n",
       "    <tr style=\"text-align: right;\">\n",
       "      <th></th>\n",
       "      <th>Model</th>\n",
       "      <th>RMSE</th>\n",
       "      <th>Unranked Precision</th>\n",
       "      <th>MAP</th>\n",
       "    </tr>\n",
       "  </thead>\n",
       "  <tbody>\n",
       "    <tr>\n",
       "      <th>5</th>\n",
       "      <td>UU - KNNwithMeans - Pearson-baseline</td>\n",
       "      <td>1.340949</td>\n",
       "      <td>0.013787</td>\n",
       "      <td>0.153827</td>\n",
       "    </tr>\n",
       "    <tr>\n",
       "      <th>1</th>\n",
       "      <td>UU - KNNBasic - Pearson-baseline</td>\n",
       "      <td>1.309343</td>\n",
       "      <td>0.013040</td>\n",
       "      <td>0.149599</td>\n",
       "    </tr>\n",
       "    <tr>\n",
       "      <th>13</th>\n",
       "      <td>II - KNNWithZScore - Pearson-baseline</td>\n",
       "      <td>1.345160</td>\n",
       "      <td>0.012885</td>\n",
       "      <td>0.145707</td>\n",
       "    </tr>\n",
       "    <tr>\n",
       "      <th>11</th>\n",
       "      <td>II - KNNBaseline - Pearson-baseline</td>\n",
       "      <td>1.206316</td>\n",
       "      <td>0.013967</td>\n",
       "      <td>0.141018</td>\n",
       "    </tr>\n",
       "    <tr>\n",
       "      <th>3</th>\n",
       "      <td>II - KNNBasic - Pearson-baseline</td>\n",
       "      <td>1.277221</td>\n",
       "      <td>0.013555</td>\n",
       "      <td>0.131579</td>\n",
       "    </tr>\n",
       "    <tr>\n",
       "      <th>15</th>\n",
       "      <td>II - KNNWithZScore - Pearson-baseline</td>\n",
       "      <td>1.210013</td>\n",
       "      <td>0.011365</td>\n",
       "      <td>0.120402</td>\n",
       "    </tr>\n",
       "    <tr>\n",
       "      <th>7</th>\n",
       "      <td>II - KNNwithMeans - Pearson-baseline</td>\n",
       "      <td>1.215083</td>\n",
       "      <td>0.011596</td>\n",
       "      <td>0.118923</td>\n",
       "    </tr>\n",
       "    <tr>\n",
       "      <th>10</th>\n",
       "      <td>II - KNNBaseline - MSD</td>\n",
       "      <td>1.227468</td>\n",
       "      <td>0.011339</td>\n",
       "      <td>0.116442</td>\n",
       "    </tr>\n",
       "    <tr>\n",
       "      <th>9</th>\n",
       "      <td>UU - KNNBaseline - Pearson-baseline</td>\n",
       "      <td>1.225315</td>\n",
       "      <td>0.011081</td>\n",
       "      <td>0.108311</td>\n",
       "    </tr>\n",
       "    <tr>\n",
       "      <th>14</th>\n",
       "      <td>II - KNNWithZScore - MSD</td>\n",
       "      <td>1.231828</td>\n",
       "      <td>0.009586</td>\n",
       "      <td>0.105035</td>\n",
       "    </tr>\n",
       "    <tr>\n",
       "      <th>6</th>\n",
       "      <td>II - KNNwithMeans - MSD</td>\n",
       "      <td>1.230700</td>\n",
       "      <td>0.009689</td>\n",
       "      <td>0.100319</td>\n",
       "    </tr>\n",
       "    <tr>\n",
       "      <th>2</th>\n",
       "      <td>II - KNNBasic - MSD</td>\n",
       "      <td>1.303649</td>\n",
       "      <td>0.009329</td>\n",
       "      <td>0.096375</td>\n",
       "    </tr>\n",
       "    <tr>\n",
       "      <th>4</th>\n",
       "      <td>UU - KNNwithMeans - MSD</td>\n",
       "      <td>1.278628</td>\n",
       "      <td>0.008865</td>\n",
       "      <td>0.084962</td>\n",
       "    </tr>\n",
       "    <tr>\n",
       "      <th>12</th>\n",
       "      <td>II - KNNWithZScore - MSD</td>\n",
       "      <td>1.295042</td>\n",
       "      <td>0.008349</td>\n",
       "      <td>0.075054</td>\n",
       "    </tr>\n",
       "    <tr>\n",
       "      <th>0</th>\n",
       "      <td>UU - KNNBasic - MSD</td>\n",
       "      <td>1.279957</td>\n",
       "      <td>0.005953</td>\n",
       "      <td>0.056823</td>\n",
       "    </tr>\n",
       "    <tr>\n",
       "      <th>8</th>\n",
       "      <td>II - KNNBaseline - MSD</td>\n",
       "      <td>1.212574</td>\n",
       "      <td>0.005231</td>\n",
       "      <td>0.053294</td>\n",
       "    </tr>\n",
       "  </tbody>\n",
       "</table>\n",
       "</div>"
      ],
      "text/plain": [
       "                                    Model      RMSE  Unranked Precision  \\\n",
       "5    UU - KNNwithMeans - Pearson-baseline  1.340949            0.013787   \n",
       "1        UU - KNNBasic - Pearson-baseline  1.309343            0.013040   \n",
       "13  II - KNNWithZScore - Pearson-baseline  1.345160            0.012885   \n",
       "11    II - KNNBaseline - Pearson-baseline  1.206316            0.013967   \n",
       "3        II - KNNBasic - Pearson-baseline  1.277221            0.013555   \n",
       "15  II - KNNWithZScore - Pearson-baseline  1.210013            0.011365   \n",
       "7    II - KNNwithMeans - Pearson-baseline  1.215083            0.011596   \n",
       "10                 II - KNNBaseline - MSD  1.227468            0.011339   \n",
       "9     UU - KNNBaseline - Pearson-baseline  1.225315            0.011081   \n",
       "14               II - KNNWithZScore - MSD  1.231828            0.009586   \n",
       "6                 II - KNNwithMeans - MSD  1.230700            0.009689   \n",
       "2                     II - KNNBasic - MSD  1.303649            0.009329   \n",
       "4                 UU - KNNwithMeans - MSD  1.278628            0.008865   \n",
       "12               II - KNNWithZScore - MSD  1.295042            0.008349   \n",
       "0                     UU - KNNBasic - MSD  1.279957            0.005953   \n",
       "8                  II - KNNBaseline - MSD  1.212574            0.005231   \n",
       "\n",
       "         MAP  \n",
       "5   0.153827  \n",
       "1   0.149599  \n",
       "13  0.145707  \n",
       "11  0.141018  \n",
       "3   0.131579  \n",
       "15  0.120402  \n",
       "7   0.118923  \n",
       "10  0.116442  \n",
       "9   0.108311  \n",
       "14  0.105035  \n",
       "6   0.100319  \n",
       "2   0.096375  \n",
       "4   0.084962  \n",
       "12  0.075054  \n",
       "0   0.056823  \n",
       "8   0.053294  "
      ]
     },
     "execution_count": 206,
     "metadata": {},
     "output_type": "execute_result"
    }
   ],
   "source": [
    "scores = [algo_1A, algo_1B,\n",
    "          algo_2A, algo_2B,\n",
    "          algo_3A, algo_3B,\n",
    "          algo_4A, algo_4B,\n",
    "          algo_5A, algo_5B,\n",
    "          algo_6A, algo_6B,\n",
    "          algo_7A, algo_7B,\n",
    "          algo_8A, algo_8B]\n",
    "\n",
    "scores_df(scores).sort_values(by='MAP', ascending=False)"
   ]
  },
  {
   "cell_type": "code",
   "execution_count": null,
   "metadata": {},
   "outputs": [],
   "source": []
  },
  {
   "cell_type": "code",
   "execution_count": null,
   "metadata": {},
   "outputs": [],
   "source": []
  }
 ],
 "metadata": {
  "kernelspec": {
   "display_name": "Python 3",
   "language": "python",
   "name": "python3"
  },
  "language_info": {
   "codemirror_mode": {
    "name": "ipython",
    "version": 3
   },
   "file_extension": ".py",
   "mimetype": "text/x-python",
   "name": "python",
   "nbconvert_exporter": "python",
   "pygments_lexer": "ipython3",
   "version": "3.6.8"
  }
 },
 "nbformat": 4,
 "nbformat_minor": 2
}
